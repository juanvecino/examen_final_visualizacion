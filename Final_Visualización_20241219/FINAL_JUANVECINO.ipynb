{
 "cells": [
  {
   "cell_type": "markdown",
   "metadata": {
    "id": "w_CpQoMix4Dl"
   },
   "source": [
    "# Examen final de Desarrollo de Aplicaciones para la Visualización de Datos\n",
    "\n",
    "Nombre:\n",
    "\n",
    "Apellidos:\n",
    "\n",
    "Tiempo: 2 horas y 30 minutos\n",
    "\n",
    "## Contexto del ejercicio\n",
    "\n",
    "El Ayuntamiento de Madrid desea entender en más detalle la situación del problema habitacional en la ciudad de Madrid basada en múltiples fuentes de datos como alquiler vacacional, evolución del precio de alquiler, inflacción y densidad poblacional.\n",
    "\n",
    "El objetivo del análisis es buscar patrones para entender mejor que está sucediendo, que barrios son los más estresados y que factores son que hacen que el precio de la vivienda esté en máximos. Por lo tanto, se pide:\n",
    "\n",
    "1. Realizar un análisis descriptivo de los datos con al menos 6 visualizaciones diferentes. (3 Puntos)\n",
    "2. Realizar un modelo de regresión lineal que explique (mostrar coeficientes) la dinámica del precio de la vivienda en base a los datos de alquiler vacacional a nivel agregado, no por barrio. (2 Puntos)\n",
    "3. Montar un dashboard con 4 visualizaciones diferentes cómo mínimo. (2 Punto)\n",
    "4. Concluir todo este análisis haciendo un informe con 2 páginas como mínimo que incluya, preguntas que se van a responder, dashboard resumen que sustente las preguntas y recomendaciones para mejorar la situación habitacional a partir de los resultados obtenidos de los análisis realizados con los datos. (3 Puntos)\n",
    "\n",
    "## Juego de datos\n",
    "\n",
    "Para realizar este análisis se provee un juego de datos con las siguientes variables:\n",
    "\n",
    "\n",
    "| **Variable**           | **Descripción**                                                                                     | **Tipo**                 |\n",
    "|-------------------------|-----------------------------------------------------------------------------------------------------|--------------------------|\n",
    "| `neighbourhood_group`   | Grupo de vecindarios o distritos en Madrid.                                                        | Categórica               |\n",
    "| `date`                 | Fecha de la observación en formato `YYYY-MM-DD`.                                                   | Temporal                 |\n",
    "| `m2_price`             | Precio promedio por metro cuadrado en euros.                                                       | Cuantitativa continua     |\n",
    "| `inflation`            | Inflación mensual como porcentaje (incremento en los precios al consumidor).                       | Cuantitativa continua     |\n",
    "| `HICP`                 | Índice armonizado de precios al consumidor (indicador de inflación en la zona euro).               | Cuantitativa continua     |\n",
    "| `population_density`   | Densidad de población anual por km² para toda la Comunidad de Madrid.                                                  | Cuantitativa continua     |\n",
    "| `listings_count`       | Número total de propiedades listadas en Airbnb en un vecindario.                                   | Cuantitativa discreta     |\n",
    "| `minimum_nights`       | Número mínimo de noches requerido para alquilar una propiedad.                                     | Cuantitativa discreta     |\n",
    "| `nigth_price`          | Precio promedio por noche de las propiedades en Airbnb.                                            | Cuantitativa continua     |\n",
    "| `availability_365`     | Número de días al año que una propiedad está disponible para alquilarse.                           | Cuantitativa discreta     |\n",
    "| `listing_reviews`      | Número promedio de reseñas por propiedad listada.                                                 | Cuantitativa continua     |\n",
    "| `number_of_reviews`    | Total acumulado de reseñas para todas las propiedades en un vecindario.                            | Cuantitativa discreta     |\n",
    "| `reviews_per_month`    | Número promedio de reseñas recibidas por una propiedad al mes.                                     | Cuantitativa continua     |\n",
    "| `hosts_count`          | Número de anfitriones activos en un vecindario.                                                   | Cuantitativa discreta     |\n",
    "| `Private_room`         | Número de propiedades que ofrecen habitaciones privadas.                                           | Cuantitativa discreta     |\n",
    "| `Entire_home`          | Número de propiedades que ofrecen viviendas completas.                                             | Cuantitativa discreta     |\n",
    "| `Hotel_room`           | Número de propiedades categorizadas como habitaciones de hotel.                                    | Cuantitativa discreta     |\n",
    "| `Shared_room`          | Número de propiedades que ofrecen habitaciones compartidas.                                        | Cuantitativa discreta     |\n",
    "\n",
    "\n",
    "Ejemplos de preguntas que se pueden realizar a los datos:\n",
    "1. ¿Cuál es el precio promedio del metro cuadrado (m2_price) por neighbourhood_group y cómo ha cambiado con el tiempo (date)?\n",
    "2. ¿Existe una correlación entre el precio por metro cuadrado (m2_price) y la densidad de población (population_density)?\n",
    "3. ¿Qué patrones estacionales se pueden identificar en las reseñas mensuales (reviews_per_month) o en la disponibilidad anual (availability_365)?\n",
    "4. ¿Qué vecindarios tienen el mayor número de anfitriones (hosts_count) y cómo se relaciona con el precio de la vivienda?\n",
    "5. ¿Qué vecindarios muestran el mayor crecimiento en precios (m2_price o nigth_price) entre años (year)?\n",
    "6. ¿Qué factores (e.g., inflation, availability_365, population_density) explican mejor las variaciones en el precio por metro cuadrado (m2_price) o el precio por noche (nigth_price)?\n",
    "\n",
    "Nota:\n",
    "- Puedes hacer group_by para sacar variables agregadas por fecha.\n",
    "- Se valorará la creatividad en las hipótesis, soluciones y limpieza del código y visualizaciones.\n",
    "\n",
    "## Entrega del exámen\n",
    "\n",
    "Compartir Url de github con:\n",
    "- notebook que responde a las preguntas 1, 2 y 3\n",
    "- PDF respondiendo a la pregunta 4\n",
    "\n",
    "Puedes entregar el exámen en el siguiente enlace:\n",
    "\n",
    "https://forms.gle/xe3En2raC3C3UUY39\n"
   ]
  },
  {
   "cell_type": "markdown",
   "metadata": {
    "id": "iCSt6SPA_AVZ"
   },
   "source": [
    "# Librerías necesarias"
   ]
  },
  {
   "cell_type": "code",
   "execution_count": null,
   "metadata": {
    "id": "77t2X1kI9pJ7"
   },
   "outputs": [],
   "source": [
    "import plotly.express as px\n",
    "import pandas as pd\n",
    "from scipy.stats import pearsonr\n",
    "import seaborn as sns\n",
    "import matplotlib.pyplot as plt\n",
    "import plotly.express as px\n",
    "from scipy.stats import pearsonr"
   ]
  },
  {
   "cell_type": "markdown",
   "metadata": {
    "id": "7w8MTzLu_Rqr"
   },
   "source": [
    "# Análisis descriptivos\n"
   ]
  },
  {
   "cell_type": "code",
   "execution_count": 38,
   "metadata": {},
   "outputs": [
    {
     "data": {
      "text/html": [
       "<div>\n",
       "<style scoped>\n",
       "    .dataframe tbody tr th:only-of-type {\n",
       "        vertical-align: middle;\n",
       "    }\n",
       "\n",
       "    .dataframe tbody tr th {\n",
       "        vertical-align: top;\n",
       "    }\n",
       "\n",
       "    .dataframe thead th {\n",
       "        text-align: right;\n",
       "    }\n",
       "</style>\n",
       "<table border=\"1\" class=\"dataframe\">\n",
       "  <thead>\n",
       "    <tr style=\"text-align: right;\">\n",
       "      <th></th>\n",
       "      <th>neighbourhood_group</th>\n",
       "      <th>date</th>\n",
       "      <th>m2_price</th>\n",
       "      <th>inflation</th>\n",
       "      <th>HICP</th>\n",
       "      <th>population_density</th>\n",
       "      <th>listings_count</th>\n",
       "      <th>minimum_nights</th>\n",
       "      <th>nigth_price</th>\n",
       "      <th>availability_365</th>\n",
       "      <th>listing_reviews</th>\n",
       "      <th>number_of_reviews</th>\n",
       "      <th>reviews_per_month</th>\n",
       "      <th>hosts_count</th>\n",
       "      <th>Private_room</th>\n",
       "      <th>Entire_home</th>\n",
       "      <th>Hotel_room</th>\n",
       "      <th>Shared_room</th>\n",
       "    </tr>\n",
       "  </thead>\n",
       "  <tbody>\n",
       "    <tr>\n",
       "      <th>0</th>\n",
       "      <td>Centro</td>\n",
       "      <td>2010-08-01</td>\n",
       "      <td>15.3</td>\n",
       "      <td>0.3</td>\n",
       "      <td>1.6</td>\n",
       "      <td>796</td>\n",
       "      <td>1</td>\n",
       "      <td>2.0</td>\n",
       "      <td>114.000000</td>\n",
       "      <td>305.00</td>\n",
       "      <td>1</td>\n",
       "      <td>155.0</td>\n",
       "      <td>0.9000</td>\n",
       "      <td>1</td>\n",
       "      <td>0</td>\n",
       "      <td>1</td>\n",
       "      <td>0</td>\n",
       "      <td>0</td>\n",
       "    </tr>\n",
       "    <tr>\n",
       "      <th>1</th>\n",
       "      <td>Centro</td>\n",
       "      <td>2011-01-01</td>\n",
       "      <td>15.6</td>\n",
       "      <td>-0.7</td>\n",
       "      <td>3.0</td>\n",
       "      <td>800</td>\n",
       "      <td>1</td>\n",
       "      <td>2.0</td>\n",
       "      <td>114.000000</td>\n",
       "      <td>305.00</td>\n",
       "      <td>1</td>\n",
       "      <td>155.0</td>\n",
       "      <td>0.9000</td>\n",
       "      <td>1</td>\n",
       "      <td>0</td>\n",
       "      <td>1</td>\n",
       "      <td>0</td>\n",
       "      <td>0</td>\n",
       "    </tr>\n",
       "    <tr>\n",
       "      <th>2</th>\n",
       "      <td>Centro</td>\n",
       "      <td>2011-02-01</td>\n",
       "      <td>15.4</td>\n",
       "      <td>0.1</td>\n",
       "      <td>3.4</td>\n",
       "      <td>800</td>\n",
       "      <td>4</td>\n",
       "      <td>7.0</td>\n",
       "      <td>184.000000</td>\n",
       "      <td>44.25</td>\n",
       "      <td>4</td>\n",
       "      <td>100.0</td>\n",
       "      <td>0.5925</td>\n",
       "      <td>3</td>\n",
       "      <td>0</td>\n",
       "      <td>4</td>\n",
       "      <td>0</td>\n",
       "      <td>0</td>\n",
       "    </tr>\n",
       "    <tr>\n",
       "      <th>3</th>\n",
       "      <td>Centro</td>\n",
       "      <td>2011-05-01</td>\n",
       "      <td>15.0</td>\n",
       "      <td>0.0</td>\n",
       "      <td>3.4</td>\n",
       "      <td>800</td>\n",
       "      <td>5</td>\n",
       "      <td>9.6</td>\n",
       "      <td>61.000000</td>\n",
       "      <td>134.60</td>\n",
       "      <td>11</td>\n",
       "      <td>264.4</td>\n",
       "      <td>1.6120</td>\n",
       "      <td>4</td>\n",
       "      <td>1</td>\n",
       "      <td>4</td>\n",
       "      <td>0</td>\n",
       "      <td>0</td>\n",
       "    </tr>\n",
       "    <tr>\n",
       "      <th>4</th>\n",
       "      <td>Centro</td>\n",
       "      <td>2011-06-01</td>\n",
       "      <td>15.0</td>\n",
       "      <td>-0.1</td>\n",
       "      <td>3.0</td>\n",
       "      <td>800</td>\n",
       "      <td>5</td>\n",
       "      <td>5.4</td>\n",
       "      <td>135.333333</td>\n",
       "      <td>129.20</td>\n",
       "      <td>15</td>\n",
       "      <td>289.8</td>\n",
       "      <td>1.7680</td>\n",
       "      <td>4</td>\n",
       "      <td>1</td>\n",
       "      <td>4</td>\n",
       "      <td>0</td>\n",
       "      <td>0</td>\n",
       "    </tr>\n",
       "  </tbody>\n",
       "</table>\n",
       "</div>"
      ],
      "text/plain": [
       "  neighbourhood_group        date  m2_price  inflation  HICP  \\\n",
       "0              Centro  2010-08-01      15.3        0.3   1.6   \n",
       "1              Centro  2011-01-01      15.6       -0.7   3.0   \n",
       "2              Centro  2011-02-01      15.4        0.1   3.4   \n",
       "3              Centro  2011-05-01      15.0        0.0   3.4   \n",
       "4              Centro  2011-06-01      15.0       -0.1   3.0   \n",
       "\n",
       "   population_density  listings_count  minimum_nights  nigth_price  \\\n",
       "0                 796               1             2.0   114.000000   \n",
       "1                 800               1             2.0   114.000000   \n",
       "2                 800               4             7.0   184.000000   \n",
       "3                 800               5             9.6    61.000000   \n",
       "4                 800               5             5.4   135.333333   \n",
       "\n",
       "   availability_365  listing_reviews  number_of_reviews  reviews_per_month  \\\n",
       "0            305.00                1              155.0             0.9000   \n",
       "1            305.00                1              155.0             0.9000   \n",
       "2             44.25                4              100.0             0.5925   \n",
       "3            134.60               11              264.4             1.6120   \n",
       "4            129.20               15              289.8             1.7680   \n",
       "\n",
       "   hosts_count  Private_room  Entire_home  Hotel_room  Shared_room  \n",
       "0            1             0            1           0            0  \n",
       "1            1             0            1           0            0  \n",
       "2            3             0            4           0            0  \n",
       "3            4             1            4           0            0  \n",
       "4            4             1            4           0            0  "
      ]
     },
     "execution_count": 38,
     "metadata": {},
     "output_type": "execute_result"
    }
   ],
   "source": [
    "# Importar los datos\n",
    "df = pd.read_csv('housing_time_series_by_madrid_neighbourhood.csv', header=0, sep=',')\n",
    "df.head()"
   ]
  },
  {
   "cell_type": "code",
   "execution_count": 41,
   "metadata": {},
   "outputs": [
    {
     "data": {
      "application/vnd.plotly.v1+json": {
       "config": {
        "plotlyServerURL": "https://plot.ly"
       },
       "data": [
        {
         "hovertemplate": "Grupo de Vecindarios=Centro<br>Fecha=%{x}<br>Precio Promedio por m² (€)=%{y}<extra></extra>",
         "legendgroup": "Centro",
         "line": {
          "color": "#636efa",
          "dash": "solid",
          "width": 2
         },
         "marker": {
          "size": 4,
          "symbol": "circle"
         },
         "mode": "lines+markers",
         "name": "Centro",
         "showlegend": true,
         "type": "scattergl",
         "x": [
          "2010-08-01",
          "2011-01-01",
          "2011-02-01",
          "2011-05-01",
          "2011-06-01",
          "2011-07-01",
          "2011-08-01",
          "2011-09-01",
          "2011-10-01",
          "2011-11-01",
          "2011-12-01",
          "2012-01-01",
          "2012-02-01",
          "2012-03-01",
          "2012-04-01",
          "2012-05-01",
          "2012-06-01",
          "2012-07-01",
          "2012-08-01",
          "2012-09-01",
          "2012-10-01",
          "2012-11-01",
          "2012-12-01",
          "2013-01-01",
          "2013-02-01",
          "2013-03-01",
          "2013-04-01",
          "2013-05-01",
          "2013-06-01",
          "2013-07-01",
          "2013-08-01",
          "2013-09-01",
          "2013-10-01",
          "2013-11-01",
          "2013-12-01",
          "2014-01-01",
          "2014-02-01",
          "2014-03-01",
          "2014-04-01",
          "2014-05-01",
          "2014-06-01",
          "2014-07-01",
          "2014-08-01",
          "2014-09-01",
          "2014-10-01",
          "2014-11-01",
          "2014-12-01",
          "2015-01-01",
          "2015-02-01",
          "2015-03-01",
          "2015-04-01",
          "2015-05-01",
          "2015-06-01",
          "2015-07-01",
          "2015-08-01",
          "2015-09-01",
          "2015-10-01",
          "2015-11-01",
          "2015-12-01",
          "2016-01-01",
          "2016-02-01",
          "2016-03-01",
          "2016-04-01",
          "2016-05-01",
          "2016-06-01",
          "2016-07-01",
          "2016-08-01",
          "2016-09-01",
          "2016-10-01",
          "2016-11-01",
          "2016-12-01",
          "2017-01-01",
          "2017-02-01",
          "2017-03-01",
          "2017-04-01",
          "2017-05-01",
          "2017-06-01",
          "2017-07-01",
          "2017-08-01",
          "2017-09-01",
          "2017-10-01",
          "2017-11-01",
          "2017-12-01",
          "2018-01-01",
          "2018-02-01",
          "2018-03-01",
          "2018-04-01",
          "2018-05-01",
          "2018-06-01",
          "2018-07-01",
          "2018-08-01",
          "2018-09-01",
          "2018-10-01",
          "2018-11-01",
          "2018-12-01",
          "2019-01-01",
          "2019-02-01",
          "2019-03-01",
          "2019-04-01",
          "2019-05-01",
          "2019-06-01",
          "2019-07-01",
          "2019-08-01",
          "2019-09-01",
          "2019-10-01",
          "2019-11-01",
          "2019-12-01",
          "2020-01-01",
          "2020-02-01",
          "2020-03-01",
          "2020-04-01",
          "2020-05-01",
          "2020-06-01",
          "2020-07-01",
          "2020-08-01",
          "2020-09-01",
          "2020-10-01",
          "2020-11-01",
          "2020-12-01",
          "2021-01-01",
          "2021-02-01",
          "2021-03-01",
          "2021-04-01",
          "2021-05-01",
          "2021-06-01",
          "2021-07-01",
          "2021-08-01",
          "2021-09-01",
          "2021-10-01",
          "2021-11-01",
          "2021-12-01",
          "2022-01-01",
          "2022-02-01",
          "2022-03-01",
          "2022-04-01",
          "2022-05-01",
          "2022-06-01",
          "2022-07-01",
          "2022-08-01",
          "2022-09-01",
          "2022-10-01",
          "2022-11-01",
          "2022-12-01",
          "2023-01-01",
          "2023-02-01",
          "2023-03-01",
          "2023-04-01",
          "2023-05-01",
          "2023-06-01",
          "2023-07-01",
          "2023-08-01",
          "2023-09-01",
          "2023-10-01",
          "2023-11-01",
          "2023-12-01"
         ],
         "xaxis": "x",
         "y": [
          15.3,
          15.6,
          15.4,
          15,
          15,
          15,
          15,
          14.9,
          14.9,
          15,
          15,
          15,
          14.7,
          14.6,
          14.4,
          14.3,
          14.2,
          14.1,
          14.1,
          14,
          14,
          13.9,
          13.8,
          13.6,
          13.6,
          13.6,
          13.6,
          13.5,
          13.3,
          13.3,
          13.3,
          13.3,
          13.3,
          13.3,
          13.2,
          13.3,
          13.3,
          13.3,
          13.3,
          13.4,
          13.4,
          13.5,
          13.5,
          13.7,
          13.8,
          13.7,
          13.7,
          13.8,
          13.8,
          13.8,
          13.9,
          13.9,
          13.9,
          13.9,
          14,
          14.2,
          14.3,
          14.5,
          14.6,
          15,
          15.2,
          15.4,
          15.5,
          15.7,
          15.5,
          15.5,
          15.5,
          15.7,
          16,
          16.3,
          16.7,
          17.1,
          17.4,
          17.5,
          17.5,
          17.3,
          17.3,
          17.5,
          17.3,
          17.5,
          17.5,
          17.8,
          17.9,
          18.1,
          18.3,
          18.6,
          18.7,
          18.5,
          18.3,
          18.3,
          18.4,
          18.4,
          18.6,
          18.5,
          18.3,
          16,
          16.2,
          16.4,
          16.4,
          16.1,
          16.1,
          16.1,
          16.3,
          16.3,
          16.4,
          16.8,
          16.6,
          16.1,
          16.3,
          16.3,
          16.4,
          16.8,
          16.6,
          16.3,
          16.1,
          17.8,
          17.5,
          17.1,
          16.7,
          16.4,
          16.5,
          16.4,
          16.2,
          16.2,
          16.2,
          16.3,
          16.5,
          16.8,
          17.1,
          17.5,
          17.6,
          17.9,
          18.3,
          18.5,
          18.4,
          18.5,
          18.5,
          18.5,
          18.9,
          19.2,
          19.4,
          20,
          20.3,
          20.16,
          20.46,
          19.99,
          20,
          20.24,
          20.1,
          19.99,
          20.3,
          20.59,
          21.17,
          21.82,
          22.09
         ],
         "yaxis": "y"
        },
        {
         "hovertemplate": "Grupo de Vecindarios=Chamberí<br>Fecha=%{x}<br>Precio Promedio por m² (€)=%{y}<extra></extra>",
         "legendgroup": "Chamberí",
         "line": {
          "color": "#EF553B",
          "dash": "solid",
          "width": 2
         },
         "marker": {
          "size": 4,
          "symbol": "circle"
         },
         "mode": "lines+markers",
         "name": "Chamberí",
         "showlegend": true,
         "type": "scattergl",
         "x": [
          "2011-10-01",
          "2012-06-01",
          "2012-09-01",
          "2012-10-01",
          "2012-11-01",
          "2012-12-01",
          "2013-01-01",
          "2013-02-01",
          "2013-03-01",
          "2013-04-01",
          "2013-06-01",
          "2013-07-01",
          "2013-08-01",
          "2013-09-01",
          "2013-10-01",
          "2013-11-01",
          "2013-12-01",
          "2014-01-01",
          "2014-02-01",
          "2014-03-01",
          "2014-04-01",
          "2014-05-01",
          "2014-06-01",
          "2014-07-01",
          "2014-08-01",
          "2014-09-01",
          "2014-10-01",
          "2014-11-01",
          "2014-12-01",
          "2015-01-01",
          "2015-02-01",
          "2015-03-01",
          "2015-04-01",
          "2015-05-01",
          "2015-06-01",
          "2015-07-01",
          "2015-08-01",
          "2015-09-01",
          "2015-10-01",
          "2015-11-01",
          "2015-12-01",
          "2016-01-01",
          "2016-02-01",
          "2016-03-01",
          "2016-04-01",
          "2016-05-01",
          "2016-06-01",
          "2016-07-01",
          "2016-08-01",
          "2016-09-01",
          "2016-10-01",
          "2016-11-01",
          "2016-12-01",
          "2017-01-01",
          "2017-02-01",
          "2017-03-01",
          "2017-04-01",
          "2017-05-01",
          "2017-06-01",
          "2017-07-01",
          "2017-08-01",
          "2017-09-01",
          "2017-10-01",
          "2017-11-01",
          "2017-12-01",
          "2018-01-01",
          "2018-02-01",
          "2018-03-01",
          "2018-04-01",
          "2018-05-01",
          "2018-06-01",
          "2018-07-01",
          "2018-08-01",
          "2018-09-01",
          "2018-10-01",
          "2018-11-01",
          "2018-12-01",
          "2019-01-01",
          "2019-02-01",
          "2019-03-01",
          "2019-04-01",
          "2019-05-01",
          "2019-06-01",
          "2019-07-01",
          "2019-08-01",
          "2019-09-01",
          "2019-10-01",
          "2019-11-01",
          "2019-12-01",
          "2020-01-01",
          "2020-02-01",
          "2020-03-01",
          "2020-04-01",
          "2020-05-01",
          "2020-06-01",
          "2020-07-01",
          "2020-08-01",
          "2020-09-01",
          "2020-10-01",
          "2020-11-01",
          "2020-12-01",
          "2021-01-01",
          "2021-02-01",
          "2021-03-01",
          "2021-04-01",
          "2021-05-01",
          "2021-06-01",
          "2021-07-01",
          "2021-08-01",
          "2021-09-01",
          "2021-10-01",
          "2021-11-01",
          "2021-12-01",
          "2022-01-01",
          "2022-02-01",
          "2022-03-01",
          "2022-04-01",
          "2022-05-01",
          "2022-06-01",
          "2022-07-01",
          "2022-08-01",
          "2022-09-01",
          "2022-10-01",
          "2022-11-01",
          "2022-12-01",
          "2023-01-01",
          "2023-02-01",
          "2023-03-01",
          "2023-04-01",
          "2023-05-01",
          "2023-06-01",
          "2023-07-01",
          "2023-08-01",
          "2023-09-01",
          "2023-10-01",
          "2023-11-01",
          "2023-12-01"
         ],
         "xaxis": "x",
         "y": [
          14.3,
          14.1,
          13.9,
          13.7,
          13.6,
          13.4,
          13.5,
          13.6,
          13.5,
          13.4,
          13.3,
          13.3,
          13.3,
          13.3,
          13.3,
          13.3,
          13.3,
          13.2,
          13.1,
          13.2,
          13.2,
          13.2,
          13.3,
          13.3,
          13.5,
          13.4,
          13.6,
          13.7,
          13.7,
          13.7,
          13.7,
          13.9,
          13.8,
          13.8,
          13.7,
          13.7,
          13.7,
          13.7,
          13.8,
          14.1,
          14.1,
          14.4,
          14.7,
          15,
          15,
          15,
          15,
          15,
          15,
          15,
          15.1,
          15.4,
          15.6,
          15.7,
          15.7,
          15.7,
          15.8,
          15.9,
          16,
          16.2,
          16.2,
          16.2,
          16.4,
          16.6,
          16.7,
          17.4,
          17.6,
          17.4,
          17.3,
          17.5,
          17.7,
          17.7,
          17.5,
          17.5,
          17.7,
          17.9,
          18,
          18,
          18,
          18.2,
          18.3,
          18.2,
          18.1,
          18,
          18.1,
          18.3,
          18.3,
          18.5,
          18.1,
          18,
          18.1,
          18.3,
          18.3,
          18.5,
          18.1,
          17.8,
          17.6,
          17.3,
          17.1,
          16.8,
          16.5,
          16.2,
          16,
          16.2,
          16.1,
          16.2,
          16.3,
          16.4,
          16.7,
          16.9,
          17.1,
          17.1,
          17.2,
          17.2,
          17.1,
          17.3,
          17.6,
          17.8,
          18,
          18,
          18,
          18.3,
          18.7,
          19,
          19.7,
          19.64,
          19.51,
          19.59,
          19.61,
          20,
          20,
          19.99,
          20.26,
          20.62,
          21.25,
          21.62,
          21.88
         ],
         "yaxis": "y"
        },
        {
         "hovertemplate": "Grupo de Vecindarios=Hortaleza<br>Fecha=%{x}<br>Precio Promedio por m² (€)=%{y}<extra></extra>",
         "legendgroup": "Hortaleza",
         "line": {
          "color": "#00cc96",
          "dash": "solid",
          "width": 2
         },
         "marker": {
          "size": 4,
          "symbol": "circle"
         },
         "mode": "lines+markers",
         "name": "Hortaleza",
         "showlegend": true,
         "type": "scattergl",
         "x": [
          "2011-11-01",
          "2012-02-01",
          "2012-04-01",
          "2012-05-01",
          "2012-06-01",
          "2012-07-01",
          "2012-08-01",
          "2012-09-01",
          "2012-10-01",
          "2012-11-01",
          "2013-01-01",
          "2013-02-01",
          "2013-04-01",
          "2013-05-01",
          "2013-06-01",
          "2013-07-01",
          "2013-08-01",
          "2013-11-01",
          "2013-12-01",
          "2014-01-01",
          "2014-02-01",
          "2014-03-01",
          "2014-04-01",
          "2014-05-01",
          "2014-06-01",
          "2014-07-01",
          "2014-08-01",
          "2014-09-01",
          "2014-10-01",
          "2014-11-01",
          "2014-12-01",
          "2015-01-01",
          "2015-02-01",
          "2015-03-01",
          "2015-04-01",
          "2015-05-01",
          "2015-06-01",
          "2015-08-01",
          "2015-09-01",
          "2015-10-01",
          "2015-11-01",
          "2015-12-01",
          "2016-01-01",
          "2016-02-01",
          "2016-03-01",
          "2016-04-01",
          "2016-05-01",
          "2016-06-01",
          "2016-07-01",
          "2016-08-01",
          "2016-09-01",
          "2016-10-01",
          "2016-11-01",
          "2016-12-01",
          "2017-01-01",
          "2017-02-01",
          "2017-03-01",
          "2017-04-01",
          "2017-05-01",
          "2017-06-01",
          "2017-07-01",
          "2017-08-01",
          "2017-09-01",
          "2017-10-01",
          "2017-11-01",
          "2017-12-01",
          "2018-01-01",
          "2018-02-01",
          "2018-03-01",
          "2018-04-01",
          "2018-05-01",
          "2018-06-01",
          "2018-07-01",
          "2018-08-01",
          "2018-09-01",
          "2018-10-01",
          "2018-11-01",
          "2018-12-01",
          "2019-01-01",
          "2019-02-01",
          "2019-03-01",
          "2019-04-01",
          "2019-05-01",
          "2019-06-01",
          "2019-07-01",
          "2019-08-01",
          "2019-09-01",
          "2019-10-01",
          "2019-11-01",
          "2019-12-01",
          "2020-01-01",
          "2020-02-01",
          "2020-03-01",
          "2020-04-01",
          "2020-05-01",
          "2020-06-01",
          "2020-07-01",
          "2020-08-01",
          "2020-09-01",
          "2020-10-01",
          "2020-11-01",
          "2020-12-01",
          "2021-01-01",
          "2021-02-01",
          "2021-03-01",
          "2021-04-01",
          "2021-05-01",
          "2021-06-01",
          "2021-07-01",
          "2021-08-01",
          "2021-09-01",
          "2021-10-01",
          "2021-11-01",
          "2021-12-01",
          "2022-01-01",
          "2022-02-01",
          "2022-03-01",
          "2022-04-01",
          "2022-05-01",
          "2022-06-01",
          "2022-07-01",
          "2022-08-01",
          "2022-09-01",
          "2022-10-01",
          "2022-11-01",
          "2022-12-01",
          "2023-01-01",
          "2023-02-01",
          "2023-03-01",
          "2023-04-01",
          "2023-05-01",
          "2023-06-01",
          "2023-07-01",
          "2023-08-01",
          "2023-09-01",
          "2023-10-01",
          "2023-11-01",
          "2023-12-01"
         ],
         "xaxis": "x",
         "y": [
          11.5,
          11.3,
          11.4,
          11.2,
          11,
          10.9,
          10.8,
          10.7,
          10.7,
          10.7,
          10.6,
          10.6,
          10.9,
          10.7,
          10.5,
          10.4,
          10.3,
          10.2,
          10.2,
          10.3,
          10.4,
          10.4,
          10.3,
          10.3,
          10.2,
          10.3,
          10.3,
          10.2,
          10.3,
          10.3,
          10.3,
          10.3,
          10.4,
          10.5,
          10.5,
          10.6,
          10.6,
          10.6,
          10.6,
          10.5,
          10.6,
          10.6,
          10.7,
          10.7,
          10.7,
          10.8,
          10.7,
          10.8,
          10.8,
          10.8,
          10.8,
          10.8,
          10.9,
          11,
          11.1,
          11.2,
          11.1,
          11.2,
          11.2,
          11.4,
          11.6,
          11.7,
          11.9,
          11.8,
          11.8,
          12.2,
          12.6,
          12.8,
          12.9,
          12.9,
          13.1,
          13,
          13,
          13,
          13.4,
          13.4,
          13.1,
          13.1,
          12.4,
          12.4,
          12.4,
          12.5,
          12.4,
          12.3,
          12.2,
          12.5,
          12.8,
          13,
          13,
          12.7,
          12.2,
          12.5,
          12.8,
          13,
          13,
          12.7,
          12.8,
          12.8,
          13.6,
          13.4,
          12.3,
          12.5,
          12.3,
          12.3,
          12.5,
          12.5,
          12.5,
          12.6,
          12.5,
          12.4,
          12.5,
          12.5,
          12.6,
          12.6,
          12.6,
          12.7,
          12.8,
          12.8,
          12.8,
          12.8,
          12.8,
          13,
          13.2,
          13.2,
          13.3,
          13.3,
          13.48,
          13.58,
          13.7,
          13.82,
          13.86,
          13.98,
          14.22,
          14.43,
          14.5,
          14.63,
          14.74,
          14.79
         ],
         "yaxis": "y"
        },
        {
         "hovertemplate": "Grupo de Vecindarios=Villaverde<br>Fecha=%{x}<br>Precio Promedio por m² (€)=%{y}<extra></extra>",
         "legendgroup": "Villaverde",
         "line": {
          "color": "#ab63fa",
          "dash": "solid",
          "width": 2
         },
         "marker": {
          "size": 4,
          "symbol": "circle"
         },
         "mode": "lines+markers",
         "name": "Villaverde",
         "showlegend": true,
         "type": "scattergl",
         "x": [
          "2011-07-01",
          "2011-08-01",
          "2011-09-01",
          "2011-10-01",
          "2011-12-01",
          "2012-01-01",
          "2012-02-01",
          "2012-03-01",
          "2012-04-01",
          "2012-05-01",
          "2012-07-01",
          "2012-11-01",
          "2013-03-01",
          "2013-05-01",
          "2014-08-01",
          "2015-01-01",
          "2015-05-01",
          "2015-09-01",
          "2015-10-01",
          "2015-11-01",
          "2016-03-01",
          "2016-04-01",
          "2016-05-01",
          "2016-06-01",
          "2016-07-01",
          "2016-08-01",
          "2016-09-01",
          "2016-10-01",
          "2016-11-01",
          "2016-12-01",
          "2017-01-01",
          "2017-02-01",
          "2017-03-01",
          "2017-04-01",
          "2017-05-01",
          "2017-06-01",
          "2017-07-01",
          "2017-08-01",
          "2017-09-01",
          "2017-10-01",
          "2017-11-01",
          "2017-12-01",
          "2018-01-01",
          "2018-02-01",
          "2018-03-01",
          "2018-04-01",
          "2018-05-01",
          "2018-06-01",
          "2018-07-01",
          "2018-08-01",
          "2018-09-01",
          "2018-10-01",
          "2018-11-01",
          "2018-12-01",
          "2019-01-01",
          "2019-02-01",
          "2019-03-01",
          "2019-04-01",
          "2019-05-01",
          "2019-06-01",
          "2019-07-01",
          "2019-08-01",
          "2019-09-01",
          "2019-10-01",
          "2019-11-01",
          "2019-12-01",
          "2020-01-01",
          "2020-02-01",
          "2020-03-01",
          "2020-04-01",
          "2020-06-01",
          "2020-07-01",
          "2020-09-01",
          "2020-10-01",
          "2020-11-01",
          "2020-12-01",
          "2021-01-01",
          "2021-02-01",
          "2021-03-01",
          "2021-04-01",
          "2021-05-01",
          "2021-06-01",
          "2021-07-01",
          "2021-08-01",
          "2021-09-01",
          "2021-10-01",
          "2021-11-01",
          "2021-12-01",
          "2022-01-01",
          "2022-02-01",
          "2022-03-01",
          "2022-04-01",
          "2022-05-01",
          "2022-06-01",
          "2022-07-01",
          "2022-08-01",
          "2022-09-01",
          "2022-10-01",
          "2022-11-01",
          "2022-12-01",
          "2023-01-01",
          "2023-02-01",
          "2023-03-01",
          "2023-04-01",
          "2023-05-01",
          "2023-06-01",
          "2023-07-01",
          "2023-08-01",
          "2023-09-01",
          "2023-10-01",
          "2023-11-01",
          "2023-12-01"
         ],
         "xaxis": "x",
         "y": [
          9,
          8.9,
          8.8,
          8.6,
          8.8,
          8.8,
          8.7,
          8.7,
          8.6,
          8.5,
          8.5,
          8.5,
          8.2,
          8,
          7.4,
          7.6,
          7.8,
          7.7,
          7.8,
          7.7,
          8,
          8,
          7.9,
          7.8,
          7.8,
          7.9,
          8.2,
          8.3,
          8.2,
          8.5,
          8.5,
          8.5,
          8.5,
          8.5,
          8.5,
          8.5,
          8.4,
          8.5,
          8.8,
          8.9,
          9,
          9.2,
          9.2,
          9.4,
          9.4,
          9.4,
          9.6,
          9.8,
          10,
          10,
          10,
          9.9,
          10,
          10.3,
          12,
          11.6,
          11.6,
          11.1,
          11,
          10.7,
          10.7,
          10.8,
          10.9,
          11.1,
          11.6,
          11.5,
          10.7,
          10.8,
          10.9,
          11.1,
          11.5,
          11.1,
          10.8,
          10.8,
          10.8,
          10.6,
          10.5,
          10.3,
          10.3,
          10.5,
          10.5,
          10.4,
          10.5,
          10.6,
          10.6,
          10.9,
          10.9,
          10.9,
          10.9,
          10.8,
          10.8,
          11,
          11.1,
          11.2,
          11.2,
          11.4,
          11.7,
          11.8,
          11.9,
          12,
          11.75,
          11.88,
          11.87,
          12,
          12.31,
          12.34,
          12.36,
          12.5,
          12.69,
          12.79,
          12.83,
          12.93
         ],
         "yaxis": "y"
        },
        {
         "hovertemplate": "Grupo de Vecindarios=Arganzuela<br>Fecha=%{x}<br>Precio Promedio por m² (€)=%{y}<extra></extra>",
         "legendgroup": "Arganzuela",
         "line": {
          "color": "#FFA15A",
          "dash": "solid",
          "width": 2
         },
         "marker": {
          "size": 4,
          "symbol": "circle"
         },
         "mode": "lines+markers",
         "name": "Arganzuela",
         "showlegend": true,
         "type": "scattergl",
         "x": [
          "2012-08-01",
          "2012-09-01",
          "2012-12-01",
          "2013-02-01",
          "2013-03-01",
          "2013-04-01",
          "2013-05-01",
          "2013-06-01",
          "2013-07-01",
          "2013-08-01",
          "2013-09-01",
          "2013-10-01",
          "2013-11-01",
          "2013-12-01",
          "2014-01-01",
          "2014-02-01",
          "2014-03-01",
          "2014-04-01",
          "2014-05-01",
          "2014-06-01",
          "2014-07-01",
          "2014-08-01",
          "2014-09-01",
          "2014-10-01",
          "2014-11-01",
          "2014-12-01",
          "2015-01-01",
          "2015-02-01",
          "2015-03-01",
          "2015-04-01",
          "2015-05-01",
          "2015-06-01",
          "2015-07-01",
          "2015-08-01",
          "2015-09-01",
          "2015-10-01",
          "2015-11-01",
          "2015-12-01",
          "2016-01-01",
          "2016-02-01",
          "2016-03-01",
          "2016-04-01",
          "2016-05-01",
          "2016-06-01",
          "2016-07-01",
          "2016-08-01",
          "2016-09-01",
          "2016-10-01",
          "2016-11-01",
          "2016-12-01",
          "2017-01-01",
          "2017-02-01",
          "2017-03-01",
          "2017-04-01",
          "2017-05-01",
          "2017-06-01",
          "2017-07-01",
          "2017-08-01",
          "2017-09-01",
          "2017-10-01",
          "2017-11-01",
          "2017-12-01",
          "2018-01-01",
          "2018-02-01",
          "2018-03-01",
          "2018-04-01",
          "2018-05-01",
          "2018-06-01",
          "2018-07-01",
          "2018-08-01",
          "2018-09-01",
          "2018-10-01",
          "2018-11-01",
          "2018-12-01",
          "2019-01-01",
          "2019-02-01",
          "2019-03-01",
          "2019-04-01",
          "2019-05-01",
          "2019-06-01",
          "2019-07-01",
          "2019-08-01",
          "2019-09-01",
          "2019-10-01",
          "2019-11-01",
          "2019-12-01",
          "2020-01-01",
          "2020-02-01",
          "2020-03-01",
          "2020-04-01",
          "2020-05-01",
          "2020-06-01",
          "2020-07-01",
          "2020-08-01",
          "2020-09-01",
          "2020-10-01",
          "2020-11-01",
          "2020-12-01",
          "2021-01-01",
          "2021-02-01",
          "2021-03-01",
          "2021-04-01",
          "2021-05-01",
          "2021-06-01",
          "2021-07-01",
          "2021-08-01",
          "2021-09-01",
          "2021-10-01",
          "2021-11-01",
          "2021-12-01",
          "2022-01-01",
          "2022-02-01",
          "2022-03-01",
          "2022-04-01",
          "2022-05-01",
          "2022-06-01",
          "2022-07-01",
          "2022-08-01",
          "2022-09-01",
          "2022-10-01",
          "2022-11-01",
          "2022-12-01",
          "2023-01-01",
          "2023-02-01",
          "2023-03-01",
          "2023-04-01",
          "2023-05-01",
          "2023-06-01",
          "2023-07-01",
          "2023-08-01",
          "2023-09-01",
          "2023-10-01",
          "2023-11-01",
          "2023-12-01"
         ],
         "xaxis": "x",
         "y": [
          11.5,
          11.5,
          11.2,
          11.4,
          11.4,
          11.3,
          11.3,
          11.2,
          11.2,
          11.1,
          11,
          11,
          11,
          10.9,
          10.9,
          11,
          11,
          11.1,
          11.1,
          11,
          11,
          11,
          11.1,
          11.1,
          11.1,
          11.3,
          11.3,
          11.4,
          11.4,
          11.5,
          11.5,
          11.5,
          11.5,
          11.5,
          11.5,
          11.7,
          12,
          12.1,
          12.2,
          12.2,
          12.2,
          12.2,
          12.2,
          12.1,
          12,
          12.1,
          12.3,
          12.6,
          12.7,
          12.8,
          12.9,
          13.2,
          13.3,
          13.7,
          13.8,
          13.5,
          13.7,
          13.8,
          14,
          14.1,
          14.1,
          13.9,
          14.1,
          14.4,
          14.5,
          14.5,
          14.5,
          14.7,
          14.5,
          14.7,
          14.9,
          15,
          15,
          15.2,
          15.5,
          15.5,
          15.7,
          16,
          15.9,
          15.8,
          15.7,
          16,
          16,
          16.1,
          16.4,
          16,
          15.7,
          16,
          16,
          16.1,
          16.4,
          16,
          15.7,
          15.5,
          15.4,
          15.1,
          14.8,
          14.4,
          14.2,
          14.2,
          14.3,
          14.4,
          14.3,
          14.2,
          14.2,
          14.3,
          14.5,
          14.6,
          14.6,
          14.6,
          14.7,
          15,
          15.1,
          15.3,
          15.2,
          15.3,
          15.3,
          15.7,
          15.7,
          15.8,
          16.1,
          16.1,
          16.2,
          16.13,
          16.3,
          16.25,
          16.36,
          16.44,
          16.67,
          16.91,
          17.19,
          17.27,
          17.32,
          17.71
         ],
         "yaxis": "y"
        },
        {
         "hovertemplate": "Grupo de Vecindarios=Retiro<br>Fecha=%{x}<br>Precio Promedio por m² (€)=%{y}<extra></extra>",
         "legendgroup": "Retiro",
         "line": {
          "color": "#19d3f3",
          "dash": "solid",
          "width": 2
         },
         "marker": {
          "size": 4,
          "symbol": "circle"
         },
         "mode": "lines+markers",
         "name": "Retiro",
         "showlegend": true,
         "type": "scattergl",
         "x": [
          "2012-04-01",
          "2012-05-01",
          "2012-07-01",
          "2012-09-01",
          "2012-10-01",
          "2012-11-01",
          "2012-12-01",
          "2013-01-01",
          "2013-02-01",
          "2013-03-01",
          "2013-04-01",
          "2013-05-01",
          "2013-06-01",
          "2013-07-01",
          "2013-08-01",
          "2013-09-01",
          "2013-10-01",
          "2013-11-01",
          "2013-12-01",
          "2014-01-01",
          "2014-02-01",
          "2014-03-01",
          "2014-04-01",
          "2014-05-01",
          "2014-06-01",
          "2014-07-01",
          "2014-08-01",
          "2014-09-01",
          "2014-10-01",
          "2014-11-01",
          "2014-12-01",
          "2015-01-01",
          "2015-02-01",
          "2015-03-01",
          "2015-04-01",
          "2015-05-01",
          "2015-06-01",
          "2015-07-01",
          "2015-08-01",
          "2015-09-01",
          "2015-10-01",
          "2015-11-01",
          "2015-12-01",
          "2016-01-01",
          "2016-02-01",
          "2016-03-01",
          "2016-04-01",
          "2016-05-01",
          "2016-06-01",
          "2016-07-01",
          "2016-08-01",
          "2016-09-01",
          "2016-10-01",
          "2016-11-01",
          "2016-12-01",
          "2017-01-01",
          "2017-02-01",
          "2017-03-01",
          "2017-04-01",
          "2017-05-01",
          "2017-06-01",
          "2017-07-01",
          "2017-08-01",
          "2017-09-01",
          "2017-10-01",
          "2017-11-01",
          "2017-12-01",
          "2018-01-01",
          "2018-02-01",
          "2018-03-01",
          "2018-04-01",
          "2018-05-01",
          "2018-06-01",
          "2018-07-01",
          "2018-08-01",
          "2018-09-01",
          "2018-10-01",
          "2018-11-01",
          "2018-12-01",
          "2019-01-01",
          "2019-02-01",
          "2019-03-01",
          "2019-04-01",
          "2019-05-01",
          "2019-06-01",
          "2019-07-01",
          "2019-08-01",
          "2019-09-01",
          "2019-10-01",
          "2019-11-01",
          "2019-12-01",
          "2020-01-01",
          "2020-02-01",
          "2020-03-01",
          "2020-04-01",
          "2020-05-01",
          "2020-06-01",
          "2020-07-01",
          "2020-08-01",
          "2020-09-01",
          "2020-10-01",
          "2020-11-01",
          "2020-12-01",
          "2021-01-01",
          "2021-02-01",
          "2021-03-01",
          "2021-04-01",
          "2021-05-01",
          "2021-06-01",
          "2021-07-01",
          "2021-08-01",
          "2021-09-01",
          "2021-10-01",
          "2021-11-01",
          "2021-12-01",
          "2022-01-01",
          "2022-02-01",
          "2022-03-01",
          "2022-04-01",
          "2022-05-01",
          "2022-06-01",
          "2022-07-01",
          "2022-08-01",
          "2022-09-01",
          "2022-10-01",
          "2022-11-01",
          "2022-12-01",
          "2023-01-01",
          "2023-02-01",
          "2023-03-01",
          "2023-04-01",
          "2023-05-01",
          "2023-06-01",
          "2023-07-01",
          "2023-08-01",
          "2023-09-01",
          "2023-10-01",
          "2023-11-01",
          "2023-12-01"
         ],
         "xaxis": "x",
         "y": [
          12.6,
          12.6,
          12.3,
          12.2,
          12.2,
          12,
          12,
          11.7,
          11.8,
          11.7,
          11.7,
          11.7,
          11.6,
          11.6,
          11.6,
          11.6,
          11.6,
          11.8,
          11.8,
          11.7,
          11.7,
          11.7,
          11.7,
          11.7,
          11.7,
          11.7,
          11.8,
          11.9,
          12,
          12.1,
          12,
          11.9,
          11.9,
          12,
          12.1,
          12.1,
          12.2,
          12.1,
          12.1,
          12.2,
          12.5,
          12.7,
          13,
          12.9,
          12.8,
          12.8,
          12.9,
          13,
          13.2,
          13.3,
          13.3,
          13.1,
          13.5,
          13.9,
          13.9,
          13.8,
          14,
          14,
          14.2,
          14.4,
          14.4,
          14.2,
          14.3,
          14.5,
          14.5,
          14.5,
          14.8,
          15,
          15.4,
          15.4,
          15.3,
          15.6,
          15.7,
          15.7,
          15.8,
          15.9,
          15.9,
          16.1,
          16,
          16.1,
          16.3,
          16.6,
          16.4,
          16.5,
          16.4,
          16.4,
          16,
          16,
          16.3,
          16.8,
          16.9,
          16.4,
          16,
          16,
          16.3,
          16.8,
          16.9,
          16.3,
          15.6,
          15.6,
          15.5,
          15.3,
          15,
          14.9,
          14.9,
          14.9,
          14.9,
          14.9,
          14.8,
          14.6,
          14.6,
          15,
          15.1,
          15,
          15,
          15.2,
          15.3,
          15.8,
          15.9,
          16,
          16,
          16,
          16.3,
          16.4,
          16.9,
          17.3,
          17.2,
          17.16,
          17.05,
          17.16,
          17.41,
          17.58,
          17.68,
          17.68,
          17.76,
          17.98,
          18.45,
          18.56,
          19.17
         ],
         "yaxis": "y"
        },
        {
         "hovertemplate": "Grupo de Vecindarios=Salamanca<br>Fecha=%{x}<br>Precio Promedio por m² (€)=%{y}<extra></extra>",
         "legendgroup": "Salamanca",
         "line": {
          "color": "#FF6692",
          "dash": "solid",
          "width": 2
         },
         "marker": {
          "size": 4,
          "symbol": "circle"
         },
         "mode": "lines+markers",
         "name": "Salamanca",
         "showlegend": true,
         "type": "scattergl",
         "x": [
          "2012-04-01",
          "2012-05-01",
          "2012-06-01",
          "2012-07-01",
          "2012-08-01",
          "2012-11-01",
          "2013-01-01",
          "2013-03-01",
          "2013-04-01",
          "2013-05-01",
          "2013-06-01",
          "2013-08-01",
          "2013-09-01",
          "2013-10-01",
          "2013-11-01",
          "2013-12-01",
          "2014-01-01",
          "2014-02-01",
          "2014-03-01",
          "2014-04-01",
          "2014-05-01",
          "2014-06-01",
          "2014-07-01",
          "2014-08-01",
          "2014-09-01",
          "2014-10-01",
          "2014-11-01",
          "2014-12-01",
          "2015-01-01",
          "2015-02-01",
          "2015-03-01",
          "2015-04-01",
          "2015-05-01",
          "2015-06-01",
          "2015-07-01",
          "2015-08-01",
          "2015-09-01",
          "2015-10-01",
          "2015-11-01",
          "2015-12-01",
          "2016-01-01",
          "2016-02-01",
          "2016-03-01",
          "2016-04-01",
          "2016-05-01",
          "2016-06-01",
          "2016-07-01",
          "2016-08-01",
          "2016-09-01",
          "2016-10-01",
          "2016-11-01",
          "2016-12-01",
          "2017-01-01",
          "2017-02-01",
          "2017-03-01",
          "2017-04-01",
          "2017-05-01",
          "2017-06-01",
          "2017-07-01",
          "2017-08-01",
          "2017-09-01",
          "2017-10-01",
          "2017-11-01",
          "2017-12-01",
          "2018-01-01",
          "2018-02-01",
          "2018-03-01",
          "2018-04-01",
          "2018-05-01",
          "2018-06-01",
          "2018-07-01",
          "2018-08-01",
          "2018-09-01",
          "2018-10-01",
          "2018-11-01",
          "2018-12-01",
          "2019-01-01",
          "2019-02-01",
          "2019-03-01",
          "2019-04-01",
          "2019-05-01",
          "2019-06-01",
          "2019-07-01",
          "2019-08-01",
          "2019-09-01",
          "2019-10-01",
          "2019-11-01",
          "2019-12-01",
          "2020-01-01",
          "2020-02-01",
          "2020-03-01",
          "2020-04-01",
          "2020-05-01",
          "2020-06-01",
          "2020-07-01",
          "2020-08-01",
          "2020-09-01",
          "2020-10-01",
          "2020-11-01",
          "2020-12-01",
          "2021-01-01",
          "2021-02-01",
          "2021-03-01",
          "2021-04-01",
          "2021-05-01",
          "2021-06-01",
          "2021-07-01",
          "2021-08-01",
          "2021-09-01",
          "2021-10-01",
          "2021-11-01",
          "2021-12-01",
          "2022-01-01",
          "2022-02-01",
          "2022-03-01",
          "2022-04-01",
          "2022-05-01",
          "2022-06-01",
          "2022-07-01",
          "2022-08-01",
          "2022-09-01",
          "2022-10-01",
          "2022-11-01",
          "2022-12-01",
          "2023-01-01",
          "2023-02-01",
          "2023-03-01",
          "2023-04-01",
          "2023-05-01",
          "2023-06-01",
          "2023-07-01",
          "2023-08-01",
          "2023-09-01",
          "2023-10-01",
          "2023-11-01",
          "2023-12-01"
         ],
         "xaxis": "x",
         "y": [
          14.2,
          14.2,
          14,
          14.1,
          14.1,
          14,
          13.9,
          13.8,
          13.7,
          13.6,
          13.4,
          13.4,
          13.6,
          13.6,
          13.6,
          13.6,
          13.6,
          13.6,
          13.6,
          13.6,
          13.6,
          13.7,
          13.7,
          13.7,
          13.8,
          13.9,
          14,
          14,
          14,
          14,
          14,
          14,
          14.1,
          14.2,
          14.2,
          14.4,
          14.6,
          14.8,
          14.9,
          14.9,
          15,
          15,
          15,
          15.2,
          15.4,
          15.3,
          15.3,
          15.3,
          15.5,
          15.7,
          15.9,
          16,
          16.3,
          16.4,
          16.5,
          16.7,
          16.9,
          16.9,
          16.9,
          17,
          17.4,
          17.8,
          17.8,
          17.8,
          18,
          18,
          18.1,
          18.2,
          18.3,
          18.5,
          18.6,
          18.7,
          18.9,
          18.8,
          18.5,
          18.3,
          18.8,
          19.2,
          19.4,
          19.2,
          19,
          18.9,
          18.7,
          18.7,
          18.7,
          18.9,
          19.3,
          18.9,
          18.7,
          18.7,
          18.7,
          18.9,
          19.3,
          18.9,
          18.3,
          18.2,
          18.1,
          17.8,
          17.3,
          17,
          16.8,
          16.7,
          16.7,
          16.7,
          16.7,
          16.7,
          16.7,
          17,
          17.4,
          17.6,
          17.5,
          17.5,
          17.6,
          18.2,
          18.3,
          18.5,
          18.5,
          18.9,
          18.9,
          19.4,
          20,
          20,
          19.8,
          20,
          19.83,
          19.98,
          19.97,
          20.26,
          20.68,
          20.99,
          21.24,
          21.42,
          21.81,
          22.35,
          22.18,
          22.5
         ],
         "yaxis": "y"
        },
        {
         "hovertemplate": "Grupo de Vecindarios=Latina<br>Fecha=%{x}<br>Precio Promedio por m² (€)=%{y}<extra></extra>",
         "legendgroup": "Latina",
         "line": {
          "color": "#B6E880",
          "dash": "solid",
          "width": 2
         },
         "marker": {
          "size": 4,
          "symbol": "circle"
         },
         "mode": "lines+markers",
         "name": "Latina",
         "showlegend": true,
         "type": "scattergl",
         "x": [
          "2012-09-01",
          "2012-10-01",
          "2012-11-01",
          "2013-01-01",
          "2013-03-01",
          "2013-04-01",
          "2013-05-01",
          "2013-06-01",
          "2013-08-01",
          "2013-09-01",
          "2013-10-01",
          "2013-12-01",
          "2014-01-01",
          "2014-02-01",
          "2014-03-01",
          "2014-04-01",
          "2014-05-01",
          "2014-06-01",
          "2014-07-01",
          "2014-09-01",
          "2014-10-01",
          "2014-11-01",
          "2014-12-01",
          "2015-01-01",
          "2015-02-01",
          "2015-03-01",
          "2015-04-01",
          "2015-05-01",
          "2015-06-01",
          "2015-07-01",
          "2015-08-01",
          "2015-09-01",
          "2015-10-01",
          "2015-11-01",
          "2015-12-01",
          "2016-01-01",
          "2016-02-01",
          "2016-03-01",
          "2016-04-01",
          "2016-05-01",
          "2016-06-01",
          "2016-07-01",
          "2016-08-01",
          "2016-09-01",
          "2016-10-01",
          "2016-11-01",
          "2016-12-01",
          "2017-01-01",
          "2017-02-01",
          "2017-03-01",
          "2017-04-01",
          "2017-05-01",
          "2017-06-01",
          "2017-07-01",
          "2017-08-01",
          "2017-09-01",
          "2017-10-01",
          "2017-11-01",
          "2017-12-01",
          "2018-01-01",
          "2018-02-01",
          "2018-03-01",
          "2018-04-01",
          "2018-05-01",
          "2018-06-01",
          "2018-07-01",
          "2018-08-01",
          "2018-09-01",
          "2018-10-01",
          "2018-11-01",
          "2018-12-01",
          "2019-01-01",
          "2019-02-01",
          "2019-03-01",
          "2019-04-01",
          "2019-05-01",
          "2019-06-01",
          "2019-07-01",
          "2019-08-01",
          "2019-09-01",
          "2019-10-01",
          "2019-11-01",
          "2019-12-01",
          "2020-01-01",
          "2020-02-01",
          "2020-03-01",
          "2020-04-01",
          "2020-05-01",
          "2020-06-01",
          "2020-07-01",
          "2020-08-01",
          "2020-09-01",
          "2020-10-01",
          "2020-11-01",
          "2020-12-01",
          "2021-01-01",
          "2021-02-01",
          "2021-03-01",
          "2021-04-01",
          "2021-05-01",
          "2021-06-01",
          "2021-07-01",
          "2021-08-01",
          "2021-09-01",
          "2021-10-01",
          "2021-11-01",
          "2021-12-01",
          "2022-01-01",
          "2022-02-01",
          "2022-03-01",
          "2022-04-01",
          "2022-05-01",
          "2022-06-01",
          "2022-07-01",
          "2022-08-01",
          "2022-09-01",
          "2022-10-01",
          "2022-11-01",
          "2022-12-01",
          "2023-01-01",
          "2023-02-01",
          "2023-03-01",
          "2023-04-01",
          "2023-05-01",
          "2023-06-01",
          "2023-07-01",
          "2023-08-01",
          "2023-09-01",
          "2023-10-01",
          "2023-11-01",
          "2023-12-01"
         ],
         "xaxis": "x",
         "y": [
          9.3,
          9.2,
          9.1,
          8.9,
          8.8,
          8.7,
          8.7,
          8.6,
          8.7,
          8.7,
          8.7,
          8.4,
          8.4,
          8.4,
          8.4,
          8.4,
          8.3,
          8.4,
          8.5,
          8.6,
          8.7,
          8.7,
          8.5,
          8.5,
          8.5,
          8.5,
          8.4,
          8.4,
          8.5,
          8.6,
          8.7,
          8.7,
          8.7,
          8.7,
          8.7,
          8.7,
          8.8,
          9,
          9,
          9,
          8.9,
          8.9,
          9.1,
          9.3,
          9.4,
          9.3,
          9.4,
          9.6,
          9.8,
          9.8,
          9.9,
          9.8,
          9.8,
          10,
          10.3,
          10.4,
          10.4,
          10.3,
          10.3,
          10.5,
          10.5,
          10.6,
          10.7,
          10.8,
          10.9,
          11.1,
          11.3,
          11.3,
          11.2,
          11.2,
          11.4,
          11.9,
          12.2,
          12.4,
          12.3,
          12.3,
          12.4,
          12.5,
          12.7,
          12.5,
          12.7,
          13,
          12.9,
          12.5,
          12.7,
          12.5,
          12.7,
          13,
          12.9,
          12.5,
          12.3,
          12.4,
          12.4,
          12.2,
          12,
          11.8,
          11.7,
          11.4,
          11.5,
          11.7,
          11.5,
          11.5,
          11.7,
          11.9,
          11.8,
          11.8,
          12,
          12,
          12,
          12,
          12,
          12.3,
          12.5,
          12.5,
          12.7,
          12.9,
          12.9,
          13.1,
          13,
          12.89,
          12.78,
          12.9,
          13.21,
          13.33,
          13.33,
          13.38,
          13.5,
          13.84,
          14.27,
          14.39,
          14.6
         ],
         "yaxis": "y"
        },
        {
         "hovertemplate": "Grupo de Vecindarios=Carabanchel<br>Fecha=%{x}<br>Precio Promedio por m² (€)=%{y}<extra></extra>",
         "legendgroup": "Carabanchel",
         "line": {
          "color": "#FF97FF",
          "dash": "solid",
          "width": 2
         },
         "marker": {
          "size": 4,
          "symbol": "circle"
         },
         "mode": "lines+markers",
         "name": "Carabanchel",
         "showlegend": true,
         "type": "scattergl",
         "x": [
          "2012-08-01",
          "2012-09-01",
          "2012-10-01",
          "2012-11-01",
          "2014-01-01",
          "2014-03-01",
          "2014-05-01",
          "2014-07-01",
          "2014-08-01",
          "2014-09-01",
          "2014-10-01",
          "2014-11-01",
          "2014-12-01",
          "2015-01-01",
          "2015-02-01",
          "2015-03-01",
          "2015-04-01",
          "2015-05-01",
          "2015-06-01",
          "2015-07-01",
          "2015-08-01",
          "2015-09-01",
          "2015-10-01",
          "2015-11-01",
          "2015-12-01",
          "2016-01-01",
          "2016-02-01",
          "2016-03-01",
          "2016-04-01",
          "2016-05-01",
          "2016-06-01",
          "2016-07-01",
          "2016-08-01",
          "2016-09-01",
          "2016-10-01",
          "2016-11-01",
          "2016-12-01",
          "2017-01-01",
          "2017-02-01",
          "2017-03-01",
          "2017-04-01",
          "2017-05-01",
          "2017-06-01",
          "2017-07-01",
          "2017-08-01",
          "2017-09-01",
          "2017-10-01",
          "2017-11-01",
          "2017-12-01",
          "2018-01-01",
          "2018-02-01",
          "2018-03-01",
          "2018-04-01",
          "2018-05-01",
          "2018-06-01",
          "2018-07-01",
          "2018-08-01",
          "2018-09-01",
          "2018-10-01",
          "2018-11-01",
          "2018-12-01",
          "2019-01-01",
          "2019-02-01",
          "2019-03-01",
          "2019-04-01",
          "2019-05-01",
          "2019-06-01",
          "2019-07-01",
          "2019-08-01",
          "2019-09-01",
          "2019-10-01",
          "2019-11-01",
          "2019-12-01",
          "2020-01-01",
          "2020-02-01",
          "2020-03-01",
          "2020-04-01",
          "2020-05-01",
          "2020-06-01",
          "2020-07-01",
          "2020-08-01",
          "2020-09-01",
          "2020-10-01",
          "2020-11-01",
          "2020-12-01",
          "2021-01-01",
          "2021-02-01",
          "2021-03-01",
          "2021-04-01",
          "2021-05-01",
          "2021-06-01",
          "2021-07-01",
          "2021-08-01",
          "2021-09-01",
          "2021-10-01",
          "2021-11-01",
          "2021-12-01",
          "2022-01-01",
          "2022-02-01",
          "2022-03-01",
          "2022-04-01",
          "2022-05-01",
          "2022-06-01",
          "2022-07-01",
          "2022-08-01",
          "2022-09-01",
          "2022-10-01",
          "2022-11-01",
          "2022-12-01",
          "2023-01-01",
          "2023-02-01",
          "2023-03-01",
          "2023-04-01",
          "2023-05-01",
          "2023-06-01",
          "2023-07-01",
          "2023-08-01",
          "2023-09-01",
          "2023-10-01",
          "2023-11-01",
          "2023-12-01"
         ],
         "xaxis": "x",
         "y": [
          9.3,
          9.2,
          9.2,
          9.2,
          8.5,
          8.4,
          8.4,
          8.3,
          8.3,
          8.3,
          8.4,
          8.3,
          8.4,
          8.5,
          8.5,
          8.5,
          8.5,
          8.6,
          8.6,
          8.7,
          8.7,
          8.8,
          8.8,
          8.8,
          8.8,
          8.9,
          8.9,
          8.9,
          9,
          9.1,
          9.1,
          9.2,
          9.2,
          9.2,
          9.3,
          9.4,
          9.6,
          9.7,
          9.7,
          9.8,
          9.9,
          9.8,
          9.8,
          10,
          10,
          10,
          10,
          10.3,
          10.6,
          10.8,
          10.9,
          11,
          11.1,
          11,
          11.1,
          11.1,
          10.9,
          11.2,
          11.3,
          11.5,
          11.6,
          11.9,
          11.9,
          12,
          11.9,
          11.9,
          12,
          12,
          12.3,
          12.5,
          12.5,
          12.6,
          12.7,
          12,
          12.3,
          12.5,
          12.5,
          12.6,
          12.7,
          12.5,
          12.2,
          12.1,
          12,
          11.7,
          11.6,
          11.4,
          11.4,
          11.4,
          11.5,
          11.4,
          11.4,
          11.4,
          11.5,
          11.6,
          11.7,
          11.7,
          11.7,
          11.7,
          11.7,
          11.8,
          11.9,
          12,
          12.1,
          12.1,
          12.3,
          12.5,
          12.5,
          12.7,
          12.7,
          12.6,
          12.57,
          12.93,
          13.32,
          13.28,
          13.35,
          13.46,
          13.57,
          13.74,
          13.92,
          13.92,
          14.13
         ],
         "yaxis": "y"
        },
        {
         "hovertemplate": "Grupo de Vecindarios=Usera<br>Fecha=%{x}<br>Precio Promedio por m² (€)=%{y}<extra></extra>",
         "legendgroup": "Usera",
         "line": {
          "color": "#FECB52",
          "dash": "solid",
          "width": 2
         },
         "marker": {
          "size": 4,
          "symbol": "circle"
         },
         "mode": "lines+markers",
         "name": "Usera",
         "showlegend": true,
         "type": "scattergl",
         "x": [
          "2012-09-01",
          "2013-02-01",
          "2013-05-01",
          "2014-01-01",
          "2014-02-01",
          "2014-03-01",
          "2014-04-01",
          "2014-05-01",
          "2014-09-01",
          "2014-12-01",
          "2015-01-01",
          "2015-02-01",
          "2015-03-01",
          "2015-05-01",
          "2015-10-01",
          "2015-11-01",
          "2015-12-01",
          "2016-01-01",
          "2016-02-01",
          "2016-03-01",
          "2016-04-01",
          "2016-05-01",
          "2016-06-01",
          "2016-07-01",
          "2016-08-01",
          "2016-09-01",
          "2016-10-01",
          "2016-11-01",
          "2016-12-01",
          "2017-01-01",
          "2017-02-01",
          "2017-03-01",
          "2017-04-01",
          "2017-05-01",
          "2017-06-01",
          "2017-07-01",
          "2017-08-01",
          "2017-09-01",
          "2017-10-01",
          "2017-11-01",
          "2017-12-01",
          "2018-01-01",
          "2018-02-01",
          "2018-03-01",
          "2018-04-01",
          "2018-05-01",
          "2018-06-01",
          "2018-07-01",
          "2018-08-01",
          "2018-09-01",
          "2018-10-01",
          "2018-11-01",
          "2018-12-01",
          "2019-01-01",
          "2019-02-01",
          "2019-03-01",
          "2019-04-01",
          "2019-05-01",
          "2019-06-01",
          "2019-07-01",
          "2019-08-01",
          "2019-09-01",
          "2019-10-01",
          "2019-11-01",
          "2019-12-01",
          "2020-01-01",
          "2020-02-01",
          "2020-03-01",
          "2020-04-01",
          "2020-05-01",
          "2020-06-01",
          "2020-07-01",
          "2020-08-01",
          "2020-09-01",
          "2020-10-01",
          "2020-11-01",
          "2020-12-01",
          "2021-01-01",
          "2021-02-01",
          "2021-03-01",
          "2021-04-01",
          "2021-05-01",
          "2021-06-01",
          "2021-07-01",
          "2021-08-01",
          "2021-09-01",
          "2021-10-01",
          "2021-11-01",
          "2021-12-01",
          "2022-01-01",
          "2022-02-01",
          "2022-03-01",
          "2022-04-01",
          "2022-05-01",
          "2022-06-01",
          "2022-07-01",
          "2022-08-01",
          "2022-09-01",
          "2022-10-01",
          "2022-11-01",
          "2022-12-01",
          "2023-01-01",
          "2023-02-01",
          "2023-03-01",
          "2023-04-01",
          "2023-05-01",
          "2023-06-01",
          "2023-07-01",
          "2023-08-01",
          "2023-09-01",
          "2023-10-01",
          "2023-11-01",
          "2023-12-01"
         ],
         "xaxis": "x",
         "y": [
          8.6,
          8.7,
          8.5,
          8.3,
          8.3,
          8.3,
          8.2,
          8.3,
          8.3,
          8.4,
          8.3,
          8.2,
          8.3,
          8.5,
          8.7,
          8.9,
          9,
          9.1,
          9.1,
          9,
          9.1,
          9.1,
          9.1,
          8.9,
          8.9,
          9,
          9.1,
          9,
          9.2,
          9.2,
          9.4,
          9.8,
          9.7,
          9.8,
          9.7,
          9.8,
          9.7,
          9.6,
          9.9,
          10,
          10.2,
          10.3,
          10.5,
          10.6,
          10.7,
          10.7,
          10.7,
          10.8,
          10.7,
          10.7,
          11,
          11.3,
          11.2,
          11.8,
          11.9,
          11.9,
          12,
          12,
          11.9,
          11.9,
          12.1,
          12.3,
          12.4,
          12.5,
          12.5,
          11.9,
          12.1,
          12.3,
          12.4,
          12.5,
          12.5,
          12.1,
          11.9,
          11.9,
          11.7,
          11.5,
          11.4,
          11.2,
          11.1,
          11,
          11.2,
          10.9,
          10.9,
          11.2,
          11.5,
          11.5,
          11.5,
          11.3,
          11.3,
          11.3,
          11.3,
          11.4,
          11.8,
          12.5,
          12.8,
          12.8,
          13.1,
          12.9,
          12.9,
          12.8,
          12.9,
          13.08,
          13.51,
          13.45,
          13.32,
          13.49,
          13.33,
          13.32,
          13.27,
          13.75,
          13.83,
          14.09,
          14.29
         ],
         "yaxis": "y"
        },
        {
         "hovertemplate": "Grupo de Vecindarios=Barajas<br>Fecha=%{x}<br>Precio Promedio por m² (€)=%{y}<extra></extra>",
         "legendgroup": "Barajas",
         "line": {
          "color": "#636efa",
          "dash": "solid",
          "width": 2
         },
         "marker": {
          "size": 4,
          "symbol": "circle"
         },
         "mode": "lines+markers",
         "name": "Barajas",
         "showlegend": true,
         "type": "scattergl",
         "x": [
          "2012-10-01",
          "2012-11-01",
          "2013-01-01",
          "2013-05-01",
          "2013-06-01",
          "2013-08-01",
          "2013-10-01",
          "2013-11-01",
          "2013-12-01",
          "2014-01-01",
          "2014-02-01",
          "2014-03-01",
          "2014-04-01",
          "2014-05-01",
          "2014-07-01",
          "2014-09-01",
          "2015-02-01",
          "2015-04-01",
          "2015-05-01",
          "2015-06-01",
          "2015-07-01",
          "2015-08-01",
          "2015-09-01",
          "2015-10-01",
          "2015-11-01",
          "2015-12-01",
          "2016-01-01",
          "2016-02-01",
          "2016-03-01",
          "2016-04-01",
          "2016-05-01",
          "2016-06-01",
          "2016-07-01",
          "2016-08-01",
          "2016-09-01",
          "2016-10-01",
          "2016-11-01",
          "2016-12-01",
          "2017-01-01",
          "2017-02-01",
          "2017-03-01",
          "2017-04-01",
          "2017-05-01",
          "2017-06-01",
          "2017-07-01",
          "2017-08-01",
          "2017-09-01",
          "2017-10-01",
          "2017-11-01",
          "2017-12-01",
          "2018-01-01",
          "2018-02-01",
          "2018-03-01",
          "2018-04-01",
          "2018-05-01",
          "2018-06-01",
          "2018-07-01",
          "2018-08-01",
          "2018-09-01",
          "2018-10-01",
          "2018-11-01",
          "2018-12-01",
          "2019-01-01",
          "2019-02-01",
          "2019-03-01",
          "2019-04-01",
          "2019-05-01",
          "2019-06-01",
          "2019-07-01",
          "2019-08-01",
          "2019-09-01",
          "2019-10-01",
          "2019-11-01",
          "2019-12-01",
          "2020-01-01",
          "2020-02-01",
          "2020-03-01",
          "2020-04-01",
          "2020-05-01",
          "2020-06-01",
          "2020-07-01",
          "2020-08-01",
          "2020-09-01",
          "2020-10-01",
          "2020-11-01",
          "2020-12-01",
          "2021-01-01",
          "2021-02-01",
          "2021-03-01",
          "2021-04-01",
          "2021-05-01",
          "2021-06-01",
          "2021-07-01",
          "2021-08-01",
          "2021-09-01",
          "2021-10-01",
          "2021-11-01",
          "2021-12-01",
          "2022-01-01",
          "2022-02-01",
          "2022-03-01",
          "2022-04-01",
          "2022-05-01",
          "2022-06-01",
          "2022-07-01",
          "2022-08-01",
          "2022-09-01",
          "2022-10-01",
          "2022-11-01",
          "2022-12-01",
          "2023-01-01",
          "2023-02-01",
          "2023-03-01",
          "2023-04-01",
          "2023-05-01",
          "2023-06-01",
          "2023-07-01",
          "2023-08-01",
          "2023-09-01",
          "2023-10-01",
          "2023-11-01",
          "2023-12-01"
         ],
         "xaxis": "x",
         "y": [
          10.3,
          10.1,
          10.2,
          9.8,
          9.8,
          9.7,
          9.7,
          9.7,
          9.5,
          9.5,
          9.7,
          9.8,
          9.8,
          9.7,
          9.3,
          9.5,
          9.6,
          9.7,
          9.7,
          9.7,
          9.4,
          9.4,
          9.5,
          9.7,
          9.7,
          9.7,
          9.9,
          9.7,
          9.9,
          9.7,
          9.7,
          10,
          10.1,
          10,
          9.9,
          10.2,
          10.3,
          10.1,
          10.3,
          10.6,
          10.9,
          11.2,
          11,
          10.9,
          11.1,
          11.2,
          11,
          11,
          11.2,
          11.3,
          11.2,
          11.3,
          11.5,
          11.6,
          12,
          12.2,
          11.8,
          11.6,
          11.3,
          11.2,
          11.4,
          11.7,
          11.9,
          11.9,
          12.1,
          12,
          11.8,
          11.7,
          11.9,
          12,
          11.8,
          11.7,
          11.5,
          11.7,
          11.9,
          12,
          11.8,
          11.7,
          11.5,
          11.7,
          11.9,
          11.7,
          11.5,
          11.6,
          11.4,
          11.3,
          11.4,
          11.3,
          11.3,
          11.5,
          11.4,
          11.4,
          11.3,
          11.5,
          11.5,
          11.4,
          11.6,
          11.6,
          11.6,
          11.7,
          12.2,
          12.4,
          12.4,
          12.2,
          12.2,
          12.2,
          12.1,
          12.2,
          12.4,
          12.5,
          12.48,
          12.54,
          12.67,
          12.65,
          12.96,
          13.22,
          13.13,
          13.32,
          13.56,
          13.7,
          14,
          14
         ],
         "yaxis": "y"
        },
        {
         "hovertemplate": "Grupo de Vecindarios=Chamartín<br>Fecha=%{x}<br>Precio Promedio por m² (€)=%{y}<extra></extra>",
         "legendgroup": "Chamartín",
         "line": {
          "color": "#EF553B",
          "dash": "solid",
          "width": 2
         },
         "marker": {
          "size": 4,
          "symbol": "circle"
         },
         "mode": "lines+markers",
         "name": "Chamartín",
         "showlegend": true,
         "type": "scattergl",
         "x": [
          "2013-03-01",
          "2013-07-01",
          "2013-11-01",
          "2013-12-01",
          "2014-03-01",
          "2014-04-01",
          "2014-05-01",
          "2014-06-01",
          "2014-07-01",
          "2014-08-01",
          "2014-09-01",
          "2014-10-01",
          "2014-11-01",
          "2014-12-01",
          "2015-01-01",
          "2015-02-01",
          "2015-03-01",
          "2015-04-01",
          "2015-05-01",
          "2015-06-01",
          "2015-07-01",
          "2015-08-01",
          "2015-09-01",
          "2015-10-01",
          "2015-11-01",
          "2015-12-01",
          "2016-01-01",
          "2016-02-01",
          "2016-03-01",
          "2016-04-01",
          "2016-05-01",
          "2016-06-01",
          "2016-07-01",
          "2016-08-01",
          "2016-09-01",
          "2016-10-01",
          "2016-11-01",
          "2016-12-01",
          "2017-01-01",
          "2017-02-01",
          "2017-03-01",
          "2017-04-01",
          "2017-05-01",
          "2017-06-01",
          "2017-07-01",
          "2017-08-01",
          "2017-09-01",
          "2017-10-01",
          "2017-11-01",
          "2017-12-01",
          "2018-01-01",
          "2018-02-01",
          "2018-03-01",
          "2018-04-01",
          "2018-05-01",
          "2018-06-01",
          "2018-07-01",
          "2018-08-01",
          "2018-09-01",
          "2018-10-01",
          "2018-11-01",
          "2018-12-01",
          "2019-01-01",
          "2019-02-01",
          "2019-03-01",
          "2019-04-01",
          "2019-05-01",
          "2019-06-01",
          "2019-07-01",
          "2019-08-01",
          "2019-09-01",
          "2019-10-01",
          "2019-11-01",
          "2019-12-01",
          "2020-01-01",
          "2020-02-01",
          "2020-03-01",
          "2020-04-01",
          "2020-05-01",
          "2020-06-01",
          "2020-07-01",
          "2020-08-01",
          "2020-09-01",
          "2020-10-01",
          "2020-11-01",
          "2020-12-01",
          "2021-01-01",
          "2021-02-01",
          "2021-03-01",
          "2021-04-01",
          "2021-05-01",
          "2021-06-01",
          "2021-07-01",
          "2021-08-01",
          "2021-09-01",
          "2021-10-01",
          "2021-11-01",
          "2021-12-01",
          "2022-01-01",
          "2022-02-01",
          "2022-03-01",
          "2022-04-01",
          "2022-05-01",
          "2022-06-01",
          "2022-07-01",
          "2022-08-01",
          "2022-09-01",
          "2022-10-01",
          "2022-11-01",
          "2022-12-01",
          "2023-01-01",
          "2023-02-01",
          "2023-03-01",
          "2023-04-01",
          "2023-05-01",
          "2023-06-01",
          "2023-07-01",
          "2023-08-01",
          "2023-09-01",
          "2023-10-01",
          "2023-11-01",
          "2023-12-01"
         ],
         "xaxis": "x",
         "y": [
          12.5,
          12.2,
          12.1,
          12.1,
          12.3,
          12.3,
          12.3,
          12.3,
          12.3,
          12.4,
          12.3,
          12.4,
          12.5,
          12.6,
          12.5,
          12.5,
          12.5,
          12.5,
          12.6,
          12.6,
          12.6,
          12.6,
          12.7,
          12.7,
          12.9,
          13,
          13,
          13,
          13.1,
          13.2,
          13.4,
          13.6,
          13.7,
          13.7,
          13.7,
          13.8,
          13.8,
          13.8,
          13.9,
          14.1,
          14.3,
          14.4,
          14.7,
          14.8,
          14.9,
          14.9,
          15,
          15.2,
          15.4,
          15.5,
          15.3,
          15.4,
          15.7,
          15.8,
          15.8,
          15.8,
          15.8,
          15.9,
          15.9,
          16.1,
          16.1,
          16,
          16.4,
          16.5,
          16.5,
          16.4,
          16.3,
          16.3,
          16,
          16.2,
          16.4,
          16.5,
          16.6,
          16.4,
          16,
          16.2,
          16.4,
          16.5,
          16.6,
          16.4,
          16.4,
          16.2,
          16,
          16,
          15.8,
          15.5,
          15.4,
          15.4,
          15.2,
          15,
          15,
          15,
          15,
          15,
          15.3,
          15.4,
          15.4,
          15.3,
          15.3,
          15.6,
          16,
          16.1,
          16.2,
          16.2,
          16.2,
          16.7,
          16.7,
          16.7,
          16.7,
          16.8,
          16.94,
          17.37,
          17.49,
          17.5,
          17.69,
          17.5,
          17.65,
          18.09,
          18.13,
          18.52,
          18.89,
          19.2
         ],
         "yaxis": "y"
        },
        {
         "hovertemplate": "Grupo de Vecindarios=Tetuán<br>Fecha=%{x}<br>Precio Promedio por m² (€)=%{y}<extra></extra>",
         "legendgroup": "Tetuán",
         "line": {
          "color": "#00cc96",
          "dash": "solid",
          "width": 2
         },
         "marker": {
          "size": 4,
          "symbol": "circle"
         },
         "mode": "lines+markers",
         "name": "Tetuán",
         "showlegend": true,
         "type": "scattergl",
         "x": [
          "2013-02-01",
          "2013-03-01",
          "2013-04-01",
          "2013-05-01",
          "2013-06-01",
          "2013-07-01",
          "2013-08-01",
          "2013-09-01",
          "2013-10-01",
          "2013-11-01",
          "2013-12-01",
          "2014-01-01",
          "2014-04-01",
          "2014-05-01",
          "2014-06-01",
          "2014-07-01",
          "2014-08-01",
          "2014-09-01",
          "2014-10-01",
          "2014-11-01",
          "2014-12-01",
          "2015-01-01",
          "2015-02-01",
          "2015-03-01",
          "2015-04-01",
          "2015-05-01",
          "2015-06-01",
          "2015-07-01",
          "2015-08-01",
          "2015-09-01",
          "2015-10-01",
          "2015-11-01",
          "2015-12-01",
          "2016-01-01",
          "2016-02-01",
          "2016-03-01",
          "2016-04-01",
          "2016-05-01",
          "2016-06-01",
          "2016-07-01",
          "2016-08-01",
          "2016-09-01",
          "2016-10-01",
          "2016-11-01",
          "2016-12-01",
          "2017-01-01",
          "2017-02-01",
          "2017-03-01",
          "2017-04-01",
          "2017-05-01",
          "2017-06-01",
          "2017-07-01",
          "2017-08-01",
          "2017-09-01",
          "2017-10-01",
          "2017-11-01",
          "2017-12-01",
          "2018-01-01",
          "2018-02-01",
          "2018-03-01",
          "2018-04-01",
          "2018-05-01",
          "2018-06-01",
          "2018-07-01",
          "2018-08-01",
          "2018-09-01",
          "2018-10-01",
          "2018-11-01",
          "2018-12-01",
          "2019-01-01",
          "2019-02-01",
          "2019-03-01",
          "2019-04-01",
          "2019-05-01",
          "2019-06-01",
          "2019-07-01",
          "2019-08-01",
          "2019-09-01",
          "2019-10-01",
          "2019-11-01",
          "2019-12-01",
          "2020-01-01",
          "2020-02-01",
          "2020-03-01",
          "2020-04-01",
          "2020-05-01",
          "2020-06-01",
          "2020-07-01",
          "2020-08-01",
          "2020-09-01",
          "2020-10-01",
          "2020-11-01",
          "2020-12-01",
          "2021-01-01",
          "2021-02-01",
          "2021-03-01",
          "2021-04-01",
          "2021-05-01",
          "2021-06-01",
          "2021-07-01",
          "2021-08-01",
          "2021-09-01",
          "2021-10-01",
          "2021-11-01",
          "2021-12-01",
          "2022-01-01",
          "2022-02-01",
          "2022-03-01",
          "2022-04-01",
          "2022-05-01",
          "2022-06-01",
          "2022-07-01",
          "2022-08-01",
          "2022-09-01",
          "2022-10-01",
          "2022-11-01",
          "2022-12-01",
          "2023-01-01",
          "2023-02-01",
          "2023-03-01",
          "2023-04-01",
          "2023-05-01",
          "2023-06-01",
          "2023-07-01",
          "2023-08-01",
          "2023-09-01",
          "2023-10-01",
          "2023-11-01",
          "2023-12-01"
         ],
         "xaxis": "x",
         "y": [
          11.7,
          11.6,
          11.5,
          11.5,
          11.5,
          11.5,
          11.3,
          11.3,
          11.3,
          11.3,
          11.2,
          11.2,
          11.2,
          11.2,
          11.2,
          11.2,
          11.3,
          11.4,
          11.3,
          11.4,
          11.4,
          11.3,
          11.4,
          11.5,
          11.5,
          11.6,
          11.7,
          11.7,
          11.7,
          11.7,
          11.8,
          11.9,
          12.2,
          12.2,
          12.4,
          12.4,
          12.5,
          12.6,
          12.8,
          12.7,
          12.6,
          12.7,
          12.9,
          13.3,
          13.5,
          13.6,
          13.7,
          13.8,
          13.7,
          13.8,
          13.8,
          14,
          14.1,
          14.4,
          14.4,
          14.7,
          14.9,
          15,
          15,
          15,
          15.2,
          15,
          15,
          15,
          15,
          15,
          15,
          15.3,
          15.4,
          15.9,
          15.9,
          16,
          16,
          16.1,
          16,
          15.8,
          15.9,
          16.1,
          16.3,
          16.4,
          16.3,
          15.8,
          15.9,
          16.1,
          16.3,
          16.4,
          16.3,
          16.1,
          16,
          15.8,
          15.4,
          15,
          14.9,
          14.5,
          14.4,
          14.4,
          14.3,
          14.3,
          14.3,
          14.4,
          14.6,
          14.8,
          15,
          15.1,
          15.3,
          15.3,
          15.4,
          15.4,
          15.5,
          15.5,
          15.7,
          15.7,
          16,
          16.3,
          16.3,
          16.5,
          16.6,
          16.82,
          16.88,
          16.9,
          17.12,
          17.3,
          17.32,
          17.21,
          17.29,
          17.45,
          17.82,
          18,
          18.46
         ],
         "yaxis": "y"
        },
        {
         "hovertemplate": "Grupo de Vecindarios=Puente de Vallecas<br>Fecha=%{x}<br>Precio Promedio por m² (€)=%{y}<extra></extra>",
         "legendgroup": "Puente de Vallecas",
         "line": {
          "color": "#ab63fa",
          "dash": "solid",
          "width": 2
         },
         "marker": {
          "size": 4,
          "symbol": "circle"
         },
         "mode": "lines+markers",
         "name": "Puente de Vallecas",
         "showlegend": true,
         "type": "scattergl",
         "x": [
          "2013-05-01",
          "2013-12-01",
          "2014-01-01",
          "2014-02-01",
          "2014-04-01",
          "2014-07-01",
          "2014-09-01",
          "2014-10-01",
          "2014-11-01",
          "2014-12-01",
          "2015-01-01",
          "2015-02-01",
          "2015-03-01",
          "2015-04-01",
          "2015-05-01",
          "2015-06-01",
          "2015-07-01",
          "2015-08-01",
          "2015-09-01",
          "2015-10-01",
          "2015-11-01",
          "2015-12-01",
          "2016-01-01",
          "2016-02-01",
          "2016-03-01",
          "2016-04-01",
          "2016-05-01",
          "2016-06-01",
          "2016-07-01",
          "2016-08-01",
          "2016-09-01",
          "2016-10-01",
          "2016-11-01",
          "2016-12-01",
          "2017-01-01",
          "2017-02-01",
          "2017-03-01",
          "2017-04-01",
          "2017-05-01",
          "2017-06-01",
          "2017-07-01",
          "2017-08-01",
          "2017-09-01",
          "2017-10-01",
          "2017-11-01",
          "2017-12-01",
          "2018-01-01",
          "2018-02-01",
          "2018-03-01",
          "2018-04-01",
          "2018-05-01",
          "2018-06-01",
          "2018-07-01",
          "2018-08-01",
          "2018-09-01",
          "2018-10-01",
          "2018-11-01",
          "2018-12-01",
          "2019-01-01",
          "2019-02-01",
          "2019-03-01",
          "2019-04-01",
          "2019-05-01",
          "2019-06-01",
          "2019-07-01",
          "2019-08-01",
          "2019-09-01",
          "2019-10-01",
          "2019-11-01",
          "2019-12-01",
          "2020-01-01",
          "2020-02-01",
          "2020-03-01",
          "2020-04-01",
          "2020-05-01",
          "2020-06-01",
          "2020-07-01",
          "2020-08-01",
          "2020-09-01",
          "2020-10-01",
          "2020-11-01",
          "2020-12-01",
          "2021-01-01",
          "2021-02-01",
          "2021-03-01",
          "2021-04-01",
          "2021-05-01",
          "2021-06-01",
          "2021-07-01",
          "2021-08-01",
          "2021-09-01",
          "2021-10-01",
          "2021-11-01",
          "2021-12-01",
          "2022-01-01",
          "2022-02-01",
          "2022-03-01",
          "2022-04-01",
          "2022-05-01",
          "2022-06-01",
          "2022-07-01",
          "2022-08-01",
          "2022-09-01",
          "2022-10-01",
          "2022-11-01",
          "2022-12-01",
          "2023-01-01",
          "2023-02-01",
          "2023-03-01",
          "2023-04-01",
          "2023-05-01",
          "2023-06-01",
          "2023-07-01",
          "2023-08-01",
          "2023-09-01",
          "2023-10-01",
          "2023-11-01",
          "2023-12-01"
         ],
         "xaxis": "x",
         "y": [
          8.8,
          8.4,
          8.4,
          8.3,
          8.3,
          8.3,
          8.2,
          8.3,
          8.3,
          8.3,
          8.3,
          8.3,
          8.2,
          8.3,
          8.4,
          8.5,
          8.6,
          8.6,
          8.4,
          8.6,
          8.7,
          8.8,
          8.7,
          8.6,
          8.7,
          8.8,
          8.9,
          9.2,
          9.2,
          9.2,
          9.2,
          9.2,
          9.3,
          9.4,
          9.6,
          9.6,
          9.6,
          9.8,
          10,
          10,
          10,
          10,
          10,
          10,
          10.3,
          10.4,
          10.7,
          10.8,
          10.9,
          11.1,
          11,
          11,
          11.2,
          11.2,
          11.1,
          11,
          11.2,
          11.4,
          12.1,
          12.2,
          12.1,
          12.3,
          12.5,
          12.4,
          12.5,
          12.6,
          12.5,
          12.5,
          12.6,
          12.6,
          12.5,
          12.6,
          12.5,
          12.5,
          12.6,
          12.6,
          12.5,
          12.5,
          12.5,
          12.3,
          12.3,
          12.1,
          11.7,
          11.8,
          11.8,
          11.7,
          11.6,
          11.6,
          11.7,
          11.7,
          11.8,
          12.1,
          12,
          12,
          12,
          12,
          12,
          12.5,
          12.5,
          12.4,
          12.4,
          12.5,
          12.7,
          12.8,
          12.7,
          12.9,
          13.12,
          13.12,
          13.38,
          13.33,
          13.4,
          13.6,
          13.74,
          13.78,
          13.86,
          13.88,
          14.14,
          14.25
         ],
         "yaxis": "y"
        },
        {
         "hovertemplate": "Grupo de Vecindarios=Moratalaz<br>Fecha=%{x}<br>Precio Promedio por m² (€)=%{y}<extra></extra>",
         "legendgroup": "Moratalaz",
         "line": {
          "color": "#FFA15A",
          "dash": "solid",
          "width": 2
         },
         "marker": {
          "size": 4,
          "symbol": "circle"
         },
         "mode": "lines+markers",
         "name": "Moratalaz",
         "showlegend": true,
         "type": "scattergl",
         "x": [
          "2013-03-01",
          "2013-04-01",
          "2013-12-01",
          "2014-01-01",
          "2014-04-01",
          "2015-02-01",
          "2015-03-01",
          "2015-04-01",
          "2015-05-01",
          "2015-06-01",
          "2015-07-01",
          "2015-08-01",
          "2015-09-01",
          "2015-10-01",
          "2015-11-01",
          "2015-12-01",
          "2016-02-01",
          "2016-03-01",
          "2016-04-01",
          "2016-05-01",
          "2016-06-01",
          "2016-07-01",
          "2016-08-01",
          "2016-10-01",
          "2016-11-01",
          "2017-01-01",
          "2017-02-01",
          "2017-03-01",
          "2017-04-01",
          "2017-05-01",
          "2017-06-01",
          "2017-07-01",
          "2017-09-01",
          "2017-10-01",
          "2017-11-01",
          "2017-12-01",
          "2018-01-01",
          "2018-02-01",
          "2018-03-01",
          "2018-04-01",
          "2018-05-01",
          "2018-06-01",
          "2018-07-01",
          "2018-08-01",
          "2018-09-01",
          "2018-10-01",
          "2018-11-01",
          "2018-12-01",
          "2019-01-01",
          "2019-02-01",
          "2019-03-01",
          "2019-04-01",
          "2019-05-01",
          "2019-06-01",
          "2019-07-01",
          "2019-08-01",
          "2019-09-01",
          "2019-10-01",
          "2019-11-01",
          "2019-12-01",
          "2020-01-01",
          "2020-02-01",
          "2020-03-01",
          "2020-04-01",
          "2020-05-01",
          "2020-06-01",
          "2020-07-01",
          "2020-08-01",
          "2020-09-01",
          "2020-10-01",
          "2020-11-01",
          "2020-12-01",
          "2021-01-01",
          "2021-02-01",
          "2021-03-01",
          "2021-04-01",
          "2021-05-01",
          "2021-06-01",
          "2021-07-01",
          "2021-08-01",
          "2021-09-01",
          "2021-10-01",
          "2021-11-01",
          "2021-12-01",
          "2022-01-01",
          "2022-02-01",
          "2022-03-01",
          "2022-04-01",
          "2022-05-01",
          "2022-06-01",
          "2022-07-01",
          "2022-08-01",
          "2022-09-01",
          "2022-10-01",
          "2022-11-01",
          "2022-12-01",
          "2023-01-01",
          "2023-02-01",
          "2023-03-01",
          "2023-04-01",
          "2023-05-01",
          "2023-06-01",
          "2023-07-01",
          "2023-08-01",
          "2023-09-01",
          "2023-10-01",
          "2023-11-01",
          "2023-12-01"
         ],
         "xaxis": "x",
         "y": [
          8.6,
          8.6,
          8.1,
          8,
          8.1,
          8.6,
          8.6,
          8.7,
          8.5,
          8.5,
          8.6,
          8.6,
          8.6,
          8.5,
          8.6,
          8.7,
          8.8,
          8.9,
          8.9,
          8.9,
          8.8,
          8.8,
          8.9,
          9.1,
          9.3,
          9.3,
          9.4,
          9.1,
          9.3,
          9.6,
          9.6,
          9.7,
          9.7,
          9.9,
          10,
          10,
          10.1,
          10.2,
          10.3,
          10.4,
          10.8,
          10.9,
          10.6,
          10.5,
          10,
          9.5,
          9.5,
          9.7,
          11.2,
          11.2,
          11.4,
          11.3,
          11.3,
          11.2,
          11.2,
          11.4,
          12.1,
          12.4,
          12,
          11.8,
          11.2,
          11.4,
          12.1,
          12.4,
          12,
          11.8,
          11.8,
          11.8,
          11.5,
          11.1,
          11.2,
          11.1,
          10.8,
          10.8,
          10.9,
          10.9,
          11,
          11.1,
          11,
          10.8,
          10.8,
          10.9,
          11.1,
          11.1,
          11.1,
          11.2,
          11.2,
          11.2,
          11.4,
          11.3,
          11.3,
          11.7,
          12,
          11.9,
          11.9,
          12,
          12.09,
          12.11,
          12.24,
          12.12,
          12.01,
          12.18,
          12.38,
          12.57,
          12.74,
          13.06,
          13.62,
          13.79
         ],
         "yaxis": "y"
        },
        {
         "hovertemplate": "Grupo de Vecindarios=Ciudad Lineal<br>Fecha=%{x}<br>Precio Promedio por m² (€)=%{y}<extra></extra>",
         "legendgroup": "Ciudad Lineal",
         "line": {
          "color": "#19d3f3",
          "dash": "solid",
          "width": 2
         },
         "marker": {
          "size": 4,
          "symbol": "circle"
         },
         "mode": "lines+markers",
         "name": "Ciudad Lineal",
         "showlegend": true,
         "type": "scattergl",
         "x": [
          "2013-10-01",
          "2013-11-01",
          "2014-01-01",
          "2014-02-01",
          "2014-03-01",
          "2014-04-01",
          "2014-05-01",
          "2014-06-01",
          "2014-07-01",
          "2014-08-01",
          "2014-09-01",
          "2014-10-01",
          "2014-11-01",
          "2014-12-01",
          "2015-01-01",
          "2015-02-01",
          "2015-03-01",
          "2015-04-01",
          "2015-05-01",
          "2015-06-01",
          "2015-07-01",
          "2015-08-01",
          "2015-09-01",
          "2015-10-01",
          "2015-11-01",
          "2015-12-01",
          "2016-01-01",
          "2016-02-01",
          "2016-03-01",
          "2016-04-01",
          "2016-05-01",
          "2016-06-01",
          "2016-07-01",
          "2016-08-01",
          "2016-09-01",
          "2016-10-01",
          "2016-11-01",
          "2016-12-01",
          "2017-01-01",
          "2017-02-01",
          "2017-03-01",
          "2017-04-01",
          "2017-05-01",
          "2017-06-01",
          "2017-07-01",
          "2017-08-01",
          "2017-09-01",
          "2017-10-01",
          "2017-11-01",
          "2017-12-01",
          "2018-01-01",
          "2018-02-01",
          "2018-03-01",
          "2018-04-01",
          "2018-05-01",
          "2018-06-01",
          "2018-07-01",
          "2018-08-01",
          "2018-09-01",
          "2018-10-01",
          "2018-11-01",
          "2018-12-01",
          "2019-01-01",
          "2019-02-01",
          "2019-03-01",
          "2019-04-01",
          "2019-05-01",
          "2019-06-01",
          "2019-07-01",
          "2019-08-01",
          "2019-09-01",
          "2019-10-01",
          "2019-11-01",
          "2019-12-01",
          "2020-01-01",
          "2020-02-01",
          "2020-03-01",
          "2020-04-01",
          "2020-05-01",
          "2020-06-01",
          "2020-07-01",
          "2020-08-01",
          "2020-09-01",
          "2020-10-01",
          "2020-11-01",
          "2020-12-01",
          "2021-01-01",
          "2021-02-01",
          "2021-03-01",
          "2021-04-01",
          "2021-05-01",
          "2021-06-01",
          "2021-07-01",
          "2021-08-01",
          "2021-09-01",
          "2021-10-01",
          "2021-11-01",
          "2021-12-01",
          "2022-01-01",
          "2022-02-01",
          "2022-03-01",
          "2022-04-01",
          "2022-05-01",
          "2022-06-01",
          "2022-07-01",
          "2022-08-01",
          "2022-09-01",
          "2022-10-01",
          "2022-11-01",
          "2022-12-01",
          "2023-01-01",
          "2023-02-01",
          "2023-03-01",
          "2023-04-01",
          "2023-05-01",
          "2023-06-01",
          "2023-07-01",
          "2023-08-01",
          "2023-09-01",
          "2023-10-01",
          "2023-11-01",
          "2023-12-01"
         ],
         "xaxis": "x",
         "y": [
          10,
          10,
          10,
          10,
          10,
          10,
          10,
          10,
          10,
          10,
          10,
          10,
          10,
          10,
          10,
          10.1,
          10.2,
          10.4,
          10.4,
          10.4,
          10.4,
          10.4,
          10.3,
          10.3,
          10.4,
          10.4,
          10.4,
          10.6,
          10.8,
          10.9,
          11,
          11,
          10.9,
          10.8,
          10.9,
          11,
          11.1,
          11.3,
          11.5,
          11.7,
          11.7,
          11.8,
          11.8,
          11.7,
          12.1,
          12,
          12.1,
          12.1,
          12.5,
          12.6,
          12.6,
          12.7,
          12.8,
          13.1,
          13.3,
          13.1,
          13.3,
          13.3,
          13.3,
          13.3,
          13.3,
          13.3,
          13.6,
          13.6,
          13.7,
          13.7,
          13.7,
          13.5,
          13.5,
          13.7,
          13.8,
          13.8,
          14,
          13.9,
          13.5,
          13.7,
          13.8,
          13.8,
          14,
          13.9,
          13.7,
          13.6,
          13.6,
          13.4,
          13.2,
          13,
          12.9,
          12.7,
          12.7,
          12.7,
          12.7,
          12.7,
          12.6,
          12.8,
          12.8,
          12.8,
          12.9,
          13,
          13,
          13,
          13.1,
          13.3,
          13.4,
          13.6,
          13.6,
          13.7,
          13.8,
          13.8,
          14.1,
          14.3,
          14.3,
          14.17,
          14.4,
          14.77,
          14.93,
          14.99,
          15.07,
          15.35,
          15.44,
          15.55,
          15.52,
          15.77
         ],
         "yaxis": "y"
        },
        {
         "hovertemplate": "Grupo de Vecindarios=Villa de Vallecas<br>Fecha=%{x}<br>Precio Promedio por m² (€)=%{y}<extra></extra>",
         "legendgroup": "Villa de Vallecas",
         "line": {
          "color": "#FF6692",
          "dash": "solid",
          "width": 2
         },
         "marker": {
          "size": 4,
          "symbol": "circle"
         },
         "mode": "lines+markers",
         "name": "Villa de Vallecas",
         "showlegend": true,
         "type": "scattergl",
         "x": [
          "2014-09-01",
          "2015-04-01",
          "2015-09-01",
          "2015-10-01",
          "2015-12-01",
          "2016-05-01",
          "2016-06-01",
          "2016-10-01",
          "2017-01-01",
          "2017-02-01",
          "2017-03-01",
          "2017-04-01",
          "2017-05-01",
          "2017-06-01",
          "2017-07-01",
          "2017-08-01",
          "2017-09-01",
          "2017-10-01",
          "2017-11-01",
          "2017-12-01",
          "2018-01-01",
          "2018-02-01",
          "2018-03-01",
          "2018-04-01",
          "2018-05-01",
          "2018-06-01",
          "2018-07-01",
          "2018-08-01",
          "2018-09-01",
          "2018-10-01",
          "2018-11-01",
          "2018-12-01",
          "2019-01-01",
          "2019-02-01",
          "2019-03-01",
          "2019-04-01",
          "2019-05-01",
          "2019-06-01",
          "2019-07-01",
          "2019-08-01",
          "2019-09-01",
          "2019-10-01",
          "2019-11-01",
          "2019-12-01",
          "2020-01-01",
          "2020-02-01",
          "2020-03-01",
          "2020-05-01",
          "2020-06-01",
          "2020-07-01",
          "2020-08-01",
          "2020-09-01",
          "2020-10-01",
          "2020-11-01",
          "2020-12-01",
          "2021-01-01",
          "2021-02-01",
          "2021-03-01",
          "2021-04-01",
          "2021-05-01",
          "2021-06-01",
          "2021-07-01",
          "2021-08-01",
          "2021-09-01",
          "2021-10-01",
          "2021-11-01",
          "2021-12-01",
          "2022-01-01",
          "2022-02-01",
          "2022-03-01",
          "2022-04-01",
          "2022-05-01",
          "2022-06-01",
          "2022-07-01",
          "2022-08-01",
          "2022-09-01",
          "2022-10-01",
          "2022-11-01",
          "2022-12-01",
          "2023-01-01",
          "2023-02-01",
          "2023-03-01",
          "2023-04-01",
          "2023-05-01",
          "2023-06-01",
          "2023-07-01",
          "2023-08-01",
          "2023-09-01",
          "2023-10-01",
          "2023-11-01",
          "2023-12-01"
         ],
         "xaxis": "x",
         "y": [
          9,
          8.5,
          9,
          9,
          9.2,
          9.2,
          9,
          9.2,
          9.6,
          9.8,
          9.6,
          9.5,
          9.6,
          9.7,
          10,
          10,
          10.2,
          10,
          10.2,
          10.2,
          10.1,
          10.4,
          10.5,
          10.5,
          10.4,
          10.7,
          10.9,
          11,
          10.9,
          10.8,
          10.8,
          10.9,
          11.4,
          11.3,
          11.4,
          11.4,
          11.4,
          11.3,
          11.1,
          11.2,
          11.5,
          11.6,
          11.3,
          11.4,
          11.1,
          11.2,
          11.5,
          11.3,
          11.4,
          11.7,
          11.8,
          11.5,
          11.7,
          11.5,
          11.4,
          11.2,
          11.1,
          11.2,
          11.2,
          11,
          11.1,
          11.2,
          11.1,
          11.2,
          11.2,
          11.2,
          11.3,
          11.3,
          11.2,
          11.1,
          11.3,
          11.6,
          11.8,
          11.8,
          11.7,
          11.7,
          11.6,
          11.7,
          11.9,
          11.89,
          11.82,
          12.22,
          12.76,
          12.65,
          12.48,
          12.66,
          12.69,
          12.73,
          12.96,
          13.11,
          13.35
         ],
         "yaxis": "y"
        },
        {
         "hovertemplate": "Grupo de Vecindarios=Vicálvaro<br>Fecha=%{x}<br>Precio Promedio por m² (€)=%{y}<extra></extra>",
         "legendgroup": "Vicálvaro",
         "line": {
          "color": "#B6E880",
          "dash": "solid",
          "width": 2
         },
         "marker": {
          "size": 4,
          "symbol": "circle"
         },
         "mode": "lines+markers",
         "name": "Vicálvaro",
         "showlegend": true,
         "type": "scattergl",
         "x": [
          "2015-07-01",
          "2015-08-01",
          "2015-09-01",
          "2015-11-01",
          "2015-12-01",
          "2016-01-01",
          "2016-02-01",
          "2016-03-01",
          "2016-04-01",
          "2017-02-01",
          "2017-03-01",
          "2017-04-01",
          "2017-05-01",
          "2017-06-01",
          "2017-07-01",
          "2017-08-01",
          "2017-09-01",
          "2017-10-01",
          "2017-11-01",
          "2017-12-01",
          "2018-01-01",
          "2018-02-01",
          "2018-03-01",
          "2018-04-01",
          "2018-05-01",
          "2018-06-01",
          "2018-07-01",
          "2018-08-01",
          "2018-09-01",
          "2018-10-01",
          "2018-11-01",
          "2018-12-01",
          "2019-01-01",
          "2019-02-01",
          "2019-03-01",
          "2019-04-01",
          "2019-05-01",
          "2019-06-01",
          "2019-07-01",
          "2019-08-01",
          "2019-09-01",
          "2019-10-01",
          "2019-11-01",
          "2019-12-01",
          "2020-01-01",
          "2020-02-01",
          "2020-03-01",
          "2020-05-01",
          "2020-07-01",
          "2020-08-01",
          "2020-09-01",
          "2020-10-01",
          "2020-11-01",
          "2020-12-01",
          "2021-01-01",
          "2021-02-01",
          "2021-03-01",
          "2021-04-01",
          "2021-05-01",
          "2021-06-01",
          "2021-07-01",
          "2021-08-01",
          "2021-09-01",
          "2021-10-01",
          "2021-11-01",
          "2021-12-01",
          "2022-01-01",
          "2022-02-01",
          "2022-03-01",
          "2022-04-01",
          "2022-05-01",
          "2022-06-01",
          "2022-07-01",
          "2022-08-01",
          "2022-09-01",
          "2022-10-01",
          "2022-11-01",
          "2022-12-01",
          "2023-01-01",
          "2023-02-01",
          "2023-03-01",
          "2023-04-01",
          "2023-05-01",
          "2023-06-01",
          "2023-07-01",
          "2023-08-01",
          "2023-09-01",
          "2023-10-01",
          "2023-11-01",
          "2023-12-01"
         ],
         "xaxis": "x",
         "y": [
          8.3,
          8.4,
          8.4,
          8.6,
          8.6,
          8.6,
          8.9,
          8.8,
          8.5,
          9.5,
          9.5,
          9.3,
          9.3,
          9,
          9.4,
          9.4,
          9.5,
          9.6,
          9.5,
          9.4,
          9.7,
          9.4,
          9.9,
          9.4,
          9.2,
          9.5,
          9.7,
          10,
          10,
          10,
          10.3,
          10,
          10.9,
          11.2,
          11,
          10.8,
          10.8,
          10.9,
          10.9,
          10.9,
          11.1,
          11.1,
          11.1,
          11.1,
          10.9,
          10.9,
          11.1,
          11.1,
          10.6,
          10.6,
          10.6,
          10.2,
          10.2,
          10.2,
          10.4,
          10.2,
          10.3,
          10.3,
          10.2,
          10.2,
          10.3,
          10.4,
          10.4,
          10.4,
          10.3,
          10.5,
          10.5,
          10.5,
          10.5,
          10.6,
          10.8,
          11,
          11,
          11.1,
          11.2,
          11.3,
          11.3,
          11.2,
          11.36,
          11.25,
          11.22,
          11.36,
          11.37,
          11.42,
          11.55,
          11.94,
          12.33,
          12,
          12.21,
          12.59
         ],
         "yaxis": "y"
        }
       ],
       "layout": {
        "legend": {
         "orientation": "v",
         "title": {
          "font": {
           "size": 20
          },
          "text": "Grupo de Vecindarios"
         },
         "tracegroupgap": 0,
         "x": 1.05,
         "y": 1
        },
        "margin": {
         "b": 40,
         "l": 40,
         "r": 40,
         "t": 40
        },
        "template": {
         "data": {
          "bar": [
           {
            "error_x": {
             "color": "#2a3f5f"
            },
            "error_y": {
             "color": "#2a3f5f"
            },
            "marker": {
             "line": {
              "color": "#E5ECF6",
              "width": 0.5
             },
             "pattern": {
              "fillmode": "overlay",
              "size": 10,
              "solidity": 0.2
             }
            },
            "type": "bar"
           }
          ],
          "barpolar": [
           {
            "marker": {
             "line": {
              "color": "#E5ECF6",
              "width": 0.5
             },
             "pattern": {
              "fillmode": "overlay",
              "size": 10,
              "solidity": 0.2
             }
            },
            "type": "barpolar"
           }
          ],
          "carpet": [
           {
            "aaxis": {
             "endlinecolor": "#2a3f5f",
             "gridcolor": "white",
             "linecolor": "white",
             "minorgridcolor": "white",
             "startlinecolor": "#2a3f5f"
            },
            "baxis": {
             "endlinecolor": "#2a3f5f",
             "gridcolor": "white",
             "linecolor": "white",
             "minorgridcolor": "white",
             "startlinecolor": "#2a3f5f"
            },
            "type": "carpet"
           }
          ],
          "choropleth": [
           {
            "colorbar": {
             "outlinewidth": 0,
             "ticks": ""
            },
            "type": "choropleth"
           }
          ],
          "contour": [
           {
            "colorbar": {
             "outlinewidth": 0,
             "ticks": ""
            },
            "colorscale": [
             [
              0,
              "#0d0887"
             ],
             [
              0.1111111111111111,
              "#46039f"
             ],
             [
              0.2222222222222222,
              "#7201a8"
             ],
             [
              0.3333333333333333,
              "#9c179e"
             ],
             [
              0.4444444444444444,
              "#bd3786"
             ],
             [
              0.5555555555555556,
              "#d8576b"
             ],
             [
              0.6666666666666666,
              "#ed7953"
             ],
             [
              0.7777777777777778,
              "#fb9f3a"
             ],
             [
              0.8888888888888888,
              "#fdca26"
             ],
             [
              1,
              "#f0f921"
             ]
            ],
            "type": "contour"
           }
          ],
          "contourcarpet": [
           {
            "colorbar": {
             "outlinewidth": 0,
             "ticks": ""
            },
            "type": "contourcarpet"
           }
          ],
          "heatmap": [
           {
            "colorbar": {
             "outlinewidth": 0,
             "ticks": ""
            },
            "colorscale": [
             [
              0,
              "#0d0887"
             ],
             [
              0.1111111111111111,
              "#46039f"
             ],
             [
              0.2222222222222222,
              "#7201a8"
             ],
             [
              0.3333333333333333,
              "#9c179e"
             ],
             [
              0.4444444444444444,
              "#bd3786"
             ],
             [
              0.5555555555555556,
              "#d8576b"
             ],
             [
              0.6666666666666666,
              "#ed7953"
             ],
             [
              0.7777777777777778,
              "#fb9f3a"
             ],
             [
              0.8888888888888888,
              "#fdca26"
             ],
             [
              1,
              "#f0f921"
             ]
            ],
            "type": "heatmap"
           }
          ],
          "heatmapgl": [
           {
            "colorbar": {
             "outlinewidth": 0,
             "ticks": ""
            },
            "colorscale": [
             [
              0,
              "#0d0887"
             ],
             [
              0.1111111111111111,
              "#46039f"
             ],
             [
              0.2222222222222222,
              "#7201a8"
             ],
             [
              0.3333333333333333,
              "#9c179e"
             ],
             [
              0.4444444444444444,
              "#bd3786"
             ],
             [
              0.5555555555555556,
              "#d8576b"
             ],
             [
              0.6666666666666666,
              "#ed7953"
             ],
             [
              0.7777777777777778,
              "#fb9f3a"
             ],
             [
              0.8888888888888888,
              "#fdca26"
             ],
             [
              1,
              "#f0f921"
             ]
            ],
            "type": "heatmapgl"
           }
          ],
          "histogram": [
           {
            "marker": {
             "pattern": {
              "fillmode": "overlay",
              "size": 10,
              "solidity": 0.2
             }
            },
            "type": "histogram"
           }
          ],
          "histogram2d": [
           {
            "colorbar": {
             "outlinewidth": 0,
             "ticks": ""
            },
            "colorscale": [
             [
              0,
              "#0d0887"
             ],
             [
              0.1111111111111111,
              "#46039f"
             ],
             [
              0.2222222222222222,
              "#7201a8"
             ],
             [
              0.3333333333333333,
              "#9c179e"
             ],
             [
              0.4444444444444444,
              "#bd3786"
             ],
             [
              0.5555555555555556,
              "#d8576b"
             ],
             [
              0.6666666666666666,
              "#ed7953"
             ],
             [
              0.7777777777777778,
              "#fb9f3a"
             ],
             [
              0.8888888888888888,
              "#fdca26"
             ],
             [
              1,
              "#f0f921"
             ]
            ],
            "type": "histogram2d"
           }
          ],
          "histogram2dcontour": [
           {
            "colorbar": {
             "outlinewidth": 0,
             "ticks": ""
            },
            "colorscale": [
             [
              0,
              "#0d0887"
             ],
             [
              0.1111111111111111,
              "#46039f"
             ],
             [
              0.2222222222222222,
              "#7201a8"
             ],
             [
              0.3333333333333333,
              "#9c179e"
             ],
             [
              0.4444444444444444,
              "#bd3786"
             ],
             [
              0.5555555555555556,
              "#d8576b"
             ],
             [
              0.6666666666666666,
              "#ed7953"
             ],
             [
              0.7777777777777778,
              "#fb9f3a"
             ],
             [
              0.8888888888888888,
              "#fdca26"
             ],
             [
              1,
              "#f0f921"
             ]
            ],
            "type": "histogram2dcontour"
           }
          ],
          "mesh3d": [
           {
            "colorbar": {
             "outlinewidth": 0,
             "ticks": ""
            },
            "type": "mesh3d"
           }
          ],
          "parcoords": [
           {
            "line": {
             "colorbar": {
              "outlinewidth": 0,
              "ticks": ""
             }
            },
            "type": "parcoords"
           }
          ],
          "pie": [
           {
            "automargin": true,
            "type": "pie"
           }
          ],
          "scatter": [
           {
            "marker": {
             "colorbar": {
              "outlinewidth": 0,
              "ticks": ""
             }
            },
            "type": "scatter"
           }
          ],
          "scatter3d": [
           {
            "line": {
             "colorbar": {
              "outlinewidth": 0,
              "ticks": ""
             }
            },
            "marker": {
             "colorbar": {
              "outlinewidth": 0,
              "ticks": ""
             }
            },
            "type": "scatter3d"
           }
          ],
          "scattercarpet": [
           {
            "marker": {
             "colorbar": {
              "outlinewidth": 0,
              "ticks": ""
             }
            },
            "type": "scattercarpet"
           }
          ],
          "scattergeo": [
           {
            "marker": {
             "colorbar": {
              "outlinewidth": 0,
              "ticks": ""
             }
            },
            "type": "scattergeo"
           }
          ],
          "scattergl": [
           {
            "marker": {
             "colorbar": {
              "outlinewidth": 0,
              "ticks": ""
             }
            },
            "type": "scattergl"
           }
          ],
          "scattermapbox": [
           {
            "marker": {
             "colorbar": {
              "outlinewidth": 0,
              "ticks": ""
             }
            },
            "type": "scattermapbox"
           }
          ],
          "scatterpolar": [
           {
            "marker": {
             "colorbar": {
              "outlinewidth": 0,
              "ticks": ""
             }
            },
            "type": "scatterpolar"
           }
          ],
          "scatterpolargl": [
           {
            "marker": {
             "colorbar": {
              "outlinewidth": 0,
              "ticks": ""
             }
            },
            "type": "scatterpolargl"
           }
          ],
          "scatterternary": [
           {
            "marker": {
             "colorbar": {
              "outlinewidth": 0,
              "ticks": ""
             }
            },
            "type": "scatterternary"
           }
          ],
          "surface": [
           {
            "colorbar": {
             "outlinewidth": 0,
             "ticks": ""
            },
            "colorscale": [
             [
              0,
              "#0d0887"
             ],
             [
              0.1111111111111111,
              "#46039f"
             ],
             [
              0.2222222222222222,
              "#7201a8"
             ],
             [
              0.3333333333333333,
              "#9c179e"
             ],
             [
              0.4444444444444444,
              "#bd3786"
             ],
             [
              0.5555555555555556,
              "#d8576b"
             ],
             [
              0.6666666666666666,
              "#ed7953"
             ],
             [
              0.7777777777777778,
              "#fb9f3a"
             ],
             [
              0.8888888888888888,
              "#fdca26"
             ],
             [
              1,
              "#f0f921"
             ]
            ],
            "type": "surface"
           }
          ],
          "table": [
           {
            "cells": {
             "fill": {
              "color": "#EBF0F8"
             },
             "line": {
              "color": "white"
             }
            },
            "header": {
             "fill": {
              "color": "#C8D4E3"
             },
             "line": {
              "color": "white"
             }
            },
            "type": "table"
           }
          ]
         },
         "layout": {
          "annotationdefaults": {
           "arrowcolor": "#2a3f5f",
           "arrowhead": 0,
           "arrowwidth": 1
          },
          "autotypenumbers": "strict",
          "coloraxis": {
           "colorbar": {
            "outlinewidth": 0,
            "ticks": ""
           }
          },
          "colorscale": {
           "diverging": [
            [
             0,
             "#8e0152"
            ],
            [
             0.1,
             "#c51b7d"
            ],
            [
             0.2,
             "#de77ae"
            ],
            [
             0.3,
             "#f1b6da"
            ],
            [
             0.4,
             "#fde0ef"
            ],
            [
             0.5,
             "#f7f7f7"
            ],
            [
             0.6,
             "#e6f5d0"
            ],
            [
             0.7,
             "#b8e186"
            ],
            [
             0.8,
             "#7fbc41"
            ],
            [
             0.9,
             "#4d9221"
            ],
            [
             1,
             "#276419"
            ]
           ],
           "sequential": [
            [
             0,
             "#0d0887"
            ],
            [
             0.1111111111111111,
             "#46039f"
            ],
            [
             0.2222222222222222,
             "#7201a8"
            ],
            [
             0.3333333333333333,
             "#9c179e"
            ],
            [
             0.4444444444444444,
             "#bd3786"
            ],
            [
             0.5555555555555556,
             "#d8576b"
            ],
            [
             0.6666666666666666,
             "#ed7953"
            ],
            [
             0.7777777777777778,
             "#fb9f3a"
            ],
            [
             0.8888888888888888,
             "#fdca26"
            ],
            [
             1,
             "#f0f921"
            ]
           ],
           "sequentialminus": [
            [
             0,
             "#0d0887"
            ],
            [
             0.1111111111111111,
             "#46039f"
            ],
            [
             0.2222222222222222,
             "#7201a8"
            ],
            [
             0.3333333333333333,
             "#9c179e"
            ],
            [
             0.4444444444444444,
             "#bd3786"
            ],
            [
             0.5555555555555556,
             "#d8576b"
            ],
            [
             0.6666666666666666,
             "#ed7953"
            ],
            [
             0.7777777777777778,
             "#fb9f3a"
            ],
            [
             0.8888888888888888,
             "#fdca26"
            ],
            [
             1,
             "#f0f921"
            ]
           ]
          },
          "colorway": [
           "#636efa",
           "#EF553B",
           "#00cc96",
           "#ab63fa",
           "#FFA15A",
           "#19d3f3",
           "#FF6692",
           "#B6E880",
           "#FF97FF",
           "#FECB52"
          ],
          "font": {
           "color": "#2a3f5f"
          },
          "geo": {
           "bgcolor": "white",
           "lakecolor": "white",
           "landcolor": "#E5ECF6",
           "showlakes": true,
           "showland": true,
           "subunitcolor": "white"
          },
          "hoverlabel": {
           "align": "left"
          },
          "hovermode": "closest",
          "mapbox": {
           "style": "light"
          },
          "paper_bgcolor": "white",
          "plot_bgcolor": "#E5ECF6",
          "polar": {
           "angularaxis": {
            "gridcolor": "white",
            "linecolor": "white",
            "ticks": ""
           },
           "bgcolor": "#E5ECF6",
           "radialaxis": {
            "gridcolor": "white",
            "linecolor": "white",
            "ticks": ""
           }
          },
          "scene": {
           "xaxis": {
            "backgroundcolor": "#E5ECF6",
            "gridcolor": "white",
            "gridwidth": 2,
            "linecolor": "white",
            "showbackground": true,
            "ticks": "",
            "zerolinecolor": "white"
           },
           "yaxis": {
            "backgroundcolor": "#E5ECF6",
            "gridcolor": "white",
            "gridwidth": 2,
            "linecolor": "white",
            "showbackground": true,
            "ticks": "",
            "zerolinecolor": "white"
           },
           "zaxis": {
            "backgroundcolor": "#E5ECF6",
            "gridcolor": "white",
            "gridwidth": 2,
            "linecolor": "white",
            "showbackground": true,
            "ticks": "",
            "zerolinecolor": "white"
           }
          },
          "shapedefaults": {
           "line": {
            "color": "#2a3f5f"
           }
          },
          "ternary": {
           "aaxis": {
            "gridcolor": "white",
            "linecolor": "white",
            "ticks": ""
           },
           "baxis": {
            "gridcolor": "white",
            "linecolor": "white",
            "ticks": ""
           },
           "bgcolor": "#E5ECF6",
           "caxis": {
            "gridcolor": "white",
            "linecolor": "white",
            "ticks": ""
           }
          },
          "title": {
           "x": 0.05
          },
          "xaxis": {
           "automargin": true,
           "gridcolor": "white",
           "linecolor": "white",
           "ticks": "",
           "title": {
            "standoff": 15
           },
           "zerolinecolor": "white",
           "zerolinewidth": 2
          },
          "yaxis": {
           "automargin": true,
           "gridcolor": "white",
           "linecolor": "white",
           "ticks": "",
           "title": {
            "standoff": 15
           },
           "zerolinecolor": "white",
           "zerolinewidth": 2
          }
         }
        },
        "title": {
         "font": {
          "size": 18
         },
         "text": "Crecimiento Anual del Precio por m² por Neighbourhood Group"
        },
        "xaxis": {
         "anchor": "y",
         "domain": [
          0,
          1
         ],
         "tickfont": {
          "size": 12
         },
         "title": {
          "font": {
           "size": 14
          },
          "text": "Fecha"
         }
        },
        "yaxis": {
         "anchor": "x",
         "domain": [
          0,
          1
         ],
         "tickfont": {
          "size": 12
         },
         "title": {
          "font": {
           "size": 14
          },
          "text": "Precio Promedio por m² (€)"
         }
        }
       }
      }
     },
     "metadata": {},
     "output_type": "display_data"
    }
   ],
   "source": [
    "# Pregunta 1\n",
    "\n",
    "\n",
    "\n",
    "# Crear gráfica interactiva con Plotly\n",
    "fig = px.line(\n",
    "    df, \n",
    "    x='date', \n",
    "    y='m2_price', \n",
    "    color='neighbourhood_group', \n",
    "    markers=True,\n",
    "    title='Crecimiento Anual del Precio por m² por Neighbourhood Group',\n",
    "    labels={\n",
    "        'date': 'Fecha',\n",
    "        'm2_price': 'Precio Promedio por m² (€)',\n",
    "        'neighbourhood_group': 'Grupo de Vecindarios'\n",
    "    }\n",
    ")\n",
    "\n",
    "# Mejorar diseño y disposición visual\n",
    "fig.update_traces(marker=dict(size=4), line=dict(width=2))\n",
    "\n",
    "fig.update_layout(\n",
    "    legend_title=dict(font=dict(size=20)),\n",
    "    legend=dict(orientation='v', x=1.05, y=1),\n",
    "    margin=dict(l=40, r=40, t=40, b=40),\n",
    "    xaxis=dict(title_font=dict(size=14), tickfont=dict(size=12)),\n",
    "    yaxis=dict(title_font=dict(size=14), tickfont=dict(size=12)),\n",
    "    title=dict(font=dict(size=18))\n",
    ")\n",
    "\n",
    "fig.show()\n",
    "\n"
   ]
  },
  {
   "cell_type": "markdown",
   "metadata": {},
   "source": [
    "Aquí vemos que se están dividiendo en 3 grupos: 1) La almendra de Madrid, por así decirlo, con el barrio Salamca, Chamberí y el Centro. Luego la segunda capa de esta cebolla con barrios como Retiro, Tetuán, etc. y por último los barrios más perifericos de Madrid como Tetuan.\n",
    "\n",
    "Esto lo que nos dice, es que claro estos barrios que luego en el siguiente gráfico vemos que cada vez tienen más densisdad de población no pueden crecer más y la úncia forma de hacer el filtro es con una mayor subida de precios."
   ]
  },
  {
   "cell_type": "code",
   "execution_count": 85,
   "metadata": {},
   "outputs": [
    {
     "data": {
      "application/vnd.plotly.v1+json": {
       "config": {
        "plotlyServerURL": "https://plot.ly"
       },
       "data": [
        {
         "hovertemplate": "Fecha=%{x}<br>listings_count=%{y}<extra></extra>",
         "legendgroup": "",
         "line": {
          "color": "#636efa",
          "dash": "solid",
          "width": 2
         },
         "marker": {
          "size": 4,
          "symbol": "circle"
         },
         "mode": "lines+markers",
         "name": "",
         "orientation": "v",
         "showlegend": false,
         "type": "scatter",
         "x": [
          "2010-08-01T00:00:00",
          "2011-01-01T00:00:00",
          "2011-02-01T00:00:00",
          "2011-05-01T00:00:00",
          "2011-06-01T00:00:00",
          "2011-07-01T00:00:00",
          "2011-08-01T00:00:00",
          "2011-09-01T00:00:00",
          "2011-10-01T00:00:00",
          "2011-11-01T00:00:00",
          "2011-12-01T00:00:00",
          "2012-01-01T00:00:00",
          "2012-02-01T00:00:00",
          "2012-03-01T00:00:00",
          "2012-04-01T00:00:00",
          "2012-05-01T00:00:00",
          "2012-06-01T00:00:00",
          "2012-07-01T00:00:00",
          "2012-08-01T00:00:00",
          "2012-09-01T00:00:00",
          "2012-10-01T00:00:00",
          "2012-11-01T00:00:00",
          "2012-12-01T00:00:00",
          "2013-01-01T00:00:00",
          "2013-02-01T00:00:00",
          "2013-03-01T00:00:00",
          "2013-04-01T00:00:00",
          "2013-05-01T00:00:00",
          "2013-06-01T00:00:00",
          "2013-07-01T00:00:00",
          "2013-08-01T00:00:00",
          "2013-09-01T00:00:00",
          "2013-10-01T00:00:00",
          "2013-11-01T00:00:00",
          "2013-12-01T00:00:00",
          "2014-01-01T00:00:00",
          "2014-02-01T00:00:00",
          "2014-03-01T00:00:00",
          "2014-04-01T00:00:00",
          "2014-05-01T00:00:00",
          "2014-06-01T00:00:00",
          "2014-07-01T00:00:00",
          "2014-08-01T00:00:00",
          "2014-09-01T00:00:00",
          "2014-10-01T00:00:00",
          "2014-11-01T00:00:00",
          "2014-12-01T00:00:00",
          "2015-01-01T00:00:00",
          "2015-02-01T00:00:00",
          "2015-03-01T00:00:00",
          "2015-04-01T00:00:00",
          "2015-05-01T00:00:00",
          "2015-06-01T00:00:00",
          "2015-07-01T00:00:00",
          "2015-08-01T00:00:00",
          "2015-09-01T00:00:00",
          "2015-10-01T00:00:00",
          "2015-11-01T00:00:00",
          "2015-12-01T00:00:00",
          "2016-01-01T00:00:00",
          "2016-02-01T00:00:00",
          "2016-03-01T00:00:00",
          "2016-04-01T00:00:00",
          "2016-05-01T00:00:00",
          "2016-06-01T00:00:00",
          "2016-07-01T00:00:00",
          "2016-08-01T00:00:00",
          "2016-09-01T00:00:00",
          "2016-10-01T00:00:00",
          "2016-11-01T00:00:00",
          "2016-12-01T00:00:00",
          "2017-01-01T00:00:00",
          "2017-02-01T00:00:00",
          "2017-03-01T00:00:00",
          "2017-04-01T00:00:00",
          "2017-05-01T00:00:00",
          "2017-06-01T00:00:00",
          "2017-07-01T00:00:00",
          "2017-08-01T00:00:00",
          "2017-09-01T00:00:00",
          "2017-10-01T00:00:00",
          "2017-11-01T00:00:00",
          "2017-12-01T00:00:00",
          "2018-01-01T00:00:00",
          "2018-02-01T00:00:00",
          "2018-03-01T00:00:00",
          "2018-04-01T00:00:00",
          "2018-05-01T00:00:00",
          "2018-06-01T00:00:00",
          "2018-07-01T00:00:00",
          "2018-08-01T00:00:00",
          "2018-09-01T00:00:00",
          "2018-10-01T00:00:00",
          "2018-11-01T00:00:00",
          "2018-12-01T00:00:00",
          "2019-01-01T00:00:00",
          "2019-02-01T00:00:00",
          "2019-03-01T00:00:00",
          "2019-04-01T00:00:00",
          "2019-05-01T00:00:00",
          "2019-06-01T00:00:00",
          "2019-07-01T00:00:00",
          "2019-08-01T00:00:00",
          "2019-09-01T00:00:00",
          "2019-10-01T00:00:00",
          "2019-11-01T00:00:00",
          "2019-12-01T00:00:00",
          "2020-01-01T00:00:00",
          "2020-02-01T00:00:00",
          "2020-03-01T00:00:00",
          "2020-04-01T00:00:00",
          "2020-05-01T00:00:00",
          "2020-06-01T00:00:00",
          "2020-07-01T00:00:00",
          "2020-08-01T00:00:00",
          "2020-09-01T00:00:00",
          "2020-10-01T00:00:00",
          "2020-11-01T00:00:00",
          "2020-12-01T00:00:00",
          "2021-01-01T00:00:00",
          "2021-02-01T00:00:00",
          "2021-03-01T00:00:00",
          "2021-04-01T00:00:00",
          "2021-05-01T00:00:00",
          "2021-06-01T00:00:00",
          "2021-07-01T00:00:00",
          "2021-08-01T00:00:00",
          "2021-09-01T00:00:00",
          "2021-10-01T00:00:00",
          "2021-11-01T00:00:00",
          "2021-12-01T00:00:00",
          "2022-01-01T00:00:00",
          "2022-02-01T00:00:00",
          "2022-03-01T00:00:00",
          "2022-04-01T00:00:00",
          "2022-05-01T00:00:00",
          "2022-06-01T00:00:00",
          "2022-07-01T00:00:00",
          "2022-08-01T00:00:00",
          "2022-09-01T00:00:00",
          "2022-10-01T00:00:00",
          "2022-11-01T00:00:00",
          "2022-12-01T00:00:00",
          "2023-01-01T00:00:00",
          "2023-02-01T00:00:00",
          "2023-03-01T00:00:00",
          "2023-04-01T00:00:00",
          "2023-05-01T00:00:00",
          "2023-06-01T00:00:00",
          "2023-07-01T00:00:00",
          "2023-08-01T00:00:00",
          "2023-09-01T00:00:00",
          "2023-10-01T00:00:00",
          "2023-11-01T00:00:00",
          "2023-12-01T00:00:00"
         ],
         "xaxis": "x",
         "y": [
          1,
          1,
          4,
          5,
          5,
          3,
          3.5,
          4,
          6.333333333333333,
          7,
          4.5,
          7,
          4.333333333333333,
          7,
          5.2,
          6.6,
          6.75,
          6.6,
          6.4,
          5.875,
          8.428571428571429,
          6,
          10,
          8,
          6.714285714285714,
          5.8,
          8.666666666666666,
          8.454545454545455,
          11.333333333333334,
          13.857142857142858,
          8.555555555555555,
          16.142857142857142,
          14.11111111111111,
          12.8,
          11.083333333333334,
          11.142857142857142,
          11.909090909090908,
          12.416666666666666,
          13.857142857142858,
          15.538461538461538,
          20.4,
          15.76923076923077,
          16,
          20.333333333333332,
          26.666666666666668,
          22.166666666666668,
          25,
          21.857142857142858,
          19.133333333333333,
          24.714285714285715,
          27.666666666666668,
          29.6875,
          33.07142857142857,
          33.714285714285715,
          27.733333333333334,
          34.529411764705884,
          37.05882352941177,
          34.529411764705884,
          36.8235294117647,
          41.06666666666667,
          37,
          40.470588235294116,
          43.35294117647059,
          51.529411764705884,
          48.529411764705884,
          53.625,
          45.375,
          63.4,
          62.1764705882353,
          60.8125,
          62.6,
          63.1764705882353,
          57.5,
          58.888888888888886,
          75.66666666666667,
          79.05555555555556,
          85.22222222222223,
          83.77777777777777,
          65.29411764705883,
          91.27777777777777,
          91.27777777777777,
          82,
          91.72222222222223,
          92.72222222222223,
          91.05555555555556,
          95.33333333333333,
          111.77777777777777,
          113.44444444444444,
          110.88888888888889,
          122.83333333333333,
          94.27777777777777,
          123.72222222222223,
          132.16666666666666,
          126.16666666666667,
          130.55555555555554,
          132.61111111111111,
          123,
          141.27777777777777,
          146.38888888888889,
          154.11111111111111,
          170,
          155.16666666666666,
          127.72222222222223,
          170.88888888888889,
          178.33333333333334,
          170.72222222222223,
          179.72222222222223,
          172.5,
          165.16666666666666,
          148.11111111111111,
          9.6875,
          15.647058823529411,
          26.294117647058822,
          57.388888888888886,
          57.35294117647059,
          56.27777777777778,
          48.333333333333336,
          45.111111111111114,
          55.333333333333336,
          60.72222222222222,
          60.666666666666664,
          73.61111111111111,
          80.72222222222223,
          98.61111111111111,
          112.33333333333333,
          140.11111111111111,
          141.27777777777777,
          166,
          184.38888888888889,
          191.61111111111111,
          207.16666666666666,
          197.88888888888889,
          194.77777777777777,
          221.27777777777777,
          243.55555555555554,
          262.77777777777777,
          272.05555555555554,
          292.05555555555554,
          244.44444444444446,
          298,
          318.77777777777777,
          306.3333333333333,
          293.6111111111111,
          314.1666666666667,
          303.8888888888889,
          334.6666666666667,
          373.05555555555554,
          392.6111111111111,
          399.8888888888889,
          407.1111111111111,
          322,
          424.27777777777777,
          465.8333333333333,
          434.1666666666667,
          446.8888888888889
         ],
         "yaxis": "y"
        }
       ],
       "layout": {
        "legend": {
         "orientation": "v",
         "title": {
          "font": {
           "size": 20
          }
         },
         "tracegroupgap": 0,
         "x": 1.05,
         "y": 1
        },
        "margin": {
         "b": 40,
         "l": 40,
         "r": 40,
         "t": 40
        },
        "template": {
         "data": {
          "bar": [
           {
            "error_x": {
             "color": "#2a3f5f"
            },
            "error_y": {
             "color": "#2a3f5f"
            },
            "marker": {
             "line": {
              "color": "#E5ECF6",
              "width": 0.5
             },
             "pattern": {
              "fillmode": "overlay",
              "size": 10,
              "solidity": 0.2
             }
            },
            "type": "bar"
           }
          ],
          "barpolar": [
           {
            "marker": {
             "line": {
              "color": "#E5ECF6",
              "width": 0.5
             },
             "pattern": {
              "fillmode": "overlay",
              "size": 10,
              "solidity": 0.2
             }
            },
            "type": "barpolar"
           }
          ],
          "carpet": [
           {
            "aaxis": {
             "endlinecolor": "#2a3f5f",
             "gridcolor": "white",
             "linecolor": "white",
             "minorgridcolor": "white",
             "startlinecolor": "#2a3f5f"
            },
            "baxis": {
             "endlinecolor": "#2a3f5f",
             "gridcolor": "white",
             "linecolor": "white",
             "minorgridcolor": "white",
             "startlinecolor": "#2a3f5f"
            },
            "type": "carpet"
           }
          ],
          "choropleth": [
           {
            "colorbar": {
             "outlinewidth": 0,
             "ticks": ""
            },
            "type": "choropleth"
           }
          ],
          "contour": [
           {
            "colorbar": {
             "outlinewidth": 0,
             "ticks": ""
            },
            "colorscale": [
             [
              0,
              "#0d0887"
             ],
             [
              0.1111111111111111,
              "#46039f"
             ],
             [
              0.2222222222222222,
              "#7201a8"
             ],
             [
              0.3333333333333333,
              "#9c179e"
             ],
             [
              0.4444444444444444,
              "#bd3786"
             ],
             [
              0.5555555555555556,
              "#d8576b"
             ],
             [
              0.6666666666666666,
              "#ed7953"
             ],
             [
              0.7777777777777778,
              "#fb9f3a"
             ],
             [
              0.8888888888888888,
              "#fdca26"
             ],
             [
              1,
              "#f0f921"
             ]
            ],
            "type": "contour"
           }
          ],
          "contourcarpet": [
           {
            "colorbar": {
             "outlinewidth": 0,
             "ticks": ""
            },
            "type": "contourcarpet"
           }
          ],
          "heatmap": [
           {
            "colorbar": {
             "outlinewidth": 0,
             "ticks": ""
            },
            "colorscale": [
             [
              0,
              "#0d0887"
             ],
             [
              0.1111111111111111,
              "#46039f"
             ],
             [
              0.2222222222222222,
              "#7201a8"
             ],
             [
              0.3333333333333333,
              "#9c179e"
             ],
             [
              0.4444444444444444,
              "#bd3786"
             ],
             [
              0.5555555555555556,
              "#d8576b"
             ],
             [
              0.6666666666666666,
              "#ed7953"
             ],
             [
              0.7777777777777778,
              "#fb9f3a"
             ],
             [
              0.8888888888888888,
              "#fdca26"
             ],
             [
              1,
              "#f0f921"
             ]
            ],
            "type": "heatmap"
           }
          ],
          "heatmapgl": [
           {
            "colorbar": {
             "outlinewidth": 0,
             "ticks": ""
            },
            "colorscale": [
             [
              0,
              "#0d0887"
             ],
             [
              0.1111111111111111,
              "#46039f"
             ],
             [
              0.2222222222222222,
              "#7201a8"
             ],
             [
              0.3333333333333333,
              "#9c179e"
             ],
             [
              0.4444444444444444,
              "#bd3786"
             ],
             [
              0.5555555555555556,
              "#d8576b"
             ],
             [
              0.6666666666666666,
              "#ed7953"
             ],
             [
              0.7777777777777778,
              "#fb9f3a"
             ],
             [
              0.8888888888888888,
              "#fdca26"
             ],
             [
              1,
              "#f0f921"
             ]
            ],
            "type": "heatmapgl"
           }
          ],
          "histogram": [
           {
            "marker": {
             "pattern": {
              "fillmode": "overlay",
              "size": 10,
              "solidity": 0.2
             }
            },
            "type": "histogram"
           }
          ],
          "histogram2d": [
           {
            "colorbar": {
             "outlinewidth": 0,
             "ticks": ""
            },
            "colorscale": [
             [
              0,
              "#0d0887"
             ],
             [
              0.1111111111111111,
              "#46039f"
             ],
             [
              0.2222222222222222,
              "#7201a8"
             ],
             [
              0.3333333333333333,
              "#9c179e"
             ],
             [
              0.4444444444444444,
              "#bd3786"
             ],
             [
              0.5555555555555556,
              "#d8576b"
             ],
             [
              0.6666666666666666,
              "#ed7953"
             ],
             [
              0.7777777777777778,
              "#fb9f3a"
             ],
             [
              0.8888888888888888,
              "#fdca26"
             ],
             [
              1,
              "#f0f921"
             ]
            ],
            "type": "histogram2d"
           }
          ],
          "histogram2dcontour": [
           {
            "colorbar": {
             "outlinewidth": 0,
             "ticks": ""
            },
            "colorscale": [
             [
              0,
              "#0d0887"
             ],
             [
              0.1111111111111111,
              "#46039f"
             ],
             [
              0.2222222222222222,
              "#7201a8"
             ],
             [
              0.3333333333333333,
              "#9c179e"
             ],
             [
              0.4444444444444444,
              "#bd3786"
             ],
             [
              0.5555555555555556,
              "#d8576b"
             ],
             [
              0.6666666666666666,
              "#ed7953"
             ],
             [
              0.7777777777777778,
              "#fb9f3a"
             ],
             [
              0.8888888888888888,
              "#fdca26"
             ],
             [
              1,
              "#f0f921"
             ]
            ],
            "type": "histogram2dcontour"
           }
          ],
          "mesh3d": [
           {
            "colorbar": {
             "outlinewidth": 0,
             "ticks": ""
            },
            "type": "mesh3d"
           }
          ],
          "parcoords": [
           {
            "line": {
             "colorbar": {
              "outlinewidth": 0,
              "ticks": ""
             }
            },
            "type": "parcoords"
           }
          ],
          "pie": [
           {
            "automargin": true,
            "type": "pie"
           }
          ],
          "scatter": [
           {
            "marker": {
             "colorbar": {
              "outlinewidth": 0,
              "ticks": ""
             }
            },
            "type": "scatter"
           }
          ],
          "scatter3d": [
           {
            "line": {
             "colorbar": {
              "outlinewidth": 0,
              "ticks": ""
             }
            },
            "marker": {
             "colorbar": {
              "outlinewidth": 0,
              "ticks": ""
             }
            },
            "type": "scatter3d"
           }
          ],
          "scattercarpet": [
           {
            "marker": {
             "colorbar": {
              "outlinewidth": 0,
              "ticks": ""
             }
            },
            "type": "scattercarpet"
           }
          ],
          "scattergeo": [
           {
            "marker": {
             "colorbar": {
              "outlinewidth": 0,
              "ticks": ""
             }
            },
            "type": "scattergeo"
           }
          ],
          "scattergl": [
           {
            "marker": {
             "colorbar": {
              "outlinewidth": 0,
              "ticks": ""
             }
            },
            "type": "scattergl"
           }
          ],
          "scattermapbox": [
           {
            "marker": {
             "colorbar": {
              "outlinewidth": 0,
              "ticks": ""
             }
            },
            "type": "scattermapbox"
           }
          ],
          "scatterpolar": [
           {
            "marker": {
             "colorbar": {
              "outlinewidth": 0,
              "ticks": ""
             }
            },
            "type": "scatterpolar"
           }
          ],
          "scatterpolargl": [
           {
            "marker": {
             "colorbar": {
              "outlinewidth": 0,
              "ticks": ""
             }
            },
            "type": "scatterpolargl"
           }
          ],
          "scatterternary": [
           {
            "marker": {
             "colorbar": {
              "outlinewidth": 0,
              "ticks": ""
             }
            },
            "type": "scatterternary"
           }
          ],
          "surface": [
           {
            "colorbar": {
             "outlinewidth": 0,
             "ticks": ""
            },
            "colorscale": [
             [
              0,
              "#0d0887"
             ],
             [
              0.1111111111111111,
              "#46039f"
             ],
             [
              0.2222222222222222,
              "#7201a8"
             ],
             [
              0.3333333333333333,
              "#9c179e"
             ],
             [
              0.4444444444444444,
              "#bd3786"
             ],
             [
              0.5555555555555556,
              "#d8576b"
             ],
             [
              0.6666666666666666,
              "#ed7953"
             ],
             [
              0.7777777777777778,
              "#fb9f3a"
             ],
             [
              0.8888888888888888,
              "#fdca26"
             ],
             [
              1,
              "#f0f921"
             ]
            ],
            "type": "surface"
           }
          ],
          "table": [
           {
            "cells": {
             "fill": {
              "color": "#EBF0F8"
             },
             "line": {
              "color": "white"
             }
            },
            "header": {
             "fill": {
              "color": "#C8D4E3"
             },
             "line": {
              "color": "white"
             }
            },
            "type": "table"
           }
          ]
         },
         "layout": {
          "annotationdefaults": {
           "arrowcolor": "#2a3f5f",
           "arrowhead": 0,
           "arrowwidth": 1
          },
          "autotypenumbers": "strict",
          "coloraxis": {
           "colorbar": {
            "outlinewidth": 0,
            "ticks": ""
           }
          },
          "colorscale": {
           "diverging": [
            [
             0,
             "#8e0152"
            ],
            [
             0.1,
             "#c51b7d"
            ],
            [
             0.2,
             "#de77ae"
            ],
            [
             0.3,
             "#f1b6da"
            ],
            [
             0.4,
             "#fde0ef"
            ],
            [
             0.5,
             "#f7f7f7"
            ],
            [
             0.6,
             "#e6f5d0"
            ],
            [
             0.7,
             "#b8e186"
            ],
            [
             0.8,
             "#7fbc41"
            ],
            [
             0.9,
             "#4d9221"
            ],
            [
             1,
             "#276419"
            ]
           ],
           "sequential": [
            [
             0,
             "#0d0887"
            ],
            [
             0.1111111111111111,
             "#46039f"
            ],
            [
             0.2222222222222222,
             "#7201a8"
            ],
            [
             0.3333333333333333,
             "#9c179e"
            ],
            [
             0.4444444444444444,
             "#bd3786"
            ],
            [
             0.5555555555555556,
             "#d8576b"
            ],
            [
             0.6666666666666666,
             "#ed7953"
            ],
            [
             0.7777777777777778,
             "#fb9f3a"
            ],
            [
             0.8888888888888888,
             "#fdca26"
            ],
            [
             1,
             "#f0f921"
            ]
           ],
           "sequentialminus": [
            [
             0,
             "#0d0887"
            ],
            [
             0.1111111111111111,
             "#46039f"
            ],
            [
             0.2222222222222222,
             "#7201a8"
            ],
            [
             0.3333333333333333,
             "#9c179e"
            ],
            [
             0.4444444444444444,
             "#bd3786"
            ],
            [
             0.5555555555555556,
             "#d8576b"
            ],
            [
             0.6666666666666666,
             "#ed7953"
            ],
            [
             0.7777777777777778,
             "#fb9f3a"
            ],
            [
             0.8888888888888888,
             "#fdca26"
            ],
            [
             1,
             "#f0f921"
            ]
           ]
          },
          "colorway": [
           "#636efa",
           "#EF553B",
           "#00cc96",
           "#ab63fa",
           "#FFA15A",
           "#19d3f3",
           "#FF6692",
           "#B6E880",
           "#FF97FF",
           "#FECB52"
          ],
          "font": {
           "color": "#2a3f5f"
          },
          "geo": {
           "bgcolor": "white",
           "lakecolor": "white",
           "landcolor": "#E5ECF6",
           "showlakes": true,
           "showland": true,
           "subunitcolor": "white"
          },
          "hoverlabel": {
           "align": "left"
          },
          "hovermode": "closest",
          "mapbox": {
           "style": "light"
          },
          "paper_bgcolor": "white",
          "plot_bgcolor": "#E5ECF6",
          "polar": {
           "angularaxis": {
            "gridcolor": "white",
            "linecolor": "white",
            "ticks": ""
           },
           "bgcolor": "#E5ECF6",
           "radialaxis": {
            "gridcolor": "white",
            "linecolor": "white",
            "ticks": ""
           }
          },
          "scene": {
           "xaxis": {
            "backgroundcolor": "#E5ECF6",
            "gridcolor": "white",
            "gridwidth": 2,
            "linecolor": "white",
            "showbackground": true,
            "ticks": "",
            "zerolinecolor": "white"
           },
           "yaxis": {
            "backgroundcolor": "#E5ECF6",
            "gridcolor": "white",
            "gridwidth": 2,
            "linecolor": "white",
            "showbackground": true,
            "ticks": "",
            "zerolinecolor": "white"
           },
           "zaxis": {
            "backgroundcolor": "#E5ECF6",
            "gridcolor": "white",
            "gridwidth": 2,
            "linecolor": "white",
            "showbackground": true,
            "ticks": "",
            "zerolinecolor": "white"
           }
          },
          "shapedefaults": {
           "line": {
            "color": "#2a3f5f"
           }
          },
          "ternary": {
           "aaxis": {
            "gridcolor": "white",
            "linecolor": "white",
            "ticks": ""
           },
           "baxis": {
            "gridcolor": "white",
            "linecolor": "white",
            "ticks": ""
           },
           "bgcolor": "#E5ECF6",
           "caxis": {
            "gridcolor": "white",
            "linecolor": "white",
            "ticks": ""
           }
          },
          "title": {
           "x": 0.05
          },
          "xaxis": {
           "automargin": true,
           "gridcolor": "white",
           "linecolor": "white",
           "ticks": "",
           "title": {
            "standoff": 15
           },
           "zerolinecolor": "white",
           "zerolinewidth": 2
          },
          "yaxis": {
           "automargin": true,
           "gridcolor": "white",
           "linecolor": "white",
           "ticks": "",
           "title": {
            "standoff": 15
           },
           "zerolinecolor": "white",
           "zerolinewidth": 2
          }
         }
        },
        "title": {
         "font": {
          "size": 18
         },
         "text": "Crecimiento del Número de listings por Fecha"
        },
        "xaxis": {
         "anchor": "y",
         "domain": [
          0,
          1
         ],
         "tickfont": {
          "size": 12
         },
         "title": {
          "font": {
           "size": 14
          },
          "text": "Fecha"
         }
        },
        "yaxis": {
         "anchor": "x",
         "domain": [
          0,
          1
         ],
         "tickfont": {
          "size": 12
         },
         "title": {
          "font": {
           "size": 14
          },
          "text": "listings_count"
         }
        }
       }
      }
     },
     "metadata": {},
     "output_type": "display_data"
    }
   ],
   "source": [
    "# Pregunta 1\n",
    "\n",
    "df_filtered = df.groupby('date').mean().reset_index()\n",
    "\n",
    "\n",
    "# Crear gráfica interactiva con Plotly\n",
    "fig = px.line(\n",
    "    df_filtered, \n",
    "    x='date', \n",
    "    y='listings_count', \n",
    "    markers=True,\n",
    "    title='Crecimiento del Número de listings por Fecha',\n",
    "    labels={\n",
    "        'date': 'Fecha',\n",
    "        'hosts_count': 'Número de Anfitriones'\n",
    "    }\n",
    ")\n",
    "\n",
    "# Mejorar diseño y disposición visual\n",
    "fig.update_traces(marker=dict(size=4), line=dict(width=2))\n",
    "\n",
    "fig.update_layout(\n",
    "    legend_title=dict(font=dict(size=20)),\n",
    "    legend=dict(orientation='v', x=1.05, y=1),\n",
    "    margin=dict(l=40, r=40, t=40, b=40),\n",
    "    xaxis=dict(title_font=dict(size=14), tickfont=dict(size=12)),\n",
    "    yaxis=dict(title_font=dict(size=14), tickfont=dict(size=12)),\n",
    "    title=dict(font=dict(size=18))\n",
    ")\n",
    "\n",
    "fig.show()\n",
    "\n"
   ]
  },
  {
   "cell_type": "code",
   "execution_count": 45,
   "metadata": {},
   "outputs": [
    {
     "data": {
      "application/vnd.plotly.v1+json": {
       "config": {
        "plotlyServerURL": "https://plot.ly"
       },
       "data": [
        {
         "hovertemplate": "Densidad poblacional (hab/km²)=%{x}<br>Precio por metro cuadrado (€)=%{y}<extra></extra>",
         "legendgroup": "",
         "marker": {
          "color": "blue",
          "opacity": 0.7,
          "size": 8,
          "symbol": "circle"
         },
         "mode": "markers",
         "name": "",
         "showlegend": false,
         "type": "scattergl",
         "x": [
          796,
          800,
          800,
          800,
          800,
          800,
          800,
          800,
          800,
          800,
          800,
          800,
          800,
          800,
          800,
          800,
          800,
          800,
          799,
          799,
          799,
          799,
          799,
          799,
          799,
          799,
          799,
          799,
          799,
          799,
          799,
          799,
          799,
          799,
          799,
          799,
          799,
          799,
          799,
          799,
          799,
          799,
          799,
          799,
          799,
          799,
          799,
          799,
          799,
          799,
          799,
          799,
          799,
          799,
          799,
          799,
          799,
          799,
          799,
          799,
          799,
          799,
          799,
          799,
          799,
          799,
          799,
          799,
          799,
          799,
          799,
          799,
          799,
          799,
          799,
          799,
          799,
          795,
          795,
          795,
          795,
          795,
          795,
          795,
          795,
          795,
          795,
          795,
          795,
          795,
          795,
          795,
          795,
          795,
          795,
          795,
          795,
          795,
          795,
          795,
          795,
          795,
          795,
          795,
          795,
          795,
          795,
          795,
          795,
          795,
          795,
          795,
          795,
          795,
          795,
          795,
          795,
          795,
          795,
          795,
          795,
          795,
          795,
          795,
          795,
          795,
          795,
          795,
          795,
          795,
          795,
          795,
          795,
          795,
          795,
          795,
          795,
          795,
          795,
          795,
          795,
          795,
          795,
          795,
          795,
          795,
          795,
          795,
          795,
          795,
          795,
          795,
          795,
          795,
          795,
          795,
          795,
          795,
          795,
          795,
          795,
          795,
          795,
          795,
          795,
          795,
          795,
          795,
          795,
          795,
          795,
          795,
          795,
          795,
          795,
          795,
          795,
          795,
          795,
          795,
          795,
          795,
          795,
          795,
          795,
          795,
          795,
          795,
          795,
          795,
          795,
          795,
          795,
          795,
          795,
          795,
          795,
          795,
          795,
          795,
          795,
          795,
          795,
          795,
          795,
          795,
          795,
          795,
          795,
          795,
          795,
          795,
          795,
          795,
          795,
          795,
          795,
          795,
          795,
          795,
          795,
          795,
          795,
          795,
          795,
          795,
          795,
          795,
          795,
          795,
          795,
          795,
          795,
          795,
          795,
          795,
          795,
          795,
          795,
          795,
          795,
          795,
          795,
          795,
          795,
          795,
          795,
          795,
          795,
          795,
          795,
          795,
          795,
          795,
          795,
          795,
          795,
          795,
          795,
          795,
          795,
          795,
          795,
          795,
          795,
          795,
          795,
          795,
          795,
          795,
          795,
          795,
          795,
          795,
          795,
          795,
          795,
          795,
          795,
          795,
          795,
          795,
          795,
          795,
          795,
          795,
          795,
          795,
          795,
          795,
          795,
          795,
          795,
          795,
          795,
          795,
          795,
          795,
          795,
          795,
          795,
          795,
          795,
          795,
          795,
          795,
          795,
          795,
          795,
          795,
          795,
          795,
          795,
          795,
          795,
          795,
          795,
          795,
          795,
          795,
          795,
          795,
          795,
          795,
          795,
          795,
          795,
          795,
          795,
          795,
          795,
          795,
          795,
          795,
          800,
          800,
          800,
          800,
          800,
          800,
          800,
          800,
          800,
          800,
          800,
          800,
          800,
          800,
          800,
          800,
          800,
          800,
          800,
          800,
          800,
          800,
          800,
          800,
          800,
          800,
          800,
          800,
          800,
          800,
          800,
          800,
          800,
          800,
          800,
          800,
          800,
          800,
          800,
          800,
          800,
          800,
          800,
          800,
          800,
          800,
          800,
          800,
          800,
          800,
          800,
          800,
          800,
          800,
          800,
          800,
          800,
          800,
          800,
          800,
          800,
          800,
          800,
          800,
          800,
          800,
          800,
          800,
          800,
          800,
          800,
          800,
          800,
          800,
          800,
          800,
          800,
          800,
          800,
          800,
          800,
          800,
          800,
          800,
          800,
          800,
          800,
          800,
          800,
          800,
          800,
          800,
          800,
          800,
          800,
          800,
          800,
          800,
          800,
          800,
          800,
          800,
          800,
          800,
          800,
          800,
          800,
          800,
          800,
          800,
          800,
          800,
          800,
          800,
          800,
          800,
          800,
          800,
          800,
          800,
          800,
          800,
          800,
          800,
          800,
          800,
          800,
          800,
          800,
          800,
          800,
          800,
          800,
          800,
          800,
          800,
          800,
          800,
          800,
          800,
          800,
          800,
          800,
          800,
          800,
          800,
          800,
          800,
          800,
          800,
          800,
          800,
          800,
          800,
          800,
          800,
          800,
          800,
          800,
          800,
          800,
          800,
          800,
          800,
          800,
          800,
          800,
          800,
          800,
          800,
          800,
          800,
          800,
          800,
          800,
          800,
          800,
          800,
          800,
          800,
          800,
          800,
          800,
          800,
          800,
          807,
          807,
          807,
          807,
          807,
          807,
          807,
          807,
          807,
          807,
          807,
          807,
          807,
          807,
          807,
          807,
          807,
          807,
          807,
          807,
          807,
          807,
          807,
          807,
          807,
          807,
          807,
          807,
          807,
          807,
          807,
          807,
          807,
          807,
          807,
          807,
          807,
          807,
          807,
          807,
          807,
          807,
          807,
          807,
          807,
          807,
          807,
          807,
          807,
          807,
          807,
          807,
          807,
          807,
          807,
          807,
          807,
          807,
          807,
          807,
          807,
          807,
          807,
          807,
          807,
          807,
          807,
          807,
          807,
          807,
          807,
          807,
          807,
          807,
          807,
          807,
          807,
          807,
          807,
          807,
          807,
          807,
          807,
          807,
          807,
          807,
          807,
          807,
          807,
          807,
          807,
          807,
          807,
          807,
          807,
          807,
          807,
          807,
          807,
          807,
          807,
          807,
          807,
          807,
          807,
          807,
          807,
          807,
          807,
          807,
          807,
          807,
          807,
          807,
          807,
          807,
          807,
          807,
          807,
          807,
          807,
          807,
          807,
          807,
          807,
          807,
          807,
          807,
          807,
          807,
          807,
          807,
          807,
          807,
          807,
          807,
          807,
          807,
          807,
          807,
          807,
          807,
          807,
          807,
          807,
          807,
          807,
          807,
          807,
          807,
          807,
          807,
          807,
          807,
          807,
          807,
          807,
          807,
          807,
          807,
          807,
          807,
          807,
          807,
          807,
          807,
          807,
          807,
          807,
          807,
          807,
          807,
          807,
          807,
          807,
          807,
          807,
          807,
          807,
          807,
          807,
          807,
          807,
          807,
          807,
          807,
          807,
          807,
          807,
          807,
          807,
          807,
          807,
          807,
          816,
          816,
          816,
          816,
          816,
          816,
          816,
          816,
          816,
          816,
          816,
          816,
          816,
          816,
          816,
          816,
          816,
          816,
          816,
          816,
          816,
          816,
          816,
          816,
          816,
          816,
          816,
          816,
          816,
          816,
          816,
          816,
          816,
          816,
          816,
          816,
          816,
          816,
          816,
          816,
          816,
          816,
          816,
          816,
          816,
          816,
          816,
          816,
          816,
          816,
          816,
          816,
          816,
          816,
          816,
          816,
          816,
          816,
          816,
          816,
          816,
          816,
          816,
          816,
          816,
          816,
          816,
          816,
          816,
          816,
          816,
          816,
          816,
          816,
          816,
          816,
          816,
          816,
          816,
          816,
          816,
          816,
          816,
          816,
          816,
          816,
          816,
          816,
          816,
          816,
          816,
          816,
          816,
          816,
          816,
          816,
          816,
          816,
          816,
          816,
          816,
          816,
          816,
          816,
          816,
          816,
          816,
          816,
          816,
          816,
          816,
          816,
          816,
          816,
          816,
          816,
          816,
          816,
          816,
          816,
          816,
          816,
          816,
          816,
          816,
          816,
          816,
          816,
          816,
          816,
          816,
          816,
          816,
          816,
          816,
          816,
          816,
          816,
          816,
          816,
          816,
          816,
          816,
          816,
          816,
          816,
          816,
          816,
          816,
          816,
          816,
          816,
          816,
          816,
          816,
          816,
          816,
          816,
          816,
          816,
          816,
          816,
          816,
          816,
          816,
          816,
          816,
          816,
          816,
          816,
          816,
          816,
          816,
          816,
          816,
          816,
          816,
          816,
          816,
          816,
          816,
          816,
          816,
          816,
          816,
          816,
          816,
          816,
          816,
          816,
          816,
          816,
          816,
          816,
          816,
          816,
          816,
          816,
          816,
          816,
          816,
          816,
          816,
          816,
          816,
          816,
          816,
          816,
          816,
          816,
          816,
          816,
          816,
          816,
          827,
          827,
          827,
          827,
          827,
          827,
          827,
          827,
          827,
          827,
          827,
          827,
          827,
          827,
          827,
          827,
          827,
          827,
          827,
          827,
          827,
          827,
          827,
          827,
          827,
          827,
          827,
          827,
          827,
          827,
          827,
          827,
          827,
          827,
          827,
          827,
          827,
          827,
          827,
          827,
          827,
          827,
          827,
          827,
          827,
          827,
          827,
          827,
          827,
          827,
          827,
          827,
          827,
          827,
          827,
          827,
          827,
          827,
          827,
          827,
          827,
          827,
          827,
          827,
          827,
          827,
          827,
          827,
          827,
          827,
          827,
          827,
          827,
          827,
          827,
          827,
          827,
          827,
          827,
          827,
          827,
          827,
          827,
          827,
          827,
          827,
          827,
          827,
          827,
          827,
          827,
          827,
          827,
          827,
          827,
          827,
          827,
          827,
          827,
          827,
          827,
          827,
          827,
          827,
          827,
          827,
          827,
          827,
          827,
          827,
          827,
          827,
          827,
          827,
          827,
          827,
          827,
          827,
          827,
          827,
          827,
          827,
          827,
          827,
          827,
          827,
          827,
          827,
          827,
          827,
          827,
          827,
          827,
          827,
          827,
          827,
          827,
          827,
          827,
          827,
          827,
          827,
          827,
          827,
          827,
          827,
          827,
          827,
          827,
          827,
          827,
          827,
          827,
          827,
          827,
          827,
          827,
          827,
          827,
          827,
          827,
          827,
          827,
          827,
          827,
          827,
          827,
          827,
          827,
          827,
          827,
          827,
          827,
          827,
          827,
          827,
          827,
          827,
          827,
          827,
          827,
          827,
          827,
          827,
          827,
          827,
          827,
          827,
          827,
          827,
          827,
          827,
          827,
          827,
          827,
          827,
          827,
          827,
          827,
          827,
          827,
          827,
          827,
          827,
          827,
          827,
          827,
          827,
          827,
          827,
          827,
          827,
          827,
          827,
          827,
          827,
          840,
          840,
          840,
          840,
          840,
          840,
          840,
          840,
          840,
          840,
          840,
          840,
          840,
          840,
          840,
          840,
          840,
          840,
          840,
          840,
          840,
          840,
          840,
          840,
          840,
          840,
          840,
          840,
          840,
          840,
          840,
          840,
          840,
          840,
          840,
          840,
          840,
          840,
          840,
          840,
          840,
          840,
          840,
          840,
          840,
          840,
          840,
          840,
          840,
          840,
          840,
          840,
          840,
          840,
          840,
          840,
          840,
          840,
          840,
          840,
          840,
          840,
          840,
          840,
          840,
          840,
          840,
          840,
          840,
          840,
          840,
          840,
          840,
          840,
          840,
          840,
          840,
          840,
          840,
          840,
          840,
          840,
          840,
          840,
          840,
          840,
          840,
          840,
          840,
          840,
          840,
          840,
          840,
          840,
          840,
          840,
          840,
          840,
          840,
          840,
          840,
          840,
          840,
          840,
          840,
          840,
          840,
          840,
          840,
          840,
          840,
          840,
          840,
          840,
          840,
          840,
          840,
          840,
          840,
          840,
          840,
          840,
          840,
          840,
          840,
          840,
          840,
          840,
          840,
          840,
          840,
          840,
          840,
          840,
          840,
          840,
          840,
          840,
          840,
          840,
          840,
          840,
          840,
          840,
          840,
          840,
          840,
          840,
          840,
          840,
          840,
          840,
          840,
          840,
          840,
          840,
          840,
          840,
          840,
          840,
          840,
          840,
          840,
          840,
          840,
          840,
          840,
          840,
          840,
          840,
          840,
          840,
          840,
          840,
          840,
          840,
          840,
          840,
          840,
          840,
          840,
          840,
          840,
          840,
          840,
          840,
          840,
          840,
          840,
          840,
          840,
          840,
          840,
          840,
          840,
          840,
          840,
          840,
          840,
          840,
          840,
          840,
          840,
          840,
          840,
          840,
          840,
          840,
          840,
          840,
          840,
          840,
          840,
          840,
          840,
          840,
          842,
          842,
          842,
          842,
          842,
          842,
          842,
          842,
          842,
          842,
          842,
          842,
          842,
          842,
          842,
          842,
          842,
          842,
          842,
          842,
          842,
          842,
          842,
          842,
          842,
          842,
          842,
          842,
          842,
          842,
          842,
          842,
          842,
          842,
          842,
          842,
          842,
          842,
          842,
          842,
          842,
          842,
          842,
          842,
          842,
          842,
          842,
          842,
          842,
          842,
          842,
          842,
          842,
          842,
          842,
          842,
          842,
          842,
          842,
          842,
          842,
          842,
          842,
          842,
          842,
          842,
          842,
          842,
          842,
          842,
          842,
          842,
          842,
          842,
          842,
          842,
          842,
          842,
          842,
          842,
          842,
          842,
          842,
          842,
          842,
          842,
          842,
          842,
          842,
          842,
          842,
          842,
          842,
          842,
          842,
          842,
          842,
          842,
          842,
          842,
          842,
          842,
          842,
          842,
          842,
          842,
          842,
          842,
          842,
          842,
          842,
          842,
          842,
          842,
          842,
          842,
          842,
          842,
          842,
          842,
          842,
          842,
          842,
          842,
          842,
          842,
          842,
          842,
          842,
          842,
          842,
          842,
          842,
          842,
          842,
          842,
          842,
          842,
          842,
          842,
          842,
          842,
          842,
          842,
          842,
          842,
          842,
          842,
          842,
          842,
          842,
          842,
          842,
          842,
          842,
          842,
          842,
          842,
          842,
          842,
          842,
          842,
          842,
          842,
          842,
          842,
          842,
          842,
          842,
          842,
          842,
          842,
          842,
          842,
          842,
          842,
          842,
          842,
          842,
          842,
          842,
          842,
          842,
          842,
          842,
          842,
          842,
          842,
          842,
          842,
          842,
          842,
          842,
          842,
          842,
          842,
          842,
          842,
          842,
          842,
          842,
          842,
          842,
          842,
          842,
          842,
          842,
          842,
          842,
          842,
          842,
          838,
          838,
          838,
          838,
          838,
          838,
          838,
          838,
          838,
          838,
          838,
          838,
          838,
          838,
          838,
          838,
          838,
          838,
          838,
          838,
          838,
          838,
          838,
          838,
          838,
          838,
          838,
          838,
          838,
          838,
          838,
          838,
          838,
          838,
          838,
          838,
          838,
          838,
          838,
          838,
          838,
          838,
          838,
          838,
          838,
          838,
          838,
          838,
          838,
          838,
          838,
          838,
          838,
          838,
          838,
          838,
          838,
          838,
          838,
          838,
          838,
          838,
          838,
          838,
          838,
          838,
          838,
          838,
          838,
          838,
          838,
          838,
          838,
          838,
          838,
          838,
          838,
          838,
          838,
          838,
          838,
          838,
          838,
          838,
          838,
          838,
          838,
          838,
          838,
          838,
          838,
          838,
          838,
          838,
          838,
          838,
          838,
          838,
          838,
          838,
          838,
          838,
          838,
          838,
          838,
          838,
          838,
          838,
          838,
          838,
          838,
          838,
          838,
          838,
          838,
          838,
          838,
          838,
          838,
          838,
          838,
          838,
          838,
          838,
          838,
          838,
          838,
          838,
          838,
          838,
          838,
          838,
          838,
          838,
          838,
          838,
          838,
          838,
          838,
          838,
          838,
          838,
          838,
          838,
          838,
          838,
          838,
          838,
          838,
          838,
          838,
          838,
          838,
          838,
          838,
          838,
          838,
          838,
          838,
          838,
          838,
          838,
          838,
          838,
          838,
          838,
          838,
          838,
          838,
          838,
          838,
          838,
          838,
          838,
          838,
          838,
          838,
          838,
          838,
          838,
          838,
          838,
          838,
          838,
          838,
          838,
          838,
          838,
          838,
          838,
          838,
          838,
          838,
          838,
          838,
          838,
          838,
          838,
          838,
          838,
          838,
          838,
          838,
          838,
          838,
          838,
          838,
          838,
          838,
          838,
          838,
          838,
          838,
          838,
          838,
          838,
          853,
          853,
          853,
          853,
          853,
          853,
          853,
          853,
          853,
          853,
          853,
          853,
          853,
          853,
          853,
          853,
          853,
          853,
          853,
          853,
          853,
          853,
          853,
          853,
          853,
          853,
          853,
          853,
          853,
          853,
          853,
          853,
          853,
          853,
          853,
          853,
          853,
          853,
          853,
          853,
          853,
          853,
          853,
          853,
          853,
          853,
          853,
          853,
          853,
          853,
          853,
          853,
          853,
          853,
          853,
          853,
          853,
          853,
          853,
          853,
          853,
          853,
          853,
          853,
          853,
          853,
          853,
          853,
          853,
          853,
          853,
          853,
          853,
          853,
          853,
          853,
          853,
          853,
          853,
          853,
          853,
          853,
          853,
          853,
          853,
          853,
          853,
          853,
          853,
          853,
          853,
          853,
          853,
          853,
          853,
          853,
          853,
          853,
          853,
          853,
          853,
          853,
          853,
          853,
          853,
          853,
          853,
          853,
          853,
          853,
          853,
          853,
          853,
          853,
          853,
          853,
          853,
          853,
          853,
          853,
          853,
          853,
          853,
          853,
          853,
          853,
          853,
          853,
          853,
          853,
          853,
          853,
          853,
          853,
          853,
          853,
          853,
          853,
          853,
          853,
          853,
          853,
          853,
          853,
          853,
          853,
          853,
          853,
          853,
          853,
          853,
          853,
          853,
          853,
          853,
          853,
          853,
          853,
          853,
          853,
          853,
          853,
          853,
          853,
          853,
          853,
          853,
          853,
          853,
          853,
          853,
          853,
          853,
          853,
          853,
          853,
          853,
          853,
          853,
          853,
          853,
          853,
          853,
          853,
          853,
          853,
          853,
          853,
          853,
          853,
          853,
          853,
          853,
          853,
          853,
          853,
          853,
          853,
          853,
          853,
          853,
          853,
          853,
          853,
          853,
          853,
          853,
          853,
          853,
          853,
          853,
          853,
          853,
          853,
          853,
          853,
          872,
          872,
          872,
          872,
          872,
          872,
          872,
          872,
          872,
          872,
          872,
          872,
          872,
          872,
          872,
          872,
          872,
          872,
          872,
          872,
          872,
          872,
          872,
          872,
          872,
          872,
          872,
          872,
          872,
          872,
          872,
          872,
          872,
          872,
          872,
          872,
          872,
          872,
          872,
          872,
          872,
          872,
          872,
          872,
          872,
          872,
          872,
          872,
          872,
          872,
          872,
          872,
          872,
          872,
          872,
          872,
          872,
          872,
          872,
          872,
          872,
          872,
          872,
          872,
          872,
          872,
          872,
          872,
          872,
          872,
          872,
          872,
          872,
          872,
          872,
          872,
          872,
          872,
          872,
          872,
          872,
          872,
          872,
          872,
          872,
          872,
          872,
          872,
          872,
          872,
          872,
          872,
          872,
          872,
          872,
          872,
          872,
          872,
          872,
          872,
          872,
          872,
          872,
          872,
          872,
          872,
          872,
          872,
          872,
          872,
          872,
          872,
          872,
          872,
          872,
          872,
          872,
          872,
          872,
          872,
          872,
          872,
          872,
          872,
          872,
          872,
          872,
          872,
          872,
          872,
          872,
          872,
          872,
          872,
          872,
          872,
          872,
          872,
          872,
          872,
          872,
          872,
          872,
          872,
          872,
          872,
          872,
          872,
          872,
          872,
          872,
          872,
          872,
          872,
          872,
          872,
          872,
          872,
          872,
          872,
          872,
          872,
          872,
          872,
          872,
          872,
          872,
          872,
          872,
          872,
          872,
          872,
          872,
          872,
          872,
          872,
          872,
          872,
          872,
          872,
          872,
          872,
          872,
          872,
          872,
          872,
          872,
          872,
          872,
          872,
          872,
          872,
          872,
          872,
          872,
          872,
          872,
          872,
          872,
          872,
          872,
          872,
          872,
          872,
          872,
          872,
          872,
          872,
          872,
          872,
          872,
          872,
          872,
          872,
          872,
          872
         ],
         "xaxis": "x",
         "y": [
          15.3,
          15.6,
          15.4,
          15,
          15,
          15,
          15,
          14.9,
          14.9,
          15,
          15,
          14.3,
          11.5,
          9,
          8.9,
          8.8,
          8.6,
          8.8,
          15,
          14.7,
          14.6,
          14.4,
          14.3,
          14.2,
          14.1,
          14.1,
          14,
          14,
          13.9,
          13.8,
          11.5,
          11.5,
          11.2,
          12.6,
          12.6,
          12.3,
          12.2,
          12.2,
          12,
          12,
          14.2,
          14.2,
          14,
          14.1,
          14.1,
          14,
          14.1,
          13.9,
          13.7,
          13.6,
          13.4,
          9.3,
          9.2,
          9.1,
          9.3,
          9.2,
          9.2,
          9.2,
          8.6,
          11.3,
          11.4,
          11.2,
          11,
          10.9,
          10.8,
          10.7,
          10.7,
          10.7,
          8.8,
          8.7,
          8.7,
          8.6,
          8.5,
          8.5,
          8.5,
          10.3,
          10.1,
          13.6,
          13.6,
          13.6,
          13.6,
          13.5,
          13.3,
          13.3,
          13.3,
          13.3,
          13.3,
          13.3,
          13.2,
          11.4,
          11.4,
          11.3,
          11.3,
          11.2,
          11.2,
          11.1,
          11,
          11,
          11,
          10.9,
          11.7,
          11.8,
          11.7,
          11.7,
          11.7,
          11.6,
          11.6,
          11.6,
          11.6,
          11.6,
          11.8,
          11.8,
          13.9,
          13.8,
          13.7,
          13.6,
          13.4,
          13.4,
          13.6,
          13.6,
          13.6,
          13.6,
          12.5,
          12.2,
          12.1,
          12.1,
          11.7,
          11.6,
          11.5,
          11.5,
          11.5,
          11.5,
          11.3,
          11.3,
          11.3,
          11.3,
          11.2,
          13.5,
          13.6,
          13.5,
          13.4,
          13.3,
          13.3,
          13.3,
          13.3,
          13.3,
          13.3,
          13.3,
          8.9,
          8.8,
          8.7,
          8.7,
          8.6,
          8.7,
          8.7,
          8.7,
          8.4,
          8.7,
          8.5,
          8.8,
          8.4,
          8.6,
          8.6,
          8.1,
          10,
          10,
          10.6,
          10.6,
          10.9,
          10.7,
          10.5,
          10.4,
          10.3,
          10.2,
          10.2,
          8.2,
          8,
          10.2,
          9.8,
          9.8,
          9.7,
          9.7,
          9.7,
          9.5,
          13.3,
          13.3,
          13.3,
          13.3,
          13.4,
          13.4,
          13.5,
          13.5,
          13.7,
          13.8,
          13.7,
          13.7,
          10.9,
          11,
          11,
          11.1,
          11.1,
          11,
          11,
          11,
          11.1,
          11.1,
          11.1,
          11.3,
          11.7,
          11.7,
          11.7,
          11.7,
          11.7,
          11.7,
          11.7,
          11.8,
          11.9,
          12,
          12.1,
          12,
          13.6,
          13.6,
          13.6,
          13.6,
          13.6,
          13.7,
          13.7,
          13.7,
          13.8,
          13.9,
          14,
          14,
          12.3,
          12.3,
          12.3,
          12.3,
          12.3,
          12.4,
          12.3,
          12.4,
          12.5,
          12.6,
          11.2,
          11.2,
          11.2,
          11.2,
          11.2,
          11.3,
          11.4,
          11.3,
          11.4,
          11.4,
          13.2,
          13.1,
          13.2,
          13.2,
          13.2,
          13.3,
          13.3,
          13.5,
          13.4,
          13.6,
          13.7,
          13.7,
          8.4,
          8.4,
          8.4,
          8.4,
          8.3,
          8.4,
          8.5,
          8.6,
          8.7,
          8.7,
          8.5,
          8.5,
          8.4,
          8.4,
          8.3,
          8.3,
          8.3,
          8.4,
          8.3,
          8.4,
          8.3,
          8.3,
          8.3,
          8.2,
          8.3,
          8.3,
          8.4,
          8.4,
          8.3,
          8.3,
          8.3,
          8.2,
          8.3,
          8.3,
          8.3,
          8,
          8.1,
          10,
          10,
          10,
          10,
          10,
          10,
          10,
          10,
          10,
          10,
          10,
          10,
          10.3,
          10.4,
          10.4,
          10.3,
          10.3,
          10.2,
          10.3,
          10.3,
          10.2,
          10.3,
          10.3,
          10.3,
          7.4,
          9,
          9.5,
          9.7,
          9.8,
          9.8,
          9.7,
          9.3,
          9.5,
          13.8,
          13.8,
          13.8,
          13.9,
          13.9,
          13.9,
          13.9,
          14,
          14.2,
          14.3,
          14.5,
          14.6,
          11.3,
          11.4,
          11.4,
          11.5,
          11.5,
          11.5,
          11.5,
          11.5,
          11.5,
          11.7,
          12,
          12.1,
          11.9,
          11.9,
          12,
          12.1,
          12.1,
          12.2,
          12.1,
          12.1,
          12.2,
          12.5,
          12.7,
          13,
          14,
          14,
          14,
          14,
          14.1,
          14.2,
          14.2,
          14.4,
          14.6,
          14.8,
          14.9,
          14.9,
          12.5,
          12.5,
          12.5,
          12.5,
          12.6,
          12.6,
          12.6,
          12.6,
          12.7,
          12.7,
          12.9,
          13,
          11.3,
          11.4,
          11.5,
          11.5,
          11.6,
          11.7,
          11.7,
          11.7,
          11.7,
          11.8,
          11.9,
          12.2,
          13.7,
          13.7,
          13.9,
          13.8,
          13.8,
          13.7,
          13.7,
          13.7,
          13.7,
          13.8,
          14.1,
          14.1,
          8.5,
          8.5,
          8.5,
          8.4,
          8.4,
          8.5,
          8.6,
          8.7,
          8.7,
          8.7,
          8.7,
          8.7,
          8.5,
          8.5,
          8.5,
          8.5,
          8.6,
          8.6,
          8.7,
          8.7,
          8.8,
          8.8,
          8.8,
          8.8,
          8.3,
          8.2,
          8.3,
          8.5,
          8.7,
          8.9,
          9,
          8.3,
          8.3,
          8.2,
          8.3,
          8.4,
          8.5,
          8.6,
          8.6,
          8.4,
          8.6,
          8.7,
          8.8,
          8.6,
          8.6,
          8.7,
          8.5,
          8.5,
          8.6,
          8.6,
          8.6,
          8.5,
          8.6,
          8.7,
          10,
          10.1,
          10.2,
          10.4,
          10.4,
          10.4,
          10.4,
          10.4,
          10.3,
          10.3,
          10.4,
          10.4,
          10.3,
          10.4,
          10.5,
          10.5,
          10.6,
          10.6,
          10.6,
          10.6,
          10.5,
          10.6,
          10.6,
          7.6,
          7.8,
          7.7,
          7.8,
          7.7,
          8.5,
          9,
          9,
          9.2,
          8.3,
          8.4,
          8.4,
          8.6,
          8.6,
          9.6,
          9.7,
          9.7,
          9.7,
          9.4,
          9.4,
          9.5,
          9.7,
          9.7,
          9.7,
          15,
          15.2,
          15.4,
          15.5,
          15.7,
          15.5,
          15.5,
          15.5,
          15.7,
          16,
          16.3,
          16.7,
          12.2,
          12.2,
          12.2,
          12.2,
          12.2,
          12.1,
          12,
          12.1,
          12.3,
          12.6,
          12.7,
          12.8,
          12.9,
          12.8,
          12.8,
          12.9,
          13,
          13.2,
          13.3,
          13.3,
          13.1,
          13.5,
          13.9,
          13.9,
          15,
          15,
          15,
          15.2,
          15.4,
          15.3,
          15.3,
          15.3,
          15.5,
          15.7,
          15.9,
          16,
          13,
          13,
          13.1,
          13.2,
          13.4,
          13.6,
          13.7,
          13.7,
          13.7,
          13.8,
          13.8,
          13.8,
          12.2,
          12.4,
          12.4,
          12.5,
          12.6,
          12.8,
          12.7,
          12.6,
          12.7,
          12.9,
          13.3,
          13.5,
          14.4,
          14.7,
          15,
          15,
          15,
          15,
          15,
          15,
          15,
          15.1,
          15.4,
          15.6,
          8.7,
          8.8,
          9,
          9,
          9,
          8.9,
          8.9,
          9.1,
          9.3,
          9.4,
          9.3,
          9.4,
          8.9,
          8.9,
          8.9,
          9,
          9.1,
          9.1,
          9.2,
          9.2,
          9.2,
          9.3,
          9.4,
          9.6,
          9.1,
          9.1,
          9,
          9.1,
          9.1,
          9.1,
          8.9,
          8.9,
          9,
          9.1,
          9,
          9.2,
          8.7,
          8.6,
          8.7,
          8.8,
          8.9,
          9.2,
          9.2,
          9.2,
          9.2,
          9.2,
          9.3,
          9.4,
          8.8,
          8.9,
          8.9,
          8.9,
          8.8,
          8.8,
          8.9,
          9.1,
          9.3,
          10.4,
          10.6,
          10.8,
          10.9,
          11,
          11,
          10.9,
          10.8,
          10.9,
          11,
          11.1,
          11.3,
          10.7,
          10.7,
          10.7,
          10.8,
          10.7,
          10.8,
          10.8,
          10.8,
          10.8,
          10.8,
          10.9,
          11,
          8,
          8,
          7.9,
          7.8,
          7.8,
          7.9,
          8.2,
          8.3,
          8.2,
          8.5,
          9.2,
          9,
          9.2,
          8.6,
          8.9,
          8.8,
          8.5,
          9.9,
          9.7,
          9.9,
          9.7,
          9.7,
          10,
          10.1,
          10,
          9.9,
          10.2,
          10.3,
          10.1,
          17.1,
          17.4,
          17.5,
          17.5,
          17.3,
          17.3,
          17.5,
          17.3,
          17.5,
          17.5,
          17.8,
          17.9,
          12.9,
          13.2,
          13.3,
          13.7,
          13.8,
          13.5,
          13.7,
          13.8,
          14,
          14.1,
          14.1,
          13.9,
          13.8,
          14,
          14,
          14.2,
          14.4,
          14.4,
          14.2,
          14.3,
          14.5,
          14.5,
          14.5,
          14.8,
          16.3,
          16.4,
          16.5,
          16.7,
          16.9,
          16.9,
          16.9,
          17,
          17.4,
          17.8,
          17.8,
          17.8,
          13.9,
          14.1,
          14.3,
          14.4,
          14.7,
          14.8,
          14.9,
          14.9,
          15,
          15.2,
          15.4,
          15.5,
          13.6,
          13.7,
          13.8,
          13.7,
          13.8,
          13.8,
          14,
          14.1,
          14.4,
          14.4,
          14.7,
          14.9,
          15.7,
          15.7,
          15.7,
          15.8,
          15.9,
          16,
          16.2,
          16.2,
          16.2,
          16.4,
          16.6,
          16.7,
          9.6,
          9.8,
          9.8,
          9.9,
          9.8,
          9.8,
          10,
          10.3,
          10.4,
          10.4,
          10.3,
          10.3,
          9.7,
          9.7,
          9.8,
          9.9,
          9.8,
          9.8,
          10,
          10,
          10,
          10,
          10.3,
          10.6,
          9.2,
          9.4,
          9.8,
          9.7,
          9.8,
          9.7,
          9.8,
          9.7,
          9.6,
          9.9,
          10,
          10.2,
          9.6,
          9.6,
          9.6,
          9.8,
          10,
          10,
          10,
          10,
          10,
          10,
          10.3,
          10.4,
          9.3,
          9.4,
          9.1,
          9.3,
          9.6,
          9.6,
          9.7,
          9.7,
          9.9,
          10,
          10,
          11.5,
          11.7,
          11.7,
          11.8,
          11.8,
          11.7,
          12.1,
          12,
          12.1,
          12.1,
          12.5,
          12.6,
          11.1,
          11.2,
          11.1,
          11.2,
          11.2,
          11.4,
          11.6,
          11.7,
          11.9,
          11.8,
          11.8,
          12.2,
          8.5,
          8.5,
          8.5,
          8.5,
          8.5,
          8.5,
          8.4,
          8.5,
          8.8,
          8.9,
          9,
          9.2,
          9.6,
          9.8,
          9.6,
          9.5,
          9.6,
          9.7,
          10,
          10,
          10.2,
          10,
          10.2,
          10.2,
          9.5,
          9.5,
          9.3,
          9.3,
          9,
          9.4,
          9.4,
          9.5,
          9.6,
          9.5,
          9.4,
          10.3,
          10.6,
          10.9,
          11.2,
          11,
          10.9,
          11.1,
          11.2,
          11,
          11,
          11.2,
          11.3,
          18.1,
          18.3,
          18.6,
          18.7,
          18.5,
          18.3,
          18.3,
          18.4,
          18.4,
          18.6,
          18.5,
          18.3,
          14.1,
          14.4,
          14.5,
          14.5,
          14.5,
          14.7,
          14.5,
          14.7,
          14.9,
          15,
          15,
          15.2,
          15,
          15.4,
          15.4,
          15.3,
          15.6,
          15.7,
          15.7,
          15.8,
          15.9,
          15.9,
          16.1,
          16,
          18,
          18,
          18.1,
          18.2,
          18.3,
          18.5,
          18.6,
          18.7,
          18.9,
          18.8,
          18.5,
          18.3,
          15.3,
          15.4,
          15.7,
          15.8,
          15.8,
          15.8,
          15.8,
          15.9,
          15.9,
          16.1,
          16.1,
          16,
          15,
          15,
          15,
          15.2,
          15,
          15,
          15,
          15,
          15,
          15,
          15.3,
          15.4,
          17.4,
          17.6,
          17.4,
          17.3,
          17.5,
          17.7,
          17.7,
          17.5,
          17.5,
          17.7,
          17.9,
          18,
          10.5,
          10.5,
          10.6,
          10.7,
          10.8,
          10.9,
          11.1,
          11.3,
          11.3,
          11.2,
          11.2,
          11.4,
          10.8,
          10.9,
          11,
          11.1,
          11,
          11.1,
          11.1,
          10.9,
          11.2,
          11.3,
          11.5,
          11.6,
          10.3,
          10.5,
          10.6,
          10.7,
          10.7,
          10.7,
          10.8,
          10.7,
          10.7,
          11,
          11.3,
          11.2,
          10.7,
          10.8,
          10.9,
          11.1,
          11,
          11,
          11.2,
          11.2,
          11.1,
          11,
          11.2,
          11.4,
          10.1,
          10.2,
          10.3,
          10.4,
          10.8,
          10.9,
          10.6,
          10.5,
          10,
          9.5,
          9.5,
          9.7,
          12.6,
          12.7,
          12.8,
          13.1,
          13.3,
          13.1,
          13.3,
          13.3,
          13.3,
          13.3,
          13.3,
          13.3,
          12.6,
          12.8,
          12.9,
          12.9,
          13.1,
          13,
          13,
          13,
          13.4,
          13.4,
          13.1,
          13.1,
          9.2,
          9.4,
          9.4,
          9.4,
          9.6,
          9.8,
          10,
          10,
          10,
          9.9,
          10,
          10.3,
          10.1,
          10.4,
          10.5,
          10.5,
          10.4,
          10.7,
          10.9,
          11,
          10.9,
          10.8,
          10.8,
          10.9,
          9.7,
          9.4,
          9.9,
          9.4,
          9.2,
          9.5,
          9.7,
          10,
          10,
          10,
          10.3,
          10,
          11.2,
          11.3,
          11.5,
          11.6,
          12,
          12.2,
          11.8,
          11.6,
          11.3,
          11.2,
          11.4,
          11.7,
          16,
          16.2,
          16.4,
          16.4,
          16.1,
          16.1,
          16.1,
          16.3,
          16.3,
          16.4,
          16.8,
          16.6,
          15.5,
          15.5,
          15.7,
          16,
          15.9,
          15.8,
          15.7,
          16,
          16,
          16.1,
          16.4,
          16,
          16.1,
          16.3,
          16.6,
          16.4,
          16.5,
          16.4,
          16.4,
          16,
          16,
          16.3,
          16.8,
          16.9,
          18.8,
          19.2,
          19.4,
          19.2,
          19,
          18.9,
          18.7,
          18.7,
          18.7,
          18.9,
          19.3,
          18.9,
          16.4,
          16.5,
          16.5,
          16.4,
          16.3,
          16.3,
          16,
          16.2,
          16.4,
          16.5,
          16.6,
          16.4,
          15.9,
          15.9,
          16,
          16,
          16.1,
          16,
          15.8,
          15.9,
          16.1,
          16.3,
          16.4,
          16.3,
          18,
          18,
          18.2,
          18.3,
          18.2,
          18.1,
          18,
          18.1,
          18.3,
          18.3,
          18.5,
          18.1,
          11.9,
          12.2,
          12.4,
          12.3,
          12.3,
          12.4,
          12.5,
          12.7,
          12.5,
          12.7,
          13,
          12.9,
          11.9,
          11.9,
          12,
          11.9,
          11.9,
          12,
          12,
          12.3,
          12.5,
          12.5,
          12.6,
          12.7,
          11.8,
          11.9,
          11.9,
          12,
          12,
          11.9,
          11.9,
          12.1,
          12.3,
          12.4,
          12.5,
          12.5,
          12.1,
          12.2,
          12.1,
          12.3,
          12.5,
          12.4,
          12.5,
          12.6,
          12.5,
          12.5,
          12.6,
          12.6,
          11.2,
          11.2,
          11.4,
          11.3,
          11.3,
          11.2,
          11.2,
          11.4,
          12.1,
          12.4,
          12,
          11.8,
          13.6,
          13.6,
          13.7,
          13.7,
          13.7,
          13.5,
          13.5,
          13.7,
          13.8,
          13.8,
          14,
          13.9,
          12.4,
          12.4,
          12.4,
          12.5,
          12.4,
          12.3,
          12.2,
          12.5,
          12.8,
          13,
          13,
          12.7,
          12,
          11.6,
          11.6,
          11.1,
          11,
          10.7,
          10.7,
          10.8,
          10.9,
          11.1,
          11.6,
          11.5,
          11.4,
          11.3,
          11.4,
          11.4,
          11.4,
          11.3,
          11.1,
          11.2,
          11.5,
          11.6,
          11.3,
          11.4,
          10.9,
          11.2,
          11,
          10.8,
          10.8,
          10.9,
          10.9,
          10.9,
          11.1,
          11.1,
          11.1,
          11.1,
          11.9,
          11.9,
          12.1,
          12,
          11.8,
          11.7,
          11.9,
          12,
          11.8,
          11.7,
          11.5,
          11.7,
          16.1,
          16.3,
          16.3,
          16.4,
          16.8,
          16.6,
          16.3,
          16.1,
          17.8,
          17.5,
          17.1,
          16.7,
          15.7,
          16,
          16,
          16.1,
          16.4,
          16,
          15.7,
          15.5,
          15.4,
          15.1,
          14.8,
          14.4,
          16.4,
          16,
          16,
          16.3,
          16.8,
          16.9,
          16.3,
          15.6,
          15.6,
          15.5,
          15.3,
          15,
          18.7,
          18.7,
          18.7,
          18.9,
          19.3,
          18.9,
          18.3,
          18.2,
          18.1,
          17.8,
          17.3,
          17,
          16,
          16.2,
          16.4,
          16.5,
          16.6,
          16.4,
          16.4,
          16.2,
          16,
          16,
          15.8,
          15.5,
          15.8,
          15.9,
          16.1,
          16.3,
          16.4,
          16.3,
          16.1,
          16,
          15.8,
          15.4,
          15,
          14.9,
          18,
          18.1,
          18.3,
          18.3,
          18.5,
          18.1,
          17.8,
          17.6,
          17.3,
          17.1,
          16.8,
          16.5,
          12.5,
          12.7,
          12.5,
          12.7,
          13,
          12.9,
          12.5,
          12.3,
          12.4,
          12.4,
          12.2,
          12,
          12,
          12.3,
          12.5,
          12.5,
          12.6,
          12.7,
          12.5,
          12.2,
          12.1,
          12,
          11.7,
          11.6,
          11.9,
          12.1,
          12.3,
          12.4,
          12.5,
          12.5,
          12.1,
          11.9,
          11.9,
          11.7,
          11.5,
          11.4,
          12.5,
          12.6,
          12.5,
          12.5,
          12.6,
          12.6,
          12.5,
          12.5,
          12.5,
          12.3,
          12.3,
          12.1,
          11.2,
          11.4,
          12.1,
          12.4,
          12,
          11.8,
          11.8,
          11.8,
          11.5,
          11.1,
          11.2,
          11.1,
          13.5,
          13.7,
          13.8,
          13.8,
          14,
          13.9,
          13.7,
          13.6,
          13.6,
          13.4,
          13.2,
          13,
          12.2,
          12.5,
          12.8,
          13,
          13,
          12.7,
          12.8,
          12.8,
          13.6,
          13.4,
          12.3,
          12.5,
          10.7,
          10.8,
          10.9,
          11.1,
          11.5,
          11.1,
          10.8,
          10.8,
          10.8,
          10.6,
          11.1,
          11.2,
          11.5,
          11.3,
          11.4,
          11.7,
          11.8,
          11.5,
          11.7,
          11.5,
          11.4,
          10.9,
          10.9,
          11.1,
          11.1,
          10.6,
          10.6,
          10.6,
          10.2,
          10.2,
          10.2,
          11.9,
          12,
          11.8,
          11.7,
          11.5,
          11.7,
          11.9,
          11.7,
          11.5,
          11.6,
          11.4,
          11.3,
          16.4,
          16.5,
          16.4,
          16.2,
          16.2,
          16.2,
          16.3,
          16.5,
          16.8,
          17.1,
          17.5,
          17.6,
          14.2,
          14.2,
          14.3,
          14.4,
          14.3,
          14.2,
          14.2,
          14.3,
          14.5,
          14.6,
          14.6,
          14.6,
          14.9,
          14.9,
          14.9,
          14.9,
          14.9,
          14.8,
          14.6,
          14.6,
          15,
          15.1,
          15,
          15,
          16.8,
          16.7,
          16.7,
          16.7,
          16.7,
          16.7,
          16.7,
          17,
          17.4,
          17.6,
          17.5,
          17.5,
          15.4,
          15.4,
          15.2,
          15,
          15,
          15,
          15,
          15,
          15.3,
          15.4,
          15.4,
          15.3,
          14.5,
          14.4,
          14.4,
          14.3,
          14.3,
          14.3,
          14.4,
          14.6,
          14.8,
          15,
          15.1,
          15.3,
          16.2,
          16,
          16.2,
          16.1,
          16.2,
          16.3,
          16.4,
          16.7,
          16.9,
          17.1,
          17.1,
          17.2,
          11.8,
          11.7,
          11.4,
          11.5,
          11.7,
          11.5,
          11.5,
          11.7,
          11.9,
          11.8,
          11.8,
          12,
          11.4,
          11.4,
          11.4,
          11.5,
          11.4,
          11.4,
          11.4,
          11.5,
          11.6,
          11.7,
          11.7,
          11.7,
          11.2,
          11.1,
          11,
          11.2,
          10.9,
          10.9,
          11.2,
          11.5,
          11.5,
          11.5,
          11.3,
          11.3,
          11.7,
          11.8,
          11.8,
          11.7,
          11.6,
          11.6,
          11.7,
          11.7,
          11.8,
          12.1,
          12,
          12,
          10.8,
          10.8,
          10.9,
          10.9,
          11,
          11.1,
          11,
          10.8,
          10.8,
          10.9,
          11.1,
          11.1,
          12.9,
          12.7,
          12.7,
          12.7,
          12.7,
          12.7,
          12.6,
          12.8,
          12.8,
          12.8,
          12.9,
          13,
          12.3,
          12.3,
          12.5,
          12.5,
          12.5,
          12.6,
          12.5,
          12.4,
          12.5,
          12.5,
          12.6,
          12.6,
          10.5,
          10.3,
          10.3,
          10.5,
          10.5,
          10.4,
          10.5,
          10.6,
          10.6,
          10.9,
          10.9,
          10.9,
          11.2,
          11.1,
          11.2,
          11.2,
          11,
          11.1,
          11.2,
          11.1,
          11.2,
          11.2,
          11.2,
          11.3,
          10.4,
          10.2,
          10.3,
          10.3,
          10.2,
          10.2,
          10.3,
          10.4,
          10.4,
          10.4,
          10.3,
          10.5,
          11.4,
          11.3,
          11.3,
          11.5,
          11.4,
          11.4,
          11.3,
          11.5,
          11.5,
          11.4,
          11.6,
          11.6,
          17.9,
          18.3,
          18.5,
          18.4,
          18.5,
          18.5,
          18.5,
          18.9,
          19.2,
          19.4,
          20,
          20.3,
          14.7,
          15,
          15.1,
          15.3,
          15.2,
          15.3,
          15.3,
          15.7,
          15.7,
          15.8,
          16.1,
          16.1,
          15.2,
          15.3,
          15.8,
          15.9,
          16,
          16,
          16,
          16.3,
          16.4,
          16.9,
          17.3,
          17.2,
          17.6,
          18.2,
          18.3,
          18.5,
          18.5,
          18.9,
          18.9,
          19.4,
          20,
          20,
          19.8,
          20,
          15.3,
          15.6,
          16,
          16.1,
          16.2,
          16.2,
          16.2,
          16.7,
          16.7,
          16.7,
          16.7,
          16.8,
          15.3,
          15.4,
          15.4,
          15.5,
          15.5,
          15.7,
          15.7,
          16,
          16.3,
          16.3,
          16.5,
          16.6,
          17.2,
          17.1,
          17.3,
          17.6,
          17.8,
          18,
          18,
          18,
          18.3,
          18.7,
          19,
          19.7,
          12,
          12,
          12,
          12,
          12.3,
          12.5,
          12.5,
          12.7,
          12.9,
          12.9,
          13.1,
          13,
          11.7,
          11.7,
          11.8,
          11.9,
          12,
          12.1,
          12.1,
          12.3,
          12.5,
          12.5,
          12.7,
          12.7,
          11.3,
          11.3,
          11.4,
          11.8,
          12.5,
          12.8,
          12.8,
          13.1,
          12.9,
          12.9,
          12.8,
          12.9,
          12,
          12,
          12,
          12.5,
          12.5,
          12.4,
          12.4,
          12.5,
          12.7,
          12.8,
          12.7,
          12.9,
          11.1,
          11.2,
          11.2,
          11.2,
          11.4,
          11.3,
          11.3,
          11.7,
          12,
          11.9,
          11.9,
          12,
          13,
          13,
          13.1,
          13.3,
          13.4,
          13.6,
          13.6,
          13.7,
          13.8,
          13.8,
          14.1,
          14.3,
          12.6,
          12.7,
          12.8,
          12.8,
          12.8,
          12.8,
          12.8,
          13,
          13.2,
          13.2,
          13.3,
          13.3,
          10.9,
          10.8,
          10.8,
          11,
          11.1,
          11.2,
          11.2,
          11.4,
          11.7,
          11.8,
          11.9,
          12,
          11.3,
          11.2,
          11.1,
          11.3,
          11.6,
          11.8,
          11.8,
          11.7,
          11.7,
          11.6,
          11.7,
          11.9,
          10.5,
          10.5,
          10.5,
          10.6,
          10.8,
          11,
          11,
          11.1,
          11.2,
          11.3,
          11.3,
          11.2,
          11.6,
          11.7,
          12.2,
          12.4,
          12.4,
          12.2,
          12.2,
          12.2,
          12.1,
          12.2,
          12.4,
          12.5,
          20.16,
          20.46,
          19.99,
          20,
          20.24,
          20.1,
          19.99,
          20.3,
          20.59,
          21.17,
          21.82,
          22.09,
          16.2,
          16.13,
          16.3,
          16.25,
          16.36,
          16.44,
          16.67,
          16.91,
          17.19,
          17.27,
          17.32,
          17.71,
          17.16,
          17.05,
          17.16,
          17.41,
          17.58,
          17.68,
          17.68,
          17.76,
          17.98,
          18.45,
          18.56,
          19.17,
          19.83,
          19.98,
          19.97,
          20.26,
          20.68,
          20.99,
          21.24,
          21.42,
          21.81,
          22.35,
          22.18,
          22.5,
          16.94,
          17.37,
          17.49,
          17.5,
          17.69,
          17.5,
          17.65,
          18.09,
          18.13,
          18.52,
          18.89,
          19.2,
          16.82,
          16.88,
          16.9,
          17.12,
          17.3,
          17.32,
          17.21,
          17.29,
          17.45,
          17.82,
          18,
          18.46,
          19.64,
          19.51,
          19.59,
          19.61,
          20,
          20,
          19.99,
          20.26,
          20.62,
          21.25,
          21.62,
          21.88,
          12.89,
          12.78,
          12.9,
          13.21,
          13.33,
          13.33,
          13.38,
          13.5,
          13.84,
          14.27,
          14.39,
          14.6,
          12.6,
          12.57,
          12.93,
          13.32,
          13.28,
          13.35,
          13.46,
          13.57,
          13.74,
          13.92,
          13.92,
          14.13,
          13.08,
          13.51,
          13.45,
          13.32,
          13.49,
          13.33,
          13.32,
          13.27,
          13.75,
          13.83,
          14.09,
          14.29,
          13.12,
          13.12,
          13.38,
          13.33,
          13.4,
          13.6,
          13.74,
          13.78,
          13.86,
          13.88,
          14.14,
          14.25,
          12.09,
          12.11,
          12.24,
          12.12,
          12.01,
          12.18,
          12.38,
          12.57,
          12.74,
          13.06,
          13.62,
          13.79,
          14.3,
          14.17,
          14.4,
          14.77,
          14.93,
          14.99,
          15.07,
          15.35,
          15.44,
          15.55,
          15.52,
          15.77,
          13.48,
          13.58,
          13.7,
          13.82,
          13.86,
          13.98,
          14.22,
          14.43,
          14.5,
          14.63,
          14.74,
          14.79,
          11.75,
          11.88,
          11.87,
          12,
          12.31,
          12.34,
          12.36,
          12.5,
          12.69,
          12.79,
          12.83,
          12.93,
          11.89,
          11.82,
          12.22,
          12.76,
          12.65,
          12.48,
          12.66,
          12.69,
          12.73,
          12.96,
          13.11,
          13.35,
          11.36,
          11.25,
          11.22,
          11.36,
          11.37,
          11.42,
          11.55,
          11.94,
          12.33,
          12,
          12.21,
          12.59,
          12.48,
          12.54,
          12.67,
          12.65,
          12.96,
          13.22,
          13.13,
          13.32,
          13.56,
          13.7,
          14,
          14
         ],
         "yaxis": "y"
        },
        {
         "hovertemplate": "<b>OLS trendline</b><br>m2_price = 0.0572797 * population_density + -34.5398<br>R<sup>2</sup>=0.222187<br><br>Densidad poblacional (hab/km²)=%{x}<br>Precio por metro cuadrado (€)=%{y} <b>(trend)</b><extra></extra>",
         "legendgroup": "",
         "line": {
          "color": "red"
         },
         "marker": {
          "color": "blue",
          "size": 8,
          "symbol": "circle"
         },
         "mode": "lines",
         "name": "",
         "showlegend": false,
         "type": "scattergl",
         "x": [
          795,
          795,
          795,
          795,
          795,
          795,
          795,
          795,
          795,
          795,
          795,
          795,
          795,
          795,
          795,
          795,
          795,
          795,
          795,
          795,
          795,
          795,
          795,
          795,
          795,
          795,
          795,
          795,
          795,
          795,
          795,
          795,
          795,
          795,
          795,
          795,
          795,
          795,
          795,
          795,
          795,
          795,
          795,
          795,
          795,
          795,
          795,
          795,
          795,
          795,
          795,
          795,
          795,
          795,
          795,
          795,
          795,
          795,
          795,
          795,
          795,
          795,
          795,
          795,
          795,
          795,
          795,
          795,
          795,
          795,
          795,
          795,
          795,
          795,
          795,
          795,
          795,
          795,
          795,
          795,
          795,
          795,
          795,
          795,
          795,
          795,
          795,
          795,
          795,
          795,
          795,
          795,
          795,
          795,
          795,
          795,
          795,
          795,
          795,
          795,
          795,
          795,
          795,
          795,
          795,
          795,
          795,
          795,
          795,
          795,
          795,
          795,
          795,
          795,
          795,
          795,
          795,
          795,
          795,
          795,
          795,
          795,
          795,
          795,
          795,
          795,
          795,
          795,
          795,
          795,
          795,
          795,
          795,
          795,
          795,
          795,
          795,
          795,
          795,
          795,
          795,
          795,
          795,
          795,
          795,
          795,
          795,
          795,
          795,
          795,
          795,
          795,
          795,
          795,
          795,
          795,
          795,
          795,
          795,
          795,
          795,
          795,
          795,
          795,
          795,
          795,
          795,
          795,
          795,
          795,
          795,
          795,
          795,
          795,
          795,
          795,
          795,
          795,
          795,
          795,
          795,
          795,
          795,
          795,
          795,
          795,
          795,
          795,
          795,
          795,
          795,
          795,
          795,
          795,
          795,
          795,
          795,
          795,
          795,
          795,
          795,
          795,
          795,
          795,
          795,
          795,
          795,
          795,
          795,
          795,
          795,
          795,
          795,
          795,
          795,
          795,
          795,
          795,
          795,
          795,
          795,
          795,
          795,
          795,
          795,
          795,
          795,
          795,
          795,
          795,
          795,
          795,
          795,
          795,
          795,
          795,
          795,
          795,
          795,
          795,
          795,
          795,
          795,
          795,
          795,
          795,
          795,
          795,
          795,
          795,
          795,
          795,
          795,
          795,
          795,
          795,
          795,
          796,
          799,
          799,
          799,
          799,
          799,
          799,
          799,
          799,
          799,
          799,
          799,
          799,
          799,
          799,
          799,
          799,
          799,
          799,
          799,
          799,
          799,
          799,
          799,
          799,
          799,
          799,
          799,
          799,
          799,
          799,
          799,
          799,
          799,
          799,
          799,
          799,
          799,
          799,
          799,
          799,
          799,
          799,
          799,
          799,
          799,
          799,
          799,
          799,
          799,
          799,
          799,
          799,
          799,
          799,
          799,
          799,
          799,
          799,
          799,
          800,
          800,
          800,
          800,
          800,
          800,
          800,
          800,
          800,
          800,
          800,
          800,
          800,
          800,
          800,
          800,
          800,
          800,
          800,
          800,
          800,
          800,
          800,
          800,
          800,
          800,
          800,
          800,
          800,
          800,
          800,
          800,
          800,
          800,
          800,
          800,
          800,
          800,
          800,
          800,
          800,
          800,
          800,
          800,
          800,
          800,
          800,
          800,
          800,
          800,
          800,
          800,
          800,
          800,
          800,
          800,
          800,
          800,
          800,
          800,
          800,
          800,
          800,
          800,
          800,
          800,
          800,
          800,
          800,
          800,
          800,
          800,
          800,
          800,
          800,
          800,
          800,
          800,
          800,
          800,
          800,
          800,
          800,
          800,
          800,
          800,
          800,
          800,
          800,
          800,
          800,
          800,
          800,
          800,
          800,
          800,
          800,
          800,
          800,
          800,
          800,
          800,
          800,
          800,
          800,
          800,
          800,
          800,
          800,
          800,
          800,
          800,
          800,
          800,
          800,
          800,
          800,
          800,
          800,
          800,
          800,
          800,
          800,
          800,
          800,
          800,
          800,
          800,
          800,
          800,
          800,
          800,
          800,
          800,
          800,
          800,
          800,
          800,
          800,
          800,
          800,
          800,
          800,
          800,
          800,
          800,
          800,
          800,
          800,
          800,
          800,
          800,
          800,
          800,
          800,
          800,
          800,
          800,
          800,
          800,
          800,
          800,
          800,
          800,
          800,
          800,
          800,
          800,
          800,
          800,
          800,
          800,
          800,
          800,
          800,
          800,
          800,
          800,
          800,
          800,
          800,
          800,
          800,
          800,
          800,
          800,
          800,
          800,
          800,
          800,
          800,
          800,
          800,
          800,
          800,
          800,
          800,
          800,
          800,
          800,
          800,
          800,
          807,
          807,
          807,
          807,
          807,
          807,
          807,
          807,
          807,
          807,
          807,
          807,
          807,
          807,
          807,
          807,
          807,
          807,
          807,
          807,
          807,
          807,
          807,
          807,
          807,
          807,
          807,
          807,
          807,
          807,
          807,
          807,
          807,
          807,
          807,
          807,
          807,
          807,
          807,
          807,
          807,
          807,
          807,
          807,
          807,
          807,
          807,
          807,
          807,
          807,
          807,
          807,
          807,
          807,
          807,
          807,
          807,
          807,
          807,
          807,
          807,
          807,
          807,
          807,
          807,
          807,
          807,
          807,
          807,
          807,
          807,
          807,
          807,
          807,
          807,
          807,
          807,
          807,
          807,
          807,
          807,
          807,
          807,
          807,
          807,
          807,
          807,
          807,
          807,
          807,
          807,
          807,
          807,
          807,
          807,
          807,
          807,
          807,
          807,
          807,
          807,
          807,
          807,
          807,
          807,
          807,
          807,
          807,
          807,
          807,
          807,
          807,
          807,
          807,
          807,
          807,
          807,
          807,
          807,
          807,
          807,
          807,
          807,
          807,
          807,
          807,
          807,
          807,
          807,
          807,
          807,
          807,
          807,
          807,
          807,
          807,
          807,
          807,
          807,
          807,
          807,
          807,
          807,
          807,
          807,
          807,
          807,
          807,
          807,
          807,
          807,
          807,
          807,
          807,
          807,
          807,
          807,
          807,
          807,
          807,
          807,
          807,
          807,
          807,
          807,
          807,
          807,
          807,
          807,
          807,
          807,
          807,
          807,
          807,
          807,
          807,
          807,
          807,
          807,
          807,
          807,
          807,
          807,
          807,
          807,
          807,
          807,
          807,
          807,
          807,
          807,
          807,
          807,
          807,
          816,
          816,
          816,
          816,
          816,
          816,
          816,
          816,
          816,
          816,
          816,
          816,
          816,
          816,
          816,
          816,
          816,
          816,
          816,
          816,
          816,
          816,
          816,
          816,
          816,
          816,
          816,
          816,
          816,
          816,
          816,
          816,
          816,
          816,
          816,
          816,
          816,
          816,
          816,
          816,
          816,
          816,
          816,
          816,
          816,
          816,
          816,
          816,
          816,
          816,
          816,
          816,
          816,
          816,
          816,
          816,
          816,
          816,
          816,
          816,
          816,
          816,
          816,
          816,
          816,
          816,
          816,
          816,
          816,
          816,
          816,
          816,
          816,
          816,
          816,
          816,
          816,
          816,
          816,
          816,
          816,
          816,
          816,
          816,
          816,
          816,
          816,
          816,
          816,
          816,
          816,
          816,
          816,
          816,
          816,
          816,
          816,
          816,
          816,
          816,
          816,
          816,
          816,
          816,
          816,
          816,
          816,
          816,
          816,
          816,
          816,
          816,
          816,
          816,
          816,
          816,
          816,
          816,
          816,
          816,
          816,
          816,
          816,
          816,
          816,
          816,
          816,
          816,
          816,
          816,
          816,
          816,
          816,
          816,
          816,
          816,
          816,
          816,
          816,
          816,
          816,
          816,
          816,
          816,
          816,
          816,
          816,
          816,
          816,
          816,
          816,
          816,
          816,
          816,
          816,
          816,
          816,
          816,
          816,
          816,
          816,
          816,
          816,
          816,
          816,
          816,
          816,
          816,
          816,
          816,
          816,
          816,
          816,
          816,
          816,
          816,
          816,
          816,
          816,
          816,
          816,
          816,
          816,
          816,
          816,
          816,
          816,
          816,
          816,
          816,
          816,
          816,
          816,
          816,
          816,
          816,
          816,
          816,
          816,
          816,
          816,
          816,
          816,
          816,
          816,
          816,
          816,
          816,
          816,
          816,
          816,
          816,
          816,
          816,
          827,
          827,
          827,
          827,
          827,
          827,
          827,
          827,
          827,
          827,
          827,
          827,
          827,
          827,
          827,
          827,
          827,
          827,
          827,
          827,
          827,
          827,
          827,
          827,
          827,
          827,
          827,
          827,
          827,
          827,
          827,
          827,
          827,
          827,
          827,
          827,
          827,
          827,
          827,
          827,
          827,
          827,
          827,
          827,
          827,
          827,
          827,
          827,
          827,
          827,
          827,
          827,
          827,
          827,
          827,
          827,
          827,
          827,
          827,
          827,
          827,
          827,
          827,
          827,
          827,
          827,
          827,
          827,
          827,
          827,
          827,
          827,
          827,
          827,
          827,
          827,
          827,
          827,
          827,
          827,
          827,
          827,
          827,
          827,
          827,
          827,
          827,
          827,
          827,
          827,
          827,
          827,
          827,
          827,
          827,
          827,
          827,
          827,
          827,
          827,
          827,
          827,
          827,
          827,
          827,
          827,
          827,
          827,
          827,
          827,
          827,
          827,
          827,
          827,
          827,
          827,
          827,
          827,
          827,
          827,
          827,
          827,
          827,
          827,
          827,
          827,
          827,
          827,
          827,
          827,
          827,
          827,
          827,
          827,
          827,
          827,
          827,
          827,
          827,
          827,
          827,
          827,
          827,
          827,
          827,
          827,
          827,
          827,
          827,
          827,
          827,
          827,
          827,
          827,
          827,
          827,
          827,
          827,
          827,
          827,
          827,
          827,
          827,
          827,
          827,
          827,
          827,
          827,
          827,
          827,
          827,
          827,
          827,
          827,
          827,
          827,
          827,
          827,
          827,
          827,
          827,
          827,
          827,
          827,
          827,
          827,
          827,
          827,
          827,
          827,
          827,
          827,
          827,
          827,
          827,
          827,
          827,
          827,
          827,
          827,
          827,
          827,
          827,
          827,
          827,
          827,
          827,
          827,
          827,
          827,
          827,
          827,
          827,
          827,
          827,
          827,
          838,
          838,
          838,
          838,
          838,
          838,
          838,
          838,
          838,
          838,
          838,
          838,
          838,
          838,
          838,
          838,
          838,
          838,
          838,
          838,
          838,
          838,
          838,
          838,
          838,
          838,
          838,
          838,
          838,
          838,
          838,
          838,
          838,
          838,
          838,
          838,
          838,
          838,
          838,
          838,
          838,
          838,
          838,
          838,
          838,
          838,
          838,
          838,
          838,
          838,
          838,
          838,
          838,
          838,
          838,
          838,
          838,
          838,
          838,
          838,
          838,
          838,
          838,
          838,
          838,
          838,
          838,
          838,
          838,
          838,
          838,
          838,
          838,
          838,
          838,
          838,
          838,
          838,
          838,
          838,
          838,
          838,
          838,
          838,
          838,
          838,
          838,
          838,
          838,
          838,
          838,
          838,
          838,
          838,
          838,
          838,
          838,
          838,
          838,
          838,
          838,
          838,
          838,
          838,
          838,
          838,
          838,
          838,
          838,
          838,
          838,
          838,
          838,
          838,
          838,
          838,
          838,
          838,
          838,
          838,
          838,
          838,
          838,
          838,
          838,
          838,
          838,
          838,
          838,
          838,
          838,
          838,
          838,
          838,
          838,
          838,
          838,
          838,
          838,
          838,
          838,
          838,
          838,
          838,
          838,
          838,
          838,
          838,
          838,
          838,
          838,
          838,
          838,
          838,
          838,
          838,
          838,
          838,
          838,
          838,
          838,
          838,
          838,
          838,
          838,
          838,
          838,
          838,
          838,
          838,
          838,
          838,
          838,
          838,
          838,
          838,
          838,
          838,
          838,
          838,
          838,
          838,
          838,
          838,
          838,
          838,
          838,
          838,
          838,
          838,
          838,
          838,
          838,
          838,
          838,
          838,
          838,
          838,
          838,
          838,
          838,
          838,
          838,
          838,
          838,
          838,
          838,
          838,
          838,
          838,
          838,
          838,
          838,
          838,
          838,
          838,
          840,
          840,
          840,
          840,
          840,
          840,
          840,
          840,
          840,
          840,
          840,
          840,
          840,
          840,
          840,
          840,
          840,
          840,
          840,
          840,
          840,
          840,
          840,
          840,
          840,
          840,
          840,
          840,
          840,
          840,
          840,
          840,
          840,
          840,
          840,
          840,
          840,
          840,
          840,
          840,
          840,
          840,
          840,
          840,
          840,
          840,
          840,
          840,
          840,
          840,
          840,
          840,
          840,
          840,
          840,
          840,
          840,
          840,
          840,
          840,
          840,
          840,
          840,
          840,
          840,
          840,
          840,
          840,
          840,
          840,
          840,
          840,
          840,
          840,
          840,
          840,
          840,
          840,
          840,
          840,
          840,
          840,
          840,
          840,
          840,
          840,
          840,
          840,
          840,
          840,
          840,
          840,
          840,
          840,
          840,
          840,
          840,
          840,
          840,
          840,
          840,
          840,
          840,
          840,
          840,
          840,
          840,
          840,
          840,
          840,
          840,
          840,
          840,
          840,
          840,
          840,
          840,
          840,
          840,
          840,
          840,
          840,
          840,
          840,
          840,
          840,
          840,
          840,
          840,
          840,
          840,
          840,
          840,
          840,
          840,
          840,
          840,
          840,
          840,
          840,
          840,
          840,
          840,
          840,
          840,
          840,
          840,
          840,
          840,
          840,
          840,
          840,
          840,
          840,
          840,
          840,
          840,
          840,
          840,
          840,
          840,
          840,
          840,
          840,
          840,
          840,
          840,
          840,
          840,
          840,
          840,
          840,
          840,
          840,
          840,
          840,
          840,
          840,
          840,
          840,
          840,
          840,
          840,
          840,
          840,
          840,
          840,
          840,
          840,
          840,
          840,
          840,
          840,
          840,
          840,
          840,
          840,
          840,
          840,
          840,
          840,
          840,
          840,
          840,
          840,
          840,
          840,
          840,
          840,
          840,
          840,
          840,
          840,
          840,
          840,
          840,
          842,
          842,
          842,
          842,
          842,
          842,
          842,
          842,
          842,
          842,
          842,
          842,
          842,
          842,
          842,
          842,
          842,
          842,
          842,
          842,
          842,
          842,
          842,
          842,
          842,
          842,
          842,
          842,
          842,
          842,
          842,
          842,
          842,
          842,
          842,
          842,
          842,
          842,
          842,
          842,
          842,
          842,
          842,
          842,
          842,
          842,
          842,
          842,
          842,
          842,
          842,
          842,
          842,
          842,
          842,
          842,
          842,
          842,
          842,
          842,
          842,
          842,
          842,
          842,
          842,
          842,
          842,
          842,
          842,
          842,
          842,
          842,
          842,
          842,
          842,
          842,
          842,
          842,
          842,
          842,
          842,
          842,
          842,
          842,
          842,
          842,
          842,
          842,
          842,
          842,
          842,
          842,
          842,
          842,
          842,
          842,
          842,
          842,
          842,
          842,
          842,
          842,
          842,
          842,
          842,
          842,
          842,
          842,
          842,
          842,
          842,
          842,
          842,
          842,
          842,
          842,
          842,
          842,
          842,
          842,
          842,
          842,
          842,
          842,
          842,
          842,
          842,
          842,
          842,
          842,
          842,
          842,
          842,
          842,
          842,
          842,
          842,
          842,
          842,
          842,
          842,
          842,
          842,
          842,
          842,
          842,
          842,
          842,
          842,
          842,
          842,
          842,
          842,
          842,
          842,
          842,
          842,
          842,
          842,
          842,
          842,
          842,
          842,
          842,
          842,
          842,
          842,
          842,
          842,
          842,
          842,
          842,
          842,
          842,
          842,
          842,
          842,
          842,
          842,
          842,
          842,
          842,
          842,
          842,
          842,
          842,
          842,
          842,
          842,
          842,
          842,
          842,
          842,
          842,
          842,
          842,
          842,
          842,
          842,
          842,
          842,
          842,
          842,
          842,
          842,
          842,
          842,
          842,
          842,
          842,
          842,
          853,
          853,
          853,
          853,
          853,
          853,
          853,
          853,
          853,
          853,
          853,
          853,
          853,
          853,
          853,
          853,
          853,
          853,
          853,
          853,
          853,
          853,
          853,
          853,
          853,
          853,
          853,
          853,
          853,
          853,
          853,
          853,
          853,
          853,
          853,
          853,
          853,
          853,
          853,
          853,
          853,
          853,
          853,
          853,
          853,
          853,
          853,
          853,
          853,
          853,
          853,
          853,
          853,
          853,
          853,
          853,
          853,
          853,
          853,
          853,
          853,
          853,
          853,
          853,
          853,
          853,
          853,
          853,
          853,
          853,
          853,
          853,
          853,
          853,
          853,
          853,
          853,
          853,
          853,
          853,
          853,
          853,
          853,
          853,
          853,
          853,
          853,
          853,
          853,
          853,
          853,
          853,
          853,
          853,
          853,
          853,
          853,
          853,
          853,
          853,
          853,
          853,
          853,
          853,
          853,
          853,
          853,
          853,
          853,
          853,
          853,
          853,
          853,
          853,
          853,
          853,
          853,
          853,
          853,
          853,
          853,
          853,
          853,
          853,
          853,
          853,
          853,
          853,
          853,
          853,
          853,
          853,
          853,
          853,
          853,
          853,
          853,
          853,
          853,
          853,
          853,
          853,
          853,
          853,
          853,
          853,
          853,
          853,
          853,
          853,
          853,
          853,
          853,
          853,
          853,
          853,
          853,
          853,
          853,
          853,
          853,
          853,
          853,
          853,
          853,
          853,
          853,
          853,
          853,
          853,
          853,
          853,
          853,
          853,
          853,
          853,
          853,
          853,
          853,
          853,
          853,
          853,
          853,
          853,
          853,
          853,
          853,
          853,
          853,
          853,
          853,
          853,
          853,
          853,
          853,
          853,
          853,
          853,
          853,
          853,
          853,
          853,
          853,
          853,
          853,
          853,
          853,
          853,
          853,
          853,
          853,
          853,
          853,
          853,
          853,
          853,
          872,
          872,
          872,
          872,
          872,
          872,
          872,
          872,
          872,
          872,
          872,
          872,
          872,
          872,
          872,
          872,
          872,
          872,
          872,
          872,
          872,
          872,
          872,
          872,
          872,
          872,
          872,
          872,
          872,
          872,
          872,
          872,
          872,
          872,
          872,
          872,
          872,
          872,
          872,
          872,
          872,
          872,
          872,
          872,
          872,
          872,
          872,
          872,
          872,
          872,
          872,
          872,
          872,
          872,
          872,
          872,
          872,
          872,
          872,
          872,
          872,
          872,
          872,
          872,
          872,
          872,
          872,
          872,
          872,
          872,
          872,
          872,
          872,
          872,
          872,
          872,
          872,
          872,
          872,
          872,
          872,
          872,
          872,
          872,
          872,
          872,
          872,
          872,
          872,
          872,
          872,
          872,
          872,
          872,
          872,
          872,
          872,
          872,
          872,
          872,
          872,
          872,
          872,
          872,
          872,
          872,
          872,
          872,
          872,
          872,
          872,
          872,
          872,
          872,
          872,
          872,
          872,
          872,
          872,
          872,
          872,
          872,
          872,
          872,
          872,
          872,
          872,
          872,
          872,
          872,
          872,
          872,
          872,
          872,
          872,
          872,
          872,
          872,
          872,
          872,
          872,
          872,
          872,
          872,
          872,
          872,
          872,
          872,
          872,
          872,
          872,
          872,
          872,
          872,
          872,
          872,
          872,
          872,
          872,
          872,
          872,
          872,
          872,
          872,
          872,
          872,
          872,
          872,
          872,
          872,
          872,
          872,
          872,
          872,
          872,
          872,
          872,
          872,
          872,
          872,
          872,
          872,
          872,
          872,
          872,
          872,
          872,
          872,
          872,
          872,
          872,
          872,
          872,
          872,
          872,
          872,
          872,
          872,
          872,
          872,
          872,
          872,
          872,
          872,
          872,
          872,
          872,
          872,
          872,
          872,
          872,
          872,
          872,
          872,
          872,
          872
         ],
         "xaxis": "x",
         "y": [
          10.997549258521268,
          10.997549258521268,
          10.997549258521268,
          10.997549258521268,
          10.997549258521268,
          10.997549258521268,
          10.997549258521268,
          10.997549258521268,
          10.997549258521268,
          10.997549258521268,
          10.997549258521268,
          10.997549258521268,
          10.997549258521268,
          10.997549258521268,
          10.997549258521268,
          10.997549258521268,
          10.997549258521268,
          10.997549258521268,
          10.997549258521268,
          10.997549258521268,
          10.997549258521268,
          10.997549258521268,
          10.997549258521268,
          10.997549258521268,
          10.997549258521268,
          10.997549258521268,
          10.997549258521268,
          10.997549258521268,
          10.997549258521268,
          10.997549258521268,
          10.997549258521268,
          10.997549258521268,
          10.997549258521268,
          10.997549258521268,
          10.997549258521268,
          10.997549258521268,
          10.997549258521268,
          10.997549258521268,
          10.997549258521268,
          10.997549258521268,
          10.997549258521268,
          10.997549258521268,
          10.997549258521268,
          10.997549258521268,
          10.997549258521268,
          10.997549258521268,
          10.997549258521268,
          10.997549258521268,
          10.997549258521268,
          10.997549258521268,
          10.997549258521268,
          10.997549258521268,
          10.997549258521268,
          10.997549258521268,
          10.997549258521268,
          10.997549258521268,
          10.997549258521268,
          10.997549258521268,
          10.997549258521268,
          10.997549258521268,
          10.997549258521268,
          10.997549258521268,
          10.997549258521268,
          10.997549258521268,
          10.997549258521268,
          10.997549258521268,
          10.997549258521268,
          10.997549258521268,
          10.997549258521268,
          10.997549258521268,
          10.997549258521268,
          10.997549258521268,
          10.997549258521268,
          10.997549258521268,
          10.997549258521268,
          10.997549258521268,
          10.997549258521268,
          10.997549258521268,
          10.997549258521268,
          10.997549258521268,
          10.997549258521268,
          10.997549258521268,
          10.997549258521268,
          10.997549258521268,
          10.997549258521268,
          10.997549258521268,
          10.997549258521268,
          10.997549258521268,
          10.997549258521268,
          10.997549258521268,
          10.997549258521268,
          10.997549258521268,
          10.997549258521268,
          10.997549258521268,
          10.997549258521268,
          10.997549258521268,
          10.997549258521268,
          10.997549258521268,
          10.997549258521268,
          10.997549258521268,
          10.997549258521268,
          10.997549258521268,
          10.997549258521268,
          10.997549258521268,
          10.997549258521268,
          10.997549258521268,
          10.997549258521268,
          10.997549258521268,
          10.997549258521268,
          10.997549258521268,
          10.997549258521268,
          10.997549258521268,
          10.997549258521268,
          10.997549258521268,
          10.997549258521268,
          10.997549258521268,
          10.997549258521268,
          10.997549258521268,
          10.997549258521268,
          10.997549258521268,
          10.997549258521268,
          10.997549258521268,
          10.997549258521268,
          10.997549258521268,
          10.997549258521268,
          10.997549258521268,
          10.997549258521268,
          10.997549258521268,
          10.997549258521268,
          10.997549258521268,
          10.997549258521268,
          10.997549258521268,
          10.997549258521268,
          10.997549258521268,
          10.997549258521268,
          10.997549258521268,
          10.997549258521268,
          10.997549258521268,
          10.997549258521268,
          10.997549258521268,
          10.997549258521268,
          10.997549258521268,
          10.997549258521268,
          10.997549258521268,
          10.997549258521268,
          10.997549258521268,
          10.997549258521268,
          10.997549258521268,
          10.997549258521268,
          10.997549258521268,
          10.997549258521268,
          10.997549258521268,
          10.997549258521268,
          10.997549258521268,
          10.997549258521268,
          10.997549258521268,
          10.997549258521268,
          10.997549258521268,
          10.997549258521268,
          10.997549258521268,
          10.997549258521268,
          10.997549258521268,
          10.997549258521268,
          10.997549258521268,
          10.997549258521268,
          10.997549258521268,
          10.997549258521268,
          10.997549258521268,
          10.997549258521268,
          10.997549258521268,
          10.997549258521268,
          10.997549258521268,
          10.997549258521268,
          10.997549258521268,
          10.997549258521268,
          10.997549258521268,
          10.997549258521268,
          10.997549258521268,
          10.997549258521268,
          10.997549258521268,
          10.997549258521268,
          10.997549258521268,
          10.997549258521268,
          10.997549258521268,
          10.997549258521268,
          10.997549258521268,
          10.997549258521268,
          10.997549258521268,
          10.997549258521268,
          10.997549258521268,
          10.997549258521268,
          10.997549258521268,
          10.997549258521268,
          10.997549258521268,
          10.997549258521268,
          10.997549258521268,
          10.997549258521268,
          10.997549258521268,
          10.997549258521268,
          10.997549258521268,
          10.997549258521268,
          10.997549258521268,
          10.997549258521268,
          10.997549258521268,
          10.997549258521268,
          10.997549258521268,
          10.997549258521268,
          10.997549258521268,
          10.997549258521268,
          10.997549258521268,
          10.997549258521268,
          10.997549258521268,
          10.997549258521268,
          10.997549258521268,
          10.997549258521268,
          10.997549258521268,
          10.997549258521268,
          10.997549258521268,
          10.997549258521268,
          10.997549258521268,
          10.997549258521268,
          10.997549258521268,
          10.997549258521268,
          10.997549258521268,
          10.997549258521268,
          10.997549258521268,
          10.997549258521268,
          10.997549258521268,
          10.997549258521268,
          10.997549258521268,
          10.997549258521268,
          10.997549258521268,
          10.997549258521268,
          10.997549258521268,
          10.997549258521268,
          10.997549258521268,
          10.997549258521268,
          10.997549258521268,
          10.997549258521268,
          10.997549258521268,
          10.997549258521268,
          10.997549258521268,
          10.997549258521268,
          10.997549258521268,
          10.997549258521268,
          10.997549258521268,
          10.997549258521268,
          10.997549258521268,
          10.997549258521268,
          10.997549258521268,
          10.997549258521268,
          10.997549258521268,
          10.997549258521268,
          10.997549258521268,
          10.997549258521268,
          10.997549258521268,
          10.997549258521268,
          11.054828919986221,
          11.226667904381088,
          11.226667904381088,
          11.226667904381088,
          11.226667904381088,
          11.226667904381088,
          11.226667904381088,
          11.226667904381088,
          11.226667904381088,
          11.226667904381088,
          11.226667904381088,
          11.226667904381088,
          11.226667904381088,
          11.226667904381088,
          11.226667904381088,
          11.226667904381088,
          11.226667904381088,
          11.226667904381088,
          11.226667904381088,
          11.226667904381088,
          11.226667904381088,
          11.226667904381088,
          11.226667904381088,
          11.226667904381088,
          11.226667904381088,
          11.226667904381088,
          11.226667904381088,
          11.226667904381088,
          11.226667904381088,
          11.226667904381088,
          11.226667904381088,
          11.226667904381088,
          11.226667904381088,
          11.226667904381088,
          11.226667904381088,
          11.226667904381088,
          11.226667904381088,
          11.226667904381088,
          11.226667904381088,
          11.226667904381088,
          11.226667904381088,
          11.226667904381088,
          11.226667904381088,
          11.226667904381088,
          11.226667904381088,
          11.226667904381088,
          11.226667904381088,
          11.226667904381088,
          11.226667904381088,
          11.226667904381088,
          11.226667904381088,
          11.226667904381088,
          11.226667904381088,
          11.226667904381088,
          11.226667904381088,
          11.226667904381088,
          11.226667904381088,
          11.226667904381088,
          11.226667904381088,
          11.226667904381088,
          11.283947565846049,
          11.283947565846049,
          11.283947565846049,
          11.283947565846049,
          11.283947565846049,
          11.283947565846049,
          11.283947565846049,
          11.283947565846049,
          11.283947565846049,
          11.283947565846049,
          11.283947565846049,
          11.283947565846049,
          11.283947565846049,
          11.283947565846049,
          11.283947565846049,
          11.283947565846049,
          11.283947565846049,
          11.283947565846049,
          11.283947565846049,
          11.283947565846049,
          11.283947565846049,
          11.283947565846049,
          11.283947565846049,
          11.283947565846049,
          11.283947565846049,
          11.283947565846049,
          11.283947565846049,
          11.283947565846049,
          11.283947565846049,
          11.283947565846049,
          11.283947565846049,
          11.283947565846049,
          11.283947565846049,
          11.283947565846049,
          11.283947565846049,
          11.283947565846049,
          11.283947565846049,
          11.283947565846049,
          11.283947565846049,
          11.283947565846049,
          11.283947565846049,
          11.283947565846049,
          11.283947565846049,
          11.283947565846049,
          11.283947565846049,
          11.283947565846049,
          11.283947565846049,
          11.283947565846049,
          11.283947565846049,
          11.283947565846049,
          11.283947565846049,
          11.283947565846049,
          11.283947565846049,
          11.283947565846049,
          11.283947565846049,
          11.283947565846049,
          11.283947565846049,
          11.283947565846049,
          11.283947565846049,
          11.283947565846049,
          11.283947565846049,
          11.283947565846049,
          11.283947565846049,
          11.283947565846049,
          11.283947565846049,
          11.283947565846049,
          11.283947565846049,
          11.283947565846049,
          11.283947565846049,
          11.283947565846049,
          11.283947565846049,
          11.283947565846049,
          11.283947565846049,
          11.283947565846049,
          11.283947565846049,
          11.283947565846049,
          11.283947565846049,
          11.283947565846049,
          11.283947565846049,
          11.283947565846049,
          11.283947565846049,
          11.283947565846049,
          11.283947565846049,
          11.283947565846049,
          11.283947565846049,
          11.283947565846049,
          11.283947565846049,
          11.283947565846049,
          11.283947565846049,
          11.283947565846049,
          11.283947565846049,
          11.283947565846049,
          11.283947565846049,
          11.283947565846049,
          11.283947565846049,
          11.283947565846049,
          11.283947565846049,
          11.283947565846049,
          11.283947565846049,
          11.283947565846049,
          11.283947565846049,
          11.283947565846049,
          11.283947565846049,
          11.283947565846049,
          11.283947565846049,
          11.283947565846049,
          11.283947565846049,
          11.283947565846049,
          11.283947565846049,
          11.283947565846049,
          11.283947565846049,
          11.283947565846049,
          11.283947565846049,
          11.283947565846049,
          11.283947565846049,
          11.283947565846049,
          11.283947565846049,
          11.283947565846049,
          11.283947565846049,
          11.283947565846049,
          11.283947565846049,
          11.283947565846049,
          11.283947565846049,
          11.283947565846049,
          11.283947565846049,
          11.283947565846049,
          11.283947565846049,
          11.283947565846049,
          11.283947565846049,
          11.283947565846049,
          11.283947565846049,
          11.283947565846049,
          11.283947565846049,
          11.283947565846049,
          11.283947565846049,
          11.283947565846049,
          11.283947565846049,
          11.283947565846049,
          11.283947565846049,
          11.283947565846049,
          11.283947565846049,
          11.283947565846049,
          11.283947565846049,
          11.283947565846049,
          11.283947565846049,
          11.283947565846049,
          11.283947565846049,
          11.283947565846049,
          11.283947565846049,
          11.283947565846049,
          11.283947565846049,
          11.283947565846049,
          11.283947565846049,
          11.283947565846049,
          11.283947565846049,
          11.283947565846049,
          11.283947565846049,
          11.283947565846049,
          11.283947565846049,
          11.283947565846049,
          11.283947565846049,
          11.283947565846049,
          11.283947565846049,
          11.283947565846049,
          11.283947565846049,
          11.283947565846049,
          11.283947565846049,
          11.283947565846049,
          11.283947565846049,
          11.283947565846049,
          11.283947565846049,
          11.283947565846049,
          11.283947565846049,
          11.283947565846049,
          11.283947565846049,
          11.283947565846049,
          11.283947565846049,
          11.283947565846049,
          11.283947565846049,
          11.283947565846049,
          11.283947565846049,
          11.283947565846049,
          11.283947565846049,
          11.283947565846049,
          11.283947565846049,
          11.283947565846049,
          11.283947565846049,
          11.283947565846049,
          11.283947565846049,
          11.283947565846049,
          11.283947565846049,
          11.283947565846049,
          11.283947565846049,
          11.283947565846049,
          11.283947565846049,
          11.283947565846049,
          11.283947565846049,
          11.283947565846049,
          11.283947565846049,
          11.283947565846049,
          11.283947565846049,
          11.283947565846049,
          11.684905196100743,
          11.684905196100743,
          11.684905196100743,
          11.684905196100743,
          11.684905196100743,
          11.684905196100743,
          11.684905196100743,
          11.684905196100743,
          11.684905196100743,
          11.684905196100743,
          11.684905196100743,
          11.684905196100743,
          11.684905196100743,
          11.684905196100743,
          11.684905196100743,
          11.684905196100743,
          11.684905196100743,
          11.684905196100743,
          11.684905196100743,
          11.684905196100743,
          11.684905196100743,
          11.684905196100743,
          11.684905196100743,
          11.684905196100743,
          11.684905196100743,
          11.684905196100743,
          11.684905196100743,
          11.684905196100743,
          11.684905196100743,
          11.684905196100743,
          11.684905196100743,
          11.684905196100743,
          11.684905196100743,
          11.684905196100743,
          11.684905196100743,
          11.684905196100743,
          11.684905196100743,
          11.684905196100743,
          11.684905196100743,
          11.684905196100743,
          11.684905196100743,
          11.684905196100743,
          11.684905196100743,
          11.684905196100743,
          11.684905196100743,
          11.684905196100743,
          11.684905196100743,
          11.684905196100743,
          11.684905196100743,
          11.684905196100743,
          11.684905196100743,
          11.684905196100743,
          11.684905196100743,
          11.684905196100743,
          11.684905196100743,
          11.684905196100743,
          11.684905196100743,
          11.684905196100743,
          11.684905196100743,
          11.684905196100743,
          11.684905196100743,
          11.684905196100743,
          11.684905196100743,
          11.684905196100743,
          11.684905196100743,
          11.684905196100743,
          11.684905196100743,
          11.684905196100743,
          11.684905196100743,
          11.684905196100743,
          11.684905196100743,
          11.684905196100743,
          11.684905196100743,
          11.684905196100743,
          11.684905196100743,
          11.684905196100743,
          11.684905196100743,
          11.684905196100743,
          11.684905196100743,
          11.684905196100743,
          11.684905196100743,
          11.684905196100743,
          11.684905196100743,
          11.684905196100743,
          11.684905196100743,
          11.684905196100743,
          11.684905196100743,
          11.684905196100743,
          11.684905196100743,
          11.684905196100743,
          11.684905196100743,
          11.684905196100743,
          11.684905196100743,
          11.684905196100743,
          11.684905196100743,
          11.684905196100743,
          11.684905196100743,
          11.684905196100743,
          11.684905196100743,
          11.684905196100743,
          11.684905196100743,
          11.684905196100743,
          11.684905196100743,
          11.684905196100743,
          11.684905196100743,
          11.684905196100743,
          11.684905196100743,
          11.684905196100743,
          11.684905196100743,
          11.684905196100743,
          11.684905196100743,
          11.684905196100743,
          11.684905196100743,
          11.684905196100743,
          11.684905196100743,
          11.684905196100743,
          11.684905196100743,
          11.684905196100743,
          11.684905196100743,
          11.684905196100743,
          11.684905196100743,
          11.684905196100743,
          11.684905196100743,
          11.684905196100743,
          11.684905196100743,
          11.684905196100743,
          11.684905196100743,
          11.684905196100743,
          11.684905196100743,
          11.684905196100743,
          11.684905196100743,
          11.684905196100743,
          11.684905196100743,
          11.684905196100743,
          11.684905196100743,
          11.684905196100743,
          11.684905196100743,
          11.684905196100743,
          11.684905196100743,
          11.684905196100743,
          11.684905196100743,
          11.684905196100743,
          11.684905196100743,
          11.684905196100743,
          11.684905196100743,
          11.684905196100743,
          11.684905196100743,
          11.684905196100743,
          11.684905196100743,
          11.684905196100743,
          11.684905196100743,
          11.684905196100743,
          11.684905196100743,
          11.684905196100743,
          11.684905196100743,
          11.684905196100743,
          11.684905196100743,
          11.684905196100743,
          11.684905196100743,
          11.684905196100743,
          11.684905196100743,
          11.684905196100743,
          11.684905196100743,
          11.684905196100743,
          11.684905196100743,
          11.684905196100743,
          11.684905196100743,
          11.684905196100743,
          11.684905196100743,
          11.684905196100743,
          11.684905196100743,
          11.684905196100743,
          11.684905196100743,
          11.684905196100743,
          11.684905196100743,
          11.684905196100743,
          11.684905196100743,
          11.684905196100743,
          11.684905196100743,
          11.684905196100743,
          11.684905196100743,
          11.684905196100743,
          11.684905196100743,
          11.684905196100743,
          11.684905196100743,
          11.684905196100743,
          11.684905196100743,
          11.684905196100743,
          11.684905196100743,
          11.684905196100743,
          11.684905196100743,
          11.684905196100743,
          11.684905196100743,
          11.684905196100743,
          12.200422149285345,
          12.200422149285345,
          12.200422149285345,
          12.200422149285345,
          12.200422149285345,
          12.200422149285345,
          12.200422149285345,
          12.200422149285345,
          12.200422149285345,
          12.200422149285345,
          12.200422149285345,
          12.200422149285345,
          12.200422149285345,
          12.200422149285345,
          12.200422149285345,
          12.200422149285345,
          12.200422149285345,
          12.200422149285345,
          12.200422149285345,
          12.200422149285345,
          12.200422149285345,
          12.200422149285345,
          12.200422149285345,
          12.200422149285345,
          12.200422149285345,
          12.200422149285345,
          12.200422149285345,
          12.200422149285345,
          12.200422149285345,
          12.200422149285345,
          12.200422149285345,
          12.200422149285345,
          12.200422149285345,
          12.200422149285345,
          12.200422149285345,
          12.200422149285345,
          12.200422149285345,
          12.200422149285345,
          12.200422149285345,
          12.200422149285345,
          12.200422149285345,
          12.200422149285345,
          12.200422149285345,
          12.200422149285345,
          12.200422149285345,
          12.200422149285345,
          12.200422149285345,
          12.200422149285345,
          12.200422149285345,
          12.200422149285345,
          12.200422149285345,
          12.200422149285345,
          12.200422149285345,
          12.200422149285345,
          12.200422149285345,
          12.200422149285345,
          12.200422149285345,
          12.200422149285345,
          12.200422149285345,
          12.200422149285345,
          12.200422149285345,
          12.200422149285345,
          12.200422149285345,
          12.200422149285345,
          12.200422149285345,
          12.200422149285345,
          12.200422149285345,
          12.200422149285345,
          12.200422149285345,
          12.200422149285345,
          12.200422149285345,
          12.200422149285345,
          12.200422149285345,
          12.200422149285345,
          12.200422149285345,
          12.200422149285345,
          12.200422149285345,
          12.200422149285345,
          12.200422149285345,
          12.200422149285345,
          12.200422149285345,
          12.200422149285345,
          12.200422149285345,
          12.200422149285345,
          12.200422149285345,
          12.200422149285345,
          12.200422149285345,
          12.200422149285345,
          12.200422149285345,
          12.200422149285345,
          12.200422149285345,
          12.200422149285345,
          12.200422149285345,
          12.200422149285345,
          12.200422149285345,
          12.200422149285345,
          12.200422149285345,
          12.200422149285345,
          12.200422149285345,
          12.200422149285345,
          12.200422149285345,
          12.200422149285345,
          12.200422149285345,
          12.200422149285345,
          12.200422149285345,
          12.200422149285345,
          12.200422149285345,
          12.200422149285345,
          12.200422149285345,
          12.200422149285345,
          12.200422149285345,
          12.200422149285345,
          12.200422149285345,
          12.200422149285345,
          12.200422149285345,
          12.200422149285345,
          12.200422149285345,
          12.200422149285345,
          12.200422149285345,
          12.200422149285345,
          12.200422149285345,
          12.200422149285345,
          12.200422149285345,
          12.200422149285345,
          12.200422149285345,
          12.200422149285345,
          12.200422149285345,
          12.200422149285345,
          12.200422149285345,
          12.200422149285345,
          12.200422149285345,
          12.200422149285345,
          12.200422149285345,
          12.200422149285345,
          12.200422149285345,
          12.200422149285345,
          12.200422149285345,
          12.200422149285345,
          12.200422149285345,
          12.200422149285345,
          12.200422149285345,
          12.200422149285345,
          12.200422149285345,
          12.200422149285345,
          12.200422149285345,
          12.200422149285345,
          12.200422149285345,
          12.200422149285345,
          12.200422149285345,
          12.200422149285345,
          12.200422149285345,
          12.200422149285345,
          12.200422149285345,
          12.200422149285345,
          12.200422149285345,
          12.200422149285345,
          12.200422149285345,
          12.200422149285345,
          12.200422149285345,
          12.200422149285345,
          12.200422149285345,
          12.200422149285345,
          12.200422149285345,
          12.200422149285345,
          12.200422149285345,
          12.200422149285345,
          12.200422149285345,
          12.200422149285345,
          12.200422149285345,
          12.200422149285345,
          12.200422149285345,
          12.200422149285345,
          12.200422149285345,
          12.200422149285345,
          12.200422149285345,
          12.200422149285345,
          12.200422149285345,
          12.200422149285345,
          12.200422149285345,
          12.200422149285345,
          12.200422149285345,
          12.200422149285345,
          12.200422149285345,
          12.200422149285345,
          12.200422149285345,
          12.200422149285345,
          12.200422149285345,
          12.200422149285345,
          12.200422149285345,
          12.200422149285345,
          12.200422149285345,
          12.200422149285345,
          12.200422149285345,
          12.200422149285345,
          12.200422149285345,
          12.200422149285345,
          12.200422149285345,
          12.200422149285345,
          12.200422149285345,
          12.200422149285345,
          12.200422149285345,
          12.200422149285345,
          12.200422149285345,
          12.200422149285345,
          12.200422149285345,
          12.200422149285345,
          12.200422149285345,
          12.200422149285345,
          12.200422149285345,
          12.200422149285345,
          12.200422149285345,
          12.200422149285345,
          12.200422149285345,
          12.200422149285345,
          12.830498425399867,
          12.830498425399867,
          12.830498425399867,
          12.830498425399867,
          12.830498425399867,
          12.830498425399867,
          12.830498425399867,
          12.830498425399867,
          12.830498425399867,
          12.830498425399867,
          12.830498425399867,
          12.830498425399867,
          12.830498425399867,
          12.830498425399867,
          12.830498425399867,
          12.830498425399867,
          12.830498425399867,
          12.830498425399867,
          12.830498425399867,
          12.830498425399867,
          12.830498425399867,
          12.830498425399867,
          12.830498425399867,
          12.830498425399867,
          12.830498425399867,
          12.830498425399867,
          12.830498425399867,
          12.830498425399867,
          12.830498425399867,
          12.830498425399867,
          12.830498425399867,
          12.830498425399867,
          12.830498425399867,
          12.830498425399867,
          12.830498425399867,
          12.830498425399867,
          12.830498425399867,
          12.830498425399867,
          12.830498425399867,
          12.830498425399867,
          12.830498425399867,
          12.830498425399867,
          12.830498425399867,
          12.830498425399867,
          12.830498425399867,
          12.830498425399867,
          12.830498425399867,
          12.830498425399867,
          12.830498425399867,
          12.830498425399867,
          12.830498425399867,
          12.830498425399867,
          12.830498425399867,
          12.830498425399867,
          12.830498425399867,
          12.830498425399867,
          12.830498425399867,
          12.830498425399867,
          12.830498425399867,
          12.830498425399867,
          12.830498425399867,
          12.830498425399867,
          12.830498425399867,
          12.830498425399867,
          12.830498425399867,
          12.830498425399867,
          12.830498425399867,
          12.830498425399867,
          12.830498425399867,
          12.830498425399867,
          12.830498425399867,
          12.830498425399867,
          12.830498425399867,
          12.830498425399867,
          12.830498425399867,
          12.830498425399867,
          12.830498425399867,
          12.830498425399867,
          12.830498425399867,
          12.830498425399867,
          12.830498425399867,
          12.830498425399867,
          12.830498425399867,
          12.830498425399867,
          12.830498425399867,
          12.830498425399867,
          12.830498425399867,
          12.830498425399867,
          12.830498425399867,
          12.830498425399867,
          12.830498425399867,
          12.830498425399867,
          12.830498425399867,
          12.830498425399867,
          12.830498425399867,
          12.830498425399867,
          12.830498425399867,
          12.830498425399867,
          12.830498425399867,
          12.830498425399867,
          12.830498425399867,
          12.830498425399867,
          12.830498425399867,
          12.830498425399867,
          12.830498425399867,
          12.830498425399867,
          12.830498425399867,
          12.830498425399867,
          12.830498425399867,
          12.830498425399867,
          12.830498425399867,
          12.830498425399867,
          12.830498425399867,
          12.830498425399867,
          12.830498425399867,
          12.830498425399867,
          12.830498425399867,
          12.830498425399867,
          12.830498425399867,
          12.830498425399867,
          12.830498425399867,
          12.830498425399867,
          12.830498425399867,
          12.830498425399867,
          12.830498425399867,
          12.830498425399867,
          12.830498425399867,
          12.830498425399867,
          12.830498425399867,
          12.830498425399867,
          12.830498425399867,
          12.830498425399867,
          12.830498425399867,
          12.830498425399867,
          12.830498425399867,
          12.830498425399867,
          12.830498425399867,
          12.830498425399867,
          12.830498425399867,
          12.830498425399867,
          12.830498425399867,
          12.830498425399867,
          12.830498425399867,
          12.830498425399867,
          12.830498425399867,
          12.830498425399867,
          12.830498425399867,
          12.830498425399867,
          12.830498425399867,
          12.830498425399867,
          12.830498425399867,
          12.830498425399867,
          12.830498425399867,
          12.830498425399867,
          12.830498425399867,
          12.830498425399867,
          12.830498425399867,
          12.830498425399867,
          12.830498425399867,
          12.830498425399867,
          12.830498425399867,
          12.830498425399867,
          12.830498425399867,
          12.830498425399867,
          12.830498425399867,
          12.830498425399867,
          12.830498425399867,
          12.830498425399867,
          12.830498425399867,
          12.830498425399867,
          12.830498425399867,
          12.830498425399867,
          12.830498425399867,
          12.830498425399867,
          12.830498425399867,
          12.830498425399867,
          12.830498425399867,
          12.830498425399867,
          12.830498425399867,
          12.830498425399867,
          12.830498425399867,
          12.830498425399867,
          12.830498425399867,
          12.830498425399867,
          12.830498425399867,
          12.830498425399867,
          12.830498425399867,
          12.830498425399867,
          12.830498425399867,
          12.830498425399867,
          12.830498425399867,
          12.830498425399867,
          12.830498425399867,
          12.830498425399867,
          12.830498425399867,
          12.830498425399867,
          12.830498425399867,
          12.830498425399867,
          12.830498425399867,
          12.830498425399867,
          12.830498425399867,
          12.830498425399867,
          12.830498425399867,
          12.830498425399867,
          12.830498425399867,
          12.830498425399867,
          12.830498425399867,
          12.830498425399867,
          12.830498425399867,
          12.830498425399867,
          12.830498425399867,
          12.830498425399867,
          12.830498425399867,
          12.830498425399867,
          12.830498425399867,
          12.830498425399867,
          13.460574701514389,
          13.460574701514389,
          13.460574701514389,
          13.460574701514389,
          13.460574701514389,
          13.460574701514389,
          13.460574701514389,
          13.460574701514389,
          13.460574701514389,
          13.460574701514389,
          13.460574701514389,
          13.460574701514389,
          13.460574701514389,
          13.460574701514389,
          13.460574701514389,
          13.460574701514389,
          13.460574701514389,
          13.460574701514389,
          13.460574701514389,
          13.460574701514389,
          13.460574701514389,
          13.460574701514389,
          13.460574701514389,
          13.460574701514389,
          13.460574701514389,
          13.460574701514389,
          13.460574701514389,
          13.460574701514389,
          13.460574701514389,
          13.460574701514389,
          13.460574701514389,
          13.460574701514389,
          13.460574701514389,
          13.460574701514389,
          13.460574701514389,
          13.460574701514389,
          13.460574701514389,
          13.460574701514389,
          13.460574701514389,
          13.460574701514389,
          13.460574701514389,
          13.460574701514389,
          13.460574701514389,
          13.460574701514389,
          13.460574701514389,
          13.460574701514389,
          13.460574701514389,
          13.460574701514389,
          13.460574701514389,
          13.460574701514389,
          13.460574701514389,
          13.460574701514389,
          13.460574701514389,
          13.460574701514389,
          13.460574701514389,
          13.460574701514389,
          13.460574701514389,
          13.460574701514389,
          13.460574701514389,
          13.460574701514389,
          13.460574701514389,
          13.460574701514389,
          13.460574701514389,
          13.460574701514389,
          13.460574701514389,
          13.460574701514389,
          13.460574701514389,
          13.460574701514389,
          13.460574701514389,
          13.460574701514389,
          13.460574701514389,
          13.460574701514389,
          13.460574701514389,
          13.460574701514389,
          13.460574701514389,
          13.460574701514389,
          13.460574701514389,
          13.460574701514389,
          13.460574701514389,
          13.460574701514389,
          13.460574701514389,
          13.460574701514389,
          13.460574701514389,
          13.460574701514389,
          13.460574701514389,
          13.460574701514389,
          13.460574701514389,
          13.460574701514389,
          13.460574701514389,
          13.460574701514389,
          13.460574701514389,
          13.460574701514389,
          13.460574701514389,
          13.460574701514389,
          13.460574701514389,
          13.460574701514389,
          13.460574701514389,
          13.460574701514389,
          13.460574701514389,
          13.460574701514389,
          13.460574701514389,
          13.460574701514389,
          13.460574701514389,
          13.460574701514389,
          13.460574701514389,
          13.460574701514389,
          13.460574701514389,
          13.460574701514389,
          13.460574701514389,
          13.460574701514389,
          13.460574701514389,
          13.460574701514389,
          13.460574701514389,
          13.460574701514389,
          13.460574701514389,
          13.460574701514389,
          13.460574701514389,
          13.460574701514389,
          13.460574701514389,
          13.460574701514389,
          13.460574701514389,
          13.460574701514389,
          13.460574701514389,
          13.460574701514389,
          13.460574701514389,
          13.460574701514389,
          13.460574701514389,
          13.460574701514389,
          13.460574701514389,
          13.460574701514389,
          13.460574701514389,
          13.460574701514389,
          13.460574701514389,
          13.460574701514389,
          13.460574701514389,
          13.460574701514389,
          13.460574701514389,
          13.460574701514389,
          13.460574701514389,
          13.460574701514389,
          13.460574701514389,
          13.460574701514389,
          13.460574701514389,
          13.460574701514389,
          13.460574701514389,
          13.460574701514389,
          13.460574701514389,
          13.460574701514389,
          13.460574701514389,
          13.460574701514389,
          13.460574701514389,
          13.460574701514389,
          13.460574701514389,
          13.460574701514389,
          13.460574701514389,
          13.460574701514389,
          13.460574701514389,
          13.460574701514389,
          13.460574701514389,
          13.460574701514389,
          13.460574701514389,
          13.460574701514389,
          13.460574701514389,
          13.460574701514389,
          13.460574701514389,
          13.460574701514389,
          13.460574701514389,
          13.460574701514389,
          13.460574701514389,
          13.460574701514389,
          13.460574701514389,
          13.460574701514389,
          13.460574701514389,
          13.460574701514389,
          13.460574701514389,
          13.460574701514389,
          13.460574701514389,
          13.460574701514389,
          13.460574701514389,
          13.460574701514389,
          13.460574701514389,
          13.460574701514389,
          13.460574701514389,
          13.460574701514389,
          13.460574701514389,
          13.460574701514389,
          13.460574701514389,
          13.460574701514389,
          13.460574701514389,
          13.460574701514389,
          13.460574701514389,
          13.460574701514389,
          13.460574701514389,
          13.460574701514389,
          13.460574701514389,
          13.460574701514389,
          13.460574701514389,
          13.460574701514389,
          13.460574701514389,
          13.460574701514389,
          13.460574701514389,
          13.460574701514389,
          13.460574701514389,
          13.460574701514389,
          13.460574701514389,
          13.460574701514389,
          13.460574701514389,
          13.460574701514389,
          13.460574701514389,
          13.460574701514389,
          13.460574701514389,
          13.460574701514389,
          13.460574701514389,
          13.460574701514389,
          13.460574701514389,
          13.460574701514389,
          13.575134024444296,
          13.575134024444296,
          13.575134024444296,
          13.575134024444296,
          13.575134024444296,
          13.575134024444296,
          13.575134024444296,
          13.575134024444296,
          13.575134024444296,
          13.575134024444296,
          13.575134024444296,
          13.575134024444296,
          13.575134024444296,
          13.575134024444296,
          13.575134024444296,
          13.575134024444296,
          13.575134024444296,
          13.575134024444296,
          13.575134024444296,
          13.575134024444296,
          13.575134024444296,
          13.575134024444296,
          13.575134024444296,
          13.575134024444296,
          13.575134024444296,
          13.575134024444296,
          13.575134024444296,
          13.575134024444296,
          13.575134024444296,
          13.575134024444296,
          13.575134024444296,
          13.575134024444296,
          13.575134024444296,
          13.575134024444296,
          13.575134024444296,
          13.575134024444296,
          13.575134024444296,
          13.575134024444296,
          13.575134024444296,
          13.575134024444296,
          13.575134024444296,
          13.575134024444296,
          13.575134024444296,
          13.575134024444296,
          13.575134024444296,
          13.575134024444296,
          13.575134024444296,
          13.575134024444296,
          13.575134024444296,
          13.575134024444296,
          13.575134024444296,
          13.575134024444296,
          13.575134024444296,
          13.575134024444296,
          13.575134024444296,
          13.575134024444296,
          13.575134024444296,
          13.575134024444296,
          13.575134024444296,
          13.575134024444296,
          13.575134024444296,
          13.575134024444296,
          13.575134024444296,
          13.575134024444296,
          13.575134024444296,
          13.575134024444296,
          13.575134024444296,
          13.575134024444296,
          13.575134024444296,
          13.575134024444296,
          13.575134024444296,
          13.575134024444296,
          13.575134024444296,
          13.575134024444296,
          13.575134024444296,
          13.575134024444296,
          13.575134024444296,
          13.575134024444296,
          13.575134024444296,
          13.575134024444296,
          13.575134024444296,
          13.575134024444296,
          13.575134024444296,
          13.575134024444296,
          13.575134024444296,
          13.575134024444296,
          13.575134024444296,
          13.575134024444296,
          13.575134024444296,
          13.575134024444296,
          13.575134024444296,
          13.575134024444296,
          13.575134024444296,
          13.575134024444296,
          13.575134024444296,
          13.575134024444296,
          13.575134024444296,
          13.575134024444296,
          13.575134024444296,
          13.575134024444296,
          13.575134024444296,
          13.575134024444296,
          13.575134024444296,
          13.575134024444296,
          13.575134024444296,
          13.575134024444296,
          13.575134024444296,
          13.575134024444296,
          13.575134024444296,
          13.575134024444296,
          13.575134024444296,
          13.575134024444296,
          13.575134024444296,
          13.575134024444296,
          13.575134024444296,
          13.575134024444296,
          13.575134024444296,
          13.575134024444296,
          13.575134024444296,
          13.575134024444296,
          13.575134024444296,
          13.575134024444296,
          13.575134024444296,
          13.575134024444296,
          13.575134024444296,
          13.575134024444296,
          13.575134024444296,
          13.575134024444296,
          13.575134024444296,
          13.575134024444296,
          13.575134024444296,
          13.575134024444296,
          13.575134024444296,
          13.575134024444296,
          13.575134024444296,
          13.575134024444296,
          13.575134024444296,
          13.575134024444296,
          13.575134024444296,
          13.575134024444296,
          13.575134024444296,
          13.575134024444296,
          13.575134024444296,
          13.575134024444296,
          13.575134024444296,
          13.575134024444296,
          13.575134024444296,
          13.575134024444296,
          13.575134024444296,
          13.575134024444296,
          13.575134024444296,
          13.575134024444296,
          13.575134024444296,
          13.575134024444296,
          13.575134024444296,
          13.575134024444296,
          13.575134024444296,
          13.575134024444296,
          13.575134024444296,
          13.575134024444296,
          13.575134024444296,
          13.575134024444296,
          13.575134024444296,
          13.575134024444296,
          13.575134024444296,
          13.575134024444296,
          13.575134024444296,
          13.575134024444296,
          13.575134024444296,
          13.575134024444296,
          13.575134024444296,
          13.575134024444296,
          13.575134024444296,
          13.575134024444296,
          13.575134024444296,
          13.575134024444296,
          13.575134024444296,
          13.575134024444296,
          13.575134024444296,
          13.575134024444296,
          13.575134024444296,
          13.575134024444296,
          13.575134024444296,
          13.575134024444296,
          13.575134024444296,
          13.575134024444296,
          13.575134024444296,
          13.575134024444296,
          13.575134024444296,
          13.575134024444296,
          13.575134024444296,
          13.575134024444296,
          13.575134024444296,
          13.575134024444296,
          13.575134024444296,
          13.575134024444296,
          13.575134024444296,
          13.575134024444296,
          13.575134024444296,
          13.575134024444296,
          13.575134024444296,
          13.575134024444296,
          13.575134024444296,
          13.575134024444296,
          13.575134024444296,
          13.575134024444296,
          13.575134024444296,
          13.575134024444296,
          13.575134024444296,
          13.575134024444296,
          13.575134024444296,
          13.575134024444296,
          13.575134024444296,
          13.575134024444296,
          13.575134024444296,
          13.575134024444296,
          13.68969334737421,
          13.68969334737421,
          13.68969334737421,
          13.68969334737421,
          13.68969334737421,
          13.68969334737421,
          13.68969334737421,
          13.68969334737421,
          13.68969334737421,
          13.68969334737421,
          13.68969334737421,
          13.68969334737421,
          13.68969334737421,
          13.68969334737421,
          13.68969334737421,
          13.68969334737421,
          13.68969334737421,
          13.68969334737421,
          13.68969334737421,
          13.68969334737421,
          13.68969334737421,
          13.68969334737421,
          13.68969334737421,
          13.68969334737421,
          13.68969334737421,
          13.68969334737421,
          13.68969334737421,
          13.68969334737421,
          13.68969334737421,
          13.68969334737421,
          13.68969334737421,
          13.68969334737421,
          13.68969334737421,
          13.68969334737421,
          13.68969334737421,
          13.68969334737421,
          13.68969334737421,
          13.68969334737421,
          13.68969334737421,
          13.68969334737421,
          13.68969334737421,
          13.68969334737421,
          13.68969334737421,
          13.68969334737421,
          13.68969334737421,
          13.68969334737421,
          13.68969334737421,
          13.68969334737421,
          13.68969334737421,
          13.68969334737421,
          13.68969334737421,
          13.68969334737421,
          13.68969334737421,
          13.68969334737421,
          13.68969334737421,
          13.68969334737421,
          13.68969334737421,
          13.68969334737421,
          13.68969334737421,
          13.68969334737421,
          13.68969334737421,
          13.68969334737421,
          13.68969334737421,
          13.68969334737421,
          13.68969334737421,
          13.68969334737421,
          13.68969334737421,
          13.68969334737421,
          13.68969334737421,
          13.68969334737421,
          13.68969334737421,
          13.68969334737421,
          13.68969334737421,
          13.68969334737421,
          13.68969334737421,
          13.68969334737421,
          13.68969334737421,
          13.68969334737421,
          13.68969334737421,
          13.68969334737421,
          13.68969334737421,
          13.68969334737421,
          13.68969334737421,
          13.68969334737421,
          13.68969334737421,
          13.68969334737421,
          13.68969334737421,
          13.68969334737421,
          13.68969334737421,
          13.68969334737421,
          13.68969334737421,
          13.68969334737421,
          13.68969334737421,
          13.68969334737421,
          13.68969334737421,
          13.68969334737421,
          13.68969334737421,
          13.68969334737421,
          13.68969334737421,
          13.68969334737421,
          13.68969334737421,
          13.68969334737421,
          13.68969334737421,
          13.68969334737421,
          13.68969334737421,
          13.68969334737421,
          13.68969334737421,
          13.68969334737421,
          13.68969334737421,
          13.68969334737421,
          13.68969334737421,
          13.68969334737421,
          13.68969334737421,
          13.68969334737421,
          13.68969334737421,
          13.68969334737421,
          13.68969334737421,
          13.68969334737421,
          13.68969334737421,
          13.68969334737421,
          13.68969334737421,
          13.68969334737421,
          13.68969334737421,
          13.68969334737421,
          13.68969334737421,
          13.68969334737421,
          13.68969334737421,
          13.68969334737421,
          13.68969334737421,
          13.68969334737421,
          13.68969334737421,
          13.68969334737421,
          13.68969334737421,
          13.68969334737421,
          13.68969334737421,
          13.68969334737421,
          13.68969334737421,
          13.68969334737421,
          13.68969334737421,
          13.68969334737421,
          13.68969334737421,
          13.68969334737421,
          13.68969334737421,
          13.68969334737421,
          13.68969334737421,
          13.68969334737421,
          13.68969334737421,
          13.68969334737421,
          13.68969334737421,
          13.68969334737421,
          13.68969334737421,
          13.68969334737421,
          13.68969334737421,
          13.68969334737421,
          13.68969334737421,
          13.68969334737421,
          13.68969334737421,
          13.68969334737421,
          13.68969334737421,
          13.68969334737421,
          13.68969334737421,
          13.68969334737421,
          13.68969334737421,
          13.68969334737421,
          13.68969334737421,
          13.68969334737421,
          13.68969334737421,
          13.68969334737421,
          13.68969334737421,
          13.68969334737421,
          13.68969334737421,
          13.68969334737421,
          13.68969334737421,
          13.68969334737421,
          13.68969334737421,
          13.68969334737421,
          13.68969334737421,
          13.68969334737421,
          13.68969334737421,
          13.68969334737421,
          13.68969334737421,
          13.68969334737421,
          13.68969334737421,
          13.68969334737421,
          13.68969334737421,
          13.68969334737421,
          13.68969334737421,
          13.68969334737421,
          13.68969334737421,
          13.68969334737421,
          13.68969334737421,
          13.68969334737421,
          13.68969334737421,
          13.68969334737421,
          13.68969334737421,
          13.68969334737421,
          13.68969334737421,
          13.68969334737421,
          13.68969334737421,
          13.68969334737421,
          13.68969334737421,
          13.68969334737421,
          13.68969334737421,
          13.68969334737421,
          13.68969334737421,
          13.68969334737421,
          13.68969334737421,
          13.68969334737421,
          13.68969334737421,
          13.68969334737421,
          13.68969334737421,
          14.319769623488732,
          14.319769623488732,
          14.319769623488732,
          14.319769623488732,
          14.319769623488732,
          14.319769623488732,
          14.319769623488732,
          14.319769623488732,
          14.319769623488732,
          14.319769623488732,
          14.319769623488732,
          14.319769623488732,
          14.319769623488732,
          14.319769623488732,
          14.319769623488732,
          14.319769623488732,
          14.319769623488732,
          14.319769623488732,
          14.319769623488732,
          14.319769623488732,
          14.319769623488732,
          14.319769623488732,
          14.319769623488732,
          14.319769623488732,
          14.319769623488732,
          14.319769623488732,
          14.319769623488732,
          14.319769623488732,
          14.319769623488732,
          14.319769623488732,
          14.319769623488732,
          14.319769623488732,
          14.319769623488732,
          14.319769623488732,
          14.319769623488732,
          14.319769623488732,
          14.319769623488732,
          14.319769623488732,
          14.319769623488732,
          14.319769623488732,
          14.319769623488732,
          14.319769623488732,
          14.319769623488732,
          14.319769623488732,
          14.319769623488732,
          14.319769623488732,
          14.319769623488732,
          14.319769623488732,
          14.319769623488732,
          14.319769623488732,
          14.319769623488732,
          14.319769623488732,
          14.319769623488732,
          14.319769623488732,
          14.319769623488732,
          14.319769623488732,
          14.319769623488732,
          14.319769623488732,
          14.319769623488732,
          14.319769623488732,
          14.319769623488732,
          14.319769623488732,
          14.319769623488732,
          14.319769623488732,
          14.319769623488732,
          14.319769623488732,
          14.319769623488732,
          14.319769623488732,
          14.319769623488732,
          14.319769623488732,
          14.319769623488732,
          14.319769623488732,
          14.319769623488732,
          14.319769623488732,
          14.319769623488732,
          14.319769623488732,
          14.319769623488732,
          14.319769623488732,
          14.319769623488732,
          14.319769623488732,
          14.319769623488732,
          14.319769623488732,
          14.319769623488732,
          14.319769623488732,
          14.319769623488732,
          14.319769623488732,
          14.319769623488732,
          14.319769623488732,
          14.319769623488732,
          14.319769623488732,
          14.319769623488732,
          14.319769623488732,
          14.319769623488732,
          14.319769623488732,
          14.319769623488732,
          14.319769623488732,
          14.319769623488732,
          14.319769623488732,
          14.319769623488732,
          14.319769623488732,
          14.319769623488732,
          14.319769623488732,
          14.319769623488732,
          14.319769623488732,
          14.319769623488732,
          14.319769623488732,
          14.319769623488732,
          14.319769623488732,
          14.319769623488732,
          14.319769623488732,
          14.319769623488732,
          14.319769623488732,
          14.319769623488732,
          14.319769623488732,
          14.319769623488732,
          14.319769623488732,
          14.319769623488732,
          14.319769623488732,
          14.319769623488732,
          14.319769623488732,
          14.319769623488732,
          14.319769623488732,
          14.319769623488732,
          14.319769623488732,
          14.319769623488732,
          14.319769623488732,
          14.319769623488732,
          14.319769623488732,
          14.319769623488732,
          14.319769623488732,
          14.319769623488732,
          14.319769623488732,
          14.319769623488732,
          14.319769623488732,
          14.319769623488732,
          14.319769623488732,
          14.319769623488732,
          14.319769623488732,
          14.319769623488732,
          14.319769623488732,
          14.319769623488732,
          14.319769623488732,
          14.319769623488732,
          14.319769623488732,
          14.319769623488732,
          14.319769623488732,
          14.319769623488732,
          14.319769623488732,
          14.319769623488732,
          14.319769623488732,
          14.319769623488732,
          14.319769623488732,
          14.319769623488732,
          14.319769623488732,
          14.319769623488732,
          14.319769623488732,
          14.319769623488732,
          14.319769623488732,
          14.319769623488732,
          14.319769623488732,
          14.319769623488732,
          14.319769623488732,
          14.319769623488732,
          14.319769623488732,
          14.319769623488732,
          14.319769623488732,
          14.319769623488732,
          14.319769623488732,
          14.319769623488732,
          14.319769623488732,
          14.319769623488732,
          14.319769623488732,
          14.319769623488732,
          14.319769623488732,
          14.319769623488732,
          14.319769623488732,
          14.319769623488732,
          14.319769623488732,
          14.319769623488732,
          14.319769623488732,
          14.319769623488732,
          14.319769623488732,
          14.319769623488732,
          14.319769623488732,
          14.319769623488732,
          14.319769623488732,
          14.319769623488732,
          14.319769623488732,
          14.319769623488732,
          14.319769623488732,
          14.319769623488732,
          14.319769623488732,
          14.319769623488732,
          14.319769623488732,
          14.319769623488732,
          14.319769623488732,
          14.319769623488732,
          14.319769623488732,
          14.319769623488732,
          14.319769623488732,
          14.319769623488732,
          14.319769623488732,
          14.319769623488732,
          14.319769623488732,
          14.319769623488732,
          14.319769623488732,
          14.319769623488732,
          14.319769623488732,
          14.319769623488732,
          14.319769623488732,
          14.319769623488732,
          14.319769623488732,
          14.319769623488732,
          14.319769623488732,
          14.319769623488732,
          14.319769623488732,
          15.408083191322902,
          15.408083191322902,
          15.408083191322902,
          15.408083191322902,
          15.408083191322902,
          15.408083191322902,
          15.408083191322902,
          15.408083191322902,
          15.408083191322902,
          15.408083191322902,
          15.408083191322902,
          15.408083191322902,
          15.408083191322902,
          15.408083191322902,
          15.408083191322902,
          15.408083191322902,
          15.408083191322902,
          15.408083191322902,
          15.408083191322902,
          15.408083191322902,
          15.408083191322902,
          15.408083191322902,
          15.408083191322902,
          15.408083191322902,
          15.408083191322902,
          15.408083191322902,
          15.408083191322902,
          15.408083191322902,
          15.408083191322902,
          15.408083191322902,
          15.408083191322902,
          15.408083191322902,
          15.408083191322902,
          15.408083191322902,
          15.408083191322902,
          15.408083191322902,
          15.408083191322902,
          15.408083191322902,
          15.408083191322902,
          15.408083191322902,
          15.408083191322902,
          15.408083191322902,
          15.408083191322902,
          15.408083191322902,
          15.408083191322902,
          15.408083191322902,
          15.408083191322902,
          15.408083191322902,
          15.408083191322902,
          15.408083191322902,
          15.408083191322902,
          15.408083191322902,
          15.408083191322902,
          15.408083191322902,
          15.408083191322902,
          15.408083191322902,
          15.408083191322902,
          15.408083191322902,
          15.408083191322902,
          15.408083191322902,
          15.408083191322902,
          15.408083191322902,
          15.408083191322902,
          15.408083191322902,
          15.408083191322902,
          15.408083191322902,
          15.408083191322902,
          15.408083191322902,
          15.408083191322902,
          15.408083191322902,
          15.408083191322902,
          15.408083191322902,
          15.408083191322902,
          15.408083191322902,
          15.408083191322902,
          15.408083191322902,
          15.408083191322902,
          15.408083191322902,
          15.408083191322902,
          15.408083191322902,
          15.408083191322902,
          15.408083191322902,
          15.408083191322902,
          15.408083191322902,
          15.408083191322902,
          15.408083191322902,
          15.408083191322902,
          15.408083191322902,
          15.408083191322902,
          15.408083191322902,
          15.408083191322902,
          15.408083191322902,
          15.408083191322902,
          15.408083191322902,
          15.408083191322902,
          15.408083191322902,
          15.408083191322902,
          15.408083191322902,
          15.408083191322902,
          15.408083191322902,
          15.408083191322902,
          15.408083191322902,
          15.408083191322902,
          15.408083191322902,
          15.408083191322902,
          15.408083191322902,
          15.408083191322902,
          15.408083191322902,
          15.408083191322902,
          15.408083191322902,
          15.408083191322902,
          15.408083191322902,
          15.408083191322902,
          15.408083191322902,
          15.408083191322902,
          15.408083191322902,
          15.408083191322902,
          15.408083191322902,
          15.408083191322902,
          15.408083191322902,
          15.408083191322902,
          15.408083191322902,
          15.408083191322902,
          15.408083191322902,
          15.408083191322902,
          15.408083191322902,
          15.408083191322902,
          15.408083191322902,
          15.408083191322902,
          15.408083191322902,
          15.408083191322902,
          15.408083191322902,
          15.408083191322902,
          15.408083191322902,
          15.408083191322902,
          15.408083191322902,
          15.408083191322902,
          15.408083191322902,
          15.408083191322902,
          15.408083191322902,
          15.408083191322902,
          15.408083191322902,
          15.408083191322902,
          15.408083191322902,
          15.408083191322902,
          15.408083191322902,
          15.408083191322902,
          15.408083191322902,
          15.408083191322902,
          15.408083191322902,
          15.408083191322902,
          15.408083191322902,
          15.408083191322902,
          15.408083191322902,
          15.408083191322902,
          15.408083191322902,
          15.408083191322902,
          15.408083191322902,
          15.408083191322902,
          15.408083191322902,
          15.408083191322902,
          15.408083191322902,
          15.408083191322902,
          15.408083191322902,
          15.408083191322902,
          15.408083191322902,
          15.408083191322902,
          15.408083191322902,
          15.408083191322902,
          15.408083191322902,
          15.408083191322902,
          15.408083191322902,
          15.408083191322902,
          15.408083191322902,
          15.408083191322902,
          15.408083191322902,
          15.408083191322902,
          15.408083191322902,
          15.408083191322902,
          15.408083191322902,
          15.408083191322902,
          15.408083191322902,
          15.408083191322902,
          15.408083191322902,
          15.408083191322902,
          15.408083191322902,
          15.408083191322902,
          15.408083191322902,
          15.408083191322902,
          15.408083191322902,
          15.408083191322902,
          15.408083191322902,
          15.408083191322902,
          15.408083191322902,
          15.408083191322902,
          15.408083191322902,
          15.408083191322902,
          15.408083191322902,
          15.408083191322902,
          15.408083191322902,
          15.408083191322902,
          15.408083191322902,
          15.408083191322902,
          15.408083191322902,
          15.408083191322902,
          15.408083191322902,
          15.408083191322902,
          15.408083191322902,
          15.408083191322902,
          15.408083191322902,
          15.408083191322902,
          15.408083191322902,
          15.408083191322902,
          15.408083191322902,
          15.408083191322902,
          15.408083191322902
         ],
         "yaxis": "y"
        }
       ],
       "layout": {
        "legend": {
         "tracegroupgap": 0
        },
        "margin": {
         "b": 40,
         "l": 40,
         "r": 40,
         "t": 60
        },
        "template": {
         "data": {
          "bar": [
           {
            "error_x": {
             "color": "#2a3f5f"
            },
            "error_y": {
             "color": "#2a3f5f"
            },
            "marker": {
             "line": {
              "color": "#E5ECF6",
              "width": 0.5
             },
             "pattern": {
              "fillmode": "overlay",
              "size": 10,
              "solidity": 0.2
             }
            },
            "type": "bar"
           }
          ],
          "barpolar": [
           {
            "marker": {
             "line": {
              "color": "#E5ECF6",
              "width": 0.5
             },
             "pattern": {
              "fillmode": "overlay",
              "size": 10,
              "solidity": 0.2
             }
            },
            "type": "barpolar"
           }
          ],
          "carpet": [
           {
            "aaxis": {
             "endlinecolor": "#2a3f5f",
             "gridcolor": "white",
             "linecolor": "white",
             "minorgridcolor": "white",
             "startlinecolor": "#2a3f5f"
            },
            "baxis": {
             "endlinecolor": "#2a3f5f",
             "gridcolor": "white",
             "linecolor": "white",
             "minorgridcolor": "white",
             "startlinecolor": "#2a3f5f"
            },
            "type": "carpet"
           }
          ],
          "choropleth": [
           {
            "colorbar": {
             "outlinewidth": 0,
             "ticks": ""
            },
            "type": "choropleth"
           }
          ],
          "contour": [
           {
            "colorbar": {
             "outlinewidth": 0,
             "ticks": ""
            },
            "colorscale": [
             [
              0,
              "#0d0887"
             ],
             [
              0.1111111111111111,
              "#46039f"
             ],
             [
              0.2222222222222222,
              "#7201a8"
             ],
             [
              0.3333333333333333,
              "#9c179e"
             ],
             [
              0.4444444444444444,
              "#bd3786"
             ],
             [
              0.5555555555555556,
              "#d8576b"
             ],
             [
              0.6666666666666666,
              "#ed7953"
             ],
             [
              0.7777777777777778,
              "#fb9f3a"
             ],
             [
              0.8888888888888888,
              "#fdca26"
             ],
             [
              1,
              "#f0f921"
             ]
            ],
            "type": "contour"
           }
          ],
          "contourcarpet": [
           {
            "colorbar": {
             "outlinewidth": 0,
             "ticks": ""
            },
            "type": "contourcarpet"
           }
          ],
          "heatmap": [
           {
            "colorbar": {
             "outlinewidth": 0,
             "ticks": ""
            },
            "colorscale": [
             [
              0,
              "#0d0887"
             ],
             [
              0.1111111111111111,
              "#46039f"
             ],
             [
              0.2222222222222222,
              "#7201a8"
             ],
             [
              0.3333333333333333,
              "#9c179e"
             ],
             [
              0.4444444444444444,
              "#bd3786"
             ],
             [
              0.5555555555555556,
              "#d8576b"
             ],
             [
              0.6666666666666666,
              "#ed7953"
             ],
             [
              0.7777777777777778,
              "#fb9f3a"
             ],
             [
              0.8888888888888888,
              "#fdca26"
             ],
             [
              1,
              "#f0f921"
             ]
            ],
            "type": "heatmap"
           }
          ],
          "heatmapgl": [
           {
            "colorbar": {
             "outlinewidth": 0,
             "ticks": ""
            },
            "colorscale": [
             [
              0,
              "#0d0887"
             ],
             [
              0.1111111111111111,
              "#46039f"
             ],
             [
              0.2222222222222222,
              "#7201a8"
             ],
             [
              0.3333333333333333,
              "#9c179e"
             ],
             [
              0.4444444444444444,
              "#bd3786"
             ],
             [
              0.5555555555555556,
              "#d8576b"
             ],
             [
              0.6666666666666666,
              "#ed7953"
             ],
             [
              0.7777777777777778,
              "#fb9f3a"
             ],
             [
              0.8888888888888888,
              "#fdca26"
             ],
             [
              1,
              "#f0f921"
             ]
            ],
            "type": "heatmapgl"
           }
          ],
          "histogram": [
           {
            "marker": {
             "pattern": {
              "fillmode": "overlay",
              "size": 10,
              "solidity": 0.2
             }
            },
            "type": "histogram"
           }
          ],
          "histogram2d": [
           {
            "colorbar": {
             "outlinewidth": 0,
             "ticks": ""
            },
            "colorscale": [
             [
              0,
              "#0d0887"
             ],
             [
              0.1111111111111111,
              "#46039f"
             ],
             [
              0.2222222222222222,
              "#7201a8"
             ],
             [
              0.3333333333333333,
              "#9c179e"
             ],
             [
              0.4444444444444444,
              "#bd3786"
             ],
             [
              0.5555555555555556,
              "#d8576b"
             ],
             [
              0.6666666666666666,
              "#ed7953"
             ],
             [
              0.7777777777777778,
              "#fb9f3a"
             ],
             [
              0.8888888888888888,
              "#fdca26"
             ],
             [
              1,
              "#f0f921"
             ]
            ],
            "type": "histogram2d"
           }
          ],
          "histogram2dcontour": [
           {
            "colorbar": {
             "outlinewidth": 0,
             "ticks": ""
            },
            "colorscale": [
             [
              0,
              "#0d0887"
             ],
             [
              0.1111111111111111,
              "#46039f"
             ],
             [
              0.2222222222222222,
              "#7201a8"
             ],
             [
              0.3333333333333333,
              "#9c179e"
             ],
             [
              0.4444444444444444,
              "#bd3786"
             ],
             [
              0.5555555555555556,
              "#d8576b"
             ],
             [
              0.6666666666666666,
              "#ed7953"
             ],
             [
              0.7777777777777778,
              "#fb9f3a"
             ],
             [
              0.8888888888888888,
              "#fdca26"
             ],
             [
              1,
              "#f0f921"
             ]
            ],
            "type": "histogram2dcontour"
           }
          ],
          "mesh3d": [
           {
            "colorbar": {
             "outlinewidth": 0,
             "ticks": ""
            },
            "type": "mesh3d"
           }
          ],
          "parcoords": [
           {
            "line": {
             "colorbar": {
              "outlinewidth": 0,
              "ticks": ""
             }
            },
            "type": "parcoords"
           }
          ],
          "pie": [
           {
            "automargin": true,
            "type": "pie"
           }
          ],
          "scatter": [
           {
            "marker": {
             "colorbar": {
              "outlinewidth": 0,
              "ticks": ""
             }
            },
            "type": "scatter"
           }
          ],
          "scatter3d": [
           {
            "line": {
             "colorbar": {
              "outlinewidth": 0,
              "ticks": ""
             }
            },
            "marker": {
             "colorbar": {
              "outlinewidth": 0,
              "ticks": ""
             }
            },
            "type": "scatter3d"
           }
          ],
          "scattercarpet": [
           {
            "marker": {
             "colorbar": {
              "outlinewidth": 0,
              "ticks": ""
             }
            },
            "type": "scattercarpet"
           }
          ],
          "scattergeo": [
           {
            "marker": {
             "colorbar": {
              "outlinewidth": 0,
              "ticks": ""
             }
            },
            "type": "scattergeo"
           }
          ],
          "scattergl": [
           {
            "marker": {
             "colorbar": {
              "outlinewidth": 0,
              "ticks": ""
             }
            },
            "type": "scattergl"
           }
          ],
          "scattermapbox": [
           {
            "marker": {
             "colorbar": {
              "outlinewidth": 0,
              "ticks": ""
             }
            },
            "type": "scattermapbox"
           }
          ],
          "scatterpolar": [
           {
            "marker": {
             "colorbar": {
              "outlinewidth": 0,
              "ticks": ""
             }
            },
            "type": "scatterpolar"
           }
          ],
          "scatterpolargl": [
           {
            "marker": {
             "colorbar": {
              "outlinewidth": 0,
              "ticks": ""
             }
            },
            "type": "scatterpolargl"
           }
          ],
          "scatterternary": [
           {
            "marker": {
             "colorbar": {
              "outlinewidth": 0,
              "ticks": ""
             }
            },
            "type": "scatterternary"
           }
          ],
          "surface": [
           {
            "colorbar": {
             "outlinewidth": 0,
             "ticks": ""
            },
            "colorscale": [
             [
              0,
              "#0d0887"
             ],
             [
              0.1111111111111111,
              "#46039f"
             ],
             [
              0.2222222222222222,
              "#7201a8"
             ],
             [
              0.3333333333333333,
              "#9c179e"
             ],
             [
              0.4444444444444444,
              "#bd3786"
             ],
             [
              0.5555555555555556,
              "#d8576b"
             ],
             [
              0.6666666666666666,
              "#ed7953"
             ],
             [
              0.7777777777777778,
              "#fb9f3a"
             ],
             [
              0.8888888888888888,
              "#fdca26"
             ],
             [
              1,
              "#f0f921"
             ]
            ],
            "type": "surface"
           }
          ],
          "table": [
           {
            "cells": {
             "fill": {
              "color": "#EBF0F8"
             },
             "line": {
              "color": "white"
             }
            },
            "header": {
             "fill": {
              "color": "#C8D4E3"
             },
             "line": {
              "color": "white"
             }
            },
            "type": "table"
           }
          ]
         },
         "layout": {
          "annotationdefaults": {
           "arrowcolor": "#2a3f5f",
           "arrowhead": 0,
           "arrowwidth": 1
          },
          "autotypenumbers": "strict",
          "coloraxis": {
           "colorbar": {
            "outlinewidth": 0,
            "ticks": ""
           }
          },
          "colorscale": {
           "diverging": [
            [
             0,
             "#8e0152"
            ],
            [
             0.1,
             "#c51b7d"
            ],
            [
             0.2,
             "#de77ae"
            ],
            [
             0.3,
             "#f1b6da"
            ],
            [
             0.4,
             "#fde0ef"
            ],
            [
             0.5,
             "#f7f7f7"
            ],
            [
             0.6,
             "#e6f5d0"
            ],
            [
             0.7,
             "#b8e186"
            ],
            [
             0.8,
             "#7fbc41"
            ],
            [
             0.9,
             "#4d9221"
            ],
            [
             1,
             "#276419"
            ]
           ],
           "sequential": [
            [
             0,
             "#0d0887"
            ],
            [
             0.1111111111111111,
             "#46039f"
            ],
            [
             0.2222222222222222,
             "#7201a8"
            ],
            [
             0.3333333333333333,
             "#9c179e"
            ],
            [
             0.4444444444444444,
             "#bd3786"
            ],
            [
             0.5555555555555556,
             "#d8576b"
            ],
            [
             0.6666666666666666,
             "#ed7953"
            ],
            [
             0.7777777777777778,
             "#fb9f3a"
            ],
            [
             0.8888888888888888,
             "#fdca26"
            ],
            [
             1,
             "#f0f921"
            ]
           ],
           "sequentialminus": [
            [
             0,
             "#0d0887"
            ],
            [
             0.1111111111111111,
             "#46039f"
            ],
            [
             0.2222222222222222,
             "#7201a8"
            ],
            [
             0.3333333333333333,
             "#9c179e"
            ],
            [
             0.4444444444444444,
             "#bd3786"
            ],
            [
             0.5555555555555556,
             "#d8576b"
            ],
            [
             0.6666666666666666,
             "#ed7953"
            ],
            [
             0.7777777777777778,
             "#fb9f3a"
            ],
            [
             0.8888888888888888,
             "#fdca26"
            ],
            [
             1,
             "#f0f921"
            ]
           ]
          },
          "colorway": [
           "#636efa",
           "#EF553B",
           "#00cc96",
           "#ab63fa",
           "#FFA15A",
           "#19d3f3",
           "#FF6692",
           "#B6E880",
           "#FF97FF",
           "#FECB52"
          ],
          "font": {
           "color": "#2a3f5f"
          },
          "geo": {
           "bgcolor": "white",
           "lakecolor": "white",
           "landcolor": "#E5ECF6",
           "showlakes": true,
           "showland": true,
           "subunitcolor": "white"
          },
          "hoverlabel": {
           "align": "left"
          },
          "hovermode": "closest",
          "mapbox": {
           "style": "light"
          },
          "paper_bgcolor": "white",
          "plot_bgcolor": "#E5ECF6",
          "polar": {
           "angularaxis": {
            "gridcolor": "white",
            "linecolor": "white",
            "ticks": ""
           },
           "bgcolor": "#E5ECF6",
           "radialaxis": {
            "gridcolor": "white",
            "linecolor": "white",
            "ticks": ""
           }
          },
          "scene": {
           "xaxis": {
            "backgroundcolor": "#E5ECF6",
            "gridcolor": "white",
            "gridwidth": 2,
            "linecolor": "white",
            "showbackground": true,
            "ticks": "",
            "zerolinecolor": "white"
           },
           "yaxis": {
            "backgroundcolor": "#E5ECF6",
            "gridcolor": "white",
            "gridwidth": 2,
            "linecolor": "white",
            "showbackground": true,
            "ticks": "",
            "zerolinecolor": "white"
           },
           "zaxis": {
            "backgroundcolor": "#E5ECF6",
            "gridcolor": "white",
            "gridwidth": 2,
            "linecolor": "white",
            "showbackground": true,
            "ticks": "",
            "zerolinecolor": "white"
           }
          },
          "shapedefaults": {
           "line": {
            "color": "#2a3f5f"
           }
          },
          "ternary": {
           "aaxis": {
            "gridcolor": "white",
            "linecolor": "white",
            "ticks": ""
           },
           "baxis": {
            "gridcolor": "white",
            "linecolor": "white",
            "ticks": ""
           },
           "bgcolor": "#E5ECF6",
           "caxis": {
            "gridcolor": "white",
            "linecolor": "white",
            "ticks": ""
           }
          },
          "title": {
           "x": 0.05
          },
          "xaxis": {
           "automargin": true,
           "gridcolor": "white",
           "linecolor": "white",
           "ticks": "",
           "title": {
            "standoff": 15
           },
           "zerolinecolor": "white",
           "zerolinewidth": 2
          },
          "yaxis": {
           "automargin": true,
           "gridcolor": "white",
           "linecolor": "white",
           "ticks": "",
           "title": {
            "standoff": 15
           },
           "zerolinecolor": "white",
           "zerolinewidth": 2
          }
         }
        },
        "title": {
         "font": {
          "size": 18
         },
         "text": "Relación entre densidad de población y precio por metro cuadrado agregado para todas las neighborhoods"
        },
        "xaxis": {
         "anchor": "y",
         "domain": [
          0,
          1
         ],
         "tickfont": {
          "size": 12
         },
         "title": {
          "font": {
           "size": 14
          },
          "text": "Densidad poblacional (hab/km²)"
         }
        },
        "yaxis": {
         "anchor": "x",
         "domain": [
          0,
          1
         ],
         "tickfont": {
          "size": 12
         },
         "title": {
          "font": {
           "size": 14
          },
          "text": "Precio por metro cuadrado (€)"
         }
        }
       }
      }
     },
     "metadata": {},
     "output_type": "display_data"
    },
    {
     "name": "stdout",
     "output_type": "stream",
     "text": [
      "Coeficiente de correlación: 0.47\n",
      "P-valor: 0.00000\n",
      "Existe una correlación estadísticamente significativa.\n",
      "La correlación es débil.\n"
     ]
    }
   ],
   "source": [
    "\n",
    "\n",
    "# Crear gráfico de dispersión con Plotly\n",
    "fig = px.scatter(\n",
    "    df,\n",
    "    x='population_density',\n",
    "    y='m2_price',\n",
    "    trendline=\"ols\",  # Agregar línea de regresión\n",
    "    title=f'Relación entre densidad de población y precio por metro cuadrado agregado para todas las neighborhoods',\n",
    "    labels={\n",
    "        'population_density': 'Densidad poblacional (hab/km²)',\n",
    "        'm2_price': 'Precio por metro cuadrado (€)',\n",
    "    },\n",
    "    opacity=0.7\n",
    ")\n",
    "\n",
    "# Mejorar diseño\n",
    "fig.update_traces(selector=dict(mode='lines'), line=dict(color='red'))\n",
    "fig.update_traces(marker=dict(size=8, color='blue'))\n",
    "fig.update_layout(\n",
    "    margin=dict(l=40, r=40, t=60, b=40),\n",
    "    xaxis=dict(title_font=dict(size=14), tickfont=dict(size=12)),\n",
    "    yaxis=dict(title_font=dict(size=14), tickfont=dict(size=12)),\n",
    "    title=dict(font=dict(size=18))\n",
    ")\n",
    "\n",
    "fig.show()\n",
    "\n",
    "# Calcular el coeficiente de correlación de Pearson\n",
    "correlation, p_value = pearsonr(df['population_density'], df['m2_price'])\n",
    "\n",
    "# Imprimir resultados de correlación\n",
    "print(f\"Coeficiente de correlación: {correlation:.2f}\")\n",
    "print(f\"P-valor: {p_value:.5f}\")\n",
    "\n",
    "# Interpretación de la correlación\n",
    "if p_value < 0.05:\n",
    "    print(\"Existe una correlación estadísticamente significativa.\")\n",
    "    if abs(correlation) > 0.5:\n",
    "        print(\"La correlación es moderada o fuerte.\")\n",
    "    else:\n",
    "        print(\"La correlación es débil.\")\n",
    "else:\n",
    "    print(\"No hay evidencia suficiente para concluir que existe una correlación significativa.\")\n"
   ]
  },
  {
   "cell_type": "markdown",
   "metadata": {},
   "source": [
    "Vemos como cuanto mayor en la densidad poblacional mayor es el precio de la viviendo lo cual es lógica hay más demanda para comprar casas, lo que tenemos que ver también es el número de oferta"
   ]
  },
  {
   "cell_type": "code",
   "execution_count": 75,
   "metadata": {},
   "outputs": [
    {
     "data": {
      "application/vnd.plotly.v1+json": {
       "config": {
        "plotlyServerURL": "https://plot.ly"
       },
       "data": [
        {
         "line": {
          "color": "black"
         },
         "marker": {
          "size": 8
         },
         "mode": "lines+markers",
         "name": "Listing propeidades en Airbnb (Menor indica menor disponinilidad)",
         "type": "scatter",
         "x": [
          1,
          2,
          3,
          4,
          5,
          6,
          7,
          8,
          9,
          10,
          11,
          12
         ],
         "y": [
          110.64044943820225,
          106.16201117318435,
          113.65745856353591,
          109.59782608695652,
          115.75,
          126.55555555555556,
          132.91256830601094,
          110.68306010928961,
          136.6263157894737,
          145.3193717277487,
          137.66666666666666,
          144.7724867724868
         ],
         "yaxis": "y"
        },
        {
         "line": {
          "color": "blue"
         },
         "marker": {
          "size": 8
         },
         "mode": "lines+markers",
         "name": "Precio medio de las viviendas listadas en Airbnb",
         "type": "scatter",
         "x": [
          1,
          2,
          3,
          4,
          5,
          6,
          7,
          8,
          9,
          10,
          11,
          12
         ],
         "y": [
          105.1332772553602,
          98.03384299223029,
          105.82332924396167,
          101.1441968391957,
          105.60428398942875,
          108.49616993264155,
          107.9114565535483,
          105.19401236218056,
          94.90633402718977,
          98.75170472348508,
          97.5259272207705,
          100.57717115360697
         ],
         "yaxis": "y2"
        }
       ],
       "layout": {
        "legend": {
         "bgcolor": "rgba(255,255,255,0)",
         "bordercolor": "rgba(0,0,0,0)",
         "x": 0.01,
         "y": 0.99
        },
        "margin": {
         "b": 40,
         "l": 40,
         "r": 40,
         "t": 60
        },
        "template": {
         "data": {
          "bar": [
           {
            "error_x": {
             "color": "#2a3f5f"
            },
            "error_y": {
             "color": "#2a3f5f"
            },
            "marker": {
             "line": {
              "color": "white",
              "width": 0.5
             },
             "pattern": {
              "fillmode": "overlay",
              "size": 10,
              "solidity": 0.2
             }
            },
            "type": "bar"
           }
          ],
          "barpolar": [
           {
            "marker": {
             "line": {
              "color": "white",
              "width": 0.5
             },
             "pattern": {
              "fillmode": "overlay",
              "size": 10,
              "solidity": 0.2
             }
            },
            "type": "barpolar"
           }
          ],
          "carpet": [
           {
            "aaxis": {
             "endlinecolor": "#2a3f5f",
             "gridcolor": "#C8D4E3",
             "linecolor": "#C8D4E3",
             "minorgridcolor": "#C8D4E3",
             "startlinecolor": "#2a3f5f"
            },
            "baxis": {
             "endlinecolor": "#2a3f5f",
             "gridcolor": "#C8D4E3",
             "linecolor": "#C8D4E3",
             "minorgridcolor": "#C8D4E3",
             "startlinecolor": "#2a3f5f"
            },
            "type": "carpet"
           }
          ],
          "choropleth": [
           {
            "colorbar": {
             "outlinewidth": 0,
             "ticks": ""
            },
            "type": "choropleth"
           }
          ],
          "contour": [
           {
            "colorbar": {
             "outlinewidth": 0,
             "ticks": ""
            },
            "colorscale": [
             [
              0,
              "#0d0887"
             ],
             [
              0.1111111111111111,
              "#46039f"
             ],
             [
              0.2222222222222222,
              "#7201a8"
             ],
             [
              0.3333333333333333,
              "#9c179e"
             ],
             [
              0.4444444444444444,
              "#bd3786"
             ],
             [
              0.5555555555555556,
              "#d8576b"
             ],
             [
              0.6666666666666666,
              "#ed7953"
             ],
             [
              0.7777777777777778,
              "#fb9f3a"
             ],
             [
              0.8888888888888888,
              "#fdca26"
             ],
             [
              1,
              "#f0f921"
             ]
            ],
            "type": "contour"
           }
          ],
          "contourcarpet": [
           {
            "colorbar": {
             "outlinewidth": 0,
             "ticks": ""
            },
            "type": "contourcarpet"
           }
          ],
          "heatmap": [
           {
            "colorbar": {
             "outlinewidth": 0,
             "ticks": ""
            },
            "colorscale": [
             [
              0,
              "#0d0887"
             ],
             [
              0.1111111111111111,
              "#46039f"
             ],
             [
              0.2222222222222222,
              "#7201a8"
             ],
             [
              0.3333333333333333,
              "#9c179e"
             ],
             [
              0.4444444444444444,
              "#bd3786"
             ],
             [
              0.5555555555555556,
              "#d8576b"
             ],
             [
              0.6666666666666666,
              "#ed7953"
             ],
             [
              0.7777777777777778,
              "#fb9f3a"
             ],
             [
              0.8888888888888888,
              "#fdca26"
             ],
             [
              1,
              "#f0f921"
             ]
            ],
            "type": "heatmap"
           }
          ],
          "heatmapgl": [
           {
            "colorbar": {
             "outlinewidth": 0,
             "ticks": ""
            },
            "colorscale": [
             [
              0,
              "#0d0887"
             ],
             [
              0.1111111111111111,
              "#46039f"
             ],
             [
              0.2222222222222222,
              "#7201a8"
             ],
             [
              0.3333333333333333,
              "#9c179e"
             ],
             [
              0.4444444444444444,
              "#bd3786"
             ],
             [
              0.5555555555555556,
              "#d8576b"
             ],
             [
              0.6666666666666666,
              "#ed7953"
             ],
             [
              0.7777777777777778,
              "#fb9f3a"
             ],
             [
              0.8888888888888888,
              "#fdca26"
             ],
             [
              1,
              "#f0f921"
             ]
            ],
            "type": "heatmapgl"
           }
          ],
          "histogram": [
           {
            "marker": {
             "pattern": {
              "fillmode": "overlay",
              "size": 10,
              "solidity": 0.2
             }
            },
            "type": "histogram"
           }
          ],
          "histogram2d": [
           {
            "colorbar": {
             "outlinewidth": 0,
             "ticks": ""
            },
            "colorscale": [
             [
              0,
              "#0d0887"
             ],
             [
              0.1111111111111111,
              "#46039f"
             ],
             [
              0.2222222222222222,
              "#7201a8"
             ],
             [
              0.3333333333333333,
              "#9c179e"
             ],
             [
              0.4444444444444444,
              "#bd3786"
             ],
             [
              0.5555555555555556,
              "#d8576b"
             ],
             [
              0.6666666666666666,
              "#ed7953"
             ],
             [
              0.7777777777777778,
              "#fb9f3a"
             ],
             [
              0.8888888888888888,
              "#fdca26"
             ],
             [
              1,
              "#f0f921"
             ]
            ],
            "type": "histogram2d"
           }
          ],
          "histogram2dcontour": [
           {
            "colorbar": {
             "outlinewidth": 0,
             "ticks": ""
            },
            "colorscale": [
             [
              0,
              "#0d0887"
             ],
             [
              0.1111111111111111,
              "#46039f"
             ],
             [
              0.2222222222222222,
              "#7201a8"
             ],
             [
              0.3333333333333333,
              "#9c179e"
             ],
             [
              0.4444444444444444,
              "#bd3786"
             ],
             [
              0.5555555555555556,
              "#d8576b"
             ],
             [
              0.6666666666666666,
              "#ed7953"
             ],
             [
              0.7777777777777778,
              "#fb9f3a"
             ],
             [
              0.8888888888888888,
              "#fdca26"
             ],
             [
              1,
              "#f0f921"
             ]
            ],
            "type": "histogram2dcontour"
           }
          ],
          "mesh3d": [
           {
            "colorbar": {
             "outlinewidth": 0,
             "ticks": ""
            },
            "type": "mesh3d"
           }
          ],
          "parcoords": [
           {
            "line": {
             "colorbar": {
              "outlinewidth": 0,
              "ticks": ""
             }
            },
            "type": "parcoords"
           }
          ],
          "pie": [
           {
            "automargin": true,
            "type": "pie"
           }
          ],
          "scatter": [
           {
            "marker": {
             "colorbar": {
              "outlinewidth": 0,
              "ticks": ""
             }
            },
            "type": "scatter"
           }
          ],
          "scatter3d": [
           {
            "line": {
             "colorbar": {
              "outlinewidth": 0,
              "ticks": ""
             }
            },
            "marker": {
             "colorbar": {
              "outlinewidth": 0,
              "ticks": ""
             }
            },
            "type": "scatter3d"
           }
          ],
          "scattercarpet": [
           {
            "marker": {
             "colorbar": {
              "outlinewidth": 0,
              "ticks": ""
             }
            },
            "type": "scattercarpet"
           }
          ],
          "scattergeo": [
           {
            "marker": {
             "colorbar": {
              "outlinewidth": 0,
              "ticks": ""
             }
            },
            "type": "scattergeo"
           }
          ],
          "scattergl": [
           {
            "marker": {
             "colorbar": {
              "outlinewidth": 0,
              "ticks": ""
             }
            },
            "type": "scattergl"
           }
          ],
          "scattermapbox": [
           {
            "marker": {
             "colorbar": {
              "outlinewidth": 0,
              "ticks": ""
             }
            },
            "type": "scattermapbox"
           }
          ],
          "scatterpolar": [
           {
            "marker": {
             "colorbar": {
              "outlinewidth": 0,
              "ticks": ""
             }
            },
            "type": "scatterpolar"
           }
          ],
          "scatterpolargl": [
           {
            "marker": {
             "colorbar": {
              "outlinewidth": 0,
              "ticks": ""
             }
            },
            "type": "scatterpolargl"
           }
          ],
          "scatterternary": [
           {
            "marker": {
             "colorbar": {
              "outlinewidth": 0,
              "ticks": ""
             }
            },
            "type": "scatterternary"
           }
          ],
          "surface": [
           {
            "colorbar": {
             "outlinewidth": 0,
             "ticks": ""
            },
            "colorscale": [
             [
              0,
              "#0d0887"
             ],
             [
              0.1111111111111111,
              "#46039f"
             ],
             [
              0.2222222222222222,
              "#7201a8"
             ],
             [
              0.3333333333333333,
              "#9c179e"
             ],
             [
              0.4444444444444444,
              "#bd3786"
             ],
             [
              0.5555555555555556,
              "#d8576b"
             ],
             [
              0.6666666666666666,
              "#ed7953"
             ],
             [
              0.7777777777777778,
              "#fb9f3a"
             ],
             [
              0.8888888888888888,
              "#fdca26"
             ],
             [
              1,
              "#f0f921"
             ]
            ],
            "type": "surface"
           }
          ],
          "table": [
           {
            "cells": {
             "fill": {
              "color": "#EBF0F8"
             },
             "line": {
              "color": "white"
             }
            },
            "header": {
             "fill": {
              "color": "#C8D4E3"
             },
             "line": {
              "color": "white"
             }
            },
            "type": "table"
           }
          ]
         },
         "layout": {
          "annotationdefaults": {
           "arrowcolor": "#2a3f5f",
           "arrowhead": 0,
           "arrowwidth": 1
          },
          "autotypenumbers": "strict",
          "coloraxis": {
           "colorbar": {
            "outlinewidth": 0,
            "ticks": ""
           }
          },
          "colorscale": {
           "diverging": [
            [
             0,
             "#8e0152"
            ],
            [
             0.1,
             "#c51b7d"
            ],
            [
             0.2,
             "#de77ae"
            ],
            [
             0.3,
             "#f1b6da"
            ],
            [
             0.4,
             "#fde0ef"
            ],
            [
             0.5,
             "#f7f7f7"
            ],
            [
             0.6,
             "#e6f5d0"
            ],
            [
             0.7,
             "#b8e186"
            ],
            [
             0.8,
             "#7fbc41"
            ],
            [
             0.9,
             "#4d9221"
            ],
            [
             1,
             "#276419"
            ]
           ],
           "sequential": [
            [
             0,
             "#0d0887"
            ],
            [
             0.1111111111111111,
             "#46039f"
            ],
            [
             0.2222222222222222,
             "#7201a8"
            ],
            [
             0.3333333333333333,
             "#9c179e"
            ],
            [
             0.4444444444444444,
             "#bd3786"
            ],
            [
             0.5555555555555556,
             "#d8576b"
            ],
            [
             0.6666666666666666,
             "#ed7953"
            ],
            [
             0.7777777777777778,
             "#fb9f3a"
            ],
            [
             0.8888888888888888,
             "#fdca26"
            ],
            [
             1,
             "#f0f921"
            ]
           ],
           "sequentialminus": [
            [
             0,
             "#0d0887"
            ],
            [
             0.1111111111111111,
             "#46039f"
            ],
            [
             0.2222222222222222,
             "#7201a8"
            ],
            [
             0.3333333333333333,
             "#9c179e"
            ],
            [
             0.4444444444444444,
             "#bd3786"
            ],
            [
             0.5555555555555556,
             "#d8576b"
            ],
            [
             0.6666666666666666,
             "#ed7953"
            ],
            [
             0.7777777777777778,
             "#fb9f3a"
            ],
            [
             0.8888888888888888,
             "#fdca26"
            ],
            [
             1,
             "#f0f921"
            ]
           ]
          },
          "colorway": [
           "#636efa",
           "#EF553B",
           "#00cc96",
           "#ab63fa",
           "#FFA15A",
           "#19d3f3",
           "#FF6692",
           "#B6E880",
           "#FF97FF",
           "#FECB52"
          ],
          "font": {
           "color": "#2a3f5f"
          },
          "geo": {
           "bgcolor": "white",
           "lakecolor": "white",
           "landcolor": "white",
           "showlakes": true,
           "showland": true,
           "subunitcolor": "#C8D4E3"
          },
          "hoverlabel": {
           "align": "left"
          },
          "hovermode": "closest",
          "mapbox": {
           "style": "light"
          },
          "paper_bgcolor": "white",
          "plot_bgcolor": "white",
          "polar": {
           "angularaxis": {
            "gridcolor": "#EBF0F8",
            "linecolor": "#EBF0F8",
            "ticks": ""
           },
           "bgcolor": "white",
           "radialaxis": {
            "gridcolor": "#EBF0F8",
            "linecolor": "#EBF0F8",
            "ticks": ""
           }
          },
          "scene": {
           "xaxis": {
            "backgroundcolor": "white",
            "gridcolor": "#DFE8F3",
            "gridwidth": 2,
            "linecolor": "#EBF0F8",
            "showbackground": true,
            "ticks": "",
            "zerolinecolor": "#EBF0F8"
           },
           "yaxis": {
            "backgroundcolor": "white",
            "gridcolor": "#DFE8F3",
            "gridwidth": 2,
            "linecolor": "#EBF0F8",
            "showbackground": true,
            "ticks": "",
            "zerolinecolor": "#EBF0F8"
           },
           "zaxis": {
            "backgroundcolor": "white",
            "gridcolor": "#DFE8F3",
            "gridwidth": 2,
            "linecolor": "#EBF0F8",
            "showbackground": true,
            "ticks": "",
            "zerolinecolor": "#EBF0F8"
           }
          },
          "shapedefaults": {
           "line": {
            "color": "#2a3f5f"
           }
          },
          "ternary": {
           "aaxis": {
            "gridcolor": "#DFE8F3",
            "linecolor": "#A2B1C6",
            "ticks": ""
           },
           "baxis": {
            "gridcolor": "#DFE8F3",
            "linecolor": "#A2B1C6",
            "ticks": ""
           },
           "bgcolor": "white",
           "caxis": {
            "gridcolor": "#DFE8F3",
            "linecolor": "#A2B1C6",
            "ticks": ""
           }
          },
          "title": {
           "x": 0.05
          },
          "xaxis": {
           "automargin": true,
           "gridcolor": "#EBF0F8",
           "linecolor": "#EBF0F8",
           "ticks": "",
           "title": {
            "standoff": 15
           },
           "zerolinecolor": "#EBF0F8",
           "zerolinewidth": 2
          },
          "yaxis": {
           "automargin": true,
           "gridcolor": "#EBF0F8",
           "linecolor": "#EBF0F8",
           "ticks": "",
           "title": {
            "standoff": 15
           },
           "zerolinecolor": "#EBF0F8",
           "zerolinewidth": 2
          }
         }
        },
        "title": {
         "text": "Patrones Estacionales: Reseñas Mensuales y Disponibilidad en Airbnb"
        },
        "xaxis": {
         "tickmode": "array",
         "ticktext": [
          "Enero",
          "Febrero",
          "Marzo",
          "Abril",
          "Mayo",
          "Junio",
          "Julio",
          "Agosto",
          "Septiembre",
          "Octubre",
          "Noviembre",
          "Diciembre"
         ],
         "tickvals": [
          1,
          2,
          3,
          4,
          5,
          6,
          7,
          8,
          9,
          10,
          11,
          12
         ],
         "title": {
          "text": "Mes"
         }
        },
        "yaxis": {
         "tickfont": {
          "color": "black"
         },
         "title": {
          "font": {
           "color": "black"
          },
          "text": "Listing propeidades en Airbnb (Menor indica menor disponibilidad)"
         }
        },
        "yaxis2": {
         "overlaying": "y",
         "side": "right",
         "tickfont": {
          "color": "blue"
         },
         "title": {
          "font": {
           "color": "blue"
          },
          "text": "Precio medio de las viviendas listadas en Airbnb"
         }
        }
       }
      }
     },
     "metadata": {},
     "output_type": "display_data"
    }
   ],
   "source": [
    "import plotly.graph_objects as go\n",
    "import pandas as pd\n",
    "\n",
    "# Asegúrate de que la columna 'date' sea de tipo datetime\n",
    "df['date'] = pd.to_datetime(df['date'])\n",
    "\n",
    "# Agregar columnas para extraer el mes y el año\n",
    "df['month'] = df['date'].dt.month\n",
    "df['year'] = df['date'].dt.year\n",
    "\n",
    "# Agrupar por mes para calcular la media de reviews_per_month y availability_365\n",
    "monthly_data = df.groupby('month').agg({\n",
    "    'reviews_per_month': 'mean',\n",
    "    'listings_count': 'mean',\n",
    "     'nigth_price': 'mean',\n",
    "}).reset_index()\n",
    "\n",
    "# Crear la figura con dos leyendas separadas\n",
    "fig = go.Figure()\n",
    "\n",
    "# Línea para reviews_per_month\n",
    "#fig.add_trace(go.Scatter(\n",
    "#    x=monthly_data['month'],\n",
    "#    y=monthly_data['reviews_per_month'],\n",
    "#    mode='lines+markers',\n",
    "#    name='Reseñas por Mes',\n",
    "#    line=dict(color='blue'),\n",
    "#    marker=dict(size=8)\n",
    "#))\n",
    "\n",
    "# Línea para availability_365\n",
    "fig.add_trace(go.Scatter(\n",
    "    x=monthly_data['month'],\n",
    "    y=monthly_data['listings_count'],\n",
    "    mode='lines+markers',\n",
    "    name='Listing propeidades en Airbnb (Menor indica menor disponinilidad)',\n",
    "    line=dict(color='black'),\n",
    "    marker=dict(size=8),\n",
    "    yaxis='y'  # Asignar al segundo eje Y\n",
    "))\n",
    "\n",
    "fig.add_trace(go.Scatter(\n",
    "    x=monthly_data['month'],\n",
    "    y=monthly_data['nigth_price'],\n",
    "    mode='lines+markers',\n",
    "    name='Precio medio de las viviendas listadas en Airbnb',\n",
    "    line=dict(color='blue'),\n",
    "    marker=dict(size=8),\n",
    "    yaxis='y2'  # Asignar al segundo eje Y\n",
    "))\n",
    "\n",
    "# Configurar el diseño del gráfico\n",
    "fig.update_layout(\n",
    "    title='Patrones Estacionales: Reseñas Mensuales y Disponibilidad en Airbnb',\n",
    "    xaxis=dict(\n",
    "        title='Mes',\n",
    "        tickmode='array',\n",
    "        tickvals=list(range(1, 13)),\n",
    "        ticktext=['Enero', 'Febrero', 'Marzo', 'Abril', 'Mayo', 'Junio',\n",
    "                  'Julio', 'Agosto', 'Septiembre', 'Octubre', 'Noviembre', 'Diciembre']\n",
    "    ),\n",
    "    yaxis=dict(\n",
    "        title='Listing propeidades en Airbnb (Menor indica menor disponibilidad)',\n",
    "        titlefont=dict(color='black'),\n",
    "        tickfont=dict(color='black'),\n",
    "    ),\n",
    "    yaxis2=dict(\n",
    "        title='Precio medio de las viviendas listadas en Airbnb',\n",
    "        titlefont=dict(color='blue'),\n",
    "        tickfont=dict(color='blue'),\n",
    "        overlaying='y',  # Superponer el segundo eje Y al primero\n",
    "        side='right'     # Mostrar el segundo eje Y en la derecha\n",
    "    ),\n",
    "\n",
    "    legend=dict(\n",
    "        x=0.01,\n",
    "        y=0.99,\n",
    "        bgcolor='rgba(255,255,255,0)',\n",
    "        bordercolor='rgba(0,0,0,0)'\n",
    "    ),\n",
    "    template='plotly_white',\n",
    "    margin=dict(l=40, r=40, t=60, b=40)\n",
    ")\n",
    "\n",
    "# Mostrar el gráfico\n",
    "fig.show()\n"
   ]
  },
  {
   "cell_type": "markdown",
   "metadata": {},
   "source": [
    "Aqui estamos viuendo los patrones estacionales de viviendas alquiladas por mes y número de reseñas, en dodne que vemos que tanto el mes de agosto como el de febrebro es donde más gente vienen a Madrid"
   ]
  },
  {
   "cell_type": "code",
   "execution_count": 34,
   "metadata": {},
   "outputs": [
    {
     "data": {
      "application/vnd.plotly.v1+json": {
       "config": {
        "plotlyServerURL": "https://plot.ly"
       },
       "data": [
        {
         "hovertemplate": "<b>%{text}</b><br>Anfitriones: %{x}<br>Precio por m²: %{y}€<br><extra></extra>",
         "marker": {
          "color": [
           13.823507462686566,
           11.194508196721312,
           10.881735537190083,
           16.23167741935484,
           15.04811475409836,
           16.279343065693432,
           12.453770491803278,
           11.935,
           10.80320610687023,
           10.579722222222221,
           11.004237288135593,
           14.44273381294964,
           16.91551470588235,
           14.246279069767441,
           10.9170796460177,
           10.347777777777777,
           11.041978021978023,
           10.023660714285715
          ],
          "colorbar": {
           "title": {
            "text": "Precio por m² (€)"
           }
          },
          "colorscale": [
           [
            0,
            "#440154"
           ],
           [
            0.1111111111111111,
            "#482878"
           ],
           [
            0.2222222222222222,
            "#3e4989"
           ],
           [
            0.3333333333333333,
            "#31688e"
           ],
           [
            0.4444444444444444,
            "#26828e"
           ],
           [
            0.5555555555555556,
            "#1f9e89"
           ],
           [
            0.6666666666666666,
            "#35b779"
           ],
           [
            0.7777777777777778,
            "#6ece58"
           ],
           [
            0.8888888888888888,
            "#b5de2b"
           ],
           [
            1,
            "#fde725"
           ]
          ],
          "showscale": true,
          "size": [
           83.45522388059702,
           12.442622950819672,
           42.34710743801653,
           604.7161290322581,
           36.90983606557377,
           66.08029197080292,
           43.84426229508197,
           26.21014492753623,
           34.88549618320611,
           8.777777777777779,
           39.932203389830505,
           54.410071942446045,
           78.26470588235294,
           55.53488372093023,
           22.95575221238938,
           4.311111111111111,
           8.45054945054945,
           9.741071428571429
          ],
          "sizemin": 10,
          "sizemode": "area",
          "sizeref": 0.12094322580645162
         },
         "mode": "markers",
         "name": "Neighbourhood Groups",
         "text": [
          "Arganzuela",
          "Barajas",
          "Carabanchel",
          "Centro",
          "Chamartín",
          "Chamberí",
          "Ciudad Lineal",
          "Hortaleza",
          "Latina",
          "Moratalaz",
          "Puente de Vallecas",
          "Retiro",
          "Salamanca",
          "Tetuán",
          "Usera",
          "Vicálvaro",
          "Villa de Vallecas",
          "Villaverde"
         ],
         "type": "scatter",
         "x": [
          83.45522388059702,
          12.442622950819672,
          42.34710743801653,
          604.7161290322581,
          36.90983606557377,
          66.08029197080292,
          43.84426229508197,
          26.21014492753623,
          34.88549618320611,
          8.777777777777779,
          39.932203389830505,
          54.410071942446045,
          78.26470588235294,
          55.53488372093023,
          22.95575221238938,
          4.311111111111111,
          8.45054945054945,
          9.741071428571429
         ],
         "y": [
          13.823507462686566,
          11.194508196721312,
          10.881735537190083,
          16.23167741935484,
          15.04811475409836,
          16.279343065693432,
          12.453770491803278,
          11.935,
          10.80320610687023,
          10.579722222222221,
          11.004237288135593,
          14.44273381294964,
          16.91551470588235,
          14.246279069767441,
          10.9170796460177,
          10.347777777777777,
          11.041978021978023,
          10.023660714285715
         ]
        }
       ],
       "layout": {
        "hovermode": "closest",
        "template": {
         "data": {
          "bar": [
           {
            "error_x": {
             "color": "#2a3f5f"
            },
            "error_y": {
             "color": "#2a3f5f"
            },
            "marker": {
             "line": {
              "color": "white",
              "width": 0.5
             },
             "pattern": {
              "fillmode": "overlay",
              "size": 10,
              "solidity": 0.2
             }
            },
            "type": "bar"
           }
          ],
          "barpolar": [
           {
            "marker": {
             "line": {
              "color": "white",
              "width": 0.5
             },
             "pattern": {
              "fillmode": "overlay",
              "size": 10,
              "solidity": 0.2
             }
            },
            "type": "barpolar"
           }
          ],
          "carpet": [
           {
            "aaxis": {
             "endlinecolor": "#2a3f5f",
             "gridcolor": "#C8D4E3",
             "linecolor": "#C8D4E3",
             "minorgridcolor": "#C8D4E3",
             "startlinecolor": "#2a3f5f"
            },
            "baxis": {
             "endlinecolor": "#2a3f5f",
             "gridcolor": "#C8D4E3",
             "linecolor": "#C8D4E3",
             "minorgridcolor": "#C8D4E3",
             "startlinecolor": "#2a3f5f"
            },
            "type": "carpet"
           }
          ],
          "choropleth": [
           {
            "colorbar": {
             "outlinewidth": 0,
             "ticks": ""
            },
            "type": "choropleth"
           }
          ],
          "contour": [
           {
            "colorbar": {
             "outlinewidth": 0,
             "ticks": ""
            },
            "colorscale": [
             [
              0,
              "#0d0887"
             ],
             [
              0.1111111111111111,
              "#46039f"
             ],
             [
              0.2222222222222222,
              "#7201a8"
             ],
             [
              0.3333333333333333,
              "#9c179e"
             ],
             [
              0.4444444444444444,
              "#bd3786"
             ],
             [
              0.5555555555555556,
              "#d8576b"
             ],
             [
              0.6666666666666666,
              "#ed7953"
             ],
             [
              0.7777777777777778,
              "#fb9f3a"
             ],
             [
              0.8888888888888888,
              "#fdca26"
             ],
             [
              1,
              "#f0f921"
             ]
            ],
            "type": "contour"
           }
          ],
          "contourcarpet": [
           {
            "colorbar": {
             "outlinewidth": 0,
             "ticks": ""
            },
            "type": "contourcarpet"
           }
          ],
          "heatmap": [
           {
            "colorbar": {
             "outlinewidth": 0,
             "ticks": ""
            },
            "colorscale": [
             [
              0,
              "#0d0887"
             ],
             [
              0.1111111111111111,
              "#46039f"
             ],
             [
              0.2222222222222222,
              "#7201a8"
             ],
             [
              0.3333333333333333,
              "#9c179e"
             ],
             [
              0.4444444444444444,
              "#bd3786"
             ],
             [
              0.5555555555555556,
              "#d8576b"
             ],
             [
              0.6666666666666666,
              "#ed7953"
             ],
             [
              0.7777777777777778,
              "#fb9f3a"
             ],
             [
              0.8888888888888888,
              "#fdca26"
             ],
             [
              1,
              "#f0f921"
             ]
            ],
            "type": "heatmap"
           }
          ],
          "heatmapgl": [
           {
            "colorbar": {
             "outlinewidth": 0,
             "ticks": ""
            },
            "colorscale": [
             [
              0,
              "#0d0887"
             ],
             [
              0.1111111111111111,
              "#46039f"
             ],
             [
              0.2222222222222222,
              "#7201a8"
             ],
             [
              0.3333333333333333,
              "#9c179e"
             ],
             [
              0.4444444444444444,
              "#bd3786"
             ],
             [
              0.5555555555555556,
              "#d8576b"
             ],
             [
              0.6666666666666666,
              "#ed7953"
             ],
             [
              0.7777777777777778,
              "#fb9f3a"
             ],
             [
              0.8888888888888888,
              "#fdca26"
             ],
             [
              1,
              "#f0f921"
             ]
            ],
            "type": "heatmapgl"
           }
          ],
          "histogram": [
           {
            "marker": {
             "pattern": {
              "fillmode": "overlay",
              "size": 10,
              "solidity": 0.2
             }
            },
            "type": "histogram"
           }
          ],
          "histogram2d": [
           {
            "colorbar": {
             "outlinewidth": 0,
             "ticks": ""
            },
            "colorscale": [
             [
              0,
              "#0d0887"
             ],
             [
              0.1111111111111111,
              "#46039f"
             ],
             [
              0.2222222222222222,
              "#7201a8"
             ],
             [
              0.3333333333333333,
              "#9c179e"
             ],
             [
              0.4444444444444444,
              "#bd3786"
             ],
             [
              0.5555555555555556,
              "#d8576b"
             ],
             [
              0.6666666666666666,
              "#ed7953"
             ],
             [
              0.7777777777777778,
              "#fb9f3a"
             ],
             [
              0.8888888888888888,
              "#fdca26"
             ],
             [
              1,
              "#f0f921"
             ]
            ],
            "type": "histogram2d"
           }
          ],
          "histogram2dcontour": [
           {
            "colorbar": {
             "outlinewidth": 0,
             "ticks": ""
            },
            "colorscale": [
             [
              0,
              "#0d0887"
             ],
             [
              0.1111111111111111,
              "#46039f"
             ],
             [
              0.2222222222222222,
              "#7201a8"
             ],
             [
              0.3333333333333333,
              "#9c179e"
             ],
             [
              0.4444444444444444,
              "#bd3786"
             ],
             [
              0.5555555555555556,
              "#d8576b"
             ],
             [
              0.6666666666666666,
              "#ed7953"
             ],
             [
              0.7777777777777778,
              "#fb9f3a"
             ],
             [
              0.8888888888888888,
              "#fdca26"
             ],
             [
              1,
              "#f0f921"
             ]
            ],
            "type": "histogram2dcontour"
           }
          ],
          "mesh3d": [
           {
            "colorbar": {
             "outlinewidth": 0,
             "ticks": ""
            },
            "type": "mesh3d"
           }
          ],
          "parcoords": [
           {
            "line": {
             "colorbar": {
              "outlinewidth": 0,
              "ticks": ""
             }
            },
            "type": "parcoords"
           }
          ],
          "pie": [
           {
            "automargin": true,
            "type": "pie"
           }
          ],
          "scatter": [
           {
            "marker": {
             "colorbar": {
              "outlinewidth": 0,
              "ticks": ""
             }
            },
            "type": "scatter"
           }
          ],
          "scatter3d": [
           {
            "line": {
             "colorbar": {
              "outlinewidth": 0,
              "ticks": ""
             }
            },
            "marker": {
             "colorbar": {
              "outlinewidth": 0,
              "ticks": ""
             }
            },
            "type": "scatter3d"
           }
          ],
          "scattercarpet": [
           {
            "marker": {
             "colorbar": {
              "outlinewidth": 0,
              "ticks": ""
             }
            },
            "type": "scattercarpet"
           }
          ],
          "scattergeo": [
           {
            "marker": {
             "colorbar": {
              "outlinewidth": 0,
              "ticks": ""
             }
            },
            "type": "scattergeo"
           }
          ],
          "scattergl": [
           {
            "marker": {
             "colorbar": {
              "outlinewidth": 0,
              "ticks": ""
             }
            },
            "type": "scattergl"
           }
          ],
          "scattermapbox": [
           {
            "marker": {
             "colorbar": {
              "outlinewidth": 0,
              "ticks": ""
             }
            },
            "type": "scattermapbox"
           }
          ],
          "scatterpolar": [
           {
            "marker": {
             "colorbar": {
              "outlinewidth": 0,
              "ticks": ""
             }
            },
            "type": "scatterpolar"
           }
          ],
          "scatterpolargl": [
           {
            "marker": {
             "colorbar": {
              "outlinewidth": 0,
              "ticks": ""
             }
            },
            "type": "scatterpolargl"
           }
          ],
          "scatterternary": [
           {
            "marker": {
             "colorbar": {
              "outlinewidth": 0,
              "ticks": ""
             }
            },
            "type": "scatterternary"
           }
          ],
          "surface": [
           {
            "colorbar": {
             "outlinewidth": 0,
             "ticks": ""
            },
            "colorscale": [
             [
              0,
              "#0d0887"
             ],
             [
              0.1111111111111111,
              "#46039f"
             ],
             [
              0.2222222222222222,
              "#7201a8"
             ],
             [
              0.3333333333333333,
              "#9c179e"
             ],
             [
              0.4444444444444444,
              "#bd3786"
             ],
             [
              0.5555555555555556,
              "#d8576b"
             ],
             [
              0.6666666666666666,
              "#ed7953"
             ],
             [
              0.7777777777777778,
              "#fb9f3a"
             ],
             [
              0.8888888888888888,
              "#fdca26"
             ],
             [
              1,
              "#f0f921"
             ]
            ],
            "type": "surface"
           }
          ],
          "table": [
           {
            "cells": {
             "fill": {
              "color": "#EBF0F8"
             },
             "line": {
              "color": "white"
             }
            },
            "header": {
             "fill": {
              "color": "#C8D4E3"
             },
             "line": {
              "color": "white"
             }
            },
            "type": "table"
           }
          ]
         },
         "layout": {
          "annotationdefaults": {
           "arrowcolor": "#2a3f5f",
           "arrowhead": 0,
           "arrowwidth": 1
          },
          "autotypenumbers": "strict",
          "coloraxis": {
           "colorbar": {
            "outlinewidth": 0,
            "ticks": ""
           }
          },
          "colorscale": {
           "diverging": [
            [
             0,
             "#8e0152"
            ],
            [
             0.1,
             "#c51b7d"
            ],
            [
             0.2,
             "#de77ae"
            ],
            [
             0.3,
             "#f1b6da"
            ],
            [
             0.4,
             "#fde0ef"
            ],
            [
             0.5,
             "#f7f7f7"
            ],
            [
             0.6,
             "#e6f5d0"
            ],
            [
             0.7,
             "#b8e186"
            ],
            [
             0.8,
             "#7fbc41"
            ],
            [
             0.9,
             "#4d9221"
            ],
            [
             1,
             "#276419"
            ]
           ],
           "sequential": [
            [
             0,
             "#0d0887"
            ],
            [
             0.1111111111111111,
             "#46039f"
            ],
            [
             0.2222222222222222,
             "#7201a8"
            ],
            [
             0.3333333333333333,
             "#9c179e"
            ],
            [
             0.4444444444444444,
             "#bd3786"
            ],
            [
             0.5555555555555556,
             "#d8576b"
            ],
            [
             0.6666666666666666,
             "#ed7953"
            ],
            [
             0.7777777777777778,
             "#fb9f3a"
            ],
            [
             0.8888888888888888,
             "#fdca26"
            ],
            [
             1,
             "#f0f921"
            ]
           ],
           "sequentialminus": [
            [
             0,
             "#0d0887"
            ],
            [
             0.1111111111111111,
             "#46039f"
            ],
            [
             0.2222222222222222,
             "#7201a8"
            ],
            [
             0.3333333333333333,
             "#9c179e"
            ],
            [
             0.4444444444444444,
             "#bd3786"
            ],
            [
             0.5555555555555556,
             "#d8576b"
            ],
            [
             0.6666666666666666,
             "#ed7953"
            ],
            [
             0.7777777777777778,
             "#fb9f3a"
            ],
            [
             0.8888888888888888,
             "#fdca26"
            ],
            [
             1,
             "#f0f921"
            ]
           ]
          },
          "colorway": [
           "#636efa",
           "#EF553B",
           "#00cc96",
           "#ab63fa",
           "#FFA15A",
           "#19d3f3",
           "#FF6692",
           "#B6E880",
           "#FF97FF",
           "#FECB52"
          ],
          "font": {
           "color": "#2a3f5f"
          },
          "geo": {
           "bgcolor": "white",
           "lakecolor": "white",
           "landcolor": "white",
           "showlakes": true,
           "showland": true,
           "subunitcolor": "#C8D4E3"
          },
          "hoverlabel": {
           "align": "left"
          },
          "hovermode": "closest",
          "mapbox": {
           "style": "light"
          },
          "paper_bgcolor": "white",
          "plot_bgcolor": "white",
          "polar": {
           "angularaxis": {
            "gridcolor": "#EBF0F8",
            "linecolor": "#EBF0F8",
            "ticks": ""
           },
           "bgcolor": "white",
           "radialaxis": {
            "gridcolor": "#EBF0F8",
            "linecolor": "#EBF0F8",
            "ticks": ""
           }
          },
          "scene": {
           "xaxis": {
            "backgroundcolor": "white",
            "gridcolor": "#DFE8F3",
            "gridwidth": 2,
            "linecolor": "#EBF0F8",
            "showbackground": true,
            "ticks": "",
            "zerolinecolor": "#EBF0F8"
           },
           "yaxis": {
            "backgroundcolor": "white",
            "gridcolor": "#DFE8F3",
            "gridwidth": 2,
            "linecolor": "#EBF0F8",
            "showbackground": true,
            "ticks": "",
            "zerolinecolor": "#EBF0F8"
           },
           "zaxis": {
            "backgroundcolor": "white",
            "gridcolor": "#DFE8F3",
            "gridwidth": 2,
            "linecolor": "#EBF0F8",
            "showbackground": true,
            "ticks": "",
            "zerolinecolor": "#EBF0F8"
           }
          },
          "shapedefaults": {
           "line": {
            "color": "#2a3f5f"
           }
          },
          "ternary": {
           "aaxis": {
            "gridcolor": "#DFE8F3",
            "linecolor": "#A2B1C6",
            "ticks": ""
           },
           "baxis": {
            "gridcolor": "#DFE8F3",
            "linecolor": "#A2B1C6",
            "ticks": ""
           },
           "bgcolor": "white",
           "caxis": {
            "gridcolor": "#DFE8F3",
            "linecolor": "#A2B1C6",
            "ticks": ""
           }
          },
          "title": {
           "x": 0.05
          },
          "xaxis": {
           "automargin": true,
           "gridcolor": "#EBF0F8",
           "linecolor": "#EBF0F8",
           "ticks": "",
           "title": {
            "standoff": 15
           },
           "zerolinecolor": "#EBF0F8",
           "zerolinewidth": 2
          },
          "yaxis": {
           "automargin": true,
           "gridcolor": "#EBF0F8",
           "linecolor": "#EBF0F8",
           "ticks": "",
           "title": {
            "standoff": 15
           },
           "zerolinecolor": "#EBF0F8",
           "zerolinewidth": 2
          }
         }
        },
        "title": {
         "text": "Número de Anfitriones vs Precio por m² por Neighbourhood Group"
        },
        "xaxis": {
         "title": {
          "text": "Número de Anfitriones"
         }
        },
        "yaxis": {
         "title": {
          "text": "Precio por m² (€)"
         }
        }
       }
      }
     },
     "metadata": {},
     "output_type": "display_data"
    }
   ],
   "source": [
    "import pandas as pd\n",
    "import plotly.graph_objects as go\n",
    "import plotly.express as px\n",
    "\n",
    "df['date'] = pd.to_datetime(df['date'])\n",
    "\n",
    "# Agrupar los datos por neighbourhood_group\n",
    "grouped = df.groupby('neighbourhood_group').agg({\n",
    "    'hosts_count': 'mean',\n",
    "    'm2_price': 'mean'\n",
    "}).reset_index()\n",
    "\n",
    "# Crear el gráfico de burbujas\n",
    "fig = go.Figure()\n",
    "\n",
    "fig.add_trace(go.Scatter(\n",
    "    x=grouped['hosts_count'],\n",
    "    y=grouped['m2_price'],\n",
    "    mode='markers',\n",
    "    marker=dict(\n",
    "        size=grouped['hosts_count'],\n",
    "        sizemode='area',\n",
    "        sizeref=2.*max(grouped['hosts_count'])/(100.**2),\n",
    "        sizemin=10,\n",
    "        color=grouped['m2_price'],\n",
    "        colorscale='Viridis',\n",
    "        colorbar=dict(title='Precio por m² (€)'),\n",
    "        showscale=True\n",
    "    ),\n",
    "    text=grouped['neighbourhood_group'],\n",
    "    hovertemplate=\n",
    "        '<b>%{text}</b><br>' +\n",
    "        'Anfitriones: %{x}<br>' +\n",
    "        'Precio por m²: %{y}€<br>' +\n",
    "        '<extra></extra>',\n",
    "    name='Neighbourhood Groups'\n",
    "))\n",
    "\n",
    "# Configurar el diseño del gráfico\n",
    "fig.update_layout(\n",
    "    title='Número de Anfitriones vs Precio por m² por Neighbourhood Group',\n",
    "    xaxis_title='Número de Anfitriones',\n",
    "    yaxis_title='Precio por m² (€)',\n",
    "    template='plotly_white',\n",
    "    hovermode='closest'\n",
    ")\n",
    "\n",
    "fig.show()\n"
   ]
  },
  {
   "cell_type": "markdown",
   "metadata": {},
   "source": [
    "En este caso vemps que  cuanto mayor sea el número de anfitriones mayor es el precio de la vivienda"
   ]
  },
  {
   "cell_type": "code",
   "execution_count": 35,
   "metadata": {},
   "outputs": [
    {
     "data": {
      "application/vnd.plotly.v1+json": {
       "config": {
        "plotlyServerURL": "https://plot.ly"
       },
       "data": [
        {
         "alignmentgroup": "True",
         "hovertemplate": "Vecindarios=Arganzuela<br>Año=%{x}<br>Porcentaje de Crecimiento (%)=%{y}<extra></extra>",
         "legendgroup": "Arganzuela",
         "marker": {
          "color": "#636efa",
          "pattern": {
           "shape": ""
          }
         },
         "name": "Arganzuela",
         "offsetgroup": "Arganzuela",
         "orientation": "v",
         "showlegend": true,
         "textposition": "auto",
         "type": "bar",
         "x": [
          2013,
          2014,
          2015,
          2016,
          2017,
          2018,
          2019,
          2020,
          2021,
          2022,
          2023
         ],
         "xaxis": "x",
         "y": [
          -2.0733652312599715,
          -0.9432681867535431,
          4.672192916352702,
          6.263498920086374,
          11.111111111111116,
          7.317073170731714,
          8.29545454545455,
          -1.8363064008394492,
          -7.856761090326025,
          7.482598607888646,
          8.337830545062053
         ],
         "yaxis": "y"
        },
        {
         "alignmentgroup": "True",
         "hovertemplate": "Vecindarios=Barajas<br>Año=%{x}<br>Porcentaje de Crecimiento (%)=%{y}<extra></extra>",
         "legendgroup": "Barajas",
         "marker": {
          "color": "#EF553B",
          "pattern": {
           "shape": ""
          }
         },
         "name": "Barajas",
         "offsetgroup": "Barajas",
         "orientation": "v",
         "showlegend": true,
         "textposition": "auto",
         "type": "bar",
         "x": [
          2013,
          2014,
          2015,
          2016,
          2017,
          2018,
          2019,
          2020,
          2021,
          2022,
          2023
         ],
         "xaxis": "x",
         "y": [
          -4.201680672268893,
          -1.6081871345029364,
          -0.04457652303120341,
          3.6246964967048267,
          10.209205020920486,
          5.391040242976475,
          2.3054755043227626,
          -1.4084507042253613,
          -2.000000000000013,
          6.4868804664723,
          8.3025325119781
         ],
         "yaxis": "y"
        },
        {
         "alignmentgroup": "True",
         "hovertemplate": "Vecindarios=Carabanchel<br>Año=%{x}<br>Porcentaje de Crecimiento (%)=%{y}<extra></extra>",
         "legendgroup": "Carabanchel",
         "marker": {
          "color": "#00cc96",
          "pattern": {
           "shape": ""
          }
         },
         "name": "Carabanchel",
         "offsetgroup": "Carabanchel",
         "orientation": "v",
         "showlegend": true,
         "textposition": "auto",
         "type": "bar",
         "x": [
          2014,
          2015,
          2016,
          2017,
          2018,
          2019,
          2020,
          2021,
          2022,
          2023
         ],
         "xaxis": "x",
         "y": [
          -9.304426377597096,
          3.3864541832669293,
          5.780346820809257,
          8.925318761384338,
          11.622073578595327,
          9.513108614232202,
          0.3419972640218871,
          -5.862304021813225,
          5.720492396813892,
          10.130136986301363
         ],
         "yaxis": "y"
        },
        {
         "alignmentgroup": "True",
         "hovertemplate": "Vecindarios=Centro<br>Año=%{x}<br>Porcentaje de Crecimiento (%)=%{y}<extra></extra>",
         "legendgroup": "Centro",
         "marker": {
          "color": "#ab63fa",
          "pattern": {
           "shape": ""
          }
         },
         "name": "Centro",
         "offsetgroup": "Centro",
         "orientation": "v",
         "showlegend": true,
         "textposition": "auto",
         "type": "bar",
         "x": [
          2011,
          2012,
          2013,
          2014,
          2015,
          2016,
          2017,
          2018,
          2019,
          2020,
          2021,
          2022,
          2023
         ],
         "xaxis": "x",
         "y": [
          -1.437908496732021,
          -5.448717948717963,
          -5.961426066627706,
          0.621504039776255,
          4.138357010500293,
          11.506524317912215,
          11.489361702127642,
          5.438931297709937,
          -11.447963800904981,
          2.197240674501799,
          -0.1500000000000168,
          13.370055082623944,
          9.059187279151937
         ],
         "yaxis": "y"
        },
        {
         "alignmentgroup": "True",
         "hovertemplate": "Vecindarios=Chamartín<br>Año=%{x}<br>Porcentaje de Crecimiento (%)=%{y}<extra></extra>",
         "legendgroup": "Chamartín",
         "marker": {
          "color": "#FFA15A",
          "pattern": {
           "shape": ""
          }
         },
         "name": "Chamartín",
         "offsetgroup": "Chamartín",
         "orientation": "v",
         "showlegend": true,
         "textposition": "auto",
         "type": "bar",
         "x": [
          2014,
          2015,
          2016,
          2017,
          2018,
          2019,
          2020,
          2021,
          2022,
          2023
         ],
         "xaxis": "x",
         "y": [
          1.186094069529653,
          2.196173538129864,
          6.657877389584721,
          9.45611866501852,
          7.058159232072292,
          3.639240506329089,
          -1.2722646310432517,
          -5.97938144329897,
          7.0175438596491,
          10.128073770491808
         ],
         "yaxis": "y"
        },
        {
         "alignmentgroup": "True",
         "hovertemplate": "Vecindarios=Chamberí<br>Año=%{x}<br>Porcentaje de Crecimiento (%)=%{y}<extra></extra>",
         "legendgroup": "Chamberí",
         "marker": {
          "color": "#19d3f3",
          "pattern": {
           "shape": ""
          }
         },
         "name": "Chamberí",
         "offsetgroup": "Chamberí",
         "orientation": "v",
         "showlegend": true,
         "textposition": "auto",
         "type": "bar",
         "x": [
          2012,
          2013,
          2014,
          2015,
          2016,
          2017,
          2018,
          2019,
          2020,
          2021,
          2022,
          2023
         ],
         "xaxis": "x",
         "y": [
          -3.9160839160839234,
          -2.6730183935424146,
          -0.04532064355313725,
          3.304239401496245,
          8.750754375377202,
          7.158712541620416,
          9.373381667529767,
          3.267045454545481,
          -2.613480055020645,
          -6.591337099811668,
          9.223790322580626,
          12.584217812644205
         ],
         "yaxis": "y"
        },
        {
         "alignmentgroup": "True",
         "hovertemplate": "Vecindarios=Ciudad Lineal<br>Año=%{x}<br>Porcentaje de Crecimiento (%)=%{y}<extra></extra>",
         "legendgroup": "Ciudad Lineal",
         "marker": {
          "color": "#FF6692",
          "pattern": {
           "shape": ""
          }
         },
         "name": "Ciudad Lineal",
         "offsetgroup": "Ciudad Lineal",
         "orientation": "v",
         "showlegend": true,
         "textposition": "auto",
         "type": "bar",
         "x": [
          2014,
          2015,
          2016,
          2017,
          2018,
          2019,
          2020,
          2021,
          2022,
          2023
         ],
         "xaxis": "x",
         "y": [
          0,
          3.083333333333327,
          5.658852061438946,
          9.869931140015309,
          9.610027855153213,
          4.510800508259205,
          -0.7902735562310137,
          -6.066176470588225,
          6.131767775603381,
          10.792870313460368
         ],
         "yaxis": "y"
        },
        {
         "alignmentgroup": "True",
         "hovertemplate": "Vecindarios=Hortaleza<br>Año=%{x}<br>Porcentaje de Crecimiento (%)=%{y}<extra></extra>",
         "legendgroup": "Hortaleza",
         "marker": {
          "color": "#B6E880",
          "pattern": {
           "shape": ""
          }
         },
         "name": "Hortaleza",
         "offsetgroup": "Hortaleza",
         "orientation": "v",
         "showlegend": true,
         "textposition": "auto",
         "type": "bar",
         "x": [
          2012,
          2013,
          2014,
          2015,
          2016,
          2017,
          2018,
          2019,
          2020,
          2021,
          2022,
          2023
         ],
         "xaxis": "x",
         "y": [
          -4.637681159420293,
          -4.35663627152989,
          -1.8008474576271083,
          2.20653133274491,
          2.511514104778345,
          6.7181467181467225,
          13.096960926193923,
          -3.646833013435713,
          1.9920318725099584,
          -2.473958333333315,
          3.6715620827770357,
          9.291693496458443
         ],
         "yaxis": "y"
        },
        {
         "alignmentgroup": "True",
         "hovertemplate": "Vecindarios=Latina<br>Año=%{x}<br>Porcentaje de Crecimiento (%)=%{y}<extra></extra>",
         "legendgroup": "Latina",
         "marker": {
          "color": "#FF97FF",
          "pattern": {
           "shape": ""
          }
         },
         "name": "Latina",
         "offsetgroup": "Latina",
         "orientation": "v",
         "showlegend": true,
         "textposition": "auto",
         "type": "bar",
         "x": [
          2013,
          2014,
          2015,
          2016,
          2017,
          2018,
          2019,
          2020,
          2021,
          2022,
          2023
         ],
         "xaxis": "x",
         "y": [
          -5.555555555555558,
          -2.38316670541735,
          1.0986066452304266,
          5.733722060252688,
          10.661764705882359,
          9.219269102990047,
          13.916349809885942,
          0.20026702269690944,
          -6.528980679546947,
          6.842480399144679,
          8.352234823215499
         ],
         "yaxis": "y"
        },
        {
         "alignmentgroup": "True",
         "hovertemplate": "Vecindarios=Moratalaz<br>Año=%{x}<br>Porcentaje de Crecimiento (%)=%{y}<extra></extra>",
         "legendgroup": "Moratalaz",
         "marker": {
          "color": "#FECB52",
          "pattern": {
           "shape": ""
          }
         },
         "name": "Moratalaz",
         "offsetgroup": "Moratalaz",
         "orientation": "v",
         "showlegend": true,
         "textposition": "auto",
         "type": "bar",
         "x": [
          2014,
          2015,
          2016,
          2017,
          2018,
          2019,
          2020,
          2021,
          2022,
          2023
         ],
         "xaxis": "x",
         "y": [
          -4.545454545454519,
          6.719367588932812,
          3.9858906525573223,
          7.462686567164178,
          6.336805555555558,
          13.061224489795897,
          0.6498194945848468,
          -5.882352941176483,
          5.335365853658547,
          9.196816208393654
         ],
         "yaxis": "y"
        },
        {
         "alignmentgroup": "True",
         "hovertemplate": "Vecindarios=Puente de Vallecas<br>Año=%{x}<br>Porcentaje de Crecimiento (%)=%{y}<extra></extra>",
         "legendgroup": "Puente de Vallecas",
         "marker": {
          "color": "#636efa",
          "pattern": {
           "shape": ""
          }
         },
         "name": "Puente de Vallecas",
         "offsetgroup": "Puente de Vallecas",
         "orientation": "v",
         "showlegend": true,
         "textposition": "auto",
         "type": "bar",
         "x": [
          2014,
          2015,
          2016,
          2017,
          2018,
          2019,
          2020,
          2021,
          2022,
          2023
         ],
         "xaxis": "x",
         "y": [
          -3.488372093023262,
          2.108433734939741,
          6.588003933136677,
          10.055350553505527,
          11.14836546521374,
          12.292609351432882,
          0.4029550033579632,
          -5.35117056856188,
          5.583038869257972,
          9.504685408299851
         ],
         "yaxis": "y"
        },
        {
         "alignmentgroup": "True",
         "hovertemplate": "Vecindarios=Retiro<br>Año=%{x}<br>Porcentaje de Crecimiento (%)=%{y}<extra></extra>",
         "legendgroup": "Retiro",
         "marker": {
          "color": "#EF553B",
          "pattern": {
           "shape": ""
          }
         },
         "name": "Retiro",
         "offsetgroup": "Retiro",
         "orientation": "v",
         "showlegend": true,
         "textposition": "auto",
         "type": "bar",
         "x": [
          2013,
          2014,
          2015,
          2016,
          2017,
          2018,
          2019,
          2020,
          2021,
          2022,
          2023
         ],
         "xaxis": "x",
         "y": [
          -4.792394256887878,
          1.0699001426533572,
          3.599153140437572,
          8.038147138964579,
          8.196721311475397,
          9.44055944055946,
          4.739084132055371,
          -2.5419420437214013,
          -6.833594157537826,
          8.79059350503919,
          9.95367987647966
         ],
         "yaxis": "y"
        },
        {
         "alignmentgroup": "True",
         "hovertemplate": "Vecindarios=Salamanca<br>Año=%{x}<br>Porcentaje de Crecimiento (%)=%{y}<extra></extra>",
         "legendgroup": "Salamanca",
         "marker": {
          "color": "#00cc96",
          "pattern": {
           "shape": ""
          }
         },
         "name": "Salamanca",
         "offsetgroup": "Salamanca",
         "orientation": "v",
         "showlegend": true,
         "textposition": "auto",
         "type": "bar",
         "x": [
          2013,
          2014,
          2015,
          2016,
          2017,
          2018,
          2019,
          2020,
          2021,
          2022,
          2023
         ],
         "xaxis": "x",
         "y": [
          -3.404255319148941,
          0.8321096426823438,
          4.429611650485432,
          7.2632190586868095,
          10.72589382448539,
          8.072407045009777,
          3.0783159800814586,
          -3.4255599472990728,
          -7.230559345156884,
          11.81372549019608,
          11.008329679964923
         ],
         "yaxis": "y"
        },
        {
         "alignmentgroup": "True",
         "hovertemplate": "Vecindarios=Tetuán<br>Año=%{x}<br>Porcentaje de Crecimiento (%)=%{y}<extra></extra>",
         "legendgroup": "Tetuán",
         "marker": {
          "color": "#ab63fa",
          "pattern": {
           "shape": ""
          }
         },
         "name": "Tetuán",
         "offsetgroup": "Tetuán",
         "orientation": "v",
         "showlegend": true,
         "textposition": "auto",
         "type": "bar",
         "x": [
          2014,
          2015,
          2016,
          2017,
          2018,
          2019,
          2020,
          2021,
          2022,
          2023
         ],
         "xaxis": "x",
         "y": [
          -1.2887828162291282,
          3.427895981087481,
          9.000000000000007,
          10.681520314547853,
          7.104795737122549,
          6.522940851299053,
          -1.4011416709911795,
          -7.684210526315793,
          8.437856328392247,
          9.65825446898001
         ],
         "yaxis": "y"
        },
        {
         "alignmentgroup": "True",
         "hovertemplate": "Vecindarios=Usera<br>Año=%{x}<br>Porcentaje de Crecimiento (%)=%{y}<extra></extra>",
         "legendgroup": "Usera",
         "marker": {
          "color": "#FFA15A",
          "pattern": {
           "shape": ""
          }
         },
         "name": "Usera",
         "offsetgroup": "Usera",
         "orientation": "v",
         "showlegend": true,
         "textposition": "auto",
         "type": "bar",
         "x": [
          2013,
          2014,
          2015,
          2016,
          2017,
          2018,
          2019,
          2020,
          2021,
          2022,
          2023
         ],
         "xaxis": "x",
         "y": [
          0,
          -3.48837209302324,
          3.098106712564541,
          5.7595993322203665,
          7.550644567219167,
          10.616438356164393,
          12.38390092879258,
          -0.688705234159781,
          -6.657420249653256,
          10.326894502228834,
          9.582491582491581
         ],
         "yaxis": "y"
        },
        {
         "alignmentgroup": "True",
         "hovertemplate": "Vecindarios=Vicálvaro<br>Año=%{x}<br>Porcentaje de Crecimiento (%)=%{y}<extra></extra>",
         "legendgroup": "Vicálvaro",
         "marker": {
          "color": "#19d3f3",
          "pattern": {
           "shape": ""
          }
         },
         "name": "Vicálvaro",
         "offsetgroup": "Vicálvaro",
         "orientation": "v",
         "showlegend": true,
         "textposition": "auto",
         "type": "bar",
         "x": [
          2016,
          2017,
          2018,
          2019,
          2020,
          2021,
          2022,
          2023
         ],
         "xaxis": "x",
         "y": [
          2.8368794326241176,
          8.045977011494276,
          3.8120567375886427,
          12.553373185311711,
          -3.125948406676804,
          -2.960526315789458,
          5.730427764326063,
          7.328244274809159
         ],
         "yaxis": "y"
        },
        {
         "alignmentgroup": "True",
         "hovertemplate": "Vecindarios=Villa de Vallecas<br>Año=%{x}<br>Porcentaje de Crecimiento (%)=%{y}<extra></extra>",
         "legendgroup": "Villa de Vallecas",
         "marker": {
          "color": "#FF6692",
          "pattern": {
           "shape": ""
          }
         },
         "name": "Villa de Vallecas",
         "offsetgroup": "Villa de Vallecas",
         "orientation": "v",
         "showlegend": true,
         "textposition": "auto",
         "type": "bar",
         "x": [
          2015,
          2016,
          2017,
          2018,
          2019,
          2020,
          2021,
          2022,
          2023
         ],
         "xaxis": "x",
         "y": [
          -0.8333333333333304,
          2.334267040149385,
          8.029197080291972,
          8.023648648648663,
          6.5676309616888195,
          0.9270993130127358,
          -2.5905366111551698,
          3.5074626865671643,
          9.098774333093008
         ],
         "yaxis": "y"
        },
        {
         "alignmentgroup": "True",
         "hovertemplate": "Vecindarios=Villaverde<br>Año=%{x}<br>Porcentaje de Crecimiento (%)=%{y}<extra></extra>",
         "legendgroup": "Villaverde",
         "marker": {
          "color": "#B6E880",
          "pattern": {
           "shape": ""
          }
         },
         "name": "Villaverde",
         "offsetgroup": "Villaverde",
         "orientation": "v",
         "showlegend": true,
         "textposition": "auto",
         "type": "bar",
         "x": [
          2012,
          2013,
          2014,
          2015,
          2016,
          2017,
          2018,
          2019,
          2020,
          2021,
          2022,
          2023
         ],
         "xaxis": "x",
         "y": [
          -2.3323615160349975,
          -5.970149253731338,
          -8.64197530864197,
          4.324324324324325,
          4.4041450777201785,
          7.320099255583146,
          12.71676300578035,
          15.042735042735034,
          -2.73402674591382,
          -3.0705774518789974,
          7.013396375098502,
          9.167893961708383
         ],
         "yaxis": "y"
        }
       ],
       "layout": {
        "barmode": "group",
        "legend": {
         "title": {
          "font": {
           "size": 12
          },
          "text": "Vecindarios"
         },
         "tracegroupgap": 0
        },
        "margin": {
         "b": 40,
         "l": 40,
         "r": 40,
         "t": 40
        },
        "template": {
         "data": {
          "bar": [
           {
            "error_x": {
             "color": "#2a3f5f"
            },
            "error_y": {
             "color": "#2a3f5f"
            },
            "marker": {
             "line": {
              "color": "#E5ECF6",
              "width": 0.5
             },
             "pattern": {
              "fillmode": "overlay",
              "size": 10,
              "solidity": 0.2
             }
            },
            "type": "bar"
           }
          ],
          "barpolar": [
           {
            "marker": {
             "line": {
              "color": "#E5ECF6",
              "width": 0.5
             },
             "pattern": {
              "fillmode": "overlay",
              "size": 10,
              "solidity": 0.2
             }
            },
            "type": "barpolar"
           }
          ],
          "carpet": [
           {
            "aaxis": {
             "endlinecolor": "#2a3f5f",
             "gridcolor": "white",
             "linecolor": "white",
             "minorgridcolor": "white",
             "startlinecolor": "#2a3f5f"
            },
            "baxis": {
             "endlinecolor": "#2a3f5f",
             "gridcolor": "white",
             "linecolor": "white",
             "minorgridcolor": "white",
             "startlinecolor": "#2a3f5f"
            },
            "type": "carpet"
           }
          ],
          "choropleth": [
           {
            "colorbar": {
             "outlinewidth": 0,
             "ticks": ""
            },
            "type": "choropleth"
           }
          ],
          "contour": [
           {
            "colorbar": {
             "outlinewidth": 0,
             "ticks": ""
            },
            "colorscale": [
             [
              0,
              "#0d0887"
             ],
             [
              0.1111111111111111,
              "#46039f"
             ],
             [
              0.2222222222222222,
              "#7201a8"
             ],
             [
              0.3333333333333333,
              "#9c179e"
             ],
             [
              0.4444444444444444,
              "#bd3786"
             ],
             [
              0.5555555555555556,
              "#d8576b"
             ],
             [
              0.6666666666666666,
              "#ed7953"
             ],
             [
              0.7777777777777778,
              "#fb9f3a"
             ],
             [
              0.8888888888888888,
              "#fdca26"
             ],
             [
              1,
              "#f0f921"
             ]
            ],
            "type": "contour"
           }
          ],
          "contourcarpet": [
           {
            "colorbar": {
             "outlinewidth": 0,
             "ticks": ""
            },
            "type": "contourcarpet"
           }
          ],
          "heatmap": [
           {
            "colorbar": {
             "outlinewidth": 0,
             "ticks": ""
            },
            "colorscale": [
             [
              0,
              "#0d0887"
             ],
             [
              0.1111111111111111,
              "#46039f"
             ],
             [
              0.2222222222222222,
              "#7201a8"
             ],
             [
              0.3333333333333333,
              "#9c179e"
             ],
             [
              0.4444444444444444,
              "#bd3786"
             ],
             [
              0.5555555555555556,
              "#d8576b"
             ],
             [
              0.6666666666666666,
              "#ed7953"
             ],
             [
              0.7777777777777778,
              "#fb9f3a"
             ],
             [
              0.8888888888888888,
              "#fdca26"
             ],
             [
              1,
              "#f0f921"
             ]
            ],
            "type": "heatmap"
           }
          ],
          "heatmapgl": [
           {
            "colorbar": {
             "outlinewidth": 0,
             "ticks": ""
            },
            "colorscale": [
             [
              0,
              "#0d0887"
             ],
             [
              0.1111111111111111,
              "#46039f"
             ],
             [
              0.2222222222222222,
              "#7201a8"
             ],
             [
              0.3333333333333333,
              "#9c179e"
             ],
             [
              0.4444444444444444,
              "#bd3786"
             ],
             [
              0.5555555555555556,
              "#d8576b"
             ],
             [
              0.6666666666666666,
              "#ed7953"
             ],
             [
              0.7777777777777778,
              "#fb9f3a"
             ],
             [
              0.8888888888888888,
              "#fdca26"
             ],
             [
              1,
              "#f0f921"
             ]
            ],
            "type": "heatmapgl"
           }
          ],
          "histogram": [
           {
            "marker": {
             "pattern": {
              "fillmode": "overlay",
              "size": 10,
              "solidity": 0.2
             }
            },
            "type": "histogram"
           }
          ],
          "histogram2d": [
           {
            "colorbar": {
             "outlinewidth": 0,
             "ticks": ""
            },
            "colorscale": [
             [
              0,
              "#0d0887"
             ],
             [
              0.1111111111111111,
              "#46039f"
             ],
             [
              0.2222222222222222,
              "#7201a8"
             ],
             [
              0.3333333333333333,
              "#9c179e"
             ],
             [
              0.4444444444444444,
              "#bd3786"
             ],
             [
              0.5555555555555556,
              "#d8576b"
             ],
             [
              0.6666666666666666,
              "#ed7953"
             ],
             [
              0.7777777777777778,
              "#fb9f3a"
             ],
             [
              0.8888888888888888,
              "#fdca26"
             ],
             [
              1,
              "#f0f921"
             ]
            ],
            "type": "histogram2d"
           }
          ],
          "histogram2dcontour": [
           {
            "colorbar": {
             "outlinewidth": 0,
             "ticks": ""
            },
            "colorscale": [
             [
              0,
              "#0d0887"
             ],
             [
              0.1111111111111111,
              "#46039f"
             ],
             [
              0.2222222222222222,
              "#7201a8"
             ],
             [
              0.3333333333333333,
              "#9c179e"
             ],
             [
              0.4444444444444444,
              "#bd3786"
             ],
             [
              0.5555555555555556,
              "#d8576b"
             ],
             [
              0.6666666666666666,
              "#ed7953"
             ],
             [
              0.7777777777777778,
              "#fb9f3a"
             ],
             [
              0.8888888888888888,
              "#fdca26"
             ],
             [
              1,
              "#f0f921"
             ]
            ],
            "type": "histogram2dcontour"
           }
          ],
          "mesh3d": [
           {
            "colorbar": {
             "outlinewidth": 0,
             "ticks": ""
            },
            "type": "mesh3d"
           }
          ],
          "parcoords": [
           {
            "line": {
             "colorbar": {
              "outlinewidth": 0,
              "ticks": ""
             }
            },
            "type": "parcoords"
           }
          ],
          "pie": [
           {
            "automargin": true,
            "type": "pie"
           }
          ],
          "scatter": [
           {
            "marker": {
             "colorbar": {
              "outlinewidth": 0,
              "ticks": ""
             }
            },
            "type": "scatter"
           }
          ],
          "scatter3d": [
           {
            "line": {
             "colorbar": {
              "outlinewidth": 0,
              "ticks": ""
             }
            },
            "marker": {
             "colorbar": {
              "outlinewidth": 0,
              "ticks": ""
             }
            },
            "type": "scatter3d"
           }
          ],
          "scattercarpet": [
           {
            "marker": {
             "colorbar": {
              "outlinewidth": 0,
              "ticks": ""
             }
            },
            "type": "scattercarpet"
           }
          ],
          "scattergeo": [
           {
            "marker": {
             "colorbar": {
              "outlinewidth": 0,
              "ticks": ""
             }
            },
            "type": "scattergeo"
           }
          ],
          "scattergl": [
           {
            "marker": {
             "colorbar": {
              "outlinewidth": 0,
              "ticks": ""
             }
            },
            "type": "scattergl"
           }
          ],
          "scattermapbox": [
           {
            "marker": {
             "colorbar": {
              "outlinewidth": 0,
              "ticks": ""
             }
            },
            "type": "scattermapbox"
           }
          ],
          "scatterpolar": [
           {
            "marker": {
             "colorbar": {
              "outlinewidth": 0,
              "ticks": ""
             }
            },
            "type": "scatterpolar"
           }
          ],
          "scatterpolargl": [
           {
            "marker": {
             "colorbar": {
              "outlinewidth": 0,
              "ticks": ""
             }
            },
            "type": "scatterpolargl"
           }
          ],
          "scatterternary": [
           {
            "marker": {
             "colorbar": {
              "outlinewidth": 0,
              "ticks": ""
             }
            },
            "type": "scatterternary"
           }
          ],
          "surface": [
           {
            "colorbar": {
             "outlinewidth": 0,
             "ticks": ""
            },
            "colorscale": [
             [
              0,
              "#0d0887"
             ],
             [
              0.1111111111111111,
              "#46039f"
             ],
             [
              0.2222222222222222,
              "#7201a8"
             ],
             [
              0.3333333333333333,
              "#9c179e"
             ],
             [
              0.4444444444444444,
              "#bd3786"
             ],
             [
              0.5555555555555556,
              "#d8576b"
             ],
             [
              0.6666666666666666,
              "#ed7953"
             ],
             [
              0.7777777777777778,
              "#fb9f3a"
             ],
             [
              0.8888888888888888,
              "#fdca26"
             ],
             [
              1,
              "#f0f921"
             ]
            ],
            "type": "surface"
           }
          ],
          "table": [
           {
            "cells": {
             "fill": {
              "color": "#EBF0F8"
             },
             "line": {
              "color": "white"
             }
            },
            "header": {
             "fill": {
              "color": "#C8D4E3"
             },
             "line": {
              "color": "white"
             }
            },
            "type": "table"
           }
          ]
         },
         "layout": {
          "annotationdefaults": {
           "arrowcolor": "#2a3f5f",
           "arrowhead": 0,
           "arrowwidth": 1
          },
          "autotypenumbers": "strict",
          "coloraxis": {
           "colorbar": {
            "outlinewidth": 0,
            "ticks": ""
           }
          },
          "colorscale": {
           "diverging": [
            [
             0,
             "#8e0152"
            ],
            [
             0.1,
             "#c51b7d"
            ],
            [
             0.2,
             "#de77ae"
            ],
            [
             0.3,
             "#f1b6da"
            ],
            [
             0.4,
             "#fde0ef"
            ],
            [
             0.5,
             "#f7f7f7"
            ],
            [
             0.6,
             "#e6f5d0"
            ],
            [
             0.7,
             "#b8e186"
            ],
            [
             0.8,
             "#7fbc41"
            ],
            [
             0.9,
             "#4d9221"
            ],
            [
             1,
             "#276419"
            ]
           ],
           "sequential": [
            [
             0,
             "#0d0887"
            ],
            [
             0.1111111111111111,
             "#46039f"
            ],
            [
             0.2222222222222222,
             "#7201a8"
            ],
            [
             0.3333333333333333,
             "#9c179e"
            ],
            [
             0.4444444444444444,
             "#bd3786"
            ],
            [
             0.5555555555555556,
             "#d8576b"
            ],
            [
             0.6666666666666666,
             "#ed7953"
            ],
            [
             0.7777777777777778,
             "#fb9f3a"
            ],
            [
             0.8888888888888888,
             "#fdca26"
            ],
            [
             1,
             "#f0f921"
            ]
           ],
           "sequentialminus": [
            [
             0,
             "#0d0887"
            ],
            [
             0.1111111111111111,
             "#46039f"
            ],
            [
             0.2222222222222222,
             "#7201a8"
            ],
            [
             0.3333333333333333,
             "#9c179e"
            ],
            [
             0.4444444444444444,
             "#bd3786"
            ],
            [
             0.5555555555555556,
             "#d8576b"
            ],
            [
             0.6666666666666666,
             "#ed7953"
            ],
            [
             0.7777777777777778,
             "#fb9f3a"
            ],
            [
             0.8888888888888888,
             "#fdca26"
            ],
            [
             1,
             "#f0f921"
            ]
           ]
          },
          "colorway": [
           "#636efa",
           "#EF553B",
           "#00cc96",
           "#ab63fa",
           "#FFA15A",
           "#19d3f3",
           "#FF6692",
           "#B6E880",
           "#FF97FF",
           "#FECB52"
          ],
          "font": {
           "color": "#2a3f5f"
          },
          "geo": {
           "bgcolor": "white",
           "lakecolor": "white",
           "landcolor": "#E5ECF6",
           "showlakes": true,
           "showland": true,
           "subunitcolor": "white"
          },
          "hoverlabel": {
           "align": "left"
          },
          "hovermode": "closest",
          "mapbox": {
           "style": "light"
          },
          "paper_bgcolor": "white",
          "plot_bgcolor": "#E5ECF6",
          "polar": {
           "angularaxis": {
            "gridcolor": "white",
            "linecolor": "white",
            "ticks": ""
           },
           "bgcolor": "#E5ECF6",
           "radialaxis": {
            "gridcolor": "white",
            "linecolor": "white",
            "ticks": ""
           }
          },
          "scene": {
           "xaxis": {
            "backgroundcolor": "#E5ECF6",
            "gridcolor": "white",
            "gridwidth": 2,
            "linecolor": "white",
            "showbackground": true,
            "ticks": "",
            "zerolinecolor": "white"
           },
           "yaxis": {
            "backgroundcolor": "#E5ECF6",
            "gridcolor": "white",
            "gridwidth": 2,
            "linecolor": "white",
            "showbackground": true,
            "ticks": "",
            "zerolinecolor": "white"
           },
           "zaxis": {
            "backgroundcolor": "#E5ECF6",
            "gridcolor": "white",
            "gridwidth": 2,
            "linecolor": "white",
            "showbackground": true,
            "ticks": "",
            "zerolinecolor": "white"
           }
          },
          "shapedefaults": {
           "line": {
            "color": "#2a3f5f"
           }
          },
          "ternary": {
           "aaxis": {
            "gridcolor": "white",
            "linecolor": "white",
            "ticks": ""
           },
           "baxis": {
            "gridcolor": "white",
            "linecolor": "white",
            "ticks": ""
           },
           "bgcolor": "#E5ECF6",
           "caxis": {
            "gridcolor": "white",
            "linecolor": "white",
            "ticks": ""
           }
          },
          "title": {
           "x": 0.05
          },
          "xaxis": {
           "automargin": true,
           "gridcolor": "white",
           "linecolor": "white",
           "ticks": "",
           "title": {
            "standoff": 15
           },
           "zerolinecolor": "white",
           "zerolinewidth": 2
          },
          "yaxis": {
           "automargin": true,
           "gridcolor": "white",
           "linecolor": "white",
           "ticks": "",
           "title": {
            "standoff": 15
           },
           "zerolinecolor": "white",
           "zerolinewidth": 2
          }
         }
        },
        "title": {
         "font": {
          "size": 18
         },
         "text": "Porcentaje de Crecimiento Anual del Precio por m² por Vecindario"
        },
        "xaxis": {
         "anchor": "y",
         "domain": [
          0,
          1
         ],
         "tickfont": {
          "size": 12
         },
         "title": {
          "font": {
           "size": 14
          },
          "text": "Año"
         }
        },
        "yaxis": {
         "anchor": "x",
         "domain": [
          0,
          1
         ],
         "tickfont": {
          "size": 12
         },
         "title": {
          "font": {
           "size": 14
          },
          "text": "Porcentaje de Crecimiento (%)"
         }
        }
       }
      }
     },
     "metadata": {},
     "output_type": "display_data"
    }
   ],
   "source": [
    "# Crear columna 'year' a partir de la columna 'date'\n",
    "df['year'] = pd.to_datetime(df['date']).dt.year\n",
    "\n",
    "# Agrupar por vecindario y año, calculando el precio promedio por metro cuadrado\n",
    "grouped_df = df.groupby(['neighbourhood_group', 'year'])['m2_price'].mean().reset_index()\n",
    "\n",
    "# Calcular el porcentaje de crecimiento año a año para cada vecindario\n",
    "grouped_df['growth_rate'] = grouped_df.groupby('neighbourhood_group')['m2_price'].pct_change() * 100\n",
    "\n",
    "# Filtrar datos para evitar valores nulos en el crecimiento\n",
    "growth_df = grouped_df.dropna(subset=['growth_rate'])\n",
    "\n",
    "# Crear gráfica con el porcentaje de crecimiento\n",
    "fig = px.bar(\n",
    "    growth_df,\n",
    "    x='year',\n",
    "    y='growth_rate',\n",
    "    color='neighbourhood_group',\n",
    "    barmode='group',\n",
    "    title='Porcentaje de Crecimiento Anual del Precio por m² por Vecindario',\n",
    "    labels={\n",
    "        'year': 'Año',\n",
    "        'growth_rate': 'Porcentaje de Crecimiento (%)',\n",
    "        'neighbourhood_group': 'Vecindarios'\n",
    "    }\n",
    ")\n",
    "\n",
    "# Mejorar diseño\n",
    "fig.update_layout(\n",
    "    legend_title=dict(font=dict(size=12)),\n",
    "    xaxis=dict(title_font=dict(size=14), tickfont=dict(size=12)),\n",
    "    yaxis=dict(title_font=dict(size=14), tickfont=dict(size=12)),\n",
    "    title=dict(font=dict(size=18)),\n",
    "    margin=dict(l=40, r=40, t=40, b=40)\n",
    ")\n",
    "\n",
    "fig.show()"
   ]
  },
  {
   "cell_type": "markdown",
   "metadata": {},
   "source": [
    "# Linear Regression"
   ]
  },
  {
   "cell_type": "code",
   "execution_count": null,
   "metadata": {},
   "outputs": [
    {
     "name": "stdout",
     "output_type": "stream",
     "text": [
      "Resultados del modelo: Regresión Lineal\n",
      "Mean Absolute Error: 3.3425544639326854\n",
      "Mean Squared Error: 16.73553108049836\n",
      "R2 Score: 0.9973130406913051\n",
      "--------------------------------------------------\n"
     ]
    }
   ],
   "source": [
    "def dividir_datos(datos, variable_objetivo, test_size=0.2):\n",
    "    \"\"\"Divide los datos en conjuntos de entrenamiento y prueba.\"\"\"\n",
    "    from sklearn.model_selection import train_test_split\n",
    "    X = datos.drop(variable_objetivo, axis=1)\n",
    "    y = datos[variable_objetivo]\n",
    "    X_train, X_test, y_train, y_test = train_test_split(\n",
    "        X, y, test_size=test_size)\n",
    "    return X_train, X_test, y_train, y_test\n",
    "\n",
    "\n",
    "def calcular_metricas_regresion(y_real, y_predicho):\n",
    "    \"\"\"Calcula métricas de evaluación para modelos de regresión.\"\"\"\n",
    "    from sklearn.metrics import (\n",
    "        r2_score,\n",
    "        mean_absolute_error,\n",
    "        mean_squared_error\n",
    "    )\n",
    "    print(\"Mean Absolute Error:\", mean_absolute_error(y_real, y_predicho))\n",
    "    print(\"Mean Squared Error:\", mean_squared_error(y_real, y_predicho))\n",
    "    print(\"R2 Score:\", r2_score(y_real, y_predicho))\n",
    "\n",
    "\n",
    "X_train, X_test, y_train, y_test = dividir_datos(df.groupby('date').sum(), 'm2_price')\n",
    "\n",
    "# Modelos de regresión\n",
    "from sklearn.linear_model import LinearRegression\n",
    "from sklearn.tree import DecisionTreeRegressor\n",
    "from sklearn.ensemble import RandomForestRegressor\n",
    "from sklearn.neighbors import KNeighborsRegressor\n",
    "\n",
    "modelos_regresion = {\n",
    "    'Regresión Lineal': LinearRegression(),\n",
    "}\n",
    "\n",
    "for nombre, modelo in modelos_regresion.items():\n",
    "    reg = modelo.fit(X_train, y_train)\n",
    "    y_pred = modelo.predict(X_test)\n",
    "    print(f\"Resultados del modelo: {nombre}\")\n",
    "    calcular_metricas_regresion(y_test, y_pred)\n",
    "    print('-'*50)"
   ]
  },
  {
   "cell_type": "code",
   "execution_count": 24,
   "metadata": {},
   "outputs": [
    {
     "data": {
      "application/vnd.plotly.v1+json": {
       "config": {
        "plotlyServerURL": "https://plot.ly"
       },
       "data": [
        {
         "alignmentgroup": "True",
         "hovertemplate": "Coeficientes=%{x}<br>Características=%{y}<extra></extra>",
         "legendgroup": "",
         "marker": {
          "color": "#636efa",
          "pattern": {
           "shape": ""
          }
         },
         "name": "",
         "offsetgroup": "",
         "orientation": "h",
         "showlegend": false,
         "textposition": "auto",
         "type": "bar",
         "x": [
          -0.055491007829570595,
          -0.027445532298458492,
          0.03848520988327358,
          -0.013803888017294616,
          -0.014308265681574584,
          0.0019609552941580403,
          0.002552620013113559,
          0.0006895841937869299,
          -0.0014829923792684992,
          1.1183085240465744,
          0.044753342260352505,
          -0.005318548194769395,
          -0.014698551406043682,
          -0.04441418174836336,
          0.050627393331863974,
          -0.01104529615655311
         ],
         "xaxis": "x",
         "y": [
          "inflation",
          "HICP",
          "population_density",
          "listings_count",
          "minimum_nights",
          "nigth_price",
          "availability_365",
          "listing_reviews",
          "number_of_reviews",
          "reviews_per_month",
          "hosts_count",
          "Private_room",
          "Entire_home",
          "Hotel_room",
          "Shared_room",
          "year"
         ],
         "yaxis": "y"
        }
       ],
       "layout": {
        "barmode": "relative",
        "legend": {
         "tracegroupgap": 0
        },
        "margin": {
         "b": 40,
         "l": 40,
         "r": 40,
         "t": 40
        },
        "template": {
         "data": {
          "bar": [
           {
            "error_x": {
             "color": "#2a3f5f"
            },
            "error_y": {
             "color": "#2a3f5f"
            },
            "marker": {
             "line": {
              "color": "#E5ECF6",
              "width": 0.5
             },
             "pattern": {
              "fillmode": "overlay",
              "size": 10,
              "solidity": 0.2
             }
            },
            "type": "bar"
           }
          ],
          "barpolar": [
           {
            "marker": {
             "line": {
              "color": "#E5ECF6",
              "width": 0.5
             },
             "pattern": {
              "fillmode": "overlay",
              "size": 10,
              "solidity": 0.2
             }
            },
            "type": "barpolar"
           }
          ],
          "carpet": [
           {
            "aaxis": {
             "endlinecolor": "#2a3f5f",
             "gridcolor": "white",
             "linecolor": "white",
             "minorgridcolor": "white",
             "startlinecolor": "#2a3f5f"
            },
            "baxis": {
             "endlinecolor": "#2a3f5f",
             "gridcolor": "white",
             "linecolor": "white",
             "minorgridcolor": "white",
             "startlinecolor": "#2a3f5f"
            },
            "type": "carpet"
           }
          ],
          "choropleth": [
           {
            "colorbar": {
             "outlinewidth": 0,
             "ticks": ""
            },
            "type": "choropleth"
           }
          ],
          "contour": [
           {
            "colorbar": {
             "outlinewidth": 0,
             "ticks": ""
            },
            "colorscale": [
             [
              0,
              "#0d0887"
             ],
             [
              0.1111111111111111,
              "#46039f"
             ],
             [
              0.2222222222222222,
              "#7201a8"
             ],
             [
              0.3333333333333333,
              "#9c179e"
             ],
             [
              0.4444444444444444,
              "#bd3786"
             ],
             [
              0.5555555555555556,
              "#d8576b"
             ],
             [
              0.6666666666666666,
              "#ed7953"
             ],
             [
              0.7777777777777778,
              "#fb9f3a"
             ],
             [
              0.8888888888888888,
              "#fdca26"
             ],
             [
              1,
              "#f0f921"
             ]
            ],
            "type": "contour"
           }
          ],
          "contourcarpet": [
           {
            "colorbar": {
             "outlinewidth": 0,
             "ticks": ""
            },
            "type": "contourcarpet"
           }
          ],
          "heatmap": [
           {
            "colorbar": {
             "outlinewidth": 0,
             "ticks": ""
            },
            "colorscale": [
             [
              0,
              "#0d0887"
             ],
             [
              0.1111111111111111,
              "#46039f"
             ],
             [
              0.2222222222222222,
              "#7201a8"
             ],
             [
              0.3333333333333333,
              "#9c179e"
             ],
             [
              0.4444444444444444,
              "#bd3786"
             ],
             [
              0.5555555555555556,
              "#d8576b"
             ],
             [
              0.6666666666666666,
              "#ed7953"
             ],
             [
              0.7777777777777778,
              "#fb9f3a"
             ],
             [
              0.8888888888888888,
              "#fdca26"
             ],
             [
              1,
              "#f0f921"
             ]
            ],
            "type": "heatmap"
           }
          ],
          "heatmapgl": [
           {
            "colorbar": {
             "outlinewidth": 0,
             "ticks": ""
            },
            "colorscale": [
             [
              0,
              "#0d0887"
             ],
             [
              0.1111111111111111,
              "#46039f"
             ],
             [
              0.2222222222222222,
              "#7201a8"
             ],
             [
              0.3333333333333333,
              "#9c179e"
             ],
             [
              0.4444444444444444,
              "#bd3786"
             ],
             [
              0.5555555555555556,
              "#d8576b"
             ],
             [
              0.6666666666666666,
              "#ed7953"
             ],
             [
              0.7777777777777778,
              "#fb9f3a"
             ],
             [
              0.8888888888888888,
              "#fdca26"
             ],
             [
              1,
              "#f0f921"
             ]
            ],
            "type": "heatmapgl"
           }
          ],
          "histogram": [
           {
            "marker": {
             "pattern": {
              "fillmode": "overlay",
              "size": 10,
              "solidity": 0.2
             }
            },
            "type": "histogram"
           }
          ],
          "histogram2d": [
           {
            "colorbar": {
             "outlinewidth": 0,
             "ticks": ""
            },
            "colorscale": [
             [
              0,
              "#0d0887"
             ],
             [
              0.1111111111111111,
              "#46039f"
             ],
             [
              0.2222222222222222,
              "#7201a8"
             ],
             [
              0.3333333333333333,
              "#9c179e"
             ],
             [
              0.4444444444444444,
              "#bd3786"
             ],
             [
              0.5555555555555556,
              "#d8576b"
             ],
             [
              0.6666666666666666,
              "#ed7953"
             ],
             [
              0.7777777777777778,
              "#fb9f3a"
             ],
             [
              0.8888888888888888,
              "#fdca26"
             ],
             [
              1,
              "#f0f921"
             ]
            ],
            "type": "histogram2d"
           }
          ],
          "histogram2dcontour": [
           {
            "colorbar": {
             "outlinewidth": 0,
             "ticks": ""
            },
            "colorscale": [
             [
              0,
              "#0d0887"
             ],
             [
              0.1111111111111111,
              "#46039f"
             ],
             [
              0.2222222222222222,
              "#7201a8"
             ],
             [
              0.3333333333333333,
              "#9c179e"
             ],
             [
              0.4444444444444444,
              "#bd3786"
             ],
             [
              0.5555555555555556,
              "#d8576b"
             ],
             [
              0.6666666666666666,
              "#ed7953"
             ],
             [
              0.7777777777777778,
              "#fb9f3a"
             ],
             [
              0.8888888888888888,
              "#fdca26"
             ],
             [
              1,
              "#f0f921"
             ]
            ],
            "type": "histogram2dcontour"
           }
          ],
          "mesh3d": [
           {
            "colorbar": {
             "outlinewidth": 0,
             "ticks": ""
            },
            "type": "mesh3d"
           }
          ],
          "parcoords": [
           {
            "line": {
             "colorbar": {
              "outlinewidth": 0,
              "ticks": ""
             }
            },
            "type": "parcoords"
           }
          ],
          "pie": [
           {
            "automargin": true,
            "type": "pie"
           }
          ],
          "scatter": [
           {
            "marker": {
             "colorbar": {
              "outlinewidth": 0,
              "ticks": ""
             }
            },
            "type": "scatter"
           }
          ],
          "scatter3d": [
           {
            "line": {
             "colorbar": {
              "outlinewidth": 0,
              "ticks": ""
             }
            },
            "marker": {
             "colorbar": {
              "outlinewidth": 0,
              "ticks": ""
             }
            },
            "type": "scatter3d"
           }
          ],
          "scattercarpet": [
           {
            "marker": {
             "colorbar": {
              "outlinewidth": 0,
              "ticks": ""
             }
            },
            "type": "scattercarpet"
           }
          ],
          "scattergeo": [
           {
            "marker": {
             "colorbar": {
              "outlinewidth": 0,
              "ticks": ""
             }
            },
            "type": "scattergeo"
           }
          ],
          "scattergl": [
           {
            "marker": {
             "colorbar": {
              "outlinewidth": 0,
              "ticks": ""
             }
            },
            "type": "scattergl"
           }
          ],
          "scattermapbox": [
           {
            "marker": {
             "colorbar": {
              "outlinewidth": 0,
              "ticks": ""
             }
            },
            "type": "scattermapbox"
           }
          ],
          "scatterpolar": [
           {
            "marker": {
             "colorbar": {
              "outlinewidth": 0,
              "ticks": ""
             }
            },
            "type": "scatterpolar"
           }
          ],
          "scatterpolargl": [
           {
            "marker": {
             "colorbar": {
              "outlinewidth": 0,
              "ticks": ""
             }
            },
            "type": "scatterpolargl"
           }
          ],
          "scatterternary": [
           {
            "marker": {
             "colorbar": {
              "outlinewidth": 0,
              "ticks": ""
             }
            },
            "type": "scatterternary"
           }
          ],
          "surface": [
           {
            "colorbar": {
             "outlinewidth": 0,
             "ticks": ""
            },
            "colorscale": [
             [
              0,
              "#0d0887"
             ],
             [
              0.1111111111111111,
              "#46039f"
             ],
             [
              0.2222222222222222,
              "#7201a8"
             ],
             [
              0.3333333333333333,
              "#9c179e"
             ],
             [
              0.4444444444444444,
              "#bd3786"
             ],
             [
              0.5555555555555556,
              "#d8576b"
             ],
             [
              0.6666666666666666,
              "#ed7953"
             ],
             [
              0.7777777777777778,
              "#fb9f3a"
             ],
             [
              0.8888888888888888,
              "#fdca26"
             ],
             [
              1,
              "#f0f921"
             ]
            ],
            "type": "surface"
           }
          ],
          "table": [
           {
            "cells": {
             "fill": {
              "color": "#EBF0F8"
             },
             "line": {
              "color": "white"
             }
            },
            "header": {
             "fill": {
              "color": "#C8D4E3"
             },
             "line": {
              "color": "white"
             }
            },
            "type": "table"
           }
          ]
         },
         "layout": {
          "annotationdefaults": {
           "arrowcolor": "#2a3f5f",
           "arrowhead": 0,
           "arrowwidth": 1
          },
          "autotypenumbers": "strict",
          "coloraxis": {
           "colorbar": {
            "outlinewidth": 0,
            "ticks": ""
           }
          },
          "colorscale": {
           "diverging": [
            [
             0,
             "#8e0152"
            ],
            [
             0.1,
             "#c51b7d"
            ],
            [
             0.2,
             "#de77ae"
            ],
            [
             0.3,
             "#f1b6da"
            ],
            [
             0.4,
             "#fde0ef"
            ],
            [
             0.5,
             "#f7f7f7"
            ],
            [
             0.6,
             "#e6f5d0"
            ],
            [
             0.7,
             "#b8e186"
            ],
            [
             0.8,
             "#7fbc41"
            ],
            [
             0.9,
             "#4d9221"
            ],
            [
             1,
             "#276419"
            ]
           ],
           "sequential": [
            [
             0,
             "#0d0887"
            ],
            [
             0.1111111111111111,
             "#46039f"
            ],
            [
             0.2222222222222222,
             "#7201a8"
            ],
            [
             0.3333333333333333,
             "#9c179e"
            ],
            [
             0.4444444444444444,
             "#bd3786"
            ],
            [
             0.5555555555555556,
             "#d8576b"
            ],
            [
             0.6666666666666666,
             "#ed7953"
            ],
            [
             0.7777777777777778,
             "#fb9f3a"
            ],
            [
             0.8888888888888888,
             "#fdca26"
            ],
            [
             1,
             "#f0f921"
            ]
           ],
           "sequentialminus": [
            [
             0,
             "#0d0887"
            ],
            [
             0.1111111111111111,
             "#46039f"
            ],
            [
             0.2222222222222222,
             "#7201a8"
            ],
            [
             0.3333333333333333,
             "#9c179e"
            ],
            [
             0.4444444444444444,
             "#bd3786"
            ],
            [
             0.5555555555555556,
             "#d8576b"
            ],
            [
             0.6666666666666666,
             "#ed7953"
            ],
            [
             0.7777777777777778,
             "#fb9f3a"
            ],
            [
             0.8888888888888888,
             "#fdca26"
            ],
            [
             1,
             "#f0f921"
            ]
           ]
          },
          "colorway": [
           "#636efa",
           "#EF553B",
           "#00cc96",
           "#ab63fa",
           "#FFA15A",
           "#19d3f3",
           "#FF6692",
           "#B6E880",
           "#FF97FF",
           "#FECB52"
          ],
          "font": {
           "color": "#2a3f5f"
          },
          "geo": {
           "bgcolor": "white",
           "lakecolor": "white",
           "landcolor": "#E5ECF6",
           "showlakes": true,
           "showland": true,
           "subunitcolor": "white"
          },
          "hoverlabel": {
           "align": "left"
          },
          "hovermode": "closest",
          "mapbox": {
           "style": "light"
          },
          "paper_bgcolor": "white",
          "plot_bgcolor": "#E5ECF6",
          "polar": {
           "angularaxis": {
            "gridcolor": "white",
            "linecolor": "white",
            "ticks": ""
           },
           "bgcolor": "#E5ECF6",
           "radialaxis": {
            "gridcolor": "white",
            "linecolor": "white",
            "ticks": ""
           }
          },
          "scene": {
           "xaxis": {
            "backgroundcolor": "#E5ECF6",
            "gridcolor": "white",
            "gridwidth": 2,
            "linecolor": "white",
            "showbackground": true,
            "ticks": "",
            "zerolinecolor": "white"
           },
           "yaxis": {
            "backgroundcolor": "#E5ECF6",
            "gridcolor": "white",
            "gridwidth": 2,
            "linecolor": "white",
            "showbackground": true,
            "ticks": "",
            "zerolinecolor": "white"
           },
           "zaxis": {
            "backgroundcolor": "#E5ECF6",
            "gridcolor": "white",
            "gridwidth": 2,
            "linecolor": "white",
            "showbackground": true,
            "ticks": "",
            "zerolinecolor": "white"
           }
          },
          "shapedefaults": {
           "line": {
            "color": "#2a3f5f"
           }
          },
          "ternary": {
           "aaxis": {
            "gridcolor": "white",
            "linecolor": "white",
            "ticks": ""
           },
           "baxis": {
            "gridcolor": "white",
            "linecolor": "white",
            "ticks": ""
           },
           "bgcolor": "#E5ECF6",
           "caxis": {
            "gridcolor": "white",
            "linecolor": "white",
            "ticks": ""
           }
          },
          "title": {
           "x": 0.05
          },
          "xaxis": {
           "automargin": true,
           "gridcolor": "white",
           "linecolor": "white",
           "ticks": "",
           "title": {
            "standoff": 15
           },
           "zerolinecolor": "white",
           "zerolinewidth": 2
          },
          "yaxis": {
           "automargin": true,
           "gridcolor": "white",
           "linecolor": "white",
           "ticks": "",
           "title": {
            "standoff": 15
           },
           "zerolinecolor": "white",
           "zerolinewidth": 2
          }
         }
        },
        "title": {
         "font": {
          "size": 18
         },
         "text": "Importancia de las variables en la Regresión Lineal"
        },
        "xaxis": {
         "anchor": "y",
         "domain": [
          0,
          1
         ],
         "tickfont": {
          "size": 12
         },
         "title": {
          "font": {
           "size": 14
          },
          "text": "Coeficientes"
         }
        },
        "yaxis": {
         "anchor": "x",
         "domain": [
          0,
          1
         ],
         "tickfont": {
          "size": 12
         },
         "title": {
          "font": {
           "size": 14
          },
          "text": "Características"
         }
        }
       }
      }
     },
     "metadata": {},
     "output_type": "display_data"
    }
   ],
   "source": [
    "import plotly.express as px\n",
    "import pandas as pd\n",
    "\n",
    "# Asumir que `reg.coef_` contiene los coeficientes y `df.columns` las características\n",
    "# Crear un DataFrame con características y coeficientes\n",
    "coef_data = pd.DataFrame({\n",
    "    'Característica': df.groupby('date').sum().drop('m2_price', axis=1).columns,\n",
    "    'Coeficiente': reg.coef_\n",
    "})\n",
    "\n",
    "# Crear un gráfico de barras horizontales con Plotly Express\n",
    "fig = px.bar(\n",
    "    coef_data,\n",
    "    x='Coeficiente',\n",
    "    y='Característica',\n",
    "    orientation='h',\n",
    "    title='Importancia de las variables en la Regresión Lineal',\n",
    "    labels={\n",
    "        'Coeficiente': 'Coeficientes',\n",
    "        'Característica': 'Características'\n",
    "    }\n",
    ")\n",
    "\n",
    "# Mejorar diseño\n",
    "fig.update_layout(\n",
    "    xaxis=dict(title_font=dict(size=14), tickfont=dict(size=12)),\n",
    "    yaxis=dict(title_font=dict(size=14), tickfont=dict(size=12)),\n",
    "    title=dict(font=dict(size=18)),\n",
    "    margin=dict(l=40, r=40, t=40, b=40)\n",
    ")\n",
    "\n",
    "fig.show()\n"
   ]
  },
  {
   "cell_type": "code",
   "execution_count": 86,
   "metadata": {},
   "outputs": [
    {
     "data": {
      "image/png": "[encoded data removed]",
      "text/plain": [
       "<Figure size 576x432 with 2 Axes>"
      ]
     },
     "metadata": {
      "needs_background": "light"
     },
     "output_type": "display_data"
    },
    {
     "data": {
      "image/png": "[encoded data removed]",
      "text/plain": [
       "<Figure size 576x360 with 1 Axes>"
      ]
     },
     "metadata": {
      "needs_background": "light"
     },
     "output_type": "display_data"
    },
    {
     "data": {
      "image/png": "[encoded data removed]",
      "text/plain": [
       "<Figure size 576x360 with 1 Axes>"
      ]
     },
     "metadata": {
      "needs_background": "light"
     },
     "output_type": "display_data"
    },
    {
     "data": {
      "image/png": "[encoded data removed]",
      "text/plain": [
       "<Figure size 576x360 with 1 Axes>"
      ]
     },
     "metadata": {
      "needs_background": "light"
     },
     "output_type": "display_data"
    }
   ],
   "source": [
    "# Seleccionar las variables relevantes\n",
    "variables = ['m2_price', 'inflation', 'availability_365', 'population_density', 'nigth_price']\n",
    "\n",
    "# Calcular la matriz de correlación\n",
    "corr_matrix = df[variables].corr()\n",
    "\n",
    "# Mostrar la matriz de correlación\n",
    "plt.figure(figsize=(8, 6))\n",
    "sns.heatmap(corr_matrix, annot=True, cmap='coolwarm', fmt=\".2f\")\n",
    "plt.title('Matriz de Correlación')\n",
    "plt.tight_layout()\n",
    "plt.show()\n",
    "\n",
    "# Gráficos de dispersión para los factores más correlacionados\n",
    "factors = ['inflation', 'population_density', 'availability_365']\n",
    "\n",
    "for factor in factors:\n",
    "    plt.figure(figsize=(8, 5))\n",
    "    sns.scatterplot(data=df, x=factor, y='m2_price', alpha=0.6)\n",
    "    sns.regplot(data=df, x=factor, y='m2_price', scatter=False, color='red')\n",
    "    plt.title(f'Relación entre {factor} y Precio por m²')\n",
    "    plt.xlabel(factor.replace('_', ' ').capitalize())\n",
    "    plt.ylabel('Precio por m² (€)')\n",
    "    plt.tight_layout()\n",
    "    plt.show()\n"
   ]
  },
  {
   "cell_type": "code",
   "execution_count": null,
   "metadata": {},
   "outputs": [
    {
     "data": {
      "image/png": "[encoded data removed]",
      "text/plain": [
       "<Figure size 864x576 with 1 Axes>"
      ]
     },
     "metadata": {
      "needs_background": "light"
     },
     "output_type": "display_data"
    }
   ],
   "source": [
    "room_types = df[['Private_room', 'Entire_home', 'Hotel_room', 'Shared_room']].sum().reset_index()\n",
    "room_types.columns = ['Room Type', 'Count']\n",
    "\n",
    "plt.figure(figsize=(10, 6))\n",
    "sns.barplot(data=room_types, x='Room Type', y='Count', palette='magma')\n",
    "plt.title('Número de propiedades por tipo de habitación')\n",
    "plt.xlabel('Tipo de habitación')\n",
    "plt.ylabel('Cantidad de propiedades')\n",
    "plt.show()\n",
    "\n"
   ]
  },
  {
   "cell_type": "code",
   "execution_count": 113,
   "metadata": {},
   "outputs": [
    {
     "data": {
      "application/vnd.plotly.v1+json": {
       "config": {
        "plotlyServerURL": "https://plot.ly"
       },
       "data": [
        {
         "hovertemplate": "year=%{x}<br>Precio por Noche (€)=%{y}<extra></extra>",
         "legendgroup": "",
         "line": {
          "color": "#636efa",
          "dash": "solid",
          "width": 2
         },
         "marker": {
          "size": 4,
          "symbol": "circle"
         },
         "mode": "lines+markers",
         "name": "",
         "orientation": "v",
         "showlegend": false,
         "type": "scatter",
         "x": [
          2010,
          2011,
          2012,
          2013,
          2014,
          2015,
          2016,
          2017,
          2018,
          2019,
          2020,
          2021,
          2022,
          2023
         ],
         "xaxis": "x",
         "y": [
          114,
          82.36470588235295,
          87.31057654655527,
          102.0548228005577,
          89.40954555463718,
          95.44843548511446,
          98.74037606516916,
          98.36107792811018,
          101.0030735478081,
          123.65366609062806,
          108.13394928562461,
          106.35951158417241,
          102.45389389427825,
          100.60136369559858
         ],
         "yaxis": "y"
        }
       ],
       "layout": {
        "legend": {
         "orientation": "v",
         "title": {
          "font": {
           "size": 20
          }
         },
         "tracegroupgap": 0,
         "x": 1.05,
         "y": 1
        },
        "margin": {
         "b": 40,
         "l": 40,
         "r": 40,
         "t": 40
        },
        "template": {
         "data": {
          "bar": [
           {
            "error_x": {
             "color": "#2a3f5f"
            },
            "error_y": {
             "color": "#2a3f5f"
            },
            "marker": {
             "line": {
              "color": "#E5ECF6",
              "width": 0.5
             },
             "pattern": {
              "fillmode": "overlay",
              "size": 10,
              "solidity": 0.2
             }
            },
            "type": "bar"
           }
          ],
          "barpolar": [
           {
            "marker": {
             "line": {
              "color": "#E5ECF6",
              "width": 0.5
             },
             "pattern": {
              "fillmode": "overlay",
              "size": 10,
              "solidity": 0.2
             }
            },
            "type": "barpolar"
           }
          ],
          "carpet": [
           {
            "aaxis": {
             "endlinecolor": "#2a3f5f",
             "gridcolor": "white",
             "linecolor": "white",
             "minorgridcolor": "white",
             "startlinecolor": "#2a3f5f"
            },
            "baxis": {
             "endlinecolor": "#2a3f5f",
             "gridcolor": "white",
             "linecolor": "white",
             "minorgridcolor": "white",
             "startlinecolor": "#2a3f5f"
            },
            "type": "carpet"
           }
          ],
          "choropleth": [
           {
            "colorbar": {
             "outlinewidth": 0,
             "ticks": ""
            },
            "type": "choropleth"
           }
          ],
          "contour": [
           {
            "colorbar": {
             "outlinewidth": 0,
             "ticks": ""
            },
            "colorscale": [
             [
              0,
              "#0d0887"
             ],
             [
              0.1111111111111111,
              "#46039f"
             ],
             [
              0.2222222222222222,
              "#7201a8"
             ],
             [
              0.3333333333333333,
              "#9c179e"
             ],
             [
              0.4444444444444444,
              "#bd3786"
             ],
             [
              0.5555555555555556,
              "#d8576b"
             ],
             [
              0.6666666666666666,
              "#ed7953"
             ],
             [
              0.7777777777777778,
              "#fb9f3a"
             ],
             [
              0.8888888888888888,
              "#fdca26"
             ],
             [
              1,
              "#f0f921"
             ]
            ],
            "type": "contour"
           }
          ],
          "contourcarpet": [
           {
            "colorbar": {
             "outlinewidth": 0,
             "ticks": ""
            },
            "type": "contourcarpet"
           }
          ],
          "heatmap": [
           {
            "colorbar": {
             "outlinewidth": 0,
             "ticks": ""
            },
            "colorscale": [
             [
              0,
              "#0d0887"
             ],
             [
              0.1111111111111111,
              "#46039f"
             ],
             [
              0.2222222222222222,
              "#7201a8"
             ],
             [
              0.3333333333333333,
              "#9c179e"
             ],
             [
              0.4444444444444444,
              "#bd3786"
             ],
             [
              0.5555555555555556,
              "#d8576b"
             ],
             [
              0.6666666666666666,
              "#ed7953"
             ],
             [
              0.7777777777777778,
              "#fb9f3a"
             ],
             [
              0.8888888888888888,
              "#fdca26"
             ],
             [
              1,
              "#f0f921"
             ]
            ],
            "type": "heatmap"
           }
          ],
          "heatmapgl": [
           {
            "colorbar": {
             "outlinewidth": 0,
             "ticks": ""
            },
            "colorscale": [
             [
              0,
              "#0d0887"
             ],
             [
              0.1111111111111111,
              "#46039f"
             ],
             [
              0.2222222222222222,
              "#7201a8"
             ],
             [
              0.3333333333333333,
              "#9c179e"
             ],
             [
              0.4444444444444444,
              "#bd3786"
             ],
             [
              0.5555555555555556,
              "#d8576b"
             ],
             [
              0.6666666666666666,
              "#ed7953"
             ],
             [
              0.7777777777777778,
              "#fb9f3a"
             ],
             [
              0.8888888888888888,
              "#fdca26"
             ],
             [
              1,
              "#f0f921"
             ]
            ],
            "type": "heatmapgl"
           }
          ],
          "histogram": [
           {
            "marker": {
             "pattern": {
              "fillmode": "overlay",
              "size": 10,
              "solidity": 0.2
             }
            },
            "type": "histogram"
           }
          ],
          "histogram2d": [
           {
            "colorbar": {
             "outlinewidth": 0,
             "ticks": ""
            },
            "colorscale": [
             [
              0,
              "#0d0887"
             ],
             [
              0.1111111111111111,
              "#46039f"
             ],
             [
              0.2222222222222222,
              "#7201a8"
             ],
             [
              0.3333333333333333,
              "#9c179e"
             ],
             [
              0.4444444444444444,
              "#bd3786"
             ],
             [
              0.5555555555555556,
              "#d8576b"
             ],
             [
              0.6666666666666666,
              "#ed7953"
             ],
             [
              0.7777777777777778,
              "#fb9f3a"
             ],
             [
              0.8888888888888888,
              "#fdca26"
             ],
             [
              1,
              "#f0f921"
             ]
            ],
            "type": "histogram2d"
           }
          ],
          "histogram2dcontour": [
           {
            "colorbar": {
             "outlinewidth": 0,
             "ticks": ""
            },
            "colorscale": [
             [
              0,
              "#0d0887"
             ],
             [
              0.1111111111111111,
              "#46039f"
             ],
             [
              0.2222222222222222,
              "#7201a8"
             ],
             [
              0.3333333333333333,
              "#9c179e"
             ],
             [
              0.4444444444444444,
              "#bd3786"
             ],
             [
              0.5555555555555556,
              "#d8576b"
             ],
             [
              0.6666666666666666,
              "#ed7953"
             ],
             [
              0.7777777777777778,
              "#fb9f3a"
             ],
             [
              0.8888888888888888,
              "#fdca26"
             ],
             [
              1,
              "#f0f921"
             ]
            ],
            "type": "histogram2dcontour"
           }
          ],
          "mesh3d": [
           {
            "colorbar": {
             "outlinewidth": 0,
             "ticks": ""
            },
            "type": "mesh3d"
           }
          ],
          "parcoords": [
           {
            "line": {
             "colorbar": {
              "outlinewidth": 0,
              "ticks": ""
             }
            },
            "type": "parcoords"
           }
          ],
          "pie": [
           {
            "automargin": true,
            "type": "pie"
           }
          ],
          "scatter": [
           {
            "marker": {
             "colorbar": {
              "outlinewidth": 0,
              "ticks": ""
             }
            },
            "type": "scatter"
           }
          ],
          "scatter3d": [
           {
            "line": {
             "colorbar": {
              "outlinewidth": 0,
              "ticks": ""
             }
            },
            "marker": {
             "colorbar": {
              "outlinewidth": 0,
              "ticks": ""
             }
            },
            "type": "scatter3d"
           }
          ],
          "scattercarpet": [
           {
            "marker": {
             "colorbar": {
              "outlinewidth": 0,
              "ticks": ""
             }
            },
            "type": "scattercarpet"
           }
          ],
          "scattergeo": [
           {
            "marker": {
             "colorbar": {
              "outlinewidth": 0,
              "ticks": ""
             }
            },
            "type": "scattergeo"
           }
          ],
          "scattergl": [
           {
            "marker": {
             "colorbar": {
              "outlinewidth": 0,
              "ticks": ""
             }
            },
            "type": "scattergl"
           }
          ],
          "scattermapbox": [
           {
            "marker": {
             "colorbar": {
              "outlinewidth": 0,
              "ticks": ""
             }
            },
            "type": "scattermapbox"
           }
          ],
          "scatterpolar": [
           {
            "marker": {
             "colorbar": {
              "outlinewidth": 0,
              "ticks": ""
             }
            },
            "type": "scatterpolar"
           }
          ],
          "scatterpolargl": [
           {
            "marker": {
             "colorbar": {
              "outlinewidth": 0,
              "ticks": ""
             }
            },
            "type": "scatterpolargl"
           }
          ],
          "scatterternary": [
           {
            "marker": {
             "colorbar": {
              "outlinewidth": 0,
              "ticks": ""
             }
            },
            "type": "scatterternary"
           }
          ],
          "surface": [
           {
            "colorbar": {
             "outlinewidth": 0,
             "ticks": ""
            },
            "colorscale": [
             [
              0,
              "#0d0887"
             ],
             [
              0.1111111111111111,
              "#46039f"
             ],
             [
              0.2222222222222222,
              "#7201a8"
             ],
             [
              0.3333333333333333,
              "#9c179e"
             ],
             [
              0.4444444444444444,
              "#bd3786"
             ],
             [
              0.5555555555555556,
              "#d8576b"
             ],
             [
              0.6666666666666666,
              "#ed7953"
             ],
             [
              0.7777777777777778,
              "#fb9f3a"
             ],
             [
              0.8888888888888888,
              "#fdca26"
             ],
             [
              1,
              "#f0f921"
             ]
            ],
            "type": "surface"
           }
          ],
          "table": [
           {
            "cells": {
             "fill": {
              "color": "#EBF0F8"
             },
             "line": {
              "color": "white"
             }
            },
            "header": {
             "fill": {
              "color": "#C8D4E3"
             },
             "line": {
              "color": "white"
             }
            },
            "type": "table"
           }
          ]
         },
         "layout": {
          "annotationdefaults": {
           "arrowcolor": "#2a3f5f",
           "arrowhead": 0,
           "arrowwidth": 1
          },
          "autotypenumbers": "strict",
          "coloraxis": {
           "colorbar": {
            "outlinewidth": 0,
            "ticks": ""
           }
          },
          "colorscale": {
           "diverging": [
            [
             0,
             "#8e0152"
            ],
            [
             0.1,
             "#c51b7d"
            ],
            [
             0.2,
             "#de77ae"
            ],
            [
             0.3,
             "#f1b6da"
            ],
            [
             0.4,
             "#fde0ef"
            ],
            [
             0.5,
             "#f7f7f7"
            ],
            [
             0.6,
             "#e6f5d0"
            ],
            [
             0.7,
             "#b8e186"
            ],
            [
             0.8,
             "#7fbc41"
            ],
            [
             0.9,
             "#4d9221"
            ],
            [
             1,
             "#276419"
            ]
           ],
           "sequential": [
            [
             0,
             "#0d0887"
            ],
            [
             0.1111111111111111,
             "#46039f"
            ],
            [
             0.2222222222222222,
             "#7201a8"
            ],
            [
             0.3333333333333333,
             "#9c179e"
            ],
            [
             0.4444444444444444,
             "#bd3786"
            ],
            [
             0.5555555555555556,
             "#d8576b"
            ],
            [
             0.6666666666666666,
             "#ed7953"
            ],
            [
             0.7777777777777778,
             "#fb9f3a"
            ],
            [
             0.8888888888888888,
             "#fdca26"
            ],
            [
             1,
             "#f0f921"
            ]
           ],
           "sequentialminus": [
            [
             0,
             "#0d0887"
            ],
            [
             0.1111111111111111,
             "#46039f"
            ],
            [
             0.2222222222222222,
             "#7201a8"
            ],
            [
             0.3333333333333333,
             "#9c179e"
            ],
            [
             0.4444444444444444,
             "#bd3786"
            ],
            [
             0.5555555555555556,
             "#d8576b"
            ],
            [
             0.6666666666666666,
             "#ed7953"
            ],
            [
             0.7777777777777778,
             "#fb9f3a"
            ],
            [
             0.8888888888888888,
             "#fdca26"
            ],
            [
             1,
             "#f0f921"
            ]
           ]
          },
          "colorway": [
           "#636efa",
           "#EF553B",
           "#00cc96",
           "#ab63fa",
           "#FFA15A",
           "#19d3f3",
           "#FF6692",
           "#B6E880",
           "#FF97FF",
           "#FECB52"
          ],
          "font": {
           "color": "#2a3f5f"
          },
          "geo": {
           "bgcolor": "white",
           "lakecolor": "white",
           "landcolor": "#E5ECF6",
           "showlakes": true,
           "showland": true,
           "subunitcolor": "white"
          },
          "hoverlabel": {
           "align": "left"
          },
          "hovermode": "closest",
          "mapbox": {
           "style": "light"
          },
          "paper_bgcolor": "white",
          "plot_bgcolor": "#E5ECF6",
          "polar": {
           "angularaxis": {
            "gridcolor": "white",
            "linecolor": "white",
            "ticks": ""
           },
           "bgcolor": "#E5ECF6",
           "radialaxis": {
            "gridcolor": "white",
            "linecolor": "white",
            "ticks": ""
           }
          },
          "scene": {
           "xaxis": {
            "backgroundcolor": "#E5ECF6",
            "gridcolor": "white",
            "gridwidth": 2,
            "linecolor": "white",
            "showbackground": true,
            "ticks": "",
            "zerolinecolor": "white"
           },
           "yaxis": {
            "backgroundcolor": "#E5ECF6",
            "gridcolor": "white",
            "gridwidth": 2,
            "linecolor": "white",
            "showbackground": true,
            "ticks": "",
            "zerolinecolor": "white"
           },
           "zaxis": {
            "backgroundcolor": "#E5ECF6",
            "gridcolor": "white",
            "gridwidth": 2,
            "linecolor": "white",
            "showbackground": true,
            "ticks": "",
            "zerolinecolor": "white"
           }
          },
          "shapedefaults": {
           "line": {
            "color": "#2a3f5f"
           }
          },
          "ternary": {
           "aaxis": {
            "gridcolor": "white",
            "linecolor": "white",
            "ticks": ""
           },
           "baxis": {
            "gridcolor": "white",
            "linecolor": "white",
            "ticks": ""
           },
           "bgcolor": "#E5ECF6",
           "caxis": {
            "gridcolor": "white",
            "linecolor": "white",
            "ticks": ""
           }
          },
          "title": {
           "x": 0.05
          },
          "xaxis": {
           "automargin": true,
           "gridcolor": "white",
           "linecolor": "white",
           "ticks": "",
           "title": {
            "standoff": 15
           },
           "zerolinecolor": "white",
           "zerolinewidth": 2
          },
          "yaxis": {
           "automargin": true,
           "gridcolor": "white",
           "linecolor": "white",
           "ticks": "",
           "title": {
            "standoff": 15
           },
           "zerolinecolor": "white",
           "zerolinewidth": 2
          }
         }
        },
        "title": {
         "font": {
          "size": 18
         },
         "text": "Evolución del Precio por Noche a lo Largo de los Años"
        },
        "xaxis": {
         "anchor": "y",
         "domain": [
          0,
          1
         ],
         "tickfont": {
          "size": 12
         },
         "title": {
          "font": {
           "size": 14
          },
          "text": "year"
         }
        },
        "yaxis": {
         "anchor": "x",
         "domain": [
          0,
          1
         ],
         "tickfont": {
          "size": 12
         },
         "title": {
          "font": {
           "size": 14
          },
          "text": "Precio por Noche (€)"
         }
        }
       }
      }
     },
     "metadata": {},
     "output_type": "display_data"
    }
   ],
   "source": [
    "df['year'] = pd.DatetimeIndex(df['date']).year\n",
    "price_per_night_annual = df.groupby('year')['nigth_price'].mean().reset_index()\n",
    "\n",
    "# Crear gráfica interactiva con Plotly\n",
    "fig = px.line(\n",
    "    price_per_night_annual, \n",
    "    x='year', \n",
    "    y='nigth_price', \n",
    "    markers=True,\n",
    "    title='Evolución del Precio por Noche a lo Largo de los Años',\n",
    "    labels={\n",
    "        'date': 'Fecha',\n",
    "        'nigth_price': 'Precio por Noche (€)'\n",
    "    }\n",
    ")\n",
    "\n",
    "# Mejorar diseño y disposición visual\n",
    "fig.update_traces(marker=dict(size=4), line=dict(width=2))\n",
    "\n",
    "fig.update_layout(\n",
    "    legend_title=dict(font=dict(size=20)),\n",
    "    legend=dict(orientation='v', x=1.05, y=1),\n",
    "    margin=dict(l=40, r=40, t=40, b=40),\n",
    "    xaxis=dict(title_font=dict(size=14), tickfont=dict(size=12)),\n",
    "    yaxis=dict(title_font=dict(size=14), tickfont=dict(size=12)),\n",
    "    title=dict(font=dict(size=18))\n",
    ")\n",
    "\n",
    "fig.show()"
   ]
  },
  {
   "cell_type": "code",
   "execution_count": 114,
   "metadata": {},
   "outputs": [
    {
     "data": {
      "application/vnd.plotly.v1+json": {
       "config": {
        "plotlyServerURL": "https://plot.ly"
       },
       "data": [
        {
         "hovertemplate": "year=%{x}<br>Disponibilidad Anual (días)=%{y}<extra></extra>",
         "legendgroup": "",
         "line": {
          "color": "#636efa",
          "dash": "solid",
          "width": 2
         },
         "marker": {
          "size": 4,
          "symbol": "circle"
         },
         "mode": "lines+markers",
         "name": "",
         "orientation": "v",
         "showlegend": false,
         "type": "scatter",
         "x": [
          2010,
          2011,
          2012,
          2013,
          2014,
          2015,
          2016,
          2017,
          2018,
          2019,
          2020,
          2021,
          2022,
          2023
         ],
         "xaxis": "x",
         "y": [
          305,
          112.11548965740141,
          125.0915243539224,
          139.7659055816796,
          161.63098948932722,
          148.1827373982747,
          126.09595908340111,
          136.38236350717716,
          137.40745298137298,
          133.45246703678492,
          160.5002222749105,
          157.95426364601676,
          168.53515777335983,
          174.40457080620195
         ],
         "yaxis": "y"
        }
       ],
       "layout": {
        "legend": {
         "orientation": "v",
         "title": {
          "font": {
           "size": 20
          }
         },
         "tracegroupgap": 0,
         "x": 1.05,
         "y": 1
        },
        "margin": {
         "b": 40,
         "l": 40,
         "r": 40,
         "t": 40
        },
        "template": {
         "data": {
          "bar": [
           {
            "error_x": {
             "color": "#2a3f5f"
            },
            "error_y": {
             "color": "#2a3f5f"
            },
            "marker": {
             "line": {
              "color": "#E5ECF6",
              "width": 0.5
             },
             "pattern": {
              "fillmode": "overlay",
              "size": 10,
              "solidity": 0.2
             }
            },
            "type": "bar"
           }
          ],
          "barpolar": [
           {
            "marker": {
             "line": {
              "color": "#E5ECF6",
              "width": 0.5
             },
             "pattern": {
              "fillmode": "overlay",
              "size": 10,
              "solidity": 0.2
             }
            },
            "type": "barpolar"
           }
          ],
          "carpet": [
           {
            "aaxis": {
             "endlinecolor": "#2a3f5f",
             "gridcolor": "white",
             "linecolor": "white",
             "minorgridcolor": "white",
             "startlinecolor": "#2a3f5f"
            },
            "baxis": {
             "endlinecolor": "#2a3f5f",
             "gridcolor": "white",
             "linecolor": "white",
             "minorgridcolor": "white",
             "startlinecolor": "#2a3f5f"
            },
            "type": "carpet"
           }
          ],
          "choropleth": [
           {
            "colorbar": {
             "outlinewidth": 0,
             "ticks": ""
            },
            "type": "choropleth"
           }
          ],
          "contour": [
           {
            "colorbar": {
             "outlinewidth": 0,
             "ticks": ""
            },
            "colorscale": [
             [
              0,
              "#0d0887"
             ],
             [
              0.1111111111111111,
              "#46039f"
             ],
             [
              0.2222222222222222,
              "#7201a8"
             ],
             [
              0.3333333333333333,
              "#9c179e"
             ],
             [
              0.4444444444444444,
              "#bd3786"
             ],
             [
              0.5555555555555556,
              "#d8576b"
             ],
             [
              0.6666666666666666,
              "#ed7953"
             ],
             [
              0.7777777777777778,
              "#fb9f3a"
             ],
             [
              0.8888888888888888,
              "#fdca26"
             ],
             [
              1,
              "#f0f921"
             ]
            ],
            "type": "contour"
           }
          ],
          "contourcarpet": [
           {
            "colorbar": {
             "outlinewidth": 0,
             "ticks": ""
            },
            "type": "contourcarpet"
           }
          ],
          "heatmap": [
           {
            "colorbar": {
             "outlinewidth": 0,
             "ticks": ""
            },
            "colorscale": [
             [
              0,
              "#0d0887"
             ],
             [
              0.1111111111111111,
              "#46039f"
             ],
             [
              0.2222222222222222,
              "#7201a8"
             ],
             [
              0.3333333333333333,
              "#9c179e"
             ],
             [
              0.4444444444444444,
              "#bd3786"
             ],
             [
              0.5555555555555556,
              "#d8576b"
             ],
             [
              0.6666666666666666,
              "#ed7953"
             ],
             [
              0.7777777777777778,
              "#fb9f3a"
             ],
             [
              0.8888888888888888,
              "#fdca26"
             ],
             [
              1,
              "#f0f921"
             ]
            ],
            "type": "heatmap"
           }
          ],
          "heatmapgl": [
           {
            "colorbar": {
             "outlinewidth": 0,
             "ticks": ""
            },
            "colorscale": [
             [
              0,
              "#0d0887"
             ],
             [
              0.1111111111111111,
              "#46039f"
             ],
             [
              0.2222222222222222,
              "#7201a8"
             ],
             [
              0.3333333333333333,
              "#9c179e"
             ],
             [
              0.4444444444444444,
              "#bd3786"
             ],
             [
              0.5555555555555556,
              "#d8576b"
             ],
             [
              0.6666666666666666,
              "#ed7953"
             ],
             [
              0.7777777777777778,
              "#fb9f3a"
             ],
             [
              0.8888888888888888,
              "#fdca26"
             ],
             [
              1,
              "#f0f921"
             ]
            ],
            "type": "heatmapgl"
           }
          ],
          "histogram": [
           {
            "marker": {
             "pattern": {
              "fillmode": "overlay",
              "size": 10,
              "solidity": 0.2
             }
            },
            "type": "histogram"
           }
          ],
          "histogram2d": [
           {
            "colorbar": {
             "outlinewidth": 0,
             "ticks": ""
            },
            "colorscale": [
             [
              0,
              "#0d0887"
             ],
             [
              0.1111111111111111,
              "#46039f"
             ],
             [
              0.2222222222222222,
              "#7201a8"
             ],
             [
              0.3333333333333333,
              "#9c179e"
             ],
             [
              0.4444444444444444,
              "#bd3786"
             ],
             [
              0.5555555555555556,
              "#d8576b"
             ],
             [
              0.6666666666666666,
              "#ed7953"
             ],
             [
              0.7777777777777778,
              "#fb9f3a"
             ],
             [
              0.8888888888888888,
              "#fdca26"
             ],
             [
              1,
              "#f0f921"
             ]
            ],
            "type": "histogram2d"
           }
          ],
          "histogram2dcontour": [
           {
            "colorbar": {
             "outlinewidth": 0,
             "ticks": ""
            },
            "colorscale": [
             [
              0,
              "#0d0887"
             ],
             [
              0.1111111111111111,
              "#46039f"
             ],
             [
              0.2222222222222222,
              "#7201a8"
             ],
             [
              0.3333333333333333,
              "#9c179e"
             ],
             [
              0.4444444444444444,
              "#bd3786"
             ],
             [
              0.5555555555555556,
              "#d8576b"
             ],
             [
              0.6666666666666666,
              "#ed7953"
             ],
             [
              0.7777777777777778,
              "#fb9f3a"
             ],
             [
              0.8888888888888888,
              "#fdca26"
             ],
             [
              1,
              "#f0f921"
             ]
            ],
            "type": "histogram2dcontour"
           }
          ],
          "mesh3d": [
           {
            "colorbar": {
             "outlinewidth": 0,
             "ticks": ""
            },
            "type": "mesh3d"
           }
          ],
          "parcoords": [
           {
            "line": {
             "colorbar": {
              "outlinewidth": 0,
              "ticks": ""
             }
            },
            "type": "parcoords"
           }
          ],
          "pie": [
           {
            "automargin": true,
            "type": "pie"
           }
          ],
          "scatter": [
           {
            "marker": {
             "colorbar": {
              "outlinewidth": 0,
              "ticks": ""
             }
            },
            "type": "scatter"
           }
          ],
          "scatter3d": [
           {
            "line": {
             "colorbar": {
              "outlinewidth": 0,
              "ticks": ""
             }
            },
            "marker": {
             "colorbar": {
              "outlinewidth": 0,
              "ticks": ""
             }
            },
            "type": "scatter3d"
           }
          ],
          "scattercarpet": [
           {
            "marker": {
             "colorbar": {
              "outlinewidth": 0,
              "ticks": ""
             }
            },
            "type": "scattercarpet"
           }
          ],
          "scattergeo": [
           {
            "marker": {
             "colorbar": {
              "outlinewidth": 0,
              "ticks": ""
             }
            },
            "type": "scattergeo"
           }
          ],
          "scattergl": [
           {
            "marker": {
             "colorbar": {
              "outlinewidth": 0,
              "ticks": ""
             }
            },
            "type": "scattergl"
           }
          ],
          "scattermapbox": [
           {
            "marker": {
             "colorbar": {
              "outlinewidth": 0,
              "ticks": ""
             }
            },
            "type": "scattermapbox"
           }
          ],
          "scatterpolar": [
           {
            "marker": {
             "colorbar": {
              "outlinewidth": 0,
              "ticks": ""
             }
            },
            "type": "scatterpolar"
           }
          ],
          "scatterpolargl": [
           {
            "marker": {
             "colorbar": {
              "outlinewidth": 0,
              "ticks": ""
             }
            },
            "type": "scatterpolargl"
           }
          ],
          "scatterternary": [
           {
            "marker": {
             "colorbar": {
              "outlinewidth": 0,
              "ticks": ""
             }
            },
            "type": "scatterternary"
           }
          ],
          "surface": [
           {
            "colorbar": {
             "outlinewidth": 0,
             "ticks": ""
            },
            "colorscale": [
             [
              0,
              "#0d0887"
             ],
             [
              0.1111111111111111,
              "#46039f"
             ],
             [
              0.2222222222222222,
              "#7201a8"
             ],
             [
              0.3333333333333333,
              "#9c179e"
             ],
             [
              0.4444444444444444,
              "#bd3786"
             ],
             [
              0.5555555555555556,
              "#d8576b"
             ],
             [
              0.6666666666666666,
              "#ed7953"
             ],
             [
              0.7777777777777778,
              "#fb9f3a"
             ],
             [
              0.8888888888888888,
              "#fdca26"
             ],
             [
              1,
              "#f0f921"
             ]
            ],
            "type": "surface"
           }
          ],
          "table": [
           {
            "cells": {
             "fill": {
              "color": "#EBF0F8"
             },
             "line": {
              "color": "white"
             }
            },
            "header": {
             "fill": {
              "color": "#C8D4E3"
             },
             "line": {
              "color": "white"
             }
            },
            "type": "table"
           }
          ]
         },
         "layout": {
          "annotationdefaults": {
           "arrowcolor": "#2a3f5f",
           "arrowhead": 0,
           "arrowwidth": 1
          },
          "autotypenumbers": "strict",
          "coloraxis": {
           "colorbar": {
            "outlinewidth": 0,
            "ticks": ""
           }
          },
          "colorscale": {
           "diverging": [
            [
             0,
             "#8e0152"
            ],
            [
             0.1,
             "#c51b7d"
            ],
            [
             0.2,
             "#de77ae"
            ],
            [
             0.3,
             "#f1b6da"
            ],
            [
             0.4,
             "#fde0ef"
            ],
            [
             0.5,
             "#f7f7f7"
            ],
            [
             0.6,
             "#e6f5d0"
            ],
            [
             0.7,
             "#b8e186"
            ],
            [
             0.8,
             "#7fbc41"
            ],
            [
             0.9,
             "#4d9221"
            ],
            [
             1,
             "#276419"
            ]
           ],
           "sequential": [
            [
             0,
             "#0d0887"
            ],
            [
             0.1111111111111111,
             "#46039f"
            ],
            [
             0.2222222222222222,
             "#7201a8"
            ],
            [
             0.3333333333333333,
             "#9c179e"
            ],
            [
             0.4444444444444444,
             "#bd3786"
            ],
            [
             0.5555555555555556,
             "#d8576b"
            ],
            [
             0.6666666666666666,
             "#ed7953"
            ],
            [
             0.7777777777777778,
             "#fb9f3a"
            ],
            [
             0.8888888888888888,
             "#fdca26"
            ],
            [
             1,
             "#f0f921"
            ]
           ],
           "sequentialminus": [
            [
             0,
             "#0d0887"
            ],
            [
             0.1111111111111111,
             "#46039f"
            ],
            [
             0.2222222222222222,
             "#7201a8"
            ],
            [
             0.3333333333333333,
             "#9c179e"
            ],
            [
             0.4444444444444444,
             "#bd3786"
            ],
            [
             0.5555555555555556,
             "#d8576b"
            ],
            [
             0.6666666666666666,
             "#ed7953"
            ],
            [
             0.7777777777777778,
             "#fb9f3a"
            ],
            [
             0.8888888888888888,
             "#fdca26"
            ],
            [
             1,
             "#f0f921"
            ]
           ]
          },
          "colorway": [
           "#636efa",
           "#EF553B",
           "#00cc96",
           "#ab63fa",
           "#FFA15A",
           "#19d3f3",
           "#FF6692",
           "#B6E880",
           "#FF97FF",
           "#FECB52"
          ],
          "font": {
           "color": "#2a3f5f"
          },
          "geo": {
           "bgcolor": "white",
           "lakecolor": "white",
           "landcolor": "#E5ECF6",
           "showlakes": true,
           "showland": true,
           "subunitcolor": "white"
          },
          "hoverlabel": {
           "align": "left"
          },
          "hovermode": "closest",
          "mapbox": {
           "style": "light"
          },
          "paper_bgcolor": "white",
          "plot_bgcolor": "#E5ECF6",
          "polar": {
           "angularaxis": {
            "gridcolor": "white",
            "linecolor": "white",
            "ticks": ""
           },
           "bgcolor": "#E5ECF6",
           "radialaxis": {
            "gridcolor": "white",
            "linecolor": "white",
            "ticks": ""
           }
          },
          "scene": {
           "xaxis": {
            "backgroundcolor": "#E5ECF6",
            "gridcolor": "white",
            "gridwidth": 2,
            "linecolor": "white",
            "showbackground": true,
            "ticks": "",
            "zerolinecolor": "white"
           },
           "yaxis": {
            "backgroundcolor": "#E5ECF6",
            "gridcolor": "white",
            "gridwidth": 2,
            "linecolor": "white",
            "showbackground": true,
            "ticks": "",
            "zerolinecolor": "white"
           },
           "zaxis": {
            "backgroundcolor": "#E5ECF6",
            "gridcolor": "white",
            "gridwidth": 2,
            "linecolor": "white",
            "showbackground": true,
            "ticks": "",
            "zerolinecolor": "white"
           }
          },
          "shapedefaults": {
           "line": {
            "color": "#2a3f5f"
           }
          },
          "ternary": {
           "aaxis": {
            "gridcolor": "white",
            "linecolor": "white",
            "ticks": ""
           },
           "baxis": {
            "gridcolor": "white",
            "linecolor": "white",
            "ticks": ""
           },
           "bgcolor": "#E5ECF6",
           "caxis": {
            "gridcolor": "white",
            "linecolor": "white",
            "ticks": ""
           }
          },
          "title": {
           "x": 0.05
          },
          "xaxis": {
           "automargin": true,
           "gridcolor": "white",
           "linecolor": "white",
           "ticks": "",
           "title": {
            "standoff": 15
           },
           "zerolinecolor": "white",
           "zerolinewidth": 2
          },
          "yaxis": {
           "automargin": true,
           "gridcolor": "white",
           "linecolor": "white",
           "ticks": "",
           "title": {
            "standoff": 15
           },
           "zerolinecolor": "white",
           "zerolinewidth": 2
          }
         }
        },
        "title": {
         "font": {
          "size": 18
         },
         "text": "Evolución de la Disponibilidad Anual a lo Largo de los Años"
        },
        "xaxis": {
         "anchor": "y",
         "domain": [
          0,
          1
         ],
         "tickfont": {
          "size": 12
         },
         "title": {
          "font": {
           "size": 14
          },
          "text": "year"
         }
        },
        "yaxis": {
         "anchor": "x",
         "domain": [
          0,
          1
         ],
         "tickfont": {
          "size": 12
         },
         "title": {
          "font": {
           "size": 14
          },
          "text": "Disponibilidad Anual (días)"
         }
        }
       }
      }
     },
     "metadata": {},
     "output_type": "display_data"
    }
   ],
   "source": [
    "df['year'] = pd.DatetimeIndex(df['date']).year\n",
    "price_per_night_annual = df.groupby('year')['availability_365'].mean().reset_index()\n",
    "# Crear gráfica interactiva con Plotly\n",
    "fig = px.line(\n",
    "    price_per_night_annual, \n",
    "    x='year', \n",
    "    y='availability_365', \n",
    "    markers=True,\n",
    "    title='Evolución de la Disponibilidad Anual a lo Largo de los Años',\n",
    "    labels={\n",
    "        'date': 'Fecha',\n",
    "        'availability_365': 'Disponibilidad Anual (días)'\n",
    "    }\n",
    ")\n",
    "\n",
    "# Mejorar diseño y disposición visual\n",
    "fig.update_traces(marker=dict(size=4), line=dict(width=2))\n",
    "\n",
    "fig.update_layout(\n",
    "    legend_title=dict(font=dict(size=20)),\n",
    "    legend=dict(orientation='v', x=1.05, y=1),\n",
    "    margin=dict(l=40, r=40, t=40, b=40),\n",
    "    xaxis=dict(title_font=dict(size=14), tickfont=dict(size=12)),\n",
    "    yaxis=dict(title_font=dict(size=14), tickfont=dict(size=12)),\n",
    "    title=dict(font=dict(size=18))\n",
    ")\n",
    "\n",
    "fig.show()"
   ]
  },
  {
   "cell_type": "code",
   "execution_count": null,
   "metadata": {},
   "outputs": [],
   "source": []
  }
 ],
 "metadata": {
  "colab": {
   "provenance": []
  },
  "kernelspec": {
   "display_name": "base",
   "language": "python",
   "name": "python3"
  },
  "language_info": {
   "codemirror_mode": {
    "name": "ipython",
    "version": 3
   },
   "file_extension": ".py",
   "mimetype": "text/x-python",
   "name": "python",
   "nbconvert_exporter": "python",
   "pygments_lexer": "ipython3",
   "version": "3.9.12"
  }
 },
 "nbformat": 4,
 "nbformat_minor": 0
}
